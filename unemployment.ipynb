{
  "nbformat": 4,
  "nbformat_minor": 0,
  "metadata": {
    "colab": {
      "name": "unemployment.ipynb",
      "provenance": [],
      "collapsed_sections": []
    },
    "kernelspec": {
      "name": "python3",
      "display_name": "Python 3"
    }
  },
  "cells": [
    {
      "cell_type": "markdown",
      "metadata": {
        "id": "0IN16iz6iSBq"
      },
      "source": [
        "# **Unemployment in India during covid-19**\n",
        "\n",
        "India's massive work force is being hit hard by coronavirus. As many as 21 million salaried jobs have been lost between April and August, according to a recent report by the Centre for Monitoring Indian Economy (CMIE).\n",
        "Hospitality, aviation, media, entertainment and automobile parts manufacturers are among the sectors seeing the most job cuts.\n",
        "\n",
        " In September 2020, India saw an unemployment rate of over six percent. This was a significant improvement from the previous months. A damaging impact on an economy as large as India’s caused due a total lockdown was imminent. Unemployment went up to 24 percent on May 17, 2020. This was possibly a result of a decrease in demand as well as the disruption of workforce faced by companies. Furthermore, this caused a GVA loss of more than nine percent for the Indian economy that month.\n",
        "\n",
        "## **objective of analysis is -**\n",
        "To know the covid-19 impact on job market\n",
        "\n",
        "**which state survive and which state has more impact on**\n",
        "\n",
        "This dataset contains the unemployment rate of all the states in India\n",
        "\n",
        "States = states in India\n",
        "\n",
        "Date = date which the unemployment rate observed\n",
        "\n",
        "Frequency = measuring frequency (Monthly)\n",
        "\n",
        "Estimated Unemployment Rate (%) = percentage of people unemployed in \n",
        "\n",
        "each States of India\n",
        "\n",
        "Estimated Employed = Number of people employed\n",
        "\n",
        "Estimated Labour Participation Rate (%) = The labour force \n",
        "participation rate is the portion of the working population in the 16-64 years' age group in the economy currently in employment or seeking employment."
      ]
    },
    {
      "cell_type": "markdown",
      "metadata": {
        "id": "YTLatenOWGVh"
      },
      "source": [
        "Used Libraries\n",
        "\n",
        "- Pandas -- to handle the Data frame\n",
        "\n",
        "- DateTime -- to handle date and time\n",
        "- Calender -- to form a different column of month\n",
        "- PlotlyExpress -- for visualization"
      ]
    },
    {
      "cell_type": "code",
      "metadata": {
        "id": "lJNIRSbfBqEW"
      },
      "source": [
        "import pandas as pd\n",
        "import datetime as dt\n",
        "import calendar"
      ],
      "execution_count": null,
      "outputs": []
    },
    {
      "cell_type": "markdown",
      "metadata": {
        "id": "9Vo4uqylYI-A"
      },
      "source": [
        "Read the dateset using pandas"
      ]
    },
    {
      "cell_type": "code",
      "metadata": {
        "id": "2nn5v4d8CWhF"
      },
      "source": [
        "df = pd.read_excel(\"/content/drive/MyDrive/datasets/real_1_Unemployment_Rate_upto_11_2020.csv.xlsx\")"
      ],
      "execution_count": null,
      "outputs": []
    },
    {
      "cell_type": "code",
      "metadata": {
        "id": "bG9sNfqGCcvX",
        "colab": {
          "base_uri": "https://localhost:8080/",
          "height": 296
        },
        "outputId": "6e82acfb-a1e1-4d40-d64f-17613477bcc7"
      },
      "source": [
        "df.head()"
      ],
      "execution_count": null,
      "outputs": [
        {
          "output_type": "execute_result",
          "data": {
            "text/html": [
              "<div>\n",
              "<style scoped>\n",
              "    .dataframe tbody tr th:only-of-type {\n",
              "        vertical-align: middle;\n",
              "    }\n",
              "\n",
              "    .dataframe tbody tr th {\n",
              "        vertical-align: top;\n",
              "    }\n",
              "\n",
              "    .dataframe thead th {\n",
              "        text-align: right;\n",
              "    }\n",
              "</style>\n",
              "<table border=\"1\" class=\"dataframe\">\n",
              "  <thead>\n",
              "    <tr style=\"text-align: right;\">\n",
              "      <th></th>\n",
              "      <th>Region</th>\n",
              "      <th>Date</th>\n",
              "      <th>Frequency</th>\n",
              "      <th>Estimated Unemployment Rate (%)</th>\n",
              "      <th>Estimated Employed</th>\n",
              "      <th>Estimated Labour Participation Rate (%)</th>\n",
              "      <th>Region.1</th>\n",
              "      <th>longitude</th>\n",
              "      <th>latitude</th>\n",
              "    </tr>\n",
              "  </thead>\n",
              "  <tbody>\n",
              "    <tr>\n",
              "      <th>0</th>\n",
              "      <td>Andhra Pradesh</td>\n",
              "      <td>31-01-2020</td>\n",
              "      <td>M</td>\n",
              "      <td>5.48</td>\n",
              "      <td>16635535</td>\n",
              "      <td>41.02</td>\n",
              "      <td>South</td>\n",
              "      <td>15.9129</td>\n",
              "      <td>79.74</td>\n",
              "    </tr>\n",
              "    <tr>\n",
              "      <th>1</th>\n",
              "      <td>Andhra Pradesh</td>\n",
              "      <td>29-02-2020</td>\n",
              "      <td>M</td>\n",
              "      <td>5.83</td>\n",
              "      <td>16545652</td>\n",
              "      <td>40.90</td>\n",
              "      <td>South</td>\n",
              "      <td>15.9129</td>\n",
              "      <td>79.74</td>\n",
              "    </tr>\n",
              "    <tr>\n",
              "      <th>2</th>\n",
              "      <td>Andhra Pradesh</td>\n",
              "      <td>31-03-2020</td>\n",
              "      <td>M</td>\n",
              "      <td>5.79</td>\n",
              "      <td>15881197</td>\n",
              "      <td>39.18</td>\n",
              "      <td>South</td>\n",
              "      <td>15.9129</td>\n",
              "      <td>79.74</td>\n",
              "    </tr>\n",
              "    <tr>\n",
              "      <th>3</th>\n",
              "      <td>Andhra Pradesh</td>\n",
              "      <td>30-04-2020</td>\n",
              "      <td>M</td>\n",
              "      <td>20.51</td>\n",
              "      <td>11336911</td>\n",
              "      <td>33.10</td>\n",
              "      <td>South</td>\n",
              "      <td>15.9129</td>\n",
              "      <td>79.74</td>\n",
              "    </tr>\n",
              "    <tr>\n",
              "      <th>4</th>\n",
              "      <td>Andhra Pradesh</td>\n",
              "      <td>31-05-2020</td>\n",
              "      <td>M</td>\n",
              "      <td>17.43</td>\n",
              "      <td>12988845</td>\n",
              "      <td>36.46</td>\n",
              "      <td>South</td>\n",
              "      <td>15.9129</td>\n",
              "      <td>79.74</td>\n",
              "    </tr>\n",
              "  </tbody>\n",
              "</table>\n",
              "</div>"
            ],
            "text/plain": [
              "           Region         Date  Frequency  ...  Region.1  longitude  latitude\n",
              "0  Andhra Pradesh   31-01-2020          M  ...     South    15.9129     79.74\n",
              "1  Andhra Pradesh   29-02-2020          M  ...     South    15.9129     79.74\n",
              "2  Andhra Pradesh   31-03-2020          M  ...     South    15.9129     79.74\n",
              "3  Andhra Pradesh   30-04-2020          M  ...     South    15.9129     79.74\n",
              "4  Andhra Pradesh   31-05-2020          M  ...     South    15.9129     79.74\n",
              "\n",
              "[5 rows x 9 columns]"
            ]
          },
          "metadata": {
            "tags": []
          },
          "execution_count": 3
        }
      ]
    },
    {
      "cell_type": "markdown",
      "metadata": {
        "id": "KQ7nNm08YOx7"
      },
      "source": [
        "## Data Preprocessing"
      ]
    },
    {
      "cell_type": "markdown",
      "metadata": {
        "id": "lz8zQDw7YUX8"
      },
      "source": [
        "Identifying null values"
      ]
    },
    {
      "cell_type": "code",
      "metadata": {
        "id": "WYhMLjqbCeBd",
        "colab": {
          "base_uri": "https://localhost:8080/"
        },
        "outputId": "4d3d6968-e3f6-4779-8707-025587d42c96"
      },
      "source": [
        "df.isnull().sum()"
      ],
      "execution_count": null,
      "outputs": [
        {
          "output_type": "execute_result",
          "data": {
            "text/plain": [
              "Region                                      0\n",
              "Date                                        0\n",
              " Frequency                                  0\n",
              " Estimated Unemployment Rate (%)            0\n",
              " Estimated Employed                         0\n",
              " Estimated Labour Participation Rate (%)    0\n",
              "Region.1                                    0\n",
              "longitude                                   0\n",
              "latitude                                    0\n",
              "dtype: int64"
            ]
          },
          "metadata": {
            "tags": []
          },
          "execution_count": 4
        }
      ]
    },
    {
      "cell_type": "code",
      "metadata": {
        "id": "q3EsH5KgCqBi"
      },
      "source": [
        "df1 = df.rename(columns = {\"Region\":\"State\",\n",
        "                           \"Region.1\":\"Region\"})"
      ],
      "execution_count": null,
      "outputs": []
    },
    {
      "cell_type": "code",
      "metadata": {
        "id": "rDdY3vFVC5Ci",
        "colab": {
          "base_uri": "https://localhost:8080/",
          "height": 296
        },
        "outputId": "590e343f-6598-4aa1-b6a3-0fb3498ecee5"
      },
      "source": [
        "df1.head()"
      ],
      "execution_count": null,
      "outputs": [
        {
          "output_type": "execute_result",
          "data": {
            "text/html": [
              "<div>\n",
              "<style scoped>\n",
              "    .dataframe tbody tr th:only-of-type {\n",
              "        vertical-align: middle;\n",
              "    }\n",
              "\n",
              "    .dataframe tbody tr th {\n",
              "        vertical-align: top;\n",
              "    }\n",
              "\n",
              "    .dataframe thead th {\n",
              "        text-align: right;\n",
              "    }\n",
              "</style>\n",
              "<table border=\"1\" class=\"dataframe\">\n",
              "  <thead>\n",
              "    <tr style=\"text-align: right;\">\n",
              "      <th></th>\n",
              "      <th>State</th>\n",
              "      <th>Date</th>\n",
              "      <th>Frequency</th>\n",
              "      <th>Estimated Unemployment Rate (%)</th>\n",
              "      <th>Estimated Employed</th>\n",
              "      <th>Estimated Labour Participation Rate (%)</th>\n",
              "      <th>Region</th>\n",
              "      <th>longitude</th>\n",
              "      <th>latitude</th>\n",
              "    </tr>\n",
              "  </thead>\n",
              "  <tbody>\n",
              "    <tr>\n",
              "      <th>0</th>\n",
              "      <td>Andhra Pradesh</td>\n",
              "      <td>31-01-2020</td>\n",
              "      <td>M</td>\n",
              "      <td>5.48</td>\n",
              "      <td>16635535</td>\n",
              "      <td>41.02</td>\n",
              "      <td>South</td>\n",
              "      <td>15.9129</td>\n",
              "      <td>79.74</td>\n",
              "    </tr>\n",
              "    <tr>\n",
              "      <th>1</th>\n",
              "      <td>Andhra Pradesh</td>\n",
              "      <td>29-02-2020</td>\n",
              "      <td>M</td>\n",
              "      <td>5.83</td>\n",
              "      <td>16545652</td>\n",
              "      <td>40.90</td>\n",
              "      <td>South</td>\n",
              "      <td>15.9129</td>\n",
              "      <td>79.74</td>\n",
              "    </tr>\n",
              "    <tr>\n",
              "      <th>2</th>\n",
              "      <td>Andhra Pradesh</td>\n",
              "      <td>31-03-2020</td>\n",
              "      <td>M</td>\n",
              "      <td>5.79</td>\n",
              "      <td>15881197</td>\n",
              "      <td>39.18</td>\n",
              "      <td>South</td>\n",
              "      <td>15.9129</td>\n",
              "      <td>79.74</td>\n",
              "    </tr>\n",
              "    <tr>\n",
              "      <th>3</th>\n",
              "      <td>Andhra Pradesh</td>\n",
              "      <td>30-04-2020</td>\n",
              "      <td>M</td>\n",
              "      <td>20.51</td>\n",
              "      <td>11336911</td>\n",
              "      <td>33.10</td>\n",
              "      <td>South</td>\n",
              "      <td>15.9129</td>\n",
              "      <td>79.74</td>\n",
              "    </tr>\n",
              "    <tr>\n",
              "      <th>4</th>\n",
              "      <td>Andhra Pradesh</td>\n",
              "      <td>31-05-2020</td>\n",
              "      <td>M</td>\n",
              "      <td>17.43</td>\n",
              "      <td>12988845</td>\n",
              "      <td>36.46</td>\n",
              "      <td>South</td>\n",
              "      <td>15.9129</td>\n",
              "      <td>79.74</td>\n",
              "    </tr>\n",
              "  </tbody>\n",
              "</table>\n",
              "</div>"
            ],
            "text/plain": [
              "            State         Date  Frequency  ...  Region  longitude  latitude\n",
              "0  Andhra Pradesh   31-01-2020          M  ...   South    15.9129     79.74\n",
              "1  Andhra Pradesh   29-02-2020          M  ...   South    15.9129     79.74\n",
              "2  Andhra Pradesh   31-03-2020          M  ...   South    15.9129     79.74\n",
              "3  Andhra Pradesh   30-04-2020          M  ...   South    15.9129     79.74\n",
              "4  Andhra Pradesh   31-05-2020          M  ...   South    15.9129     79.74\n",
              "\n",
              "[5 rows x 9 columns]"
            ]
          },
          "metadata": {
            "tags": []
          },
          "execution_count": 6
        }
      ]
    },
    {
      "cell_type": "code",
      "metadata": {
        "id": "n1us1DXKjdgQ"
      },
      "source": [
        "df1.columns =['States','Date','Frequency','Estimated Unemployment Rate','Estimated Employed','Estimated Labour Participation Rate','Region','longitude','latitude']"
      ],
      "execution_count": null,
      "outputs": []
    },
    {
      "cell_type": "code",
      "metadata": {
        "id": "XvXOj8ZxXlYM",
        "colab": {
          "base_uri": "https://localhost:8080/"
        },
        "outputId": "1941fd78-9e35-4187-df1f-ee074d43531e"
      },
      "source": [
        "df1['Date']"
      ],
      "execution_count": null,
      "outputs": [
        {
          "output_type": "execute_result",
          "data": {
            "text/plain": [
              "0       31-01-2020\n",
              "1       29-02-2020\n",
              "2       31-03-2020\n",
              "3       30-04-2020\n",
              "4       31-05-2020\n",
              "          ...     \n",
              "262     30-06-2020\n",
              "263     31-07-2020\n",
              "264     31-08-2020\n",
              "265     30-09-2020\n",
              "266     31-10-2020\n",
              "Name: Date, Length: 267, dtype: object"
            ]
          },
          "metadata": {
            "tags": []
          },
          "execution_count": 8
        }
      ]
    },
    {
      "cell_type": "markdown",
      "metadata": {
        "id": "n402-rNtYilA"
      },
      "source": [
        "Making an another column for month to analyse the year properly"
      ]
    },
    {
      "cell_type": "code",
      "metadata": {
        "id": "PKNJRJ76GJGL"
      },
      "source": [
        "df['Date'] = pd.to_datetime(df['Date'],dayfirst=True)"
      ],
      "execution_count": null,
      "outputs": []
    },
    {
      "cell_type": "code",
      "metadata": {
        "id": "INR3Nwq3EPWY"
      },
      "source": [
        "df1['Month_integer'] = df['Date'].dt.month"
      ],
      "execution_count": null,
      "outputs": []
    },
    {
      "cell_type": "code",
      "metadata": {
        "id": "oWUQg40bGAYc",
        "colab": {
          "base_uri": "https://localhost:8080/",
          "height": 296
        },
        "outputId": "ee88a744-8dae-498a-ccc3-97207039b932"
      },
      "source": [
        "df1.head()"
      ],
      "execution_count": null,
      "outputs": [
        {
          "output_type": "execute_result",
          "data": {
            "text/html": [
              "<div>\n",
              "<style scoped>\n",
              "    .dataframe tbody tr th:only-of-type {\n",
              "        vertical-align: middle;\n",
              "    }\n",
              "\n",
              "    .dataframe tbody tr th {\n",
              "        vertical-align: top;\n",
              "    }\n",
              "\n",
              "    .dataframe thead th {\n",
              "        text-align: right;\n",
              "    }\n",
              "</style>\n",
              "<table border=\"1\" class=\"dataframe\">\n",
              "  <thead>\n",
              "    <tr style=\"text-align: right;\">\n",
              "      <th></th>\n",
              "      <th>States</th>\n",
              "      <th>Date</th>\n",
              "      <th>Frequency</th>\n",
              "      <th>Estimated Unemployment Rate</th>\n",
              "      <th>Estimated Employed</th>\n",
              "      <th>Estimated Labour Participation Rate</th>\n",
              "      <th>Region</th>\n",
              "      <th>longitude</th>\n",
              "      <th>latitude</th>\n",
              "      <th>Month_integer</th>\n",
              "    </tr>\n",
              "  </thead>\n",
              "  <tbody>\n",
              "    <tr>\n",
              "      <th>0</th>\n",
              "      <td>Andhra Pradesh</td>\n",
              "      <td>31-01-2020</td>\n",
              "      <td>M</td>\n",
              "      <td>5.48</td>\n",
              "      <td>16635535</td>\n",
              "      <td>41.02</td>\n",
              "      <td>South</td>\n",
              "      <td>15.9129</td>\n",
              "      <td>79.74</td>\n",
              "      <td>1</td>\n",
              "    </tr>\n",
              "    <tr>\n",
              "      <th>1</th>\n",
              "      <td>Andhra Pradesh</td>\n",
              "      <td>29-02-2020</td>\n",
              "      <td>M</td>\n",
              "      <td>5.83</td>\n",
              "      <td>16545652</td>\n",
              "      <td>40.90</td>\n",
              "      <td>South</td>\n",
              "      <td>15.9129</td>\n",
              "      <td>79.74</td>\n",
              "      <td>2</td>\n",
              "    </tr>\n",
              "    <tr>\n",
              "      <th>2</th>\n",
              "      <td>Andhra Pradesh</td>\n",
              "      <td>31-03-2020</td>\n",
              "      <td>M</td>\n",
              "      <td>5.79</td>\n",
              "      <td>15881197</td>\n",
              "      <td>39.18</td>\n",
              "      <td>South</td>\n",
              "      <td>15.9129</td>\n",
              "      <td>79.74</td>\n",
              "      <td>3</td>\n",
              "    </tr>\n",
              "    <tr>\n",
              "      <th>3</th>\n",
              "      <td>Andhra Pradesh</td>\n",
              "      <td>30-04-2020</td>\n",
              "      <td>M</td>\n",
              "      <td>20.51</td>\n",
              "      <td>11336911</td>\n",
              "      <td>33.10</td>\n",
              "      <td>South</td>\n",
              "      <td>15.9129</td>\n",
              "      <td>79.74</td>\n",
              "      <td>4</td>\n",
              "    </tr>\n",
              "    <tr>\n",
              "      <th>4</th>\n",
              "      <td>Andhra Pradesh</td>\n",
              "      <td>31-05-2020</td>\n",
              "      <td>M</td>\n",
              "      <td>17.43</td>\n",
              "      <td>12988845</td>\n",
              "      <td>36.46</td>\n",
              "      <td>South</td>\n",
              "      <td>15.9129</td>\n",
              "      <td>79.74</td>\n",
              "      <td>5</td>\n",
              "    </tr>\n",
              "  </tbody>\n",
              "</table>\n",
              "</div>"
            ],
            "text/plain": [
              "           States         Date Frequency  ...  longitude  latitude  Month_integer\n",
              "0  Andhra Pradesh   31-01-2020         M  ...    15.9129     79.74              1\n",
              "1  Andhra Pradesh   29-02-2020         M  ...    15.9129     79.74              2\n",
              "2  Andhra Pradesh   31-03-2020         M  ...    15.9129     79.74              3\n",
              "3  Andhra Pradesh   30-04-2020         M  ...    15.9129     79.74              4\n",
              "4  Andhra Pradesh   31-05-2020         M  ...    15.9129     79.74              5\n",
              "\n",
              "[5 rows x 10 columns]"
            ]
          },
          "metadata": {
            "tags": []
          },
          "execution_count": 11
        }
      ]
    },
    {
      "cell_type": "markdown",
      "metadata": {
        "id": "39M2mrLvYu1S"
      },
      "source": [
        "Using calender library to form a month string column "
      ]
    },
    {
      "cell_type": "code",
      "metadata": {
        "id": "EJO8eCp0hljT",
        "colab": {
          "base_uri": "https://localhost:8080/",
          "height": 35
        },
        "outputId": "8e71262e-ff7b-4718-e36c-eb1c4b2e2b68"
      },
      "source": [
        "calendar.month_abbr[8]"
      ],
      "execution_count": null,
      "outputs": [
        {
          "output_type": "execute_result",
          "data": {
            "application/vnd.google.colaboratory.intrinsic+json": {
              "type": "string"
            },
            "text/plain": [
              "'Aug'"
            ]
          },
          "metadata": {
            "tags": []
          },
          "execution_count": 12
        }
      ]
    },
    {
      "cell_type": "code",
      "metadata": {
        "id": "_gXhESPwa8_n"
      },
      "source": [
        "df1['Month_name'] =  df1['Month_integer'].apply(lambda x: calendar.month_abbr[x])"
      ],
      "execution_count": null,
      "outputs": []
    },
    {
      "cell_type": "code",
      "metadata": {
        "id": "-zudA5QYdI3U",
        "colab": {
          "base_uri": "https://localhost:8080/",
          "height": 296
        },
        "outputId": "52ea89a9-7e26-4004-eb87-d423e59d6870"
      },
      "source": [
        "df1.head()"
      ],
      "execution_count": null,
      "outputs": [
        {
          "output_type": "execute_result",
          "data": {
            "text/html": [
              "<div>\n",
              "<style scoped>\n",
              "    .dataframe tbody tr th:only-of-type {\n",
              "        vertical-align: middle;\n",
              "    }\n",
              "\n",
              "    .dataframe tbody tr th {\n",
              "        vertical-align: top;\n",
              "    }\n",
              "\n",
              "    .dataframe thead th {\n",
              "        text-align: right;\n",
              "    }\n",
              "</style>\n",
              "<table border=\"1\" class=\"dataframe\">\n",
              "  <thead>\n",
              "    <tr style=\"text-align: right;\">\n",
              "      <th></th>\n",
              "      <th>States</th>\n",
              "      <th>Date</th>\n",
              "      <th>Frequency</th>\n",
              "      <th>Estimated Unemployment Rate</th>\n",
              "      <th>Estimated Employed</th>\n",
              "      <th>Estimated Labour Participation Rate</th>\n",
              "      <th>Region</th>\n",
              "      <th>longitude</th>\n",
              "      <th>latitude</th>\n",
              "      <th>Month_integer</th>\n",
              "      <th>Month_name</th>\n",
              "    </tr>\n",
              "  </thead>\n",
              "  <tbody>\n",
              "    <tr>\n",
              "      <th>0</th>\n",
              "      <td>Andhra Pradesh</td>\n",
              "      <td>31-01-2020</td>\n",
              "      <td>M</td>\n",
              "      <td>5.48</td>\n",
              "      <td>16635535</td>\n",
              "      <td>41.02</td>\n",
              "      <td>South</td>\n",
              "      <td>15.9129</td>\n",
              "      <td>79.74</td>\n",
              "      <td>1</td>\n",
              "      <td>Jan</td>\n",
              "    </tr>\n",
              "    <tr>\n",
              "      <th>1</th>\n",
              "      <td>Andhra Pradesh</td>\n",
              "      <td>29-02-2020</td>\n",
              "      <td>M</td>\n",
              "      <td>5.83</td>\n",
              "      <td>16545652</td>\n",
              "      <td>40.90</td>\n",
              "      <td>South</td>\n",
              "      <td>15.9129</td>\n",
              "      <td>79.74</td>\n",
              "      <td>2</td>\n",
              "      <td>Feb</td>\n",
              "    </tr>\n",
              "    <tr>\n",
              "      <th>2</th>\n",
              "      <td>Andhra Pradesh</td>\n",
              "      <td>31-03-2020</td>\n",
              "      <td>M</td>\n",
              "      <td>5.79</td>\n",
              "      <td>15881197</td>\n",
              "      <td>39.18</td>\n",
              "      <td>South</td>\n",
              "      <td>15.9129</td>\n",
              "      <td>79.74</td>\n",
              "      <td>3</td>\n",
              "      <td>Mar</td>\n",
              "    </tr>\n",
              "    <tr>\n",
              "      <th>3</th>\n",
              "      <td>Andhra Pradesh</td>\n",
              "      <td>30-04-2020</td>\n",
              "      <td>M</td>\n",
              "      <td>20.51</td>\n",
              "      <td>11336911</td>\n",
              "      <td>33.10</td>\n",
              "      <td>South</td>\n",
              "      <td>15.9129</td>\n",
              "      <td>79.74</td>\n",
              "      <td>4</td>\n",
              "      <td>Apr</td>\n",
              "    </tr>\n",
              "    <tr>\n",
              "      <th>4</th>\n",
              "      <td>Andhra Pradesh</td>\n",
              "      <td>31-05-2020</td>\n",
              "      <td>M</td>\n",
              "      <td>17.43</td>\n",
              "      <td>12988845</td>\n",
              "      <td>36.46</td>\n",
              "      <td>South</td>\n",
              "      <td>15.9129</td>\n",
              "      <td>79.74</td>\n",
              "      <td>5</td>\n",
              "      <td>May</td>\n",
              "    </tr>\n",
              "  </tbody>\n",
              "</table>\n",
              "</div>"
            ],
            "text/plain": [
              "           States         Date Frequency  ...  latitude  Month_integer  Month_name\n",
              "0  Andhra Pradesh   31-01-2020         M  ...     79.74              1         Jan\n",
              "1  Andhra Pradesh   29-02-2020         M  ...     79.74              2         Feb\n",
              "2  Andhra Pradesh   31-03-2020         M  ...     79.74              3         Mar\n",
              "3  Andhra Pradesh   30-04-2020         M  ...     79.74              4         Apr\n",
              "4  Andhra Pradesh   31-05-2020         M  ...     79.74              5         May\n",
              "\n",
              "[5 rows x 11 columns]"
            ]
          },
          "metadata": {
            "tags": []
          },
          "execution_count": 14
        }
      ]
    },
    {
      "cell_type": "code",
      "metadata": {
        "colab": {
          "base_uri": "https://localhost:8080/"
        },
        "id": "24rw8gp1co_6",
        "outputId": "7c24c88e-c008-48ad-a45c-76d4b15d708c"
      },
      "source": [
        "df1.Month_integer"
      ],
      "execution_count": null,
      "outputs": [
        {
          "output_type": "execute_result",
          "data": {
            "text/plain": [
              "0       1\n",
              "1       2\n",
              "2       3\n",
              "3       4\n",
              "4       5\n",
              "       ..\n",
              "262     6\n",
              "263     7\n",
              "264     8\n",
              "265     9\n",
              "266    10\n",
              "Name: Month_integer, Length: 267, dtype: int64"
            ]
          },
          "metadata": {
            "tags": []
          },
          "execution_count": 15
        }
      ]
    },
    {
      "cell_type": "code",
      "metadata": {
        "id": "ppAoWrCPdOE4",
        "colab": {
          "base_uri": "https://localhost:8080/",
          "height": 136
        },
        "outputId": "1e0c4d75-f708-4c13-e750-7c57c98ca279"
      },
      "source": [
        " df_stats = df1[['Estimated Unemployment Rate','Estimated Employed','Estimated Labour Participation Rate']]\n",
        "round(df_stats.describe().T,2)"
      ],
      "execution_count": null,
      "outputs": [
        {
          "output_type": "execute_result",
          "data": {
            "text/html": [
              "<div>\n",
              "<style scoped>\n",
              "    .dataframe tbody tr th:only-of-type {\n",
              "        vertical-align: middle;\n",
              "    }\n",
              "\n",
              "    .dataframe tbody tr th {\n",
              "        vertical-align: top;\n",
              "    }\n",
              "\n",
              "    .dataframe thead th {\n",
              "        text-align: right;\n",
              "    }\n",
              "</style>\n",
              "<table border=\"1\" class=\"dataframe\">\n",
              "  <thead>\n",
              "    <tr style=\"text-align: right;\">\n",
              "      <th></th>\n",
              "      <th>count</th>\n",
              "      <th>mean</th>\n",
              "      <th>std</th>\n",
              "      <th>min</th>\n",
              "      <th>25%</th>\n",
              "      <th>50%</th>\n",
              "      <th>75%</th>\n",
              "      <th>max</th>\n",
              "    </tr>\n",
              "  </thead>\n",
              "  <tbody>\n",
              "    <tr>\n",
              "      <th>Estimated Unemployment Rate</th>\n",
              "      <td>267.0</td>\n",
              "      <td>12.24</td>\n",
              "      <td>10.80</td>\n",
              "      <td>0.50</td>\n",
              "      <td>4.84</td>\n",
              "      <td>9.65</td>\n",
              "      <td>16.76</td>\n",
              "      <td>75.85</td>\n",
              "    </tr>\n",
              "    <tr>\n",
              "      <th>Estimated Employed</th>\n",
              "      <td>267.0</td>\n",
              "      <td>13962105.72</td>\n",
              "      <td>13366318.36</td>\n",
              "      <td>117542.00</td>\n",
              "      <td>2838930.50</td>\n",
              "      <td>9732417.00</td>\n",
              "      <td>21878686.00</td>\n",
              "      <td>59433759.00</td>\n",
              "    </tr>\n",
              "    <tr>\n",
              "      <th>Estimated Labour Participation Rate</th>\n",
              "      <td>267.0</td>\n",
              "      <td>41.68</td>\n",
              "      <td>7.85</td>\n",
              "      <td>16.77</td>\n",
              "      <td>37.26</td>\n",
              "      <td>40.39</td>\n",
              "      <td>44.06</td>\n",
              "      <td>69.69</td>\n",
              "    </tr>\n",
              "  </tbody>\n",
              "</table>\n",
              "</div>"
            ],
            "text/plain": [
              "                                     count  ...          max\n",
              "Estimated Unemployment Rate          267.0  ...        75.85\n",
              "Estimated Employed                   267.0  ...  59433759.00\n",
              "Estimated Labour Participation Rate  267.0  ...        69.69\n",
              "\n",
              "[3 rows x 8 columns]"
            ]
          },
          "metadata": {
            "tags": []
          },
          "execution_count": 16
        }
      ]
    },
    {
      "cell_type": "markdown",
      "metadata": {
        "id": "ZDwsmcIOY_56"
      },
      "source": [
        "Finding unemployment rate, employed and labour participation rate for perticular regions"
      ]
    },
    {
      "cell_type": "code",
      "metadata": {
        "id": "xl38wycRjMy0",
        "colab": {
          "base_uri": "https://localhost:8080/",
          "height": 195
        },
        "outputId": "583dc5c4-5376-42d0-b1c6-f62ebb414c39"
      },
      "source": [
        "region_stats = df1.groupby(['Region'])[['Estimated Unemployment Rate','Estimated Employed','Estimated Labour Participation Rate']].mean().reset_index()\n",
        "region_stats = round(region_stats,2)\n",
        "region_stats"
      ],
      "execution_count": null,
      "outputs": [
        {
          "output_type": "execute_result",
          "data": {
            "text/html": [
              "<div>\n",
              "<style scoped>\n",
              "    .dataframe tbody tr th:only-of-type {\n",
              "        vertical-align: middle;\n",
              "    }\n",
              "\n",
              "    .dataframe tbody tr th {\n",
              "        vertical-align: top;\n",
              "    }\n",
              "\n",
              "    .dataframe thead th {\n",
              "        text-align: right;\n",
              "    }\n",
              "</style>\n",
              "<table border=\"1\" class=\"dataframe\">\n",
              "  <thead>\n",
              "    <tr style=\"text-align: right;\">\n",
              "      <th></th>\n",
              "      <th>Region</th>\n",
              "      <th>Estimated Unemployment Rate</th>\n",
              "      <th>Estimated Employed</th>\n",
              "      <th>Estimated Labour Participation Rate</th>\n",
              "    </tr>\n",
              "  </thead>\n",
              "  <tbody>\n",
              "    <tr>\n",
              "      <th>0</th>\n",
              "      <td>East</td>\n",
              "      <td>13.92</td>\n",
              "      <td>19602366.90</td>\n",
              "      <td>40.11</td>\n",
              "    </tr>\n",
              "    <tr>\n",
              "      <th>1</th>\n",
              "      <td>North</td>\n",
              "      <td>15.89</td>\n",
              "      <td>13072487.92</td>\n",
              "      <td>38.70</td>\n",
              "    </tr>\n",
              "    <tr>\n",
              "      <th>2</th>\n",
              "      <td>Northeast</td>\n",
              "      <td>10.95</td>\n",
              "      <td>3617105.53</td>\n",
              "      <td>52.06</td>\n",
              "    </tr>\n",
              "    <tr>\n",
              "      <th>3</th>\n",
              "      <td>South</td>\n",
              "      <td>10.45</td>\n",
              "      <td>14040589.33</td>\n",
              "      <td>40.44</td>\n",
              "    </tr>\n",
              "    <tr>\n",
              "      <th>4</th>\n",
              "      <td>West</td>\n",
              "      <td>8.24</td>\n",
              "      <td>18623512.72</td>\n",
              "      <td>41.26</td>\n",
              "    </tr>\n",
              "  </tbody>\n",
              "</table>\n",
              "</div>"
            ],
            "text/plain": [
              "      Region  ...  Estimated Labour Participation Rate\n",
              "0       East  ...                                40.11\n",
              "1      North  ...                                38.70\n",
              "2  Northeast  ...                                52.06\n",
              "3      South  ...                                40.44\n",
              "4       West  ...                                41.26\n",
              "\n",
              "[5 rows x 4 columns]"
            ]
          },
          "metadata": {
            "tags": []
          },
          "execution_count": 17
        }
      ]
    },
    {
      "cell_type": "code",
      "metadata": {
        "id": "gbBudLNbfmSc"
      },
      "source": [
        "#pip install --upgrade plotly"
      ],
      "execution_count": null,
      "outputs": []
    },
    {
      "cell_type": "code",
      "metadata": {
        "id": "Gh2hLSIJ_G_d"
      },
      "source": [
        "import plotly.express as px"
      ],
      "execution_count": null,
      "outputs": []
    },
    {
      "cell_type": "markdown",
      "metadata": {
        "id": "WmvGJeP8ZaM0"
      },
      "source": [
        "Using below box plot we can easily determine the outliers "
      ]
    },
    {
      "cell_type": "code",
      "metadata": {
        "id": "oAj0ZipQAidk",
        "colab": {
          "base_uri": "https://localhost:8080/",
          "height": 542
        },
        "outputId": "ef9e3c26-d01d-412f-c160-12b3f8460e76"
      },
      "source": [
        "fig = px.box(df1,x='States',y='Estimated Unemployment Rate',color='States',title='Unemployment rate',template='plotly')\n",
        "fig.update_layout(xaxis={'categoryorder':'total descending'})\n",
        "fig.show()"
      ],
      "execution_count": null,
      "outputs": [
        {
          "output_type": "display_data",
          "data": {
            "text/html": [
              "<html>\n",
              "<head><meta charset=\"utf-8\" /></head>\n",
              "<body>\n",
              "    <div>            <script src=\"https://cdnjs.cloudflare.com/ajax/libs/mathjax/2.7.5/MathJax.js?config=TeX-AMS-MML_SVG\"></script><script type=\"text/javascript\">if (window.MathJax) {MathJax.Hub.Config({SVG: {font: \"STIX-Web\"}});}</script>                <script type=\"text/javascript\">window.PlotlyConfig = {MathJaxConfig: 'local'};</script>\n",
              "        <script src=\"https://cdn.plot.ly/plotly-latest.min.js\"></script>                <div id=\"6260ff83-5301-49d4-a8d1-6fb8d94e33af\" class=\"plotly-graph-div\" style=\"height:525px; width:100%;\"></div>            <script type=\"text/javascript\">                                    window.PLOTLYENV=window.PLOTLYENV || {};                                    if (document.getElementById(\"6260ff83-5301-49d4-a8d1-6fb8d94e33af\")) {                    Plotly.newPlot(                        \"6260ff83-5301-49d4-a8d1-6fb8d94e33af\",                        [{\"alignmentgroup\": \"True\", \"hovertemplate\": \"States=%{x}<br>Estimated Unemployment Rate=%{y}<extra></extra>\", \"legendgroup\": \"Andhra Pradesh\", \"marker\": {\"color\": \"#636efa\"}, \"name\": \"Andhra Pradesh\", \"notched\": false, \"offsetgroup\": \"Andhra Pradesh\", \"orientation\": \"v\", \"showlegend\": true, \"type\": \"box\", \"x\": [\"Andhra Pradesh\", \"Andhra Pradesh\", \"Andhra Pradesh\", \"Andhra Pradesh\", \"Andhra Pradesh\", \"Andhra Pradesh\", \"Andhra Pradesh\", \"Andhra Pradesh\", \"Andhra Pradesh\", \"Andhra Pradesh\"], \"x0\": \" \", \"xaxis\": \"x\", \"y\": [5.48, 5.83, 5.79, 20.51, 17.43, 3.31, 8.34, 6.96, 6.4, 6.59], \"y0\": \" \", \"yaxis\": \"y\"}, {\"alignmentgroup\": \"True\", \"hovertemplate\": \"States=%{x}<br>Estimated Unemployment Rate=%{y}<extra></extra>\", \"legendgroup\": \"Assam\", \"marker\": {\"color\": \"#EF553B\"}, \"name\": \"Assam\", \"notched\": false, \"offsetgroup\": \"Assam\", \"orientation\": \"v\", \"showlegend\": true, \"type\": \"box\", \"x\": [\"Assam\", \"Assam\", \"Assam\", \"Assam\", \"Assam\", \"Assam\", \"Assam\", \"Assam\", \"Assam\", \"Assam\"], \"x0\": \" \", \"xaxis\": \"x\", \"y\": [4.66, 4.41, 4.77, 11.06, 9.55, 0.6, 3.77, 5.53, 1.19, 3.02], \"y0\": \" \", \"yaxis\": \"y\"}, {\"alignmentgroup\": \"True\", \"hovertemplate\": \"States=%{x}<br>Estimated Unemployment Rate=%{y}<extra></extra>\", \"legendgroup\": \"Bihar\", \"marker\": {\"color\": \"#00cc96\"}, \"name\": \"Bihar\", \"notched\": false, \"offsetgroup\": \"Bihar\", \"orientation\": \"v\", \"showlegend\": true, \"type\": \"box\", \"x\": [\"Bihar\", \"Bihar\", \"Bihar\", \"Bihar\", \"Bihar\", \"Bihar\", \"Bihar\", \"Bihar\", \"Bihar\", \"Bihar\"], \"x0\": \" \", \"xaxis\": \"x\", \"y\": [10.61, 10.29, 15.43, 46.64, 45.96, 17.82, 12.79, 13.44, 11.91, 9.82], \"y0\": \" \", \"yaxis\": \"y\"}, {\"alignmentgroup\": \"True\", \"hovertemplate\": \"States=%{x}<br>Estimated Unemployment Rate=%{y}<extra></extra>\", \"legendgroup\": \"Chhattisgarh\", \"marker\": {\"color\": \"#ab63fa\"}, \"name\": \"Chhattisgarh\", \"notched\": false, \"offsetgroup\": \"Chhattisgarh\", \"orientation\": \"v\", \"showlegend\": true, \"type\": \"box\", \"x\": [\"Chhattisgarh\", \"Chhattisgarh\", \"Chhattisgarh\", \"Chhattisgarh\", \"Chhattisgarh\", \"Chhattisgarh\", \"Chhattisgarh\", \"Chhattisgarh\", \"Chhattisgarh\", \"Chhattisgarh\"], \"x0\": \" \", \"xaxis\": \"x\", \"y\": [9.65, 8.38, 7.54, 3.41, 10.5, 14.23, 10.27, 5.63, 1.96, 6.62], \"y0\": \" \", \"yaxis\": \"y\"}, {\"alignmentgroup\": \"True\", \"hovertemplate\": \"States=%{x}<br>Estimated Unemployment Rate=%{y}<extra></extra>\", \"legendgroup\": \"Delhi\", \"marker\": {\"color\": \"#FFA15A\"}, \"name\": \"Delhi\", \"notched\": false, \"offsetgroup\": \"Delhi\", \"orientation\": \"v\", \"showlegend\": true, \"type\": \"box\", \"x\": [\"Delhi\", \"Delhi\", \"Delhi\", \"Delhi\", \"Delhi\", \"Delhi\", \"Delhi\", \"Delhi\", \"Delhi\", \"Delhi\"], \"x0\": \" \", \"xaxis\": \"x\", \"y\": [22.23, 14.84, 17.04, 16.68, 42.27, 18.19, 20.3, 13.79, 12.53, 6.27], \"y0\": \" \", \"yaxis\": \"y\"}, {\"alignmentgroup\": \"True\", \"hovertemplate\": \"States=%{x}<br>Estimated Unemployment Rate=%{y}<extra></extra>\", \"legendgroup\": \"Goa\", \"marker\": {\"color\": \"#19d3f3\"}, \"name\": \"Goa\", \"notched\": false, \"offsetgroup\": \"Goa\", \"orientation\": \"v\", \"showlegend\": true, \"type\": \"box\", \"x\": [\"Goa\", \"Goa\", \"Goa\", \"Goa\", \"Goa\", \"Goa\", \"Goa\", \"Goa\", \"Goa\", \"Goa\"], \"x0\": \" \", \"xaxis\": \"x\", \"y\": [8.89, 2.81, 5.25, 13.31, 21.25, 9.96, 17.07, 16.21, 15.38, 11.54], \"y0\": \" \", \"yaxis\": \"y\"}, {\"alignmentgroup\": \"True\", \"hovertemplate\": \"States=%{x}<br>Estimated Unemployment Rate=%{y}<extra></extra>\", \"legendgroup\": \"Gujarat\", \"marker\": {\"color\": \"#FF6692\"}, \"name\": \"Gujarat\", \"notched\": false, \"offsetgroup\": \"Gujarat\", \"orientation\": \"v\", \"showlegend\": true, \"type\": \"box\", \"x\": [\"Gujarat\", \"Gujarat\", \"Gujarat\", \"Gujarat\", \"Gujarat\", \"Gujarat\", \"Gujarat\", \"Gujarat\", \"Gujarat\", \"Gujarat\"], \"x0\": \" \", \"xaxis\": \"x\", \"y\": [5.54, 6.38, 6.66, 18.71, 12.11, 3.2, 1.84, 1.87, 3.42, 4.03], \"y0\": \" \", \"yaxis\": \"y\"}, {\"alignmentgroup\": \"True\", \"hovertemplate\": \"States=%{x}<br>Estimated Unemployment Rate=%{y}<extra></extra>\", \"legendgroup\": \"Haryana\", \"marker\": {\"color\": \"#B6E880\"}, \"name\": \"Haryana\", \"notched\": false, \"offsetgroup\": \"Haryana\", \"orientation\": \"v\", \"showlegend\": true, \"type\": \"box\", \"x\": [\"Haryana\", \"Haryana\", \"Haryana\", \"Haryana\", \"Haryana\", \"Haryana\", \"Haryana\", \"Haryana\", \"Haryana\", \"Haryana\"], \"x0\": \" \", \"xaxis\": \"x\", \"y\": [20.34, 25.77, 25.05, 43.22, 29.02, 26.7, 24.18, 33.5, 19.68, 27.31], \"y0\": \" \", \"yaxis\": \"y\"}, {\"alignmentgroup\": \"True\", \"hovertemplate\": \"States=%{x}<br>Estimated Unemployment Rate=%{y}<extra></extra>\", \"legendgroup\": \"Himachal Pradesh\", \"marker\": {\"color\": \"#FF97FF\"}, \"name\": \"Himachal Pradesh\", \"notched\": false, \"offsetgroup\": \"Himachal Pradesh\", \"orientation\": \"v\", \"showlegend\": true, \"type\": \"box\", \"x\": [\"Himachal Pradesh\", \"Himachal Pradesh\", \"Himachal Pradesh\", \"Himachal Pradesh\", \"Himachal Pradesh\", \"Himachal Pradesh\", \"Himachal Pradesh\", \"Himachal Pradesh\", \"Himachal Pradesh\", \"Himachal Pradesh\"], \"x0\": \" \", \"xaxis\": \"x\", \"y\": [16.83, 16.84, 18.76, 2.2, 26.95, 13.47, 24.31, 15.79, 12.04, 13.46], \"y0\": \" \", \"yaxis\": \"y\"}, {\"alignmentgroup\": \"True\", \"hovertemplate\": \"States=%{x}<br>Estimated Unemployment Rate=%{y}<extra></extra>\", \"legendgroup\": \"Jammu & Kashmir\", \"marker\": {\"color\": \"#FECB52\"}, \"name\": \"Jammu & Kashmir\", \"notched\": false, \"offsetgroup\": \"Jammu & Kashmir\", \"orientation\": \"v\", \"showlegend\": true, \"type\": \"box\", \"x\": [\"Jammu & Kashmir\", \"Jammu & Kashmir\", \"Jammu & Kashmir\", \"Jammu & Kashmir\", \"Jammu & Kashmir\", \"Jammu & Kashmir\", \"Jammu & Kashmir\", \"Jammu & Kashmir\", \"Jammu & Kashmir\"], \"x0\": \" \", \"xaxis\": \"x\", \"y\": [21.08, 20.78, 15.5, 18.74, 17.92, 10.88, 11.09, 16.17, 16.14], \"y0\": \" \", \"yaxis\": \"y\"}, {\"alignmentgroup\": \"True\", \"hovertemplate\": \"States=%{x}<br>Estimated Unemployment Rate=%{y}<extra></extra>\", \"legendgroup\": \"Jharkhand\", \"marker\": {\"color\": \"#636efa\"}, \"name\": \"Jharkhand\", \"notched\": false, \"offsetgroup\": \"Jharkhand\", \"orientation\": \"v\", \"showlegend\": true, \"type\": \"box\", \"x\": [\"Jharkhand\", \"Jharkhand\", \"Jharkhand\", \"Jharkhand\", \"Jharkhand\", \"Jharkhand\", \"Jharkhand\", \"Jharkhand\", \"Jharkhand\", \"Jharkhand\"], \"x0\": \" \", \"xaxis\": \"x\", \"y\": [10.61, 11.85, 8.23, 47.09, 59.23, 20.95, 7.63, 9.76, 8.24, 11.8], \"y0\": \" \", \"yaxis\": \"y\"}, {\"alignmentgroup\": \"True\", \"hovertemplate\": \"States=%{x}<br>Estimated Unemployment Rate=%{y}<extra></extra>\", \"legendgroup\": \"Karnataka\", \"marker\": {\"color\": \"#EF553B\"}, \"name\": \"Karnataka\", \"notched\": false, \"offsetgroup\": \"Karnataka\", \"orientation\": \"v\", \"showlegend\": true, \"type\": \"box\", \"x\": [\"Karnataka\", \"Karnataka\", \"Karnataka\", \"Karnataka\", \"Karnataka\", \"Karnataka\", \"Karnataka\", \"Karnataka\", \"Karnataka\", \"Karnataka\"], \"x0\": \" \", \"xaxis\": \"x\", \"y\": [2.86, 3.61, 3.46, 29.84, 19.97, 8.44, 4.01, 0.5, 2.41, 1.58], \"y0\": \" \", \"yaxis\": \"y\"}, {\"alignmentgroup\": \"True\", \"hovertemplate\": \"States=%{x}<br>Estimated Unemployment Rate=%{y}<extra></extra>\", \"legendgroup\": \"Kerala\", \"marker\": {\"color\": \"#00cc96\"}, \"name\": \"Kerala\", \"notched\": false, \"offsetgroup\": \"Kerala\", \"orientation\": \"v\", \"showlegend\": true, \"type\": \"box\", \"x\": [\"Kerala\", \"Kerala\", \"Kerala\", \"Kerala\", \"Kerala\", \"Kerala\", \"Kerala\", \"Kerala\", \"Kerala\", \"Kerala\"], \"x0\": \" \", \"xaxis\": \"x\", \"y\": [5.31, 7.6, 8.99, 16.99, 17.88, 9.71, 7.09, 10.98, 5.91, 3.88], \"y0\": \" \", \"yaxis\": \"y\"}, {\"alignmentgroup\": \"True\", \"hovertemplate\": \"States=%{x}<br>Estimated Unemployment Rate=%{y}<extra></extra>\", \"legendgroup\": \"Madhya Pradesh\", \"marker\": {\"color\": \"#ab63fa\"}, \"name\": \"Madhya Pradesh\", \"notched\": false, \"offsetgroup\": \"Madhya Pradesh\", \"orientation\": \"v\", \"showlegend\": true, \"type\": \"box\", \"x\": [\"Madhya Pradesh\", \"Madhya Pradesh\", \"Madhya Pradesh\", \"Madhya Pradesh\", \"Madhya Pradesh\", \"Madhya Pradesh\", \"Madhya Pradesh\", \"Madhya Pradesh\", \"Madhya Pradesh\", \"Madhya Pradesh\"], \"x0\": \" \", \"xaxis\": \"x\", \"y\": [4.11, 4.57, 2.22, 12.36, 21.98, 6.48, 5.08, 4.7, 3.91, 3.13], \"y0\": \" \", \"yaxis\": \"y\"}, {\"alignmentgroup\": \"True\", \"hovertemplate\": \"States=%{x}<br>Estimated Unemployment Rate=%{y}<extra></extra>\", \"legendgroup\": \"Maharashtra\", \"marker\": {\"color\": \"#FFA15A\"}, \"name\": \"Maharashtra\", \"notched\": false, \"offsetgroup\": \"Maharashtra\", \"orientation\": \"v\", \"showlegend\": true, \"type\": \"box\", \"x\": [\"Maharashtra\", \"Maharashtra\", \"Maharashtra\", \"Maharashtra\", \"Maharashtra\", \"Maharashtra\", \"Maharashtra\", \"Maharashtra\", \"Maharashtra\", \"Maharashtra\"], \"x0\": \" \", \"xaxis\": \"x\", \"y\": [4.95, 4.69, 5.79, 20.9, 15.46, 9.23, 3.89, 6.23, 4.55, 4.1], \"y0\": \" \", \"yaxis\": \"y\"}, {\"alignmentgroup\": \"True\", \"hovertemplate\": \"States=%{x}<br>Estimated Unemployment Rate=%{y}<extra></extra>\", \"legendgroup\": \"Meghalaya\", \"marker\": {\"color\": \"#19d3f3\"}, \"name\": \"Meghalaya\", \"notched\": false, \"offsetgroup\": \"Meghalaya\", \"orientation\": \"v\", \"showlegend\": true, \"type\": \"box\", \"x\": [\"Meghalaya\", \"Meghalaya\", \"Meghalaya\", \"Meghalaya\", \"Meghalaya\", \"Meghalaya\", \"Meghalaya\", \"Meghalaya\", \"Meghalaya\", \"Meghalaya\"], \"x0\": \" \", \"xaxis\": \"x\", \"y\": [1.66, 3.59, 1.58, 10.03, 5.92, 1.15, 2.1, 3.74, 4.29, 4.6], \"y0\": \" \", \"yaxis\": \"y\"}, {\"alignmentgroup\": \"True\", \"hovertemplate\": \"States=%{x}<br>Estimated Unemployment Rate=%{y}<extra></extra>\", \"legendgroup\": \"Odisha\", \"marker\": {\"color\": \"#FF6692\"}, \"name\": \"Odisha\", \"notched\": false, \"offsetgroup\": \"Odisha\", \"orientation\": \"v\", \"showlegend\": true, \"type\": \"box\", \"x\": [\"Odisha\", \"Odisha\", \"Odisha\", \"Odisha\", \"Odisha\", \"Odisha\", \"Odisha\", \"Odisha\", \"Odisha\", \"Odisha\"], \"x0\": \" \", \"xaxis\": \"x\", \"y\": [1.9, 3.12, 13.08, 23.76, 11.41, 3.77, 1.88, 1.42, 2.1, 2.18], \"y0\": \" \", \"yaxis\": \"y\"}, {\"alignmentgroup\": \"True\", \"hovertemplate\": \"States=%{x}<br>Estimated Unemployment Rate=%{y}<extra></extra>\", \"legendgroup\": \"Puducherry\", \"marker\": {\"color\": \"#B6E880\"}, \"name\": \"Puducherry\", \"notched\": false, \"offsetgroup\": \"Puducherry\", \"orientation\": \"v\", \"showlegend\": true, \"type\": \"box\", \"x\": [\"Puducherry\", \"Puducherry\", \"Puducherry\", \"Puducherry\", \"Puducherry\", \"Puducherry\", \"Puducherry\", \"Puducherry\", \"Puducherry\", \"Puducherry\"], \"x0\": \" \", \"xaxis\": \"x\", \"y\": [0.58, 1.76, 1.2, 75.85, 58.19, 4.24, 15.47, 5.05, 10.9, 6.18], \"y0\": \" \", \"yaxis\": \"y\"}, {\"alignmentgroup\": \"True\", \"hovertemplate\": \"States=%{x}<br>Estimated Unemployment Rate=%{y}<extra></extra>\", \"legendgroup\": \"Punjab\", \"marker\": {\"color\": \"#FF97FF\"}, \"name\": \"Punjab\", \"notched\": false, \"offsetgroup\": \"Punjab\", \"orientation\": \"v\", \"showlegend\": true, \"type\": \"box\", \"x\": [\"Punjab\", \"Punjab\", \"Punjab\", \"Punjab\", \"Punjab\", \"Punjab\", \"Punjab\", \"Punjab\", \"Punjab\", \"Punjab\"], \"x0\": \" \", \"xaxis\": \"x\", \"y\": [11.11, 10.97, 10.32, 2.86, 28.33, 16.55, 9.19, 10.99, 9.61, 9.88], \"y0\": \" \", \"yaxis\": \"y\"}, {\"alignmentgroup\": \"True\", \"hovertemplate\": \"States=%{x}<br>Estimated Unemployment Rate=%{y}<extra></extra>\", \"legendgroup\": \"Rajasthan\", \"marker\": {\"color\": \"#FECB52\"}, \"name\": \"Rajasthan\", \"notched\": false, \"offsetgroup\": \"Rajasthan\", \"orientation\": \"v\", \"showlegend\": true, \"type\": \"box\", \"x\": [\"Rajasthan\", \"Rajasthan\", \"Rajasthan\", \"Rajasthan\", \"Rajasthan\", \"Rajasthan\", \"Rajasthan\", \"Rajasthan\", \"Rajasthan\", \"Rajasthan\"], \"x0\": \" \", \"xaxis\": \"x\", \"y\": [10.97, 15.16, 11.9, 17.7, 15.74, 14.39, 15.81, 17.51, 15.35, 24.15], \"y0\": \" \", \"yaxis\": \"y\"}, {\"alignmentgroup\": \"True\", \"hovertemplate\": \"States=%{x}<br>Estimated Unemployment Rate=%{y}<extra></extra>\", \"legendgroup\": \"Sikkim\", \"marker\": {\"color\": \"#636efa\"}, \"name\": \"Sikkim\", \"notched\": false, \"offsetgroup\": \"Sikkim\", \"orientation\": \"v\", \"showlegend\": true, \"type\": \"box\", \"x\": [\"Sikkim\", \"Sikkim\", \"Sikkim\", \"Sikkim\", \"Sikkim\", \"Sikkim\", \"Sikkim\", \"Sikkim\"], \"x0\": \" \", \"xaxis\": \"x\", \"y\": [23.57, 2.28, 24.51, 4.46, 4.45, 12.49, 5.7, 0.88], \"y0\": \" \", \"yaxis\": \"y\"}, {\"alignmentgroup\": \"True\", \"hovertemplate\": \"States=%{x}<br>Estimated Unemployment Rate=%{y}<extra></extra>\", \"legendgroup\": \"Tamil Nadu\", \"marker\": {\"color\": \"#EF553B\"}, \"name\": \"Tamil Nadu\", \"notched\": false, \"offsetgroup\": \"Tamil Nadu\", \"orientation\": \"v\", \"showlegend\": true, \"type\": \"box\", \"x\": [\"Tamil Nadu\", \"Tamil Nadu\", \"Tamil Nadu\", \"Tamil Nadu\", \"Tamil Nadu\", \"Tamil Nadu\", \"Tamil Nadu\", \"Tamil Nadu\", \"Tamil Nadu\", \"Tamil Nadu\"], \"x0\": \" \", \"xaxis\": \"x\", \"y\": [1.57, 2.09, 6.4, 49.83, 33.16, 12.2, 6.81, 2.65, 5.0, 2.16], \"y0\": \" \", \"yaxis\": \"y\"}, {\"alignmentgroup\": \"True\", \"hovertemplate\": \"States=%{x}<br>Estimated Unemployment Rate=%{y}<extra></extra>\", \"legendgroup\": \"Telangana\", \"marker\": {\"color\": \"#00cc96\"}, \"name\": \"Telangana\", \"notched\": false, \"offsetgroup\": \"Telangana\", \"orientation\": \"v\", \"showlegend\": true, \"type\": \"box\", \"x\": [\"Telangana\", \"Telangana\", \"Telangana\", \"Telangana\", \"Telangana\", \"Telangana\", \"Telangana\", \"Telangana\", \"Telangana\", \"Telangana\"], \"x0\": \" \", \"xaxis\": \"x\", \"y\": [5.49, 8.29, 5.77, 6.25, 14.7, 10.55, 5.36, 5.79, 3.27, 2.86], \"y0\": \" \", \"yaxis\": \"y\"}, {\"alignmentgroup\": \"True\", \"hovertemplate\": \"States=%{x}<br>Estimated Unemployment Rate=%{y}<extra></extra>\", \"legendgroup\": \"Tripura\", \"marker\": {\"color\": \"#ab63fa\"}, \"name\": \"Tripura\", \"notched\": false, \"offsetgroup\": \"Tripura\", \"orientation\": \"v\", \"showlegend\": true, \"type\": \"box\", \"x\": [\"Tripura\", \"Tripura\", \"Tripura\", \"Tripura\", \"Tripura\", \"Tripura\", \"Tripura\", \"Tripura\", \"Tripura\", \"Tripura\"], \"x0\": \" \", \"xaxis\": \"x\", \"y\": [32.67, 28.4, 29.95, 41.23, 21.51, 21.71, 18.24, 27.92, 17.35, 11.57], \"y0\": \" \", \"yaxis\": \"y\"}, {\"alignmentgroup\": \"True\", \"hovertemplate\": \"States=%{x}<br>Estimated Unemployment Rate=%{y}<extra></extra>\", \"legendgroup\": \"Uttar Pradesh\", \"marker\": {\"color\": \"#FFA15A\"}, \"name\": \"Uttar Pradesh\", \"notched\": false, \"offsetgroup\": \"Uttar Pradesh\", \"orientation\": \"v\", \"showlegend\": true, \"type\": \"box\", \"x\": [\"Uttar Pradesh\", \"Uttar Pradesh\", \"Uttar Pradesh\", \"Uttar Pradesh\", \"Uttar Pradesh\", \"Uttar Pradesh\", \"Uttar Pradesh\", \"Uttar Pradesh\", \"Uttar Pradesh\", \"Uttar Pradesh\"], \"x0\": \" \", \"xaxis\": \"x\", \"y\": [7.58, 8.98, 10.11, 21.54, 20.41, 9.47, 5.56, 5.79, 4.18, 3.75], \"y0\": \" \", \"yaxis\": \"y\"}, {\"alignmentgroup\": \"True\", \"hovertemplate\": \"States=%{x}<br>Estimated Unemployment Rate=%{y}<extra></extra>\", \"legendgroup\": \"Uttarakhand\", \"marker\": {\"color\": \"#19d3f3\"}, \"name\": \"Uttarakhand\", \"notched\": false, \"offsetgroup\": \"Uttarakhand\", \"orientation\": \"v\", \"showlegend\": true, \"type\": \"box\", \"x\": [\"Uttarakhand\", \"Uttarakhand\", \"Uttarakhand\", \"Uttarakhand\", \"Uttarakhand\", \"Uttarakhand\", \"Uttarakhand\", \"Uttarakhand\", \"Uttarakhand\", \"Uttarakhand\"], \"x0\": \" \", \"xaxis\": \"x\", \"y\": [5.49, 4.99, 19.85, 6.48, 8.01, 8.61, 12.38, 14.26, 22.26, 9.23], \"y0\": \" \", \"yaxis\": \"y\"}, {\"alignmentgroup\": \"True\", \"hovertemplate\": \"States=%{x}<br>Estimated Unemployment Rate=%{y}<extra></extra>\", \"legendgroup\": \"West Bengal\", \"marker\": {\"color\": \"#FF6692\"}, \"name\": \"West Bengal\", \"notched\": false, \"offsetgroup\": \"West Bengal\", \"orientation\": \"v\", \"showlegend\": true, \"type\": \"box\", \"x\": [\"West Bengal\", \"West Bengal\", \"West Bengal\", \"West Bengal\", \"West Bengal\", \"West Bengal\", \"West Bengal\", \"West Bengal\", \"West Bengal\", \"West Bengal\"], \"x0\": \" \", \"xaxis\": \"x\", \"y\": [6.94, 4.92, 6.92, 17.41, 17.41, 7.29, 6.83, 14.87, 9.35, 9.98], \"y0\": \" \", \"yaxis\": \"y\"}],                        {\"boxmode\": \"overlay\", \"legend\": {\"title\": {\"text\": \"States\"}, \"tracegroupgap\": 0}, \"template\": {\"data\": {\"bar\": [{\"error_x\": {\"color\": \"#2a3f5f\"}, \"error_y\": {\"color\": \"#2a3f5f\"}, \"marker\": {\"line\": {\"color\": \"#E5ECF6\", \"width\": 0.5}}, \"type\": \"bar\"}], \"barpolar\": [{\"marker\": {\"line\": {\"color\": \"#E5ECF6\", \"width\": 0.5}}, \"type\": \"barpolar\"}], \"carpet\": [{\"aaxis\": {\"endlinecolor\": \"#2a3f5f\", \"gridcolor\": \"white\", \"linecolor\": \"white\", \"minorgridcolor\": \"white\", \"startlinecolor\": \"#2a3f5f\"}, \"baxis\": {\"endlinecolor\": \"#2a3f5f\", \"gridcolor\": \"white\", \"linecolor\": \"white\", \"minorgridcolor\": \"white\", \"startlinecolor\": \"#2a3f5f\"}, \"type\": \"carpet\"}], \"choropleth\": [{\"colorbar\": {\"outlinewidth\": 0, \"ticks\": \"\"}, \"type\": \"choropleth\"}], \"contour\": [{\"colorbar\": {\"outlinewidth\": 0, \"ticks\": \"\"}, \"colorscale\": [[0.0, \"#0d0887\"], [0.1111111111111111, \"#46039f\"], [0.2222222222222222, \"#7201a8\"], [0.3333333333333333, \"#9c179e\"], [0.4444444444444444, \"#bd3786\"], [0.5555555555555556, \"#d8576b\"], [0.6666666666666666, \"#ed7953\"], [0.7777777777777778, \"#fb9f3a\"], [0.8888888888888888, \"#fdca26\"], [1.0, \"#f0f921\"]], \"type\": \"contour\"}], \"contourcarpet\": [{\"colorbar\": {\"outlinewidth\": 0, \"ticks\": \"\"}, \"type\": \"contourcarpet\"}], \"heatmap\": [{\"colorbar\": {\"outlinewidth\": 0, \"ticks\": \"\"}, \"colorscale\": [[0.0, \"#0d0887\"], [0.1111111111111111, \"#46039f\"], [0.2222222222222222, \"#7201a8\"], [0.3333333333333333, \"#9c179e\"], [0.4444444444444444, \"#bd3786\"], [0.5555555555555556, \"#d8576b\"], [0.6666666666666666, \"#ed7953\"], [0.7777777777777778, \"#fb9f3a\"], [0.8888888888888888, \"#fdca26\"], [1.0, \"#f0f921\"]], \"type\": \"heatmap\"}], \"heatmapgl\": [{\"colorbar\": {\"outlinewidth\": 0, \"ticks\": \"\"}, \"colorscale\": [[0.0, \"#0d0887\"], [0.1111111111111111, \"#46039f\"], [0.2222222222222222, \"#7201a8\"], [0.3333333333333333, \"#9c179e\"], [0.4444444444444444, \"#bd3786\"], [0.5555555555555556, \"#d8576b\"], [0.6666666666666666, \"#ed7953\"], [0.7777777777777778, \"#fb9f3a\"], [0.8888888888888888, \"#fdca26\"], [1.0, \"#f0f921\"]], \"type\": \"heatmapgl\"}], \"histogram\": [{\"marker\": {\"colorbar\": {\"outlinewidth\": 0, \"ticks\": \"\"}}, \"type\": \"histogram\"}], \"histogram2d\": [{\"colorbar\": {\"outlinewidth\": 0, \"ticks\": \"\"}, \"colorscale\": [[0.0, \"#0d0887\"], [0.1111111111111111, \"#46039f\"], [0.2222222222222222, \"#7201a8\"], [0.3333333333333333, \"#9c179e\"], [0.4444444444444444, \"#bd3786\"], [0.5555555555555556, \"#d8576b\"], [0.6666666666666666, \"#ed7953\"], [0.7777777777777778, \"#fb9f3a\"], [0.8888888888888888, \"#fdca26\"], [1.0, \"#f0f921\"]], \"type\": \"histogram2d\"}], \"histogram2dcontour\": [{\"colorbar\": {\"outlinewidth\": 0, \"ticks\": \"\"}, \"colorscale\": [[0.0, \"#0d0887\"], [0.1111111111111111, \"#46039f\"], [0.2222222222222222, \"#7201a8\"], [0.3333333333333333, \"#9c179e\"], [0.4444444444444444, \"#bd3786\"], [0.5555555555555556, \"#d8576b\"], [0.6666666666666666, \"#ed7953\"], [0.7777777777777778, \"#fb9f3a\"], [0.8888888888888888, \"#fdca26\"], [1.0, \"#f0f921\"]], \"type\": \"histogram2dcontour\"}], \"mesh3d\": [{\"colorbar\": {\"outlinewidth\": 0, \"ticks\": \"\"}, \"type\": \"mesh3d\"}], \"parcoords\": [{\"line\": {\"colorbar\": {\"outlinewidth\": 0, \"ticks\": \"\"}}, \"type\": \"parcoords\"}], \"pie\": [{\"automargin\": true, \"type\": \"pie\"}], \"scatter\": [{\"marker\": {\"colorbar\": {\"outlinewidth\": 0, \"ticks\": \"\"}}, \"type\": \"scatter\"}], \"scatter3d\": [{\"line\": {\"colorbar\": {\"outlinewidth\": 0, \"ticks\": \"\"}}, \"marker\": {\"colorbar\": {\"outlinewidth\": 0, \"ticks\": \"\"}}, \"type\": \"scatter3d\"}], \"scattercarpet\": [{\"marker\": {\"colorbar\": {\"outlinewidth\": 0, \"ticks\": \"\"}}, \"type\": \"scattercarpet\"}], \"scattergeo\": [{\"marker\": {\"colorbar\": {\"outlinewidth\": 0, \"ticks\": \"\"}}, \"type\": \"scattergeo\"}], \"scattergl\": [{\"marker\": {\"colorbar\": {\"outlinewidth\": 0, \"ticks\": \"\"}}, \"type\": \"scattergl\"}], \"scattermapbox\": [{\"marker\": {\"colorbar\": {\"outlinewidth\": 0, \"ticks\": \"\"}}, \"type\": \"scattermapbox\"}], \"scatterpolar\": [{\"marker\": {\"colorbar\": {\"outlinewidth\": 0, \"ticks\": \"\"}}, \"type\": \"scatterpolar\"}], \"scatterpolargl\": [{\"marker\": {\"colorbar\": {\"outlinewidth\": 0, \"ticks\": \"\"}}, \"type\": \"scatterpolargl\"}], \"scatterternary\": [{\"marker\": {\"colorbar\": {\"outlinewidth\": 0, \"ticks\": \"\"}}, \"type\": \"scatterternary\"}], \"surface\": [{\"colorbar\": {\"outlinewidth\": 0, \"ticks\": \"\"}, \"colorscale\": [[0.0, \"#0d0887\"], [0.1111111111111111, \"#46039f\"], [0.2222222222222222, \"#7201a8\"], [0.3333333333333333, \"#9c179e\"], [0.4444444444444444, \"#bd3786\"], [0.5555555555555556, \"#d8576b\"], [0.6666666666666666, \"#ed7953\"], [0.7777777777777778, \"#fb9f3a\"], [0.8888888888888888, \"#fdca26\"], [1.0, \"#f0f921\"]], \"type\": \"surface\"}], \"table\": [{\"cells\": {\"fill\": {\"color\": \"#EBF0F8\"}, \"line\": {\"color\": \"white\"}}, \"header\": {\"fill\": {\"color\": \"#C8D4E3\"}, \"line\": {\"color\": \"white\"}}, \"type\": \"table\"}]}, \"layout\": {\"annotationdefaults\": {\"arrowcolor\": \"#2a3f5f\", \"arrowhead\": 0, \"arrowwidth\": 1}, \"coloraxis\": {\"colorbar\": {\"outlinewidth\": 0, \"ticks\": \"\"}}, \"colorscale\": {\"diverging\": [[0, \"#8e0152\"], [0.1, \"#c51b7d\"], [0.2, \"#de77ae\"], [0.3, \"#f1b6da\"], [0.4, \"#fde0ef\"], [0.5, \"#f7f7f7\"], [0.6, \"#e6f5d0\"], [0.7, \"#b8e186\"], [0.8, \"#7fbc41\"], [0.9, \"#4d9221\"], [1, \"#276419\"]], \"sequential\": [[0.0, \"#0d0887\"], [0.1111111111111111, \"#46039f\"], [0.2222222222222222, \"#7201a8\"], [0.3333333333333333, \"#9c179e\"], [0.4444444444444444, \"#bd3786\"], [0.5555555555555556, \"#d8576b\"], [0.6666666666666666, \"#ed7953\"], [0.7777777777777778, \"#fb9f3a\"], [0.8888888888888888, \"#fdca26\"], [1.0, \"#f0f921\"]], \"sequentialminus\": [[0.0, \"#0d0887\"], [0.1111111111111111, \"#46039f\"], [0.2222222222222222, \"#7201a8\"], [0.3333333333333333, \"#9c179e\"], [0.4444444444444444, \"#bd3786\"], [0.5555555555555556, \"#d8576b\"], [0.6666666666666666, \"#ed7953\"], [0.7777777777777778, \"#fb9f3a\"], [0.8888888888888888, \"#fdca26\"], [1.0, \"#f0f921\"]]}, \"colorway\": [\"#636efa\", \"#EF553B\", \"#00cc96\", \"#ab63fa\", \"#FFA15A\", \"#19d3f3\", \"#FF6692\", \"#B6E880\", \"#FF97FF\", \"#FECB52\"], \"font\": {\"color\": \"#2a3f5f\"}, \"geo\": {\"bgcolor\": \"white\", \"lakecolor\": \"white\", \"landcolor\": \"#E5ECF6\", \"showlakes\": true, \"showland\": true, \"subunitcolor\": \"white\"}, \"hoverlabel\": {\"align\": \"left\"}, \"hovermode\": \"closest\", \"mapbox\": {\"style\": \"light\"}, \"paper_bgcolor\": \"white\", \"plot_bgcolor\": \"#E5ECF6\", \"polar\": {\"angularaxis\": {\"gridcolor\": \"white\", \"linecolor\": \"white\", \"ticks\": \"\"}, \"bgcolor\": \"#E5ECF6\", \"radialaxis\": {\"gridcolor\": \"white\", \"linecolor\": \"white\", \"ticks\": \"\"}}, \"scene\": {\"xaxis\": {\"backgroundcolor\": \"#E5ECF6\", \"gridcolor\": \"white\", \"gridwidth\": 2, \"linecolor\": \"white\", \"showbackground\": true, \"ticks\": \"\", \"zerolinecolor\": \"white\"}, \"yaxis\": {\"backgroundcolor\": \"#E5ECF6\", \"gridcolor\": \"white\", \"gridwidth\": 2, \"linecolor\": \"white\", \"showbackground\": true, \"ticks\": \"\", \"zerolinecolor\": \"white\"}, \"zaxis\": {\"backgroundcolor\": \"#E5ECF6\", \"gridcolor\": \"white\", \"gridwidth\": 2, \"linecolor\": \"white\", \"showbackground\": true, \"ticks\": \"\", \"zerolinecolor\": \"white\"}}, \"shapedefaults\": {\"line\": {\"color\": \"#2a3f5f\"}}, \"ternary\": {\"aaxis\": {\"gridcolor\": \"white\", \"linecolor\": \"white\", \"ticks\": \"\"}, \"baxis\": {\"gridcolor\": \"white\", \"linecolor\": \"white\", \"ticks\": \"\"}, \"bgcolor\": \"#E5ECF6\", \"caxis\": {\"gridcolor\": \"white\", \"linecolor\": \"white\", \"ticks\": \"\"}}, \"title\": {\"x\": 0.05}, \"xaxis\": {\"automargin\": true, \"gridcolor\": \"white\", \"linecolor\": \"white\", \"ticks\": \"\", \"title\": {\"standoff\": 15}, \"zerolinecolor\": \"white\", \"zerolinewidth\": 2}, \"yaxis\": {\"automargin\": true, \"gridcolor\": \"white\", \"linecolor\": \"white\", \"ticks\": \"\", \"title\": {\"standoff\": 15}, \"zerolinecolor\": \"white\", \"zerolinewidth\": 2}}}, \"title\": {\"text\": \"Unemployment rate\"}, \"xaxis\": {\"anchor\": \"y\", \"categoryarray\": [\"Andhra Pradesh\", \"Assam\", \"Bihar\", \"Chhattisgarh\", \"Delhi\", \"Goa\", \"Gujarat\", \"Haryana\", \"Himachal Pradesh\", \"Jammu & Kashmir\", \"Jharkhand\", \"Karnataka\", \"Kerala\", \"Madhya Pradesh\", \"Maharashtra\", \"Meghalaya\", \"Odisha\", \"Puducherry\", \"Punjab\", \"Rajasthan\", \"Sikkim\", \"Tamil Nadu\", \"Telangana\", \"Tripura\", \"Uttar Pradesh\", \"Uttarakhand\", \"West Bengal\"], \"categoryorder\": \"total descending\", \"domain\": [0.0, 1.0], \"title\": {\"text\": \"States\"}}, \"yaxis\": {\"anchor\": \"x\", \"domain\": [0.0, 1.0], \"title\": {\"text\": \"Estimated Unemployment Rate\"}}},                        {\"responsive\": true}                    ).then(function(){\n",
              "                            \n",
              "var gd = document.getElementById('6260ff83-5301-49d4-a8d1-6fb8d94e33af');\n",
              "var x = new MutationObserver(function (mutations, observer) {{\n",
              "        var display = window.getComputedStyle(gd).display;\n",
              "        if (!display || display === 'none') {{\n",
              "            console.log([gd, 'removed!']);\n",
              "            Plotly.purge(gd);\n",
              "            observer.disconnect();\n",
              "        }}\n",
              "}});\n",
              "\n",
              "// Listen for the removal of the full notebook cells\n",
              "var notebookContainer = gd.closest('#notebook-container');\n",
              "if (notebookContainer) {{\n",
              "    x.observe(notebookContainer, {childList: true});\n",
              "}}\n",
              "\n",
              "// Listen for the clearing of the current output cell\n",
              "var outputEl = gd.closest('.output');\n",
              "if (outputEl) {{\n",
              "    x.observe(outputEl, {childList: true});\n",
              "}}\n",
              "\n",
              "                        })                };                            </script>        </div>\n",
              "</body>\n",
              "</html>"
            ]
          },
          "metadata": {
            "tags": []
          }
        }
      ]
    },
    {
      "cell_type": "markdown",
      "metadata": {
        "id": "_Z1hn0lRZ034"
      },
      "source": [
        "Through below multiple scatter plots we can compare between different columns."
      ]
    },
    {
      "cell_type": "code",
      "metadata": {
        "id": "0K1dh2BDArOb",
        "colab": {
          "base_uri": "https://localhost:8080/",
          "height": 542
        },
        "outputId": "a9c783f3-51ae-4afe-9fa5-833b7ebfed0a"
      },
      "source": [
        "fig = px.scatter_matrix(df1,template='plotly',\n",
        "    dimensions=['Estimated Unemployment Rate','Estimated Employed',\n",
        "                'Estimated Labour Participation Rate'],\n",
        "    color='Region')\n",
        "fig.show()"
      ],
      "execution_count": null,
      "outputs": [
        {
          "output_type": "display_data",
          "data": {
            "text/html": [
              "<html>\n",
              "<head><meta charset=\"utf-8\" /></head>\n",
              "<body>\n",
              "    <div>            <script src=\"https://cdnjs.cloudflare.com/ajax/libs/mathjax/2.7.5/MathJax.js?config=TeX-AMS-MML_SVG\"></script><script type=\"text/javascript\">if (window.MathJax) {MathJax.Hub.Config({SVG: {font: \"STIX-Web\"}});}</script>                <script type=\"text/javascript\">window.PlotlyConfig = {MathJaxConfig: 'local'};</script>\n",
              "        <script src=\"https://cdn.plot.ly/plotly-latest.min.js\"></script>                <div id=\"584ab835-705a-40cd-9a39-53accac05d78\" class=\"plotly-graph-div\" style=\"height:525px; width:100%;\"></div>            <script type=\"text/javascript\">                                    window.PLOTLYENV=window.PLOTLYENV || {};                                    if (document.getElementById(\"584ab835-705a-40cd-9a39-53accac05d78\")) {                    Plotly.newPlot(                        \"584ab835-705a-40cd-9a39-53accac05d78\",                        [{\"dimensions\": [{\"axis\": {\"matches\": true}, \"label\": \"Estimated Unemployment Rate\", \"values\": [5.48, 5.83, 5.79, 20.51, 17.43, 3.31, 8.34, 6.96, 6.4, 6.59, 2.86, 3.61, 3.46, 29.84, 19.97, 8.44, 4.01, 0.5, 2.41, 1.58, 5.31, 7.6, 8.99, 16.99, 17.88, 9.71, 7.09, 10.98, 5.91, 3.88, 0.58, 1.76, 1.2, 75.85, 58.19, 4.24, 15.47, 5.05, 10.9, 6.18, 1.57, 2.09, 6.4, 49.83, 33.16, 12.2, 6.81, 2.65, 5.0, 2.16, 5.49, 8.29, 5.77, 6.25, 14.7, 10.55, 5.36, 5.79, 3.27, 2.86]}, {\"axis\": {\"matches\": true}, \"label\": \"Estimated Employed\", \"values\": [16635535, 16545652, 15881197, 11336911, 12988845, 19805400, 15431615, 15251776, 15220312, 15157557, 22688028, 21677719, 22079653, 16718395, 19397853, 24215057, 22885616, 24094289, 20127176, 22356390, 9904534, 9828023, 8221728, 3933276, 7921962, 9228268, 9504420, 9031944, 9240913, 9152881, 457950, 493961, 421028, 117542, 172308, 367135, 386563, 396006, 411717, 428419, 26881641, 27570589, 26830768, 9719167, 11483256, 19096847, 24572827, 27046415, 23025845, 23651626, 17609295, 16825970, 17341613, 12172230, 14977774, 15108910, 15679417, 18185429, 16961448, 17578739]}, {\"axis\": {\"matches\": true}, \"label\": \"Estimated Labour Participation Rate\", \"values\": [41.02, 40.9, 39.18, 33.1, 36.46, 47.41, 38.91, 37.83, 37.47, 37.34, 42.18, 40.54, 41.14, 42.78, 43.43, 47.29, 42.55, 43.13, 36.66, 40.3, 37.12, 37.71, 32.0, 16.77, 34.11, 36.11, 36.1, 35.78, 34.6, 33.52, 37.46, 40.8, 34.49, 39.3, 33.19, 30.8, 36.64, 33.34, 36.84, 36.32, 41.96, 43.2, 43.91, 29.63, 26.23, 33.16, 40.13, 42.22, 36.77, 36.62, 59.25, 58.24, 58.31, 41.06, 55.43, 53.22, 52.1, 60.59, 54.94, 56.58]}], \"hovertemplate\": \"Region=South<br>%{xaxis.title.text}=%{x}<br>%{yaxis.title.text}=%{y}<extra></extra>\", \"legendgroup\": \"South\", \"marker\": {\"color\": \"#636efa\", \"symbol\": \"circle\"}, \"name\": \"South\", \"showlegend\": true, \"type\": \"splom\"}, {\"dimensions\": [{\"axis\": {\"matches\": true}, \"label\": \"Estimated Unemployment Rate\", \"values\": [4.66, 4.41, 4.77, 11.06, 9.55, 0.6, 3.77, 5.53, 1.19, 3.02, 1.66, 3.59, 1.58, 10.03, 5.92, 1.15, 2.1, 3.74, 4.29, 4.6, 23.57, 2.28, 24.51, 4.46, 4.45, 12.49, 5.7, 0.88, 32.67, 28.4, 29.95, 41.23, 21.51, 21.71, 18.24, 27.92, 17.35, 11.57]}, {\"axis\": {\"matches\": true}, \"label\": \"Estimated Employed\", \"values\": [13051904, 10088268, 11542888, 6830817, 11367897, 9095944, 10286757, 9781310, 14107641, 11949329, 1491093, 1346829, 1482351, 965057, 1215064, 1350794, 1448106, 1357643, 1459726, 1381490, 262895, 215303, 193427, 221058, 265175, 244462, 231798, 242068, 1508130, 1584686, 1511217, 971514, 1290986, 1494140, 1348849, 1318621, 1368244, 1576529]}, {\"axis\": {\"matches\": true}, \"label\": \"Estimated Labour Participation Rate\", \"values\": [52.98, 40.77, 46.73, 29.55, 48.26, 35.07, 40.88, 39.52, 54.38, 46.84, 65.49, 60.2, 64.74, 45.99, 55.24, 58.31, 62.96, 59.88, 64.6, 61.18, 60.59, 38.7, 44.88, 40.4, 48.32, 48.49, 42.54, 42.13, 69.69, 68.74, 66.89, 51.16, 50.81, 58.85, 50.78, 56.21, 50.77, 54.58]}], \"hovertemplate\": \"Region=Northeast<br>%{xaxis.title.text}=%{x}<br>%{yaxis.title.text}=%{y}<extra></extra>\", \"legendgroup\": \"Northeast\", \"marker\": {\"color\": \"#EF553B\", \"symbol\": \"circle\"}, \"name\": \"Northeast\", \"showlegend\": true, \"type\": \"splom\"}, {\"dimensions\": [{\"axis\": {\"matches\": true}, \"label\": \"Estimated Unemployment Rate\", \"values\": [10.61, 10.29, 15.43, 46.64, 45.96, 17.82, 12.79, 13.44, 11.91, 9.82, 10.61, 11.85, 8.23, 47.09, 59.23, 20.95, 7.63, 9.76, 8.24, 11.8, 1.9, 3.12, 13.08, 23.76, 11.41, 3.77, 1.88, 1.42, 2.1, 2.18, 6.94, 4.92, 6.92, 17.41, 17.41, 7.29, 6.83, 14.87, 9.35, 9.98]}, {\"axis\": {\"matches\": true}, \"label\": \"Estimated Employed\", \"values\": [26397671, 26281655, 25717519, 16046236, 16280203, 23963933, 24989370, 23795534, 26902907, 25693252, 10198029, 10425425, 9638115, 5335262, 4145385, 8622722, 9521900, 9331640, 10185670, 10302276, 13743448, 14280735, 12272109, 6865693, 11730937, 12903993, 13614400, 14154039, 13608422, 14094553, 35820789, 36964178, 35903917, 26938836, 28356675, 30726310, 35372506, 33298644, 35707239, 33962549]}, {\"axis\": {\"matches\": true}, \"label\": \"Estimated Labour Participation Rate\", \"values\": [37.72, 37.35, 38.69, 38.17, 38.16, 36.86, 36.14, 34.59, 38.35, 35.7, 42.92, 44.4, 39.34, 37.69, 37.92, 40.59, 38.27, 38.31, 41.04, 43.08, 39.44, 41.44, 39.62, 25.23, 37.04, 37.45, 38.69, 39.96, 38.63, 39.98, 47.35, 47.74, 47.27, 39.9, 41.92, 40.39, 46.17, 47.48, 47.73, 45.63]}], \"hovertemplate\": \"Region=East<br>%{xaxis.title.text}=%{x}<br>%{yaxis.title.text}=%{y}<extra></extra>\", \"legendgroup\": \"East\", \"marker\": {\"color\": \"#00cc96\", \"symbol\": \"circle\"}, \"name\": \"East\", \"showlegend\": true, \"type\": \"splom\"}, {\"dimensions\": [{\"axis\": {\"matches\": true}, \"label\": \"Estimated Unemployment Rate\", \"values\": [9.65, 8.38, 7.54, 3.41, 10.5, 14.23, 10.27, 5.63, 1.96, 6.62, 8.89, 2.81, 5.25, 13.31, 21.25, 9.96, 17.07, 16.21, 15.38, 11.54, 5.54, 6.38, 6.66, 18.71, 12.11, 3.2, 1.84, 1.87, 3.42, 4.03, 4.11, 4.57, 2.22, 12.36, 21.98, 6.48, 5.08, 4.7, 3.91, 3.13, 4.95, 4.69, 5.79, 20.9, 15.46, 9.23, 3.89, 6.23, 4.55, 4.1]}, {\"axis\": {\"matches\": true}, \"label\": \"Estimated Employed\", \"values\": [8552172, 9195114, 9302317, 7600448, 6991217, 7332807, 8620294, 9050422, 9021854, 8546847, 416750, 478068, 411761, 500614, 378244, 489111, 458876, 473016, 425004, 392304, 24126346, 24757795, 23566641, 15288878, 17836936, 23657055, 24276120, 22817232, 25010199, 25970259, 23018632, 22711479, 22867164, 19041832, 18443927, 23054646, 23940158, 23619011, 23341952, 23144552, 42596868, 42416317, 40196806, 27689253, 32116847, 39708538, 40998545, 40963616, 42042911, 43317881]}, {\"axis\": {\"matches\": true}, \"label\": \"Estimated Labour Participation Rate\", \"values\": [43.08, 45.58, 45.59, 35.58, 35.23, 38.48, 43.14, 42.97, 41.14, 40.82, 35.73, 38.38, 33.88, 44.97, 37.36, 42.21, 42.94, 43.76, 38.89, 34.3, 48.49, 50.11, 47.75, 35.5, 38.23, 45.96, 46.41, 43.55, 48.41, 50.49, 39.42, 39.0, 38.24, 35.45, 38.48, 40.04, 40.88, 40.08, 39.2, 38.47, 44.19, 43.8, 41.91, 34.32, 37.17, 42.71, 41.57, 42.49, 42.75, 43.75]}], \"hovertemplate\": \"Region=West<br>%{xaxis.title.text}=%{x}<br>%{yaxis.title.text}=%{y}<extra></extra>\", \"legendgroup\": \"West\", \"marker\": {\"color\": \"#ab63fa\", \"symbol\": \"circle\"}, \"name\": \"West\", \"showlegend\": true, \"type\": \"splom\"}, {\"dimensions\": [{\"axis\": {\"matches\": true}, \"label\": \"Estimated Unemployment Rate\", \"values\": [22.23, 14.84, 17.04, 16.68, 42.27, 18.19, 20.3, 13.79, 12.53, 6.27, 20.34, 25.77, 25.05, 43.22, 29.02, 26.7, 24.18, 33.5, 19.68, 27.31, 16.83, 16.84, 18.76, 2.2, 26.95, 13.47, 24.31, 15.79, 12.04, 13.46, 21.08, 20.78, 15.5, 18.74, 17.92, 10.88, 11.09, 16.17, 16.14, 11.11, 10.97, 10.32, 2.86, 28.33, 16.55, 9.19, 10.99, 9.61, 9.88, 10.97, 15.16, 11.9, 17.7, 15.74, 14.39, 15.81, 17.51, 15.35, 24.15, 7.58, 8.98, 10.11, 21.54, 20.41, 9.47, 5.56, 5.79, 4.18, 3.75, 5.49, 4.99, 19.85, 6.48, 8.01, 8.61, 12.38, 14.26, 22.26, 9.23]}, {\"axis\": {\"matches\": true}, \"label\": \"Estimated Employed\", \"values\": [5805284, 5856307, 5553805, 3119274, 2632404, 4418914, 4291053, 4850107, 4958373, 4842698, 7693231, 7322942, 6641555, 5647630, 6437868, 6951934, 6800652, 7113788, 7132439, 6698551, 2287632, 2180268, 2021858, 1131128, 1897639, 2199683, 2229456, 2029740, 2237480, 2123965, 3453025, 3223513, 3359107, 3246493, 3202336, 3558889, 3429950, 3210281, 3106691, 9442093, 9229047, 9975485, 7020565, 6872938, 8390766, 9732417, 9386169, 8980432, 8800430, 20641716, 20328915, 20024680, 15984142, 19826602, 20506612, 19932393, 20014060, 20149594, 19908808, 59433759, 58060531, 56976338, 50915056, 49801902, 55380649, 56201654, 55831744, 56106836, 56539521, 2711639, 3020931, 2539302, 2720115, 2694072, 2656071, 2938552, 2717528, 2695230, 2739309]}, {\"axis\": {\"matches\": true}, \"label\": \"Estimated Labour Participation Rate\", \"values\": [47.79, 43.92, 42.65, 23.8, 28.91, 34.17, 33.97, 35.41, 35.59, 32.36, 43.36, 44.21, 39.63, 44.38, 40.39, 42.14, 39.77, 47.32, 39.2, 40.6, 45.5, 43.3, 41.04, 19.04, 42.7, 41.72, 48.25, 39.42, 41.54, 40.01, 42.2, 39.17, 38.18, 38.21, 37.24, 38.03, 36.66, 36.31, 35.05, 42.82, 41.72, 44.69, 28.99, 38.39, 40.18, 42.76, 41.99, 39.5, 38.75, 40.51, 41.77, 39.54, 33.71, 40.74, 41.38, 40.8, 41.71, 40.83, 44.92, 39.63, 39.23, 38.89, 39.73, 38.22, 37.29, 36.19, 35.96, 35.45, 35.49, 32.99, 36.48, 36.27, 33.23, 33.38, 33.06, 38.07, 35.9, 39.18, 34.03]}], \"hovertemplate\": \"Region=North<br>%{xaxis.title.text}=%{x}<br>%{yaxis.title.text}=%{y}<extra></extra>\", \"legendgroup\": \"North\", \"marker\": {\"color\": \"#FFA15A\", \"symbol\": \"circle\"}, \"name\": \"North\", \"showlegend\": true, \"type\": \"splom\"}],                        {\"dragmode\": \"select\", \"legend\": {\"title\": {\"text\": \"Region\"}, \"tracegroupgap\": 0}, \"margin\": {\"t\": 60}, \"template\": {\"data\": {\"bar\": [{\"error_x\": {\"color\": \"#2a3f5f\"}, \"error_y\": {\"color\": \"#2a3f5f\"}, \"marker\": {\"line\": {\"color\": \"#E5ECF6\", \"width\": 0.5}}, \"type\": \"bar\"}], \"barpolar\": [{\"marker\": {\"line\": {\"color\": \"#E5ECF6\", \"width\": 0.5}}, \"type\": \"barpolar\"}], \"carpet\": [{\"aaxis\": {\"endlinecolor\": \"#2a3f5f\", \"gridcolor\": \"white\", \"linecolor\": \"white\", \"minorgridcolor\": \"white\", \"startlinecolor\": \"#2a3f5f\"}, \"baxis\": {\"endlinecolor\": \"#2a3f5f\", \"gridcolor\": \"white\", \"linecolor\": \"white\", \"minorgridcolor\": \"white\", \"startlinecolor\": \"#2a3f5f\"}, \"type\": \"carpet\"}], \"choropleth\": [{\"colorbar\": {\"outlinewidth\": 0, \"ticks\": \"\"}, \"type\": \"choropleth\"}], \"contour\": [{\"colorbar\": {\"outlinewidth\": 0, \"ticks\": \"\"}, \"colorscale\": [[0.0, \"#0d0887\"], [0.1111111111111111, \"#46039f\"], [0.2222222222222222, \"#7201a8\"], [0.3333333333333333, \"#9c179e\"], [0.4444444444444444, \"#bd3786\"], [0.5555555555555556, \"#d8576b\"], [0.6666666666666666, \"#ed7953\"], [0.7777777777777778, \"#fb9f3a\"], [0.8888888888888888, \"#fdca26\"], [1.0, \"#f0f921\"]], \"type\": \"contour\"}], \"contourcarpet\": [{\"colorbar\": {\"outlinewidth\": 0, \"ticks\": \"\"}, \"type\": \"contourcarpet\"}], \"heatmap\": [{\"colorbar\": {\"outlinewidth\": 0, \"ticks\": \"\"}, \"colorscale\": [[0.0, \"#0d0887\"], [0.1111111111111111, \"#46039f\"], [0.2222222222222222, \"#7201a8\"], [0.3333333333333333, \"#9c179e\"], [0.4444444444444444, \"#bd3786\"], [0.5555555555555556, \"#d8576b\"], [0.6666666666666666, \"#ed7953\"], [0.7777777777777778, \"#fb9f3a\"], [0.8888888888888888, \"#fdca26\"], [1.0, \"#f0f921\"]], \"type\": \"heatmap\"}], \"heatmapgl\": [{\"colorbar\": {\"outlinewidth\": 0, \"ticks\": \"\"}, \"colorscale\": [[0.0, \"#0d0887\"], [0.1111111111111111, \"#46039f\"], [0.2222222222222222, \"#7201a8\"], [0.3333333333333333, \"#9c179e\"], [0.4444444444444444, \"#bd3786\"], [0.5555555555555556, \"#d8576b\"], [0.6666666666666666, \"#ed7953\"], [0.7777777777777778, \"#fb9f3a\"], [0.8888888888888888, \"#fdca26\"], [1.0, \"#f0f921\"]], \"type\": \"heatmapgl\"}], \"histogram\": [{\"marker\": {\"colorbar\": {\"outlinewidth\": 0, \"ticks\": \"\"}}, \"type\": \"histogram\"}], \"histogram2d\": [{\"colorbar\": {\"outlinewidth\": 0, \"ticks\": \"\"}, \"colorscale\": [[0.0, \"#0d0887\"], [0.1111111111111111, \"#46039f\"], [0.2222222222222222, \"#7201a8\"], [0.3333333333333333, \"#9c179e\"], [0.4444444444444444, \"#bd3786\"], [0.5555555555555556, \"#d8576b\"], [0.6666666666666666, \"#ed7953\"], [0.7777777777777778, \"#fb9f3a\"], [0.8888888888888888, \"#fdca26\"], [1.0, \"#f0f921\"]], \"type\": \"histogram2d\"}], \"histogram2dcontour\": [{\"colorbar\": {\"outlinewidth\": 0, \"ticks\": \"\"}, \"colorscale\": [[0.0, \"#0d0887\"], [0.1111111111111111, \"#46039f\"], [0.2222222222222222, \"#7201a8\"], [0.3333333333333333, \"#9c179e\"], [0.4444444444444444, \"#bd3786\"], [0.5555555555555556, \"#d8576b\"], [0.6666666666666666, \"#ed7953\"], [0.7777777777777778, \"#fb9f3a\"], [0.8888888888888888, \"#fdca26\"], [1.0, \"#f0f921\"]], \"type\": \"histogram2dcontour\"}], \"mesh3d\": [{\"colorbar\": {\"outlinewidth\": 0, \"ticks\": \"\"}, \"type\": \"mesh3d\"}], \"parcoords\": [{\"line\": {\"colorbar\": {\"outlinewidth\": 0, \"ticks\": \"\"}}, \"type\": \"parcoords\"}], \"pie\": [{\"automargin\": true, \"type\": \"pie\"}], \"scatter\": [{\"marker\": {\"colorbar\": {\"outlinewidth\": 0, \"ticks\": \"\"}}, \"type\": \"scatter\"}], \"scatter3d\": [{\"line\": {\"colorbar\": {\"outlinewidth\": 0, \"ticks\": \"\"}}, \"marker\": {\"colorbar\": {\"outlinewidth\": 0, \"ticks\": \"\"}}, \"type\": \"scatter3d\"}], \"scattercarpet\": [{\"marker\": {\"colorbar\": {\"outlinewidth\": 0, \"ticks\": \"\"}}, \"type\": \"scattercarpet\"}], \"scattergeo\": [{\"marker\": {\"colorbar\": {\"outlinewidth\": 0, \"ticks\": \"\"}}, \"type\": \"scattergeo\"}], \"scattergl\": [{\"marker\": {\"colorbar\": {\"outlinewidth\": 0, \"ticks\": \"\"}}, \"type\": \"scattergl\"}], \"scattermapbox\": [{\"marker\": {\"colorbar\": {\"outlinewidth\": 0, \"ticks\": \"\"}}, \"type\": \"scattermapbox\"}], \"scatterpolar\": [{\"marker\": {\"colorbar\": {\"outlinewidth\": 0, \"ticks\": \"\"}}, \"type\": \"scatterpolar\"}], \"scatterpolargl\": [{\"marker\": {\"colorbar\": {\"outlinewidth\": 0, \"ticks\": \"\"}}, \"type\": \"scatterpolargl\"}], \"scatterternary\": [{\"marker\": {\"colorbar\": {\"outlinewidth\": 0, \"ticks\": \"\"}}, \"type\": \"scatterternary\"}], \"surface\": [{\"colorbar\": {\"outlinewidth\": 0, \"ticks\": \"\"}, \"colorscale\": [[0.0, \"#0d0887\"], [0.1111111111111111, \"#46039f\"], [0.2222222222222222, \"#7201a8\"], [0.3333333333333333, \"#9c179e\"], [0.4444444444444444, \"#bd3786\"], [0.5555555555555556, \"#d8576b\"], [0.6666666666666666, \"#ed7953\"], [0.7777777777777778, \"#fb9f3a\"], [0.8888888888888888, \"#fdca26\"], [1.0, \"#f0f921\"]], \"type\": \"surface\"}], \"table\": [{\"cells\": {\"fill\": {\"color\": \"#EBF0F8\"}, \"line\": {\"color\": \"white\"}}, \"header\": {\"fill\": {\"color\": \"#C8D4E3\"}, \"line\": {\"color\": \"white\"}}, \"type\": \"table\"}]}, \"layout\": {\"annotationdefaults\": {\"arrowcolor\": \"#2a3f5f\", \"arrowhead\": 0, \"arrowwidth\": 1}, \"coloraxis\": {\"colorbar\": {\"outlinewidth\": 0, \"ticks\": \"\"}}, \"colorscale\": {\"diverging\": [[0, \"#8e0152\"], [0.1, \"#c51b7d\"], [0.2, \"#de77ae\"], [0.3, \"#f1b6da\"], [0.4, \"#fde0ef\"], [0.5, \"#f7f7f7\"], [0.6, \"#e6f5d0\"], [0.7, \"#b8e186\"], [0.8, \"#7fbc41\"], [0.9, \"#4d9221\"], [1, \"#276419\"]], \"sequential\": [[0.0, \"#0d0887\"], [0.1111111111111111, \"#46039f\"], [0.2222222222222222, \"#7201a8\"], [0.3333333333333333, \"#9c179e\"], [0.4444444444444444, \"#bd3786\"], [0.5555555555555556, \"#d8576b\"], [0.6666666666666666, \"#ed7953\"], [0.7777777777777778, \"#fb9f3a\"], [0.8888888888888888, \"#fdca26\"], [1.0, \"#f0f921\"]], \"sequentialminus\": [[0.0, \"#0d0887\"], [0.1111111111111111, \"#46039f\"], [0.2222222222222222, \"#7201a8\"], [0.3333333333333333, \"#9c179e\"], [0.4444444444444444, \"#bd3786\"], [0.5555555555555556, \"#d8576b\"], [0.6666666666666666, \"#ed7953\"], [0.7777777777777778, \"#fb9f3a\"], [0.8888888888888888, \"#fdca26\"], [1.0, \"#f0f921\"]]}, \"colorway\": [\"#636efa\", \"#EF553B\", \"#00cc96\", \"#ab63fa\", \"#FFA15A\", \"#19d3f3\", \"#FF6692\", \"#B6E880\", \"#FF97FF\", \"#FECB52\"], \"font\": {\"color\": \"#2a3f5f\"}, \"geo\": {\"bgcolor\": \"white\", \"lakecolor\": \"white\", \"landcolor\": \"#E5ECF6\", \"showlakes\": true, \"showland\": true, \"subunitcolor\": \"white\"}, \"hoverlabel\": {\"align\": \"left\"}, \"hovermode\": \"closest\", \"mapbox\": {\"style\": \"light\"}, \"paper_bgcolor\": \"white\", \"plot_bgcolor\": \"#E5ECF6\", \"polar\": {\"angularaxis\": {\"gridcolor\": \"white\", \"linecolor\": \"white\", \"ticks\": \"\"}, \"bgcolor\": \"#E5ECF6\", \"radialaxis\": {\"gridcolor\": \"white\", \"linecolor\": \"white\", \"ticks\": \"\"}}, \"scene\": {\"xaxis\": {\"backgroundcolor\": \"#E5ECF6\", \"gridcolor\": \"white\", \"gridwidth\": 2, \"linecolor\": \"white\", \"showbackground\": true, \"ticks\": \"\", \"zerolinecolor\": \"white\"}, \"yaxis\": {\"backgroundcolor\": \"#E5ECF6\", \"gridcolor\": \"white\", \"gridwidth\": 2, \"linecolor\": \"white\", \"showbackground\": true, \"ticks\": \"\", \"zerolinecolor\": \"white\"}, \"zaxis\": {\"backgroundcolor\": \"#E5ECF6\", \"gridcolor\": \"white\", \"gridwidth\": 2, \"linecolor\": \"white\", \"showbackground\": true, \"ticks\": \"\", \"zerolinecolor\": \"white\"}}, \"shapedefaults\": {\"line\": {\"color\": \"#2a3f5f\"}}, \"ternary\": {\"aaxis\": {\"gridcolor\": \"white\", \"linecolor\": \"white\", \"ticks\": \"\"}, \"baxis\": {\"gridcolor\": \"white\", \"linecolor\": \"white\", \"ticks\": \"\"}, \"bgcolor\": \"#E5ECF6\", \"caxis\": {\"gridcolor\": \"white\", \"linecolor\": \"white\", \"ticks\": \"\"}}, \"title\": {\"x\": 0.05}, \"xaxis\": {\"automargin\": true, \"gridcolor\": \"white\", \"linecolor\": \"white\", \"ticks\": \"\", \"title\": {\"standoff\": 15}, \"zerolinecolor\": \"white\", \"zerolinewidth\": 2}, \"yaxis\": {\"automargin\": true, \"gridcolor\": \"white\", \"linecolor\": \"white\", \"ticks\": \"\", \"title\": {\"standoff\": 15}, \"zerolinecolor\": \"white\", \"zerolinewidth\": 2}}}},                        {\"responsive\": true}                    ).then(function(){\n",
              "                            \n",
              "var gd = document.getElementById('584ab835-705a-40cd-9a39-53accac05d78');\n",
              "var x = new MutationObserver(function (mutations, observer) {{\n",
              "        var display = window.getComputedStyle(gd).display;\n",
              "        if (!display || display === 'none') {{\n",
              "            console.log([gd, 'removed!']);\n",
              "            Plotly.purge(gd);\n",
              "            observer.disconnect();\n",
              "        }}\n",
              "}});\n",
              "\n",
              "// Listen for the removal of the full notebook cells\n",
              "var notebookContainer = gd.closest('#notebook-container');\n",
              "if (notebookContainer) {{\n",
              "    x.observe(notebookContainer, {childList: true});\n",
              "}}\n",
              "\n",
              "// Listen for the clearing of the current output cell\n",
              "var outputEl = gd.closest('.output');\n",
              "if (outputEl) {{\n",
              "    x.observe(outputEl, {childList: true});\n",
              "}}\n",
              "\n",
              "                        })                };                            </script>        </div>\n",
              "</body>\n",
              "</html>"
            ]
          },
          "metadata": {
            "tags": []
          }
        }
      ]
    },
    {
      "cell_type": "markdown",
      "metadata": {
        "id": "6Bb5zvyEajPX"
      },
      "source": [
        "Using below bar graph we can find that, for average unemployment rate  of whole year in each state "
      ]
    },
    {
      "cell_type": "code",
      "metadata": {
        "id": "yDF3Csl7Ax5k",
        "colab": {
          "base_uri": "https://localhost:8080/",
          "height": 542
        },
        "outputId": "9d7b8144-c39f-4da8-ed92-3d82406ce3a8"
      },
      "source": [
        "plot_ump = df1[['Estimated Unemployment Rate','States']]\n",
        "\n",
        "df_unemp = plot_ump.groupby('States').mean().reset_index()\n",
        "\n",
        "df_unemp = df_unemp.sort_values('Estimated Unemployment Rate')\n",
        "\n",
        "fig = px.bar(df_unemp, x='States',y='Estimated Unemployment Rate',color='States',\n",
        "            title='Average Unemployment Rate in each state',template='plotly')\n",
        "\n",
        "fig.show()"
      ],
      "execution_count": null,
      "outputs": [
        {
          "output_type": "display_data",
          "data": {
            "text/html": [
              "<html>\n",
              "<head><meta charset=\"utf-8\" /></head>\n",
              "<body>\n",
              "    <div>            <script src=\"https://cdnjs.cloudflare.com/ajax/libs/mathjax/2.7.5/MathJax.js?config=TeX-AMS-MML_SVG\"></script><script type=\"text/javascript\">if (window.MathJax) {MathJax.Hub.Config({SVG: {font: \"STIX-Web\"}});}</script>                <script type=\"text/javascript\">window.PlotlyConfig = {MathJaxConfig: 'local'};</script>\n",
              "        <script src=\"https://cdn.plot.ly/plotly-latest.min.js\"></script>                <div id=\"56f41ede-34f5-4a6e-91eb-a44a3e3a771f\" class=\"plotly-graph-div\" style=\"height:525px; width:100%;\"></div>            <script type=\"text/javascript\">                                    window.PLOTLYENV=window.PLOTLYENV || {};                                    if (document.getElementById(\"56f41ede-34f5-4a6e-91eb-a44a3e3a771f\")) {                    Plotly.newPlot(                        \"56f41ede-34f5-4a6e-91eb-a44a3e3a771f\",                        [{\"alignmentgroup\": \"True\", \"hovertemplate\": \"States=%{x}<br>Estimated Unemployment Rate=%{y}<extra></extra>\", \"legendgroup\": \"Meghalaya\", \"marker\": {\"color\": \"#636efa\"}, \"name\": \"Meghalaya\", \"offsetgroup\": \"Meghalaya\", \"orientation\": \"v\", \"showlegend\": true, \"textposition\": \"auto\", \"type\": \"bar\", \"x\": [\"Meghalaya\"], \"xaxis\": \"x\", \"y\": [3.8660000000000005], \"yaxis\": \"y\"}, {\"alignmentgroup\": \"True\", \"hovertemplate\": \"States=%{x}<br>Estimated Unemployment Rate=%{y}<extra></extra>\", \"legendgroup\": \"Assam\", \"marker\": {\"color\": \"#EF553B\"}, \"name\": \"Assam\", \"offsetgroup\": \"Assam\", \"orientation\": \"v\", \"showlegend\": true, \"textposition\": \"auto\", \"type\": \"bar\", \"x\": [\"Assam\"], \"xaxis\": \"x\", \"y\": [4.856000000000001], \"yaxis\": \"y\"}, {\"alignmentgroup\": \"True\", \"hovertemplate\": \"States=%{x}<br>Estimated Unemployment Rate=%{y}<extra></extra>\", \"legendgroup\": \"Gujarat\", \"marker\": {\"color\": \"#00cc96\"}, \"name\": \"Gujarat\", \"offsetgroup\": \"Gujarat\", \"orientation\": \"v\", \"showlegend\": true, \"textposition\": \"auto\", \"type\": \"bar\", \"x\": [\"Gujarat\"], \"xaxis\": \"x\", \"y\": [6.376], \"yaxis\": \"y\"}, {\"alignmentgroup\": \"True\", \"hovertemplate\": \"States=%{x}<br>Estimated Unemployment Rate=%{y}<extra></extra>\", \"legendgroup\": \"Odisha\", \"marker\": {\"color\": \"#ab63fa\"}, \"name\": \"Odisha\", \"offsetgroup\": \"Odisha\", \"orientation\": \"v\", \"showlegend\": true, \"textposition\": \"auto\", \"type\": \"bar\", \"x\": [\"Odisha\"], \"xaxis\": \"x\", \"y\": [6.462000000000001], \"yaxis\": \"y\"}, {\"alignmentgroup\": \"True\", \"hovertemplate\": \"States=%{x}<br>Estimated Unemployment Rate=%{y}<extra></extra>\", \"legendgroup\": \"Telangana\", \"marker\": {\"color\": \"#FFA15A\"}, \"name\": \"Telangana\", \"offsetgroup\": \"Telangana\", \"orientation\": \"v\", \"showlegend\": true, \"textposition\": \"auto\", \"type\": \"bar\", \"x\": [\"Telangana\"], \"xaxis\": \"x\", \"y\": [6.833], \"yaxis\": \"y\"}, {\"alignmentgroup\": \"True\", \"hovertemplate\": \"States=%{x}<br>Estimated Unemployment Rate=%{y}<extra></extra>\", \"legendgroup\": \"Madhya Pradesh\", \"marker\": {\"color\": \"#19d3f3\"}, \"name\": \"Madhya Pradesh\", \"offsetgroup\": \"Madhya Pradesh\", \"orientation\": \"v\", \"showlegend\": true, \"textposition\": \"auto\", \"type\": \"bar\", \"x\": [\"Madhya Pradesh\"], \"xaxis\": \"x\", \"y\": [6.853999999999999], \"yaxis\": \"y\"}, {\"alignmentgroup\": \"True\", \"hovertemplate\": \"States=%{x}<br>Estimated Unemployment Rate=%{y}<extra></extra>\", \"legendgroup\": \"Karnataka\", \"marker\": {\"color\": \"#FF6692\"}, \"name\": \"Karnataka\", \"offsetgroup\": \"Karnataka\", \"orientation\": \"v\", \"showlegend\": true, \"textposition\": \"auto\", \"type\": \"bar\", \"x\": [\"Karnataka\"], \"xaxis\": \"x\", \"y\": [7.667999999999999], \"yaxis\": \"y\"}, {\"alignmentgroup\": \"True\", \"hovertemplate\": \"States=%{x}<br>Estimated Unemployment Rate=%{y}<extra></extra>\", \"legendgroup\": \"Chhattisgarh\", \"marker\": {\"color\": \"#B6E880\"}, \"name\": \"Chhattisgarh\", \"offsetgroup\": \"Chhattisgarh\", \"orientation\": \"v\", \"showlegend\": true, \"textposition\": \"auto\", \"type\": \"bar\", \"x\": [\"Chhattisgarh\"], \"xaxis\": \"x\", \"y\": [7.819], \"yaxis\": \"y\"}, {\"alignmentgroup\": \"True\", \"hovertemplate\": \"States=%{x}<br>Estimated Unemployment Rate=%{y}<extra></extra>\", \"legendgroup\": \"Maharashtra\", \"marker\": {\"color\": \"#FF97FF\"}, \"name\": \"Maharashtra\", \"offsetgroup\": \"Maharashtra\", \"orientation\": \"v\", \"showlegend\": true, \"textposition\": \"auto\", \"type\": \"bar\", \"x\": [\"Maharashtra\"], \"xaxis\": \"x\", \"y\": [7.978999999999999], \"yaxis\": \"y\"}, {\"alignmentgroup\": \"True\", \"hovertemplate\": \"States=%{x}<br>Estimated Unemployment Rate=%{y}<extra></extra>\", \"legendgroup\": \"Andhra Pradesh\", \"marker\": {\"color\": \"#FECB52\"}, \"name\": \"Andhra Pradesh\", \"offsetgroup\": \"Andhra Pradesh\", \"orientation\": \"v\", \"showlegend\": true, \"textposition\": \"auto\", \"type\": \"bar\", \"x\": [\"Andhra Pradesh\"], \"xaxis\": \"x\", \"y\": [8.664], \"yaxis\": \"y\"}, {\"alignmentgroup\": \"True\", \"hovertemplate\": \"States=%{x}<br>Estimated Unemployment Rate=%{y}<extra></extra>\", \"legendgroup\": \"Kerala\", \"marker\": {\"color\": \"#636efa\"}, \"name\": \"Kerala\", \"offsetgroup\": \"Kerala\", \"orientation\": \"v\", \"showlegend\": true, \"textposition\": \"auto\", \"type\": \"bar\", \"x\": [\"Kerala\"], \"xaxis\": \"x\", \"y\": [9.434], \"yaxis\": \"y\"}, {\"alignmentgroup\": \"True\", \"hovertemplate\": \"States=%{x}<br>Estimated Unemployment Rate=%{y}<extra></extra>\", \"legendgroup\": \"Uttar Pradesh\", \"marker\": {\"color\": \"#EF553B\"}, \"name\": \"Uttar Pradesh\", \"offsetgroup\": \"Uttar Pradesh\", \"orientation\": \"v\", \"showlegend\": true, \"textposition\": \"auto\", \"type\": \"bar\", \"x\": [\"Uttar Pradesh\"], \"xaxis\": \"x\", \"y\": [9.737], \"yaxis\": \"y\"}, {\"alignmentgroup\": \"True\", \"hovertemplate\": \"States=%{x}<br>Estimated Unemployment Rate=%{y}<extra></extra>\", \"legendgroup\": \"Sikkim\", \"marker\": {\"color\": \"#00cc96\"}, \"name\": \"Sikkim\", \"offsetgroup\": \"Sikkim\", \"orientation\": \"v\", \"showlegend\": true, \"textposition\": \"auto\", \"type\": \"bar\", \"x\": [\"Sikkim\"], \"xaxis\": \"x\", \"y\": [9.7925], \"yaxis\": \"y\"}, {\"alignmentgroup\": \"True\", \"hovertemplate\": \"States=%{x}<br>Estimated Unemployment Rate=%{y}<extra></extra>\", \"legendgroup\": \"West Bengal\", \"marker\": {\"color\": \"#ab63fa\"}, \"name\": \"West Bengal\", \"offsetgroup\": \"West Bengal\", \"orientation\": \"v\", \"showlegend\": true, \"textposition\": \"auto\", \"type\": \"bar\", \"x\": [\"West Bengal\"], \"xaxis\": \"x\", \"y\": [10.192], \"yaxis\": \"y\"}, {\"alignmentgroup\": \"True\", \"hovertemplate\": \"States=%{x}<br>Estimated Unemployment Rate=%{y}<extra></extra>\", \"legendgroup\": \"Uttarakhand\", \"marker\": {\"color\": \"#FFA15A\"}, \"name\": \"Uttarakhand\", \"offsetgroup\": \"Uttarakhand\", \"orientation\": \"v\", \"showlegend\": true, \"textposition\": \"auto\", \"type\": \"bar\", \"x\": [\"Uttarakhand\"], \"xaxis\": \"x\", \"y\": [11.156000000000002], \"yaxis\": \"y\"}, {\"alignmentgroup\": \"True\", \"hovertemplate\": \"States=%{x}<br>Estimated Unemployment Rate=%{y}<extra></extra>\", \"legendgroup\": \"Punjab\", \"marker\": {\"color\": \"#19d3f3\"}, \"name\": \"Punjab\", \"offsetgroup\": \"Punjab\", \"orientation\": \"v\", \"showlegend\": true, \"textposition\": \"auto\", \"type\": \"bar\", \"x\": [\"Punjab\"], \"xaxis\": \"x\", \"y\": [11.980999999999998], \"yaxis\": \"y\"}, {\"alignmentgroup\": \"True\", \"hovertemplate\": \"States=%{x}<br>Estimated Unemployment Rate=%{y}<extra></extra>\", \"legendgroup\": \"Goa\", \"marker\": {\"color\": \"#FF6692\"}, \"name\": \"Goa\", \"offsetgroup\": \"Goa\", \"orientation\": \"v\", \"showlegend\": true, \"textposition\": \"auto\", \"type\": \"bar\", \"x\": [\"Goa\"], \"xaxis\": \"x\", \"y\": [12.166999999999998], \"yaxis\": \"y\"}, {\"alignmentgroup\": \"True\", \"hovertemplate\": \"States=%{x}<br>Estimated Unemployment Rate=%{y}<extra></extra>\", \"legendgroup\": \"Tamil Nadu\", \"marker\": {\"color\": \"#B6E880\"}, \"name\": \"Tamil Nadu\", \"offsetgroup\": \"Tamil Nadu\", \"orientation\": \"v\", \"showlegend\": true, \"textposition\": \"auto\", \"type\": \"bar\", \"x\": [\"Tamil Nadu\"], \"xaxis\": \"x\", \"y\": [12.187000000000001], \"yaxis\": \"y\"}, {\"alignmentgroup\": \"True\", \"hovertemplate\": \"States=%{x}<br>Estimated Unemployment Rate=%{y}<extra></extra>\", \"legendgroup\": \"Rajasthan\", \"marker\": {\"color\": \"#FF97FF\"}, \"name\": \"Rajasthan\", \"offsetgroup\": \"Rajasthan\", \"orientation\": \"v\", \"showlegend\": true, \"textposition\": \"auto\", \"type\": \"bar\", \"x\": [\"Rajasthan\"], \"xaxis\": \"x\", \"y\": [15.868], \"yaxis\": \"y\"}, {\"alignmentgroup\": \"True\", \"hovertemplate\": \"States=%{x}<br>Estimated Unemployment Rate=%{y}<extra></extra>\", \"legendgroup\": \"Himachal Pradesh\", \"marker\": {\"color\": \"#FECB52\"}, \"name\": \"Himachal Pradesh\", \"offsetgroup\": \"Himachal Pradesh\", \"orientation\": \"v\", \"showlegend\": true, \"textposition\": \"auto\", \"type\": \"bar\", \"x\": [\"Himachal Pradesh\"], \"xaxis\": \"x\", \"y\": [16.065], \"yaxis\": \"y\"}, {\"alignmentgroup\": \"True\", \"hovertemplate\": \"States=%{x}<br>Estimated Unemployment Rate=%{y}<extra></extra>\", \"legendgroup\": \"Jammu & Kashmir\", \"marker\": {\"color\": \"#636efa\"}, \"name\": \"Jammu & Kashmir\", \"offsetgroup\": \"Jammu & Kashmir\", \"orientation\": \"v\", \"showlegend\": true, \"textposition\": \"auto\", \"type\": \"bar\", \"x\": [\"Jammu & Kashmir\"], \"xaxis\": \"x\", \"y\": [16.477777777777778], \"yaxis\": \"y\"}, {\"alignmentgroup\": \"True\", \"hovertemplate\": \"States=%{x}<br>Estimated Unemployment Rate=%{y}<extra></extra>\", \"legendgroup\": \"Puducherry\", \"marker\": {\"color\": \"#EF553B\"}, \"name\": \"Puducherry\", \"offsetgroup\": \"Puducherry\", \"orientation\": \"v\", \"showlegend\": true, \"textposition\": \"auto\", \"type\": \"bar\", \"x\": [\"Puducherry\"], \"xaxis\": \"x\", \"y\": [17.942], \"yaxis\": \"y\"}, {\"alignmentgroup\": \"True\", \"hovertemplate\": \"States=%{x}<br>Estimated Unemployment Rate=%{y}<extra></extra>\", \"legendgroup\": \"Delhi\", \"marker\": {\"color\": \"#00cc96\"}, \"name\": \"Delhi\", \"offsetgroup\": \"Delhi\", \"orientation\": \"v\", \"showlegend\": true, \"textposition\": \"auto\", \"type\": \"bar\", \"x\": [\"Delhi\"], \"xaxis\": \"x\", \"y\": [18.414], \"yaxis\": \"y\"}, {\"alignmentgroup\": \"True\", \"hovertemplate\": \"States=%{x}<br>Estimated Unemployment Rate=%{y}<extra></extra>\", \"legendgroup\": \"Bihar\", \"marker\": {\"color\": \"#ab63fa\"}, \"name\": \"Bihar\", \"offsetgroup\": \"Bihar\", \"orientation\": \"v\", \"showlegend\": true, \"textposition\": \"auto\", \"type\": \"bar\", \"x\": [\"Bihar\"], \"xaxis\": \"x\", \"y\": [19.470999999999997], \"yaxis\": \"y\"}, {\"alignmentgroup\": \"True\", \"hovertemplate\": \"States=%{x}<br>Estimated Unemployment Rate=%{y}<extra></extra>\", \"legendgroup\": \"Jharkhand\", \"marker\": {\"color\": \"#FFA15A\"}, \"name\": \"Jharkhand\", \"offsetgroup\": \"Jharkhand\", \"orientation\": \"v\", \"showlegend\": true, \"textposition\": \"auto\", \"type\": \"bar\", \"x\": [\"Jharkhand\"], \"xaxis\": \"x\", \"y\": [19.538999999999998], \"yaxis\": \"y\"}, {\"alignmentgroup\": \"True\", \"hovertemplate\": \"States=%{x}<br>Estimated Unemployment Rate=%{y}<extra></extra>\", \"legendgroup\": \"Tripura\", \"marker\": {\"color\": \"#19d3f3\"}, \"name\": \"Tripura\", \"offsetgroup\": \"Tripura\", \"orientation\": \"v\", \"showlegend\": true, \"textposition\": \"auto\", \"type\": \"bar\", \"x\": [\"Tripura\"], \"xaxis\": \"x\", \"y\": [25.055], \"yaxis\": \"y\"}, {\"alignmentgroup\": \"True\", \"hovertemplate\": \"States=%{x}<br>Estimated Unemployment Rate=%{y}<extra></extra>\", \"legendgroup\": \"Haryana\", \"marker\": {\"color\": \"#FF6692\"}, \"name\": \"Haryana\", \"offsetgroup\": \"Haryana\", \"orientation\": \"v\", \"showlegend\": true, \"textposition\": \"auto\", \"type\": \"bar\", \"x\": [\"Haryana\"], \"xaxis\": \"x\", \"y\": [27.476999999999997], \"yaxis\": \"y\"}],                        {\"barmode\": \"relative\", \"legend\": {\"title\": {\"text\": \"States\"}, \"tracegroupgap\": 0}, \"template\": {\"data\": {\"bar\": [{\"error_x\": {\"color\": \"#2a3f5f\"}, \"error_y\": {\"color\": \"#2a3f5f\"}, \"marker\": {\"line\": {\"color\": \"#E5ECF6\", \"width\": 0.5}}, \"type\": \"bar\"}], \"barpolar\": [{\"marker\": {\"line\": {\"color\": \"#E5ECF6\", \"width\": 0.5}}, \"type\": \"barpolar\"}], \"carpet\": [{\"aaxis\": {\"endlinecolor\": \"#2a3f5f\", \"gridcolor\": \"white\", \"linecolor\": \"white\", \"minorgridcolor\": \"white\", \"startlinecolor\": \"#2a3f5f\"}, \"baxis\": {\"endlinecolor\": \"#2a3f5f\", \"gridcolor\": \"white\", \"linecolor\": \"white\", \"minorgridcolor\": \"white\", \"startlinecolor\": \"#2a3f5f\"}, \"type\": \"carpet\"}], \"choropleth\": [{\"colorbar\": {\"outlinewidth\": 0, \"ticks\": \"\"}, \"type\": \"choropleth\"}], \"contour\": [{\"colorbar\": {\"outlinewidth\": 0, \"ticks\": \"\"}, \"colorscale\": [[0.0, \"#0d0887\"], [0.1111111111111111, \"#46039f\"], [0.2222222222222222, \"#7201a8\"], [0.3333333333333333, \"#9c179e\"], [0.4444444444444444, \"#bd3786\"], [0.5555555555555556, \"#d8576b\"], [0.6666666666666666, \"#ed7953\"], [0.7777777777777778, \"#fb9f3a\"], [0.8888888888888888, \"#fdca26\"], [1.0, \"#f0f921\"]], \"type\": \"contour\"}], \"contourcarpet\": [{\"colorbar\": {\"outlinewidth\": 0, \"ticks\": \"\"}, \"type\": \"contourcarpet\"}], \"heatmap\": [{\"colorbar\": {\"outlinewidth\": 0, \"ticks\": \"\"}, \"colorscale\": [[0.0, \"#0d0887\"], [0.1111111111111111, \"#46039f\"], [0.2222222222222222, \"#7201a8\"], [0.3333333333333333, \"#9c179e\"], [0.4444444444444444, \"#bd3786\"], [0.5555555555555556, \"#d8576b\"], [0.6666666666666666, \"#ed7953\"], [0.7777777777777778, \"#fb9f3a\"], [0.8888888888888888, \"#fdca26\"], [1.0, \"#f0f921\"]], \"type\": \"heatmap\"}], \"heatmapgl\": [{\"colorbar\": {\"outlinewidth\": 0, \"ticks\": \"\"}, \"colorscale\": [[0.0, \"#0d0887\"], [0.1111111111111111, \"#46039f\"], [0.2222222222222222, \"#7201a8\"], [0.3333333333333333, \"#9c179e\"], [0.4444444444444444, \"#bd3786\"], [0.5555555555555556, \"#d8576b\"], [0.6666666666666666, \"#ed7953\"], [0.7777777777777778, \"#fb9f3a\"], [0.8888888888888888, \"#fdca26\"], [1.0, \"#f0f921\"]], \"type\": \"heatmapgl\"}], \"histogram\": [{\"marker\": {\"colorbar\": {\"outlinewidth\": 0, \"ticks\": \"\"}}, \"type\": \"histogram\"}], \"histogram2d\": [{\"colorbar\": {\"outlinewidth\": 0, \"ticks\": \"\"}, \"colorscale\": [[0.0, \"#0d0887\"], [0.1111111111111111, \"#46039f\"], [0.2222222222222222, \"#7201a8\"], [0.3333333333333333, \"#9c179e\"], [0.4444444444444444, \"#bd3786\"], [0.5555555555555556, \"#d8576b\"], [0.6666666666666666, \"#ed7953\"], [0.7777777777777778, \"#fb9f3a\"], [0.8888888888888888, \"#fdca26\"], [1.0, \"#f0f921\"]], \"type\": \"histogram2d\"}], \"histogram2dcontour\": [{\"colorbar\": {\"outlinewidth\": 0, \"ticks\": \"\"}, \"colorscale\": [[0.0, \"#0d0887\"], [0.1111111111111111, \"#46039f\"], [0.2222222222222222, \"#7201a8\"], [0.3333333333333333, \"#9c179e\"], [0.4444444444444444, \"#bd3786\"], [0.5555555555555556, \"#d8576b\"], [0.6666666666666666, \"#ed7953\"], [0.7777777777777778, \"#fb9f3a\"], [0.8888888888888888, \"#fdca26\"], [1.0, \"#f0f921\"]], \"type\": \"histogram2dcontour\"}], \"mesh3d\": [{\"colorbar\": {\"outlinewidth\": 0, \"ticks\": \"\"}, \"type\": \"mesh3d\"}], \"parcoords\": [{\"line\": {\"colorbar\": {\"outlinewidth\": 0, \"ticks\": \"\"}}, \"type\": \"parcoords\"}], \"pie\": [{\"automargin\": true, \"type\": \"pie\"}], \"scatter\": [{\"marker\": {\"colorbar\": {\"outlinewidth\": 0, \"ticks\": \"\"}}, \"type\": \"scatter\"}], \"scatter3d\": [{\"line\": {\"colorbar\": {\"outlinewidth\": 0, \"ticks\": \"\"}}, \"marker\": {\"colorbar\": {\"outlinewidth\": 0, \"ticks\": \"\"}}, \"type\": \"scatter3d\"}], \"scattercarpet\": [{\"marker\": {\"colorbar\": {\"outlinewidth\": 0, \"ticks\": \"\"}}, \"type\": \"scattercarpet\"}], \"scattergeo\": [{\"marker\": {\"colorbar\": {\"outlinewidth\": 0, \"ticks\": \"\"}}, \"type\": \"scattergeo\"}], \"scattergl\": [{\"marker\": {\"colorbar\": {\"outlinewidth\": 0, \"ticks\": \"\"}}, \"type\": \"scattergl\"}], \"scattermapbox\": [{\"marker\": {\"colorbar\": {\"outlinewidth\": 0, \"ticks\": \"\"}}, \"type\": \"scattermapbox\"}], \"scatterpolar\": [{\"marker\": {\"colorbar\": {\"outlinewidth\": 0, \"ticks\": \"\"}}, \"type\": \"scatterpolar\"}], \"scatterpolargl\": [{\"marker\": {\"colorbar\": {\"outlinewidth\": 0, \"ticks\": \"\"}}, \"type\": \"scatterpolargl\"}], \"scatterternary\": [{\"marker\": {\"colorbar\": {\"outlinewidth\": 0, \"ticks\": \"\"}}, \"type\": \"scatterternary\"}], \"surface\": [{\"colorbar\": {\"outlinewidth\": 0, \"ticks\": \"\"}, \"colorscale\": [[0.0, \"#0d0887\"], [0.1111111111111111, \"#46039f\"], [0.2222222222222222, \"#7201a8\"], [0.3333333333333333, \"#9c179e\"], [0.4444444444444444, \"#bd3786\"], [0.5555555555555556, \"#d8576b\"], [0.6666666666666666, \"#ed7953\"], [0.7777777777777778, \"#fb9f3a\"], [0.8888888888888888, \"#fdca26\"], [1.0, \"#f0f921\"]], \"type\": \"surface\"}], \"table\": [{\"cells\": {\"fill\": {\"color\": \"#EBF0F8\"}, \"line\": {\"color\": \"white\"}}, \"header\": {\"fill\": {\"color\": \"#C8D4E3\"}, \"line\": {\"color\": \"white\"}}, \"type\": \"table\"}]}, \"layout\": {\"annotationdefaults\": {\"arrowcolor\": \"#2a3f5f\", \"arrowhead\": 0, \"arrowwidth\": 1}, \"coloraxis\": {\"colorbar\": {\"outlinewidth\": 0, \"ticks\": \"\"}}, \"colorscale\": {\"diverging\": [[0, \"#8e0152\"], [0.1, \"#c51b7d\"], [0.2, \"#de77ae\"], [0.3, \"#f1b6da\"], [0.4, \"#fde0ef\"], [0.5, \"#f7f7f7\"], [0.6, \"#e6f5d0\"], [0.7, \"#b8e186\"], [0.8, \"#7fbc41\"], [0.9, \"#4d9221\"], [1, \"#276419\"]], \"sequential\": [[0.0, \"#0d0887\"], [0.1111111111111111, \"#46039f\"], [0.2222222222222222, \"#7201a8\"], [0.3333333333333333, \"#9c179e\"], [0.4444444444444444, \"#bd3786\"], [0.5555555555555556, \"#d8576b\"], [0.6666666666666666, \"#ed7953\"], [0.7777777777777778, \"#fb9f3a\"], [0.8888888888888888, \"#fdca26\"], [1.0, \"#f0f921\"]], \"sequentialminus\": [[0.0, \"#0d0887\"], [0.1111111111111111, \"#46039f\"], [0.2222222222222222, \"#7201a8\"], [0.3333333333333333, \"#9c179e\"], [0.4444444444444444, \"#bd3786\"], [0.5555555555555556, \"#d8576b\"], [0.6666666666666666, \"#ed7953\"], [0.7777777777777778, \"#fb9f3a\"], [0.8888888888888888, \"#fdca26\"], [1.0, \"#f0f921\"]]}, \"colorway\": [\"#636efa\", \"#EF553B\", \"#00cc96\", \"#ab63fa\", \"#FFA15A\", \"#19d3f3\", \"#FF6692\", \"#B6E880\", \"#FF97FF\", \"#FECB52\"], \"font\": {\"color\": \"#2a3f5f\"}, \"geo\": {\"bgcolor\": \"white\", \"lakecolor\": \"white\", \"landcolor\": \"#E5ECF6\", \"showlakes\": true, \"showland\": true, \"subunitcolor\": \"white\"}, \"hoverlabel\": {\"align\": \"left\"}, \"hovermode\": \"closest\", \"mapbox\": {\"style\": \"light\"}, \"paper_bgcolor\": \"white\", \"plot_bgcolor\": \"#E5ECF6\", \"polar\": {\"angularaxis\": {\"gridcolor\": \"white\", \"linecolor\": \"white\", \"ticks\": \"\"}, \"bgcolor\": \"#E5ECF6\", \"radialaxis\": {\"gridcolor\": \"white\", \"linecolor\": \"white\", \"ticks\": \"\"}}, \"scene\": {\"xaxis\": {\"backgroundcolor\": \"#E5ECF6\", \"gridcolor\": \"white\", \"gridwidth\": 2, \"linecolor\": \"white\", \"showbackground\": true, \"ticks\": \"\", \"zerolinecolor\": \"white\"}, \"yaxis\": {\"backgroundcolor\": \"#E5ECF6\", \"gridcolor\": \"white\", \"gridwidth\": 2, \"linecolor\": \"white\", \"showbackground\": true, \"ticks\": \"\", \"zerolinecolor\": \"white\"}, \"zaxis\": {\"backgroundcolor\": \"#E5ECF6\", \"gridcolor\": \"white\", \"gridwidth\": 2, \"linecolor\": \"white\", \"showbackground\": true, \"ticks\": \"\", \"zerolinecolor\": \"white\"}}, \"shapedefaults\": {\"line\": {\"color\": \"#2a3f5f\"}}, \"ternary\": {\"aaxis\": {\"gridcolor\": \"white\", \"linecolor\": \"white\", \"ticks\": \"\"}, \"baxis\": {\"gridcolor\": \"white\", \"linecolor\": \"white\", \"ticks\": \"\"}, \"bgcolor\": \"#E5ECF6\", \"caxis\": {\"gridcolor\": \"white\", \"linecolor\": \"white\", \"ticks\": \"\"}}, \"title\": {\"x\": 0.05}, \"xaxis\": {\"automargin\": true, \"gridcolor\": \"white\", \"linecolor\": \"white\", \"ticks\": \"\", \"title\": {\"standoff\": 15}, \"zerolinecolor\": \"white\", \"zerolinewidth\": 2}, \"yaxis\": {\"automargin\": true, \"gridcolor\": \"white\", \"linecolor\": \"white\", \"ticks\": \"\", \"title\": {\"standoff\": 15}, \"zerolinecolor\": \"white\", \"zerolinewidth\": 2}}}, \"title\": {\"text\": \"Average Unemployment Rate in each state\"}, \"xaxis\": {\"anchor\": \"y\", \"categoryarray\": [\"Meghalaya\", \"Assam\", \"Gujarat\", \"Odisha\", \"Telangana\", \"Madhya Pradesh\", \"Karnataka\", \"Chhattisgarh\", \"Maharashtra\", \"Andhra Pradesh\", \"Kerala\", \"Uttar Pradesh\", \"Sikkim\", \"West Bengal\", \"Uttarakhand\", \"Punjab\", \"Goa\", \"Tamil Nadu\", \"Rajasthan\", \"Himachal Pradesh\", \"Jammu & Kashmir\", \"Puducherry\", \"Delhi\", \"Bihar\", \"Jharkhand\", \"Tripura\", \"Haryana\"], \"categoryorder\": \"array\", \"domain\": [0.0, 1.0], \"title\": {\"text\": \"States\"}}, \"yaxis\": {\"anchor\": \"x\", \"domain\": [0.0, 1.0], \"title\": {\"text\": \"Estimated Unemployment Rate\"}}},                        {\"responsive\": true}                    ).then(function(){\n",
              "                            \n",
              "var gd = document.getElementById('56f41ede-34f5-4a6e-91eb-a44a3e3a771f');\n",
              "var x = new MutationObserver(function (mutations, observer) {{\n",
              "        var display = window.getComputedStyle(gd).display;\n",
              "        if (!display || display === 'none') {{\n",
              "            console.log([gd, 'removed!']);\n",
              "            Plotly.purge(gd);\n",
              "            observer.disconnect();\n",
              "        }}\n",
              "}});\n",
              "\n",
              "// Listen for the removal of the full notebook cells\n",
              "var notebookContainer = gd.closest('#notebook-container');\n",
              "if (notebookContainer) {{\n",
              "    x.observe(notebookContainer, {childList: true});\n",
              "}}\n",
              "\n",
              "// Listen for the clearing of the current output cell\n",
              "var outputEl = gd.closest('.output');\n",
              "if (outputEl) {{\n",
              "    x.observe(outputEl, {childList: true});\n",
              "}}\n",
              "\n",
              "                        })                };                            </script>        </div>\n",
              "</body>\n",
              "</html>"
            ]
          },
          "metadata": {
            "tags": []
          }
        }
      ]
    },
    {
      "cell_type": "markdown",
      "metadata": {
        "id": "lbXbWJuBbKPB"
      },
      "source": [
        "In below presentation, we easily see the comparison between region and state & different months of an year"
      ]
    },
    {
      "cell_type": "code",
      "metadata": {
        "id": "N3geMZ7sA4MC",
        "colab": {
          "base_uri": "https://localhost:8080/",
          "height": 717
        },
        "outputId": "db7f98fb-fb91-4c38-d50c-2380255aabf5"
      },
      "source": [
        "fig = px.bar(df1, x='Region',y='Estimated Unemployment Rate',animation_frame = 'Month_name',color='States',\n",
        "            title='Unemployment rate across region from Jan.2020 to Oct.2020', height=700,template='plotly')\n",
        "\n",
        "fig.update_layout(xaxis={'categoryorder':'total descending'})\n",
        "\n",
        "fig.layout.updatemenus[0].buttons[0].args[1][\"frame\"][\"duration\"] = 2000\n",
        "\n",
        "fig.show()"
      ],
      "execution_count": null,
      "outputs": [
        {
          "output_type": "display_data",
          "data": {
            "text/html": [
              "<html>\n",
              "<head><meta charset=\"utf-8\" /></head>\n",
              "<body>\n",
              "    <div>            <script src=\"https://cdnjs.cloudflare.com/ajax/libs/mathjax/2.7.5/MathJax.js?config=TeX-AMS-MML_SVG\"></script><script type=\"text/javascript\">if (window.MathJax) {MathJax.Hub.Config({SVG: {font: \"STIX-Web\"}});}</script>                <script type=\"text/javascript\">window.PlotlyConfig = {MathJaxConfig: 'local'};</script>\n",
              "        <script src=\"https://cdn.plot.ly/plotly-latest.min.js\"></script>                <div id=\"352e33c5-aef9-403c-aec9-e282f2c581ab\" class=\"plotly-graph-div\" style=\"height:700px; width:100%;\"></div>            <script type=\"text/javascript\">                                    window.PLOTLYENV=window.PLOTLYENV || {};                                    if (document.getElementById(\"352e33c5-aef9-403c-aec9-e282f2c581ab\")) {                    Plotly.newPlot(                        \"352e33c5-aef9-403c-aec9-e282f2c581ab\",                        [{\"alignmentgroup\": \"True\", \"hovertemplate\": \"States=Andhra Pradesh<br>Month_name=Jan<br>Region=%{x}<br>Estimated Unemployment Rate=%{y}<extra></extra>\", \"legendgroup\": \"Andhra Pradesh\", \"marker\": {\"color\": \"#636efa\"}, \"name\": \"Andhra Pradesh\", \"offsetgroup\": \"Andhra Pradesh\", \"orientation\": \"v\", \"showlegend\": true, \"textposition\": \"auto\", \"type\": \"bar\", \"x\": [\"South\"], \"xaxis\": \"x\", \"y\": [5.48], \"yaxis\": \"y\"}, {\"alignmentgroup\": \"True\", \"hovertemplate\": \"States=Assam<br>Month_name=Jan<br>Region=%{x}<br>Estimated Unemployment Rate=%{y}<extra></extra>\", \"legendgroup\": \"Assam\", \"marker\": {\"color\": \"#EF553B\"}, \"name\": \"Assam\", \"offsetgroup\": \"Assam\", \"orientation\": \"v\", \"showlegend\": true, \"textposition\": \"auto\", \"type\": \"bar\", \"x\": [\"Northeast\"], \"xaxis\": \"x\", \"y\": [4.66], \"yaxis\": \"y\"}, {\"alignmentgroup\": \"True\", \"hovertemplate\": \"States=Bihar<br>Month_name=Jan<br>Region=%{x}<br>Estimated Unemployment Rate=%{y}<extra></extra>\", \"legendgroup\": \"Bihar\", \"marker\": {\"color\": \"#00cc96\"}, \"name\": \"Bihar\", \"offsetgroup\": \"Bihar\", \"orientation\": \"v\", \"showlegend\": true, \"textposition\": \"auto\", \"type\": \"bar\", \"x\": [\"East\"], \"xaxis\": \"x\", \"y\": [10.61], \"yaxis\": \"y\"}, {\"alignmentgroup\": \"True\", \"hovertemplate\": \"States=Chhattisgarh<br>Month_name=Jan<br>Region=%{x}<br>Estimated Unemployment Rate=%{y}<extra></extra>\", \"legendgroup\": \"Chhattisgarh\", \"marker\": {\"color\": \"#ab63fa\"}, \"name\": \"Chhattisgarh\", \"offsetgroup\": \"Chhattisgarh\", \"orientation\": \"v\", \"showlegend\": true, \"textposition\": \"auto\", \"type\": \"bar\", \"x\": [\"West\"], \"xaxis\": \"x\", \"y\": [9.65], \"yaxis\": \"y\"}, {\"alignmentgroup\": \"True\", \"hovertemplate\": \"States=Delhi<br>Month_name=Jan<br>Region=%{x}<br>Estimated Unemployment Rate=%{y}<extra></extra>\", \"legendgroup\": \"Delhi\", \"marker\": {\"color\": \"#FFA15A\"}, \"name\": \"Delhi\", \"offsetgroup\": \"Delhi\", \"orientation\": \"v\", \"showlegend\": true, \"textposition\": \"auto\", \"type\": \"bar\", \"x\": [\"North\"], \"xaxis\": \"x\", \"y\": [22.23], \"yaxis\": \"y\"}, {\"alignmentgroup\": \"True\", \"hovertemplate\": \"States=Goa<br>Month_name=Jan<br>Region=%{x}<br>Estimated Unemployment Rate=%{y}<extra></extra>\", \"legendgroup\": \"Goa\", \"marker\": {\"color\": \"#19d3f3\"}, \"name\": \"Goa\", \"offsetgroup\": \"Goa\", \"orientation\": \"v\", \"showlegend\": true, \"textposition\": \"auto\", \"type\": \"bar\", \"x\": [\"West\"], \"xaxis\": \"x\", \"y\": [8.89], \"yaxis\": \"y\"}, {\"alignmentgroup\": \"True\", \"hovertemplate\": \"States=Gujarat<br>Month_name=Jan<br>Region=%{x}<br>Estimated Unemployment Rate=%{y}<extra></extra>\", \"legendgroup\": \"Gujarat\", \"marker\": {\"color\": \"#FF6692\"}, \"name\": \"Gujarat\", \"offsetgroup\": \"Gujarat\", \"orientation\": \"v\", \"showlegend\": true, \"textposition\": \"auto\", \"type\": \"bar\", \"x\": [\"West\"], \"xaxis\": \"x\", \"y\": [5.54], \"yaxis\": \"y\"}, {\"alignmentgroup\": \"True\", \"hovertemplate\": \"States=Haryana<br>Month_name=Jan<br>Region=%{x}<br>Estimated Unemployment Rate=%{y}<extra></extra>\", \"legendgroup\": \"Haryana\", \"marker\": {\"color\": \"#B6E880\"}, \"name\": \"Haryana\", \"offsetgroup\": \"Haryana\", \"orientation\": \"v\", \"showlegend\": true, \"textposition\": \"auto\", \"type\": \"bar\", \"x\": [\"North\"], \"xaxis\": \"x\", \"y\": [20.34], \"yaxis\": \"y\"}, {\"alignmentgroup\": \"True\", \"hovertemplate\": \"States=Himachal Pradesh<br>Month_name=Jan<br>Region=%{x}<br>Estimated Unemployment Rate=%{y}<extra></extra>\", \"legendgroup\": \"Himachal Pradesh\", \"marker\": {\"color\": \"#FF97FF\"}, \"name\": \"Himachal Pradesh\", \"offsetgroup\": \"Himachal Pradesh\", \"orientation\": \"v\", \"showlegend\": true, \"textposition\": \"auto\", \"type\": \"bar\", \"x\": [\"North\"], \"xaxis\": \"x\", \"y\": [16.83], \"yaxis\": \"y\"}, {\"alignmentgroup\": \"True\", \"hovertemplate\": \"States=Jammu & Kashmir<br>Month_name=Jan<br>Region=%{x}<br>Estimated Unemployment Rate=%{y}<extra></extra>\", \"legendgroup\": \"Jammu & Kashmir\", \"marker\": {\"color\": \"#FECB52\"}, \"name\": \"Jammu & Kashmir\", \"offsetgroup\": \"Jammu & Kashmir\", \"orientation\": \"v\", \"showlegend\": true, \"textposition\": \"auto\", \"type\": \"bar\", \"x\": [\"North\"], \"xaxis\": \"x\", \"y\": [21.08], \"yaxis\": \"y\"}, {\"alignmentgroup\": \"True\", \"hovertemplate\": \"States=Jharkhand<br>Month_name=Jan<br>Region=%{x}<br>Estimated Unemployment Rate=%{y}<extra></extra>\", \"legendgroup\": \"Jharkhand\", \"marker\": {\"color\": \"#636efa\"}, \"name\": \"Jharkhand\", \"offsetgroup\": \"Jharkhand\", \"orientation\": \"v\", \"showlegend\": true, \"textposition\": \"auto\", \"type\": \"bar\", \"x\": [\"East\"], \"xaxis\": \"x\", \"y\": [10.61], \"yaxis\": \"y\"}, {\"alignmentgroup\": \"True\", \"hovertemplate\": \"States=Karnataka<br>Month_name=Jan<br>Region=%{x}<br>Estimated Unemployment Rate=%{y}<extra></extra>\", \"legendgroup\": \"Karnataka\", \"marker\": {\"color\": \"#EF553B\"}, \"name\": \"Karnataka\", \"offsetgroup\": \"Karnataka\", \"orientation\": \"v\", \"showlegend\": true, \"textposition\": \"auto\", \"type\": \"bar\", \"x\": [\"South\"], \"xaxis\": \"x\", \"y\": [2.86], \"yaxis\": \"y\"}, {\"alignmentgroup\": \"True\", \"hovertemplate\": \"States=Kerala<br>Month_name=Jan<br>Region=%{x}<br>Estimated Unemployment Rate=%{y}<extra></extra>\", \"legendgroup\": \"Kerala\", \"marker\": {\"color\": \"#00cc96\"}, \"name\": \"Kerala\", \"offsetgroup\": \"Kerala\", \"orientation\": \"v\", \"showlegend\": true, \"textposition\": \"auto\", \"type\": \"bar\", \"x\": [\"South\"], \"xaxis\": \"x\", \"y\": [5.31], \"yaxis\": \"y\"}, {\"alignmentgroup\": \"True\", \"hovertemplate\": \"States=Madhya Pradesh<br>Month_name=Jan<br>Region=%{x}<br>Estimated Unemployment Rate=%{y}<extra></extra>\", \"legendgroup\": \"Madhya Pradesh\", \"marker\": {\"color\": \"#ab63fa\"}, \"name\": \"Madhya Pradesh\", \"offsetgroup\": \"Madhya Pradesh\", \"orientation\": \"v\", \"showlegend\": true, \"textposition\": \"auto\", \"type\": \"bar\", \"x\": [\"West\"], \"xaxis\": \"x\", \"y\": [4.11], \"yaxis\": \"y\"}, {\"alignmentgroup\": \"True\", \"hovertemplate\": \"States=Maharashtra<br>Month_name=Jan<br>Region=%{x}<br>Estimated Unemployment Rate=%{y}<extra></extra>\", \"legendgroup\": \"Maharashtra\", \"marker\": {\"color\": \"#FFA15A\"}, \"name\": \"Maharashtra\", \"offsetgroup\": \"Maharashtra\", \"orientation\": \"v\", \"showlegend\": true, \"textposition\": \"auto\", \"type\": \"bar\", \"x\": [\"West\"], \"xaxis\": \"x\", \"y\": [4.95], \"yaxis\": \"y\"}, {\"alignmentgroup\": \"True\", \"hovertemplate\": \"States=Meghalaya<br>Month_name=Jan<br>Region=%{x}<br>Estimated Unemployment Rate=%{y}<extra></extra>\", \"legendgroup\": \"Meghalaya\", \"marker\": {\"color\": \"#19d3f3\"}, \"name\": \"Meghalaya\", \"offsetgroup\": \"Meghalaya\", \"orientation\": \"v\", \"showlegend\": true, \"textposition\": \"auto\", \"type\": \"bar\", \"x\": [\"Northeast\"], \"xaxis\": \"x\", \"y\": [1.66], \"yaxis\": \"y\"}, {\"alignmentgroup\": \"True\", \"hovertemplate\": \"States=Odisha<br>Month_name=Jan<br>Region=%{x}<br>Estimated Unemployment Rate=%{y}<extra></extra>\", \"legendgroup\": \"Odisha\", \"marker\": {\"color\": \"#FF6692\"}, \"name\": \"Odisha\", \"offsetgroup\": \"Odisha\", \"orientation\": \"v\", \"showlegend\": true, \"textposition\": \"auto\", \"type\": \"bar\", \"x\": [\"East\"], \"xaxis\": \"x\", \"y\": [1.9], \"yaxis\": \"y\"}, {\"alignmentgroup\": \"True\", \"hovertemplate\": \"States=Puducherry<br>Month_name=Jan<br>Region=%{x}<br>Estimated Unemployment Rate=%{y}<extra></extra>\", \"legendgroup\": \"Puducherry\", \"marker\": {\"color\": \"#B6E880\"}, \"name\": \"Puducherry\", \"offsetgroup\": \"Puducherry\", \"orientation\": \"v\", \"showlegend\": true, \"textposition\": \"auto\", \"type\": \"bar\", \"x\": [\"South\"], \"xaxis\": \"x\", \"y\": [0.58], \"yaxis\": \"y\"}, {\"alignmentgroup\": \"True\", \"hovertemplate\": \"States=Punjab<br>Month_name=Jan<br>Region=%{x}<br>Estimated Unemployment Rate=%{y}<extra></extra>\", \"legendgroup\": \"Punjab\", \"marker\": {\"color\": \"#FF97FF\"}, \"name\": \"Punjab\", \"offsetgroup\": \"Punjab\", \"orientation\": \"v\", \"showlegend\": true, \"textposition\": \"auto\", \"type\": \"bar\", \"x\": [\"North\"], \"xaxis\": \"x\", \"y\": [11.11], \"yaxis\": \"y\"}, {\"alignmentgroup\": \"True\", \"hovertemplate\": \"States=Rajasthan<br>Month_name=Jan<br>Region=%{x}<br>Estimated Unemployment Rate=%{y}<extra></extra>\", \"legendgroup\": \"Rajasthan\", \"marker\": {\"color\": \"#FECB52\"}, \"name\": \"Rajasthan\", \"offsetgroup\": \"Rajasthan\", \"orientation\": \"v\", \"showlegend\": true, \"textposition\": \"auto\", \"type\": \"bar\", \"x\": [\"North\"], \"xaxis\": \"x\", \"y\": [10.97], \"yaxis\": \"y\"}, {\"alignmentgroup\": \"True\", \"hovertemplate\": \"States=Tamil Nadu<br>Month_name=Jan<br>Region=%{x}<br>Estimated Unemployment Rate=%{y}<extra></extra>\", \"legendgroup\": \"Tamil Nadu\", \"marker\": {\"color\": \"#EF553B\"}, \"name\": \"Tamil Nadu\", \"offsetgroup\": \"Tamil Nadu\", \"orientation\": \"v\", \"showlegend\": true, \"textposition\": \"auto\", \"type\": \"bar\", \"x\": [\"South\"], \"xaxis\": \"x\", \"y\": [1.57], \"yaxis\": \"y\"}, {\"alignmentgroup\": \"True\", \"hovertemplate\": \"States=Telangana<br>Month_name=Jan<br>Region=%{x}<br>Estimated Unemployment Rate=%{y}<extra></extra>\", \"legendgroup\": \"Telangana\", \"marker\": {\"color\": \"#00cc96\"}, \"name\": \"Telangana\", \"offsetgroup\": \"Telangana\", \"orientation\": \"v\", \"showlegend\": true, \"textposition\": \"auto\", \"type\": \"bar\", \"x\": [\"South\"], \"xaxis\": \"x\", \"y\": [5.49], \"yaxis\": \"y\"}, {\"alignmentgroup\": \"True\", \"hovertemplate\": \"States=Tripura<br>Month_name=Jan<br>Region=%{x}<br>Estimated Unemployment Rate=%{y}<extra></extra>\", \"legendgroup\": \"Tripura\", \"marker\": {\"color\": \"#ab63fa\"}, \"name\": \"Tripura\", \"offsetgroup\": \"Tripura\", \"orientation\": \"v\", \"showlegend\": true, \"textposition\": \"auto\", \"type\": \"bar\", \"x\": [\"Northeast\"], \"xaxis\": \"x\", \"y\": [32.67], \"yaxis\": \"y\"}, {\"alignmentgroup\": \"True\", \"hovertemplate\": \"States=Uttar Pradesh<br>Month_name=Jan<br>Region=%{x}<br>Estimated Unemployment Rate=%{y}<extra></extra>\", \"legendgroup\": \"Uttar Pradesh\", \"marker\": {\"color\": \"#FFA15A\"}, \"name\": \"Uttar Pradesh\", \"offsetgroup\": \"Uttar Pradesh\", \"orientation\": \"v\", \"showlegend\": true, \"textposition\": \"auto\", \"type\": \"bar\", \"x\": [\"North\"], \"xaxis\": \"x\", \"y\": [7.58], \"yaxis\": \"y\"}, {\"alignmentgroup\": \"True\", \"hovertemplate\": \"States=Uttarakhand<br>Month_name=Jan<br>Region=%{x}<br>Estimated Unemployment Rate=%{y}<extra></extra>\", \"legendgroup\": \"Uttarakhand\", \"marker\": {\"color\": \"#19d3f3\"}, \"name\": \"Uttarakhand\", \"offsetgroup\": \"Uttarakhand\", \"orientation\": \"v\", \"showlegend\": true, \"textposition\": \"auto\", \"type\": \"bar\", \"x\": [\"North\"], \"xaxis\": \"x\", \"y\": [5.49], \"yaxis\": \"y\"}, {\"alignmentgroup\": \"True\", \"hovertemplate\": \"States=West Bengal<br>Month_name=Jan<br>Region=%{x}<br>Estimated Unemployment Rate=%{y}<extra></extra>\", \"legendgroup\": \"West Bengal\", \"marker\": {\"color\": \"#FF6692\"}, \"name\": \"West Bengal\", \"offsetgroup\": \"West Bengal\", \"orientation\": \"v\", \"showlegend\": true, \"textposition\": \"auto\", \"type\": \"bar\", \"x\": [\"East\"], \"xaxis\": \"x\", \"y\": [6.94], \"yaxis\": \"y\"}],                        {\"barmode\": \"relative\", \"height\": 700, \"legend\": {\"title\": {\"text\": \"States\"}, \"tracegroupgap\": 0}, \"sliders\": [{\"active\": 0, \"currentvalue\": {\"prefix\": \"Month_name=\"}, \"len\": 0.9, \"pad\": {\"b\": 10, \"t\": 60}, \"steps\": [{\"args\": [[\"Jan\"], {\"frame\": {\"duration\": 0, \"redraw\": true}, \"fromcurrent\": true, \"mode\": \"immediate\", \"transition\": {\"duration\": 0, \"easing\": \"linear\"}}], \"label\": \"Jan\", \"method\": \"animate\"}, {\"args\": [[\"Feb\"], {\"frame\": {\"duration\": 0, \"redraw\": true}, \"fromcurrent\": true, \"mode\": \"immediate\", \"transition\": {\"duration\": 0, \"easing\": \"linear\"}}], \"label\": \"Feb\", \"method\": \"animate\"}, {\"args\": [[\"Mar\"], {\"frame\": {\"duration\": 0, \"redraw\": true}, \"fromcurrent\": true, \"mode\": \"immediate\", \"transition\": {\"duration\": 0, \"easing\": \"linear\"}}], \"label\": \"Mar\", \"method\": \"animate\"}, {\"args\": [[\"Apr\"], {\"frame\": {\"duration\": 0, \"redraw\": true}, \"fromcurrent\": true, \"mode\": \"immediate\", \"transition\": {\"duration\": 0, \"easing\": \"linear\"}}], \"label\": \"Apr\", \"method\": \"animate\"}, {\"args\": [[\"May\"], {\"frame\": {\"duration\": 0, \"redraw\": true}, \"fromcurrent\": true, \"mode\": \"immediate\", \"transition\": {\"duration\": 0, \"easing\": \"linear\"}}], \"label\": \"May\", \"method\": \"animate\"}, {\"args\": [[\"Jun\"], {\"frame\": {\"duration\": 0, \"redraw\": true}, \"fromcurrent\": true, \"mode\": \"immediate\", \"transition\": {\"duration\": 0, \"easing\": \"linear\"}}], \"label\": \"Jun\", \"method\": \"animate\"}, {\"args\": [[\"Jul\"], {\"frame\": {\"duration\": 0, \"redraw\": true}, \"fromcurrent\": true, \"mode\": \"immediate\", \"transition\": {\"duration\": 0, \"easing\": \"linear\"}}], \"label\": \"Jul\", \"method\": \"animate\"}, {\"args\": [[\"Aug\"], {\"frame\": {\"duration\": 0, \"redraw\": true}, \"fromcurrent\": true, \"mode\": \"immediate\", \"transition\": {\"duration\": 0, \"easing\": \"linear\"}}], \"label\": \"Aug\", \"method\": \"animate\"}, {\"args\": [[\"Sep\"], {\"frame\": {\"duration\": 0, \"redraw\": true}, \"fromcurrent\": true, \"mode\": \"immediate\", \"transition\": {\"duration\": 0, \"easing\": \"linear\"}}], \"label\": \"Sep\", \"method\": \"animate\"}, {\"args\": [[\"Oct\"], {\"frame\": {\"duration\": 0, \"redraw\": true}, \"fromcurrent\": true, \"mode\": \"immediate\", \"transition\": {\"duration\": 0, \"easing\": \"linear\"}}], \"label\": \"Oct\", \"method\": \"animate\"}], \"x\": 0.1, \"xanchor\": \"left\", \"y\": 0, \"yanchor\": \"top\"}], \"template\": {\"data\": {\"bar\": [{\"error_x\": {\"color\": \"#2a3f5f\"}, \"error_y\": {\"color\": \"#2a3f5f\"}, \"marker\": {\"line\": {\"color\": \"#E5ECF6\", \"width\": 0.5}}, \"type\": \"bar\"}], \"barpolar\": [{\"marker\": {\"line\": {\"color\": \"#E5ECF6\", \"width\": 0.5}}, \"type\": \"barpolar\"}], \"carpet\": [{\"aaxis\": {\"endlinecolor\": \"#2a3f5f\", \"gridcolor\": \"white\", \"linecolor\": \"white\", \"minorgridcolor\": \"white\", \"startlinecolor\": \"#2a3f5f\"}, \"baxis\": {\"endlinecolor\": \"#2a3f5f\", \"gridcolor\": \"white\", \"linecolor\": \"white\", \"minorgridcolor\": \"white\", \"startlinecolor\": \"#2a3f5f\"}, \"type\": \"carpet\"}], \"choropleth\": [{\"colorbar\": {\"outlinewidth\": 0, \"ticks\": \"\"}, \"type\": \"choropleth\"}], \"contour\": [{\"colorbar\": {\"outlinewidth\": 0, \"ticks\": \"\"}, \"colorscale\": [[0.0, \"#0d0887\"], [0.1111111111111111, \"#46039f\"], [0.2222222222222222, \"#7201a8\"], [0.3333333333333333, \"#9c179e\"], [0.4444444444444444, \"#bd3786\"], [0.5555555555555556, \"#d8576b\"], [0.6666666666666666, \"#ed7953\"], [0.7777777777777778, \"#fb9f3a\"], [0.8888888888888888, \"#fdca26\"], [1.0, \"#f0f921\"]], \"type\": \"contour\"}], \"contourcarpet\": [{\"colorbar\": {\"outlinewidth\": 0, \"ticks\": \"\"}, \"type\": \"contourcarpet\"}], \"heatmap\": [{\"colorbar\": {\"outlinewidth\": 0, \"ticks\": \"\"}, \"colorscale\": [[0.0, \"#0d0887\"], [0.1111111111111111, \"#46039f\"], [0.2222222222222222, \"#7201a8\"], [0.3333333333333333, \"#9c179e\"], [0.4444444444444444, \"#bd3786\"], [0.5555555555555556, \"#d8576b\"], [0.6666666666666666, \"#ed7953\"], [0.7777777777777778, \"#fb9f3a\"], [0.8888888888888888, \"#fdca26\"], [1.0, \"#f0f921\"]], \"type\": \"heatmap\"}], \"heatmapgl\": [{\"colorbar\": {\"outlinewidth\": 0, \"ticks\": \"\"}, \"colorscale\": [[0.0, \"#0d0887\"], [0.1111111111111111, \"#46039f\"], [0.2222222222222222, \"#7201a8\"], [0.3333333333333333, \"#9c179e\"], [0.4444444444444444, \"#bd3786\"], [0.5555555555555556, \"#d8576b\"], [0.6666666666666666, \"#ed7953\"], [0.7777777777777778, \"#fb9f3a\"], [0.8888888888888888, \"#fdca26\"], [1.0, \"#f0f921\"]], \"type\": \"heatmapgl\"}], \"histogram\": [{\"marker\": {\"colorbar\": {\"outlinewidth\": 0, \"ticks\": \"\"}}, \"type\": \"histogram\"}], \"histogram2d\": [{\"colorbar\": {\"outlinewidth\": 0, \"ticks\": \"\"}, \"colorscale\": [[0.0, \"#0d0887\"], [0.1111111111111111, \"#46039f\"], [0.2222222222222222, \"#7201a8\"], [0.3333333333333333, \"#9c179e\"], [0.4444444444444444, \"#bd3786\"], [0.5555555555555556, \"#d8576b\"], [0.6666666666666666, \"#ed7953\"], [0.7777777777777778, \"#fb9f3a\"], [0.8888888888888888, \"#fdca26\"], [1.0, \"#f0f921\"]], \"type\": \"histogram2d\"}], \"histogram2dcontour\": [{\"colorbar\": {\"outlinewidth\": 0, \"ticks\": \"\"}, \"colorscale\": [[0.0, \"#0d0887\"], [0.1111111111111111, \"#46039f\"], [0.2222222222222222, \"#7201a8\"], [0.3333333333333333, \"#9c179e\"], [0.4444444444444444, \"#bd3786\"], [0.5555555555555556, \"#d8576b\"], [0.6666666666666666, \"#ed7953\"], [0.7777777777777778, \"#fb9f3a\"], [0.8888888888888888, \"#fdca26\"], [1.0, \"#f0f921\"]], \"type\": \"histogram2dcontour\"}], \"mesh3d\": [{\"colorbar\": {\"outlinewidth\": 0, \"ticks\": \"\"}, \"type\": \"mesh3d\"}], \"parcoords\": [{\"line\": {\"colorbar\": {\"outlinewidth\": 0, \"ticks\": \"\"}}, \"type\": \"parcoords\"}], \"pie\": [{\"automargin\": true, \"type\": \"pie\"}], \"scatter\": [{\"marker\": {\"colorbar\": {\"outlinewidth\": 0, \"ticks\": \"\"}}, \"type\": \"scatter\"}], \"scatter3d\": [{\"line\": {\"colorbar\": {\"outlinewidth\": 0, \"ticks\": \"\"}}, \"marker\": {\"colorbar\": {\"outlinewidth\": 0, \"ticks\": \"\"}}, \"type\": \"scatter3d\"}], \"scattercarpet\": [{\"marker\": {\"colorbar\": {\"outlinewidth\": 0, \"ticks\": \"\"}}, \"type\": \"scattercarpet\"}], \"scattergeo\": [{\"marker\": {\"colorbar\": {\"outlinewidth\": 0, \"ticks\": \"\"}}, \"type\": \"scattergeo\"}], \"scattergl\": [{\"marker\": {\"colorbar\": {\"outlinewidth\": 0, \"ticks\": \"\"}}, \"type\": \"scattergl\"}], \"scattermapbox\": [{\"marker\": {\"colorbar\": {\"outlinewidth\": 0, \"ticks\": \"\"}}, \"type\": \"scattermapbox\"}], \"scatterpolar\": [{\"marker\": {\"colorbar\": {\"outlinewidth\": 0, \"ticks\": \"\"}}, \"type\": \"scatterpolar\"}], \"scatterpolargl\": [{\"marker\": {\"colorbar\": {\"outlinewidth\": 0, \"ticks\": \"\"}}, \"type\": \"scatterpolargl\"}], \"scatterternary\": [{\"marker\": {\"colorbar\": {\"outlinewidth\": 0, \"ticks\": \"\"}}, \"type\": \"scatterternary\"}], \"surface\": [{\"colorbar\": {\"outlinewidth\": 0, \"ticks\": \"\"}, \"colorscale\": [[0.0, \"#0d0887\"], [0.1111111111111111, \"#46039f\"], [0.2222222222222222, \"#7201a8\"], [0.3333333333333333, \"#9c179e\"], [0.4444444444444444, \"#bd3786\"], [0.5555555555555556, \"#d8576b\"], [0.6666666666666666, \"#ed7953\"], [0.7777777777777778, \"#fb9f3a\"], [0.8888888888888888, \"#fdca26\"], [1.0, \"#f0f921\"]], \"type\": \"surface\"}], \"table\": [{\"cells\": {\"fill\": {\"color\": \"#EBF0F8\"}, \"line\": {\"color\": \"white\"}}, \"header\": {\"fill\": {\"color\": \"#C8D4E3\"}, \"line\": {\"color\": \"white\"}}, \"type\": \"table\"}]}, \"layout\": {\"annotationdefaults\": {\"arrowcolor\": \"#2a3f5f\", \"arrowhead\": 0, \"arrowwidth\": 1}, \"coloraxis\": {\"colorbar\": {\"outlinewidth\": 0, \"ticks\": \"\"}}, \"colorscale\": {\"diverging\": [[0, \"#8e0152\"], [0.1, \"#c51b7d\"], [0.2, \"#de77ae\"], [0.3, \"#f1b6da\"], [0.4, \"#fde0ef\"], [0.5, \"#f7f7f7\"], [0.6, \"#e6f5d0\"], [0.7, \"#b8e186\"], [0.8, \"#7fbc41\"], [0.9, \"#4d9221\"], [1, \"#276419\"]], \"sequential\": [[0.0, \"#0d0887\"], [0.1111111111111111, \"#46039f\"], [0.2222222222222222, \"#7201a8\"], [0.3333333333333333, \"#9c179e\"], [0.4444444444444444, \"#bd3786\"], [0.5555555555555556, \"#d8576b\"], [0.6666666666666666, \"#ed7953\"], [0.7777777777777778, \"#fb9f3a\"], [0.8888888888888888, \"#fdca26\"], [1.0, \"#f0f921\"]], \"sequentialminus\": [[0.0, \"#0d0887\"], [0.1111111111111111, \"#46039f\"], [0.2222222222222222, \"#7201a8\"], [0.3333333333333333, \"#9c179e\"], [0.4444444444444444, \"#bd3786\"], [0.5555555555555556, \"#d8576b\"], [0.6666666666666666, \"#ed7953\"], [0.7777777777777778, \"#fb9f3a\"], [0.8888888888888888, \"#fdca26\"], [1.0, \"#f0f921\"]]}, \"colorway\": [\"#636efa\", \"#EF553B\", \"#00cc96\", \"#ab63fa\", \"#FFA15A\", \"#19d3f3\", \"#FF6692\", \"#B6E880\", \"#FF97FF\", \"#FECB52\"], \"font\": {\"color\": \"#2a3f5f\"}, \"geo\": {\"bgcolor\": \"white\", \"lakecolor\": \"white\", \"landcolor\": \"#E5ECF6\", \"showlakes\": true, \"showland\": true, \"subunitcolor\": \"white\"}, \"hoverlabel\": {\"align\": \"left\"}, \"hovermode\": \"closest\", \"mapbox\": {\"style\": \"light\"}, \"paper_bgcolor\": \"white\", \"plot_bgcolor\": \"#E5ECF6\", \"polar\": {\"angularaxis\": {\"gridcolor\": \"white\", \"linecolor\": \"white\", \"ticks\": \"\"}, \"bgcolor\": \"#E5ECF6\", \"radialaxis\": {\"gridcolor\": \"white\", \"linecolor\": \"white\", \"ticks\": \"\"}}, \"scene\": {\"xaxis\": {\"backgroundcolor\": \"#E5ECF6\", \"gridcolor\": \"white\", \"gridwidth\": 2, \"linecolor\": \"white\", \"showbackground\": true, \"ticks\": \"\", \"zerolinecolor\": \"white\"}, \"yaxis\": {\"backgroundcolor\": \"#E5ECF6\", \"gridcolor\": \"white\", \"gridwidth\": 2, \"linecolor\": \"white\", \"showbackground\": true, \"ticks\": \"\", \"zerolinecolor\": \"white\"}, \"zaxis\": {\"backgroundcolor\": \"#E5ECF6\", \"gridcolor\": \"white\", \"gridwidth\": 2, \"linecolor\": \"white\", \"showbackground\": true, \"ticks\": \"\", \"zerolinecolor\": \"white\"}}, \"shapedefaults\": {\"line\": {\"color\": \"#2a3f5f\"}}, \"ternary\": {\"aaxis\": {\"gridcolor\": \"white\", \"linecolor\": \"white\", \"ticks\": \"\"}, \"baxis\": {\"gridcolor\": \"white\", \"linecolor\": \"white\", \"ticks\": \"\"}, \"bgcolor\": \"#E5ECF6\", \"caxis\": {\"gridcolor\": \"white\", \"linecolor\": \"white\", \"ticks\": \"\"}}, \"title\": {\"x\": 0.05}, \"xaxis\": {\"automargin\": true, \"gridcolor\": \"white\", \"linecolor\": \"white\", \"ticks\": \"\", \"title\": {\"standoff\": 15}, \"zerolinecolor\": \"white\", \"zerolinewidth\": 2}, \"yaxis\": {\"automargin\": true, \"gridcolor\": \"white\", \"linecolor\": \"white\", \"ticks\": \"\", \"title\": {\"standoff\": 15}, \"zerolinecolor\": \"white\", \"zerolinewidth\": 2}}}, \"title\": {\"text\": \"Unemployment rate across region from Jan.2020 to Oct.2020\"}, \"updatemenus\": [{\"buttons\": [{\"args\": [null, {\"frame\": {\"duration\": 2000, \"redraw\": true}, \"fromcurrent\": true, \"mode\": \"immediate\", \"transition\": {\"duration\": 500, \"easing\": \"linear\"}}], \"label\": \"&#9654;\", \"method\": \"animate\"}, {\"args\": [[null], {\"frame\": {\"duration\": 0, \"redraw\": true}, \"fromcurrent\": true, \"mode\": \"immediate\", \"transition\": {\"duration\": 0, \"easing\": \"linear\"}}], \"label\": \"&#9724;\", \"method\": \"animate\"}], \"direction\": \"left\", \"pad\": {\"r\": 10, \"t\": 70}, \"showactive\": false, \"type\": \"buttons\", \"x\": 0.1, \"xanchor\": \"right\", \"y\": 0, \"yanchor\": \"top\"}], \"xaxis\": {\"anchor\": \"y\", \"categoryorder\": \"total descending\", \"domain\": [0.0, 1.0], \"title\": {\"text\": \"Region\"}}, \"yaxis\": {\"anchor\": \"x\", \"domain\": [0.0, 1.0], \"title\": {\"text\": \"Estimated Unemployment Rate\"}}},                        {\"responsive\": true}                    ).then(function(){\n",
              "                            Plotly.addFrames('352e33c5-aef9-403c-aec9-e282f2c581ab', [{\"data\": [{\"alignmentgroup\": \"True\", \"hovertemplate\": \"States=Andhra Pradesh<br>Month_name=Jan<br>Region=%{x}<br>Estimated Unemployment Rate=%{y}<extra></extra>\", \"legendgroup\": \"Andhra Pradesh\", \"marker\": {\"color\": \"#636efa\"}, \"name\": \"Andhra Pradesh\", \"offsetgroup\": \"Andhra Pradesh\", \"orientation\": \"v\", \"showlegend\": true, \"textposition\": \"auto\", \"x\": [\"South\"], \"xaxis\": \"x\", \"y\": [5.48], \"yaxis\": \"y\", \"type\": \"bar\"}, {\"alignmentgroup\": \"True\", \"hovertemplate\": \"States=Assam<br>Month_name=Jan<br>Region=%{x}<br>Estimated Unemployment Rate=%{y}<extra></extra>\", \"legendgroup\": \"Assam\", \"marker\": {\"color\": \"#EF553B\"}, \"name\": \"Assam\", \"offsetgroup\": \"Assam\", \"orientation\": \"v\", \"showlegend\": true, \"textposition\": \"auto\", \"x\": [\"Northeast\"], \"xaxis\": \"x\", \"y\": [4.66], \"yaxis\": \"y\", \"type\": \"bar\"}, {\"alignmentgroup\": \"True\", \"hovertemplate\": \"States=Bihar<br>Month_name=Jan<br>Region=%{x}<br>Estimated Unemployment Rate=%{y}<extra></extra>\", \"legendgroup\": \"Bihar\", \"marker\": {\"color\": \"#00cc96\"}, \"name\": \"Bihar\", \"offsetgroup\": \"Bihar\", \"orientation\": \"v\", \"showlegend\": true, \"textposition\": \"auto\", \"x\": [\"East\"], \"xaxis\": \"x\", \"y\": [10.61], \"yaxis\": \"y\", \"type\": \"bar\"}, {\"alignmentgroup\": \"True\", \"hovertemplate\": \"States=Chhattisgarh<br>Month_name=Jan<br>Region=%{x}<br>Estimated Unemployment Rate=%{y}<extra></extra>\", \"legendgroup\": \"Chhattisgarh\", \"marker\": {\"color\": \"#ab63fa\"}, \"name\": \"Chhattisgarh\", \"offsetgroup\": \"Chhattisgarh\", \"orientation\": \"v\", \"showlegend\": true, \"textposition\": \"auto\", \"x\": [\"West\"], \"xaxis\": \"x\", \"y\": [9.65], \"yaxis\": \"y\", \"type\": \"bar\"}, {\"alignmentgroup\": \"True\", \"hovertemplate\": \"States=Delhi<br>Month_name=Jan<br>Region=%{x}<br>Estimated Unemployment Rate=%{y}<extra></extra>\", \"legendgroup\": \"Delhi\", \"marker\": {\"color\": \"#FFA15A\"}, \"name\": \"Delhi\", \"offsetgroup\": \"Delhi\", \"orientation\": \"v\", \"showlegend\": true, \"textposition\": \"auto\", \"x\": [\"North\"], \"xaxis\": \"x\", \"y\": [22.23], \"yaxis\": \"y\", \"type\": \"bar\"}, {\"alignmentgroup\": \"True\", \"hovertemplate\": \"States=Goa<br>Month_name=Jan<br>Region=%{x}<br>Estimated Unemployment Rate=%{y}<extra></extra>\", \"legendgroup\": \"Goa\", \"marker\": {\"color\": \"#19d3f3\"}, \"name\": \"Goa\", \"offsetgroup\": \"Goa\", \"orientation\": \"v\", \"showlegend\": true, \"textposition\": \"auto\", \"x\": [\"West\"], \"xaxis\": \"x\", \"y\": [8.89], \"yaxis\": \"y\", \"type\": \"bar\"}, {\"alignmentgroup\": \"True\", \"hovertemplate\": \"States=Gujarat<br>Month_name=Jan<br>Region=%{x}<br>Estimated Unemployment Rate=%{y}<extra></extra>\", \"legendgroup\": \"Gujarat\", \"marker\": {\"color\": \"#FF6692\"}, \"name\": \"Gujarat\", \"offsetgroup\": \"Gujarat\", \"orientation\": \"v\", \"showlegend\": true, \"textposition\": \"auto\", \"x\": [\"West\"], \"xaxis\": \"x\", \"y\": [5.54], \"yaxis\": \"y\", \"type\": \"bar\"}, {\"alignmentgroup\": \"True\", \"hovertemplate\": \"States=Haryana<br>Month_name=Jan<br>Region=%{x}<br>Estimated Unemployment Rate=%{y}<extra></extra>\", \"legendgroup\": \"Haryana\", \"marker\": {\"color\": \"#B6E880\"}, \"name\": \"Haryana\", \"offsetgroup\": \"Haryana\", \"orientation\": \"v\", \"showlegend\": true, \"textposition\": \"auto\", \"x\": [\"North\"], \"xaxis\": \"x\", \"y\": [20.34], \"yaxis\": \"y\", \"type\": \"bar\"}, {\"alignmentgroup\": \"True\", \"hovertemplate\": \"States=Himachal Pradesh<br>Month_name=Jan<br>Region=%{x}<br>Estimated Unemployment Rate=%{y}<extra></extra>\", \"legendgroup\": \"Himachal Pradesh\", \"marker\": {\"color\": \"#FF97FF\"}, \"name\": \"Himachal Pradesh\", \"offsetgroup\": \"Himachal Pradesh\", \"orientation\": \"v\", \"showlegend\": true, \"textposition\": \"auto\", \"x\": [\"North\"], \"xaxis\": \"x\", \"y\": [16.83], \"yaxis\": \"y\", \"type\": \"bar\"}, {\"alignmentgroup\": \"True\", \"hovertemplate\": \"States=Jammu & Kashmir<br>Month_name=Jan<br>Region=%{x}<br>Estimated Unemployment Rate=%{y}<extra></extra>\", \"legendgroup\": \"Jammu & Kashmir\", \"marker\": {\"color\": \"#FECB52\"}, \"name\": \"Jammu & Kashmir\", \"offsetgroup\": \"Jammu & Kashmir\", \"orientation\": \"v\", \"showlegend\": true, \"textposition\": \"auto\", \"x\": [\"North\"], \"xaxis\": \"x\", \"y\": [21.08], \"yaxis\": \"y\", \"type\": \"bar\"}, {\"alignmentgroup\": \"True\", \"hovertemplate\": \"States=Jharkhand<br>Month_name=Jan<br>Region=%{x}<br>Estimated Unemployment Rate=%{y}<extra></extra>\", \"legendgroup\": \"Jharkhand\", \"marker\": {\"color\": \"#636efa\"}, \"name\": \"Jharkhand\", \"offsetgroup\": \"Jharkhand\", \"orientation\": \"v\", \"showlegend\": true, \"textposition\": \"auto\", \"x\": [\"East\"], \"xaxis\": \"x\", \"y\": [10.61], \"yaxis\": \"y\", \"type\": \"bar\"}, {\"alignmentgroup\": \"True\", \"hovertemplate\": \"States=Karnataka<br>Month_name=Jan<br>Region=%{x}<br>Estimated Unemployment Rate=%{y}<extra></extra>\", \"legendgroup\": \"Karnataka\", \"marker\": {\"color\": \"#EF553B\"}, \"name\": \"Karnataka\", \"offsetgroup\": \"Karnataka\", \"orientation\": \"v\", \"showlegend\": true, \"textposition\": \"auto\", \"x\": [\"South\"], \"xaxis\": \"x\", \"y\": [2.86], \"yaxis\": \"y\", \"type\": \"bar\"}, {\"alignmentgroup\": \"True\", \"hovertemplate\": \"States=Kerala<br>Month_name=Jan<br>Region=%{x}<br>Estimated Unemployment Rate=%{y}<extra></extra>\", \"legendgroup\": \"Kerala\", \"marker\": {\"color\": \"#00cc96\"}, \"name\": \"Kerala\", \"offsetgroup\": \"Kerala\", \"orientation\": \"v\", \"showlegend\": true, \"textposition\": \"auto\", \"x\": [\"South\"], \"xaxis\": \"x\", \"y\": [5.31], \"yaxis\": \"y\", \"type\": \"bar\"}, {\"alignmentgroup\": \"True\", \"hovertemplate\": \"States=Madhya Pradesh<br>Month_name=Jan<br>Region=%{x}<br>Estimated Unemployment Rate=%{y}<extra></extra>\", \"legendgroup\": \"Madhya Pradesh\", \"marker\": {\"color\": \"#ab63fa\"}, \"name\": \"Madhya Pradesh\", \"offsetgroup\": \"Madhya Pradesh\", \"orientation\": \"v\", \"showlegend\": true, \"textposition\": \"auto\", \"x\": [\"West\"], \"xaxis\": \"x\", \"y\": [4.11], \"yaxis\": \"y\", \"type\": \"bar\"}, {\"alignmentgroup\": \"True\", \"hovertemplate\": \"States=Maharashtra<br>Month_name=Jan<br>Region=%{x}<br>Estimated Unemployment Rate=%{y}<extra></extra>\", \"legendgroup\": \"Maharashtra\", \"marker\": {\"color\": \"#FFA15A\"}, \"name\": \"Maharashtra\", \"offsetgroup\": \"Maharashtra\", \"orientation\": \"v\", \"showlegend\": true, \"textposition\": \"auto\", \"x\": [\"West\"], \"xaxis\": \"x\", \"y\": [4.95], \"yaxis\": \"y\", \"type\": \"bar\"}, {\"alignmentgroup\": \"True\", \"hovertemplate\": \"States=Meghalaya<br>Month_name=Jan<br>Region=%{x}<br>Estimated Unemployment Rate=%{y}<extra></extra>\", \"legendgroup\": \"Meghalaya\", \"marker\": {\"color\": \"#19d3f3\"}, \"name\": \"Meghalaya\", \"offsetgroup\": \"Meghalaya\", \"orientation\": \"v\", \"showlegend\": true, \"textposition\": \"auto\", \"x\": [\"Northeast\"], \"xaxis\": \"x\", \"y\": [1.66], \"yaxis\": \"y\", \"type\": \"bar\"}, {\"alignmentgroup\": \"True\", \"hovertemplate\": \"States=Odisha<br>Month_name=Jan<br>Region=%{x}<br>Estimated Unemployment Rate=%{y}<extra></extra>\", \"legendgroup\": \"Odisha\", \"marker\": {\"color\": \"#FF6692\"}, \"name\": \"Odisha\", \"offsetgroup\": \"Odisha\", \"orientation\": \"v\", \"showlegend\": true, \"textposition\": \"auto\", \"x\": [\"East\"], \"xaxis\": \"x\", \"y\": [1.9], \"yaxis\": \"y\", \"type\": \"bar\"}, {\"alignmentgroup\": \"True\", \"hovertemplate\": \"States=Puducherry<br>Month_name=Jan<br>Region=%{x}<br>Estimated Unemployment Rate=%{y}<extra></extra>\", \"legendgroup\": \"Puducherry\", \"marker\": {\"color\": \"#B6E880\"}, \"name\": \"Puducherry\", \"offsetgroup\": \"Puducherry\", \"orientation\": \"v\", \"showlegend\": true, \"textposition\": \"auto\", \"x\": [\"South\"], \"xaxis\": \"x\", \"y\": [0.58], \"yaxis\": \"y\", \"type\": \"bar\"}, {\"alignmentgroup\": \"True\", \"hovertemplate\": \"States=Punjab<br>Month_name=Jan<br>Region=%{x}<br>Estimated Unemployment Rate=%{y}<extra></extra>\", \"legendgroup\": \"Punjab\", \"marker\": {\"color\": \"#FF97FF\"}, \"name\": \"Punjab\", \"offsetgroup\": \"Punjab\", \"orientation\": \"v\", \"showlegend\": true, \"textposition\": \"auto\", \"x\": [\"North\"], \"xaxis\": \"x\", \"y\": [11.11], \"yaxis\": \"y\", \"type\": \"bar\"}, {\"alignmentgroup\": \"True\", \"hovertemplate\": \"States=Rajasthan<br>Month_name=Jan<br>Region=%{x}<br>Estimated Unemployment Rate=%{y}<extra></extra>\", \"legendgroup\": \"Rajasthan\", \"marker\": {\"color\": \"#FECB52\"}, \"name\": \"Rajasthan\", \"offsetgroup\": \"Rajasthan\", \"orientation\": \"v\", \"showlegend\": true, \"textposition\": \"auto\", \"x\": [\"North\"], \"xaxis\": \"x\", \"y\": [10.97], \"yaxis\": \"y\", \"type\": \"bar\"}, {\"alignmentgroup\": \"True\", \"hovertemplate\": \"States=Tamil Nadu<br>Month_name=Jan<br>Region=%{x}<br>Estimated Unemployment Rate=%{y}<extra></extra>\", \"legendgroup\": \"Tamil Nadu\", \"marker\": {\"color\": \"#EF553B\"}, \"name\": \"Tamil Nadu\", \"offsetgroup\": \"Tamil Nadu\", \"orientation\": \"v\", \"showlegend\": true, \"textposition\": \"auto\", \"x\": [\"South\"], \"xaxis\": \"x\", \"y\": [1.57], \"yaxis\": \"y\", \"type\": \"bar\"}, {\"alignmentgroup\": \"True\", \"hovertemplate\": \"States=Telangana<br>Month_name=Jan<br>Region=%{x}<br>Estimated Unemployment Rate=%{y}<extra></extra>\", \"legendgroup\": \"Telangana\", \"marker\": {\"color\": \"#00cc96\"}, \"name\": \"Telangana\", \"offsetgroup\": \"Telangana\", \"orientation\": \"v\", \"showlegend\": true, \"textposition\": \"auto\", \"x\": [\"South\"], \"xaxis\": \"x\", \"y\": [5.49], \"yaxis\": \"y\", \"type\": \"bar\"}, {\"alignmentgroup\": \"True\", \"hovertemplate\": \"States=Tripura<br>Month_name=Jan<br>Region=%{x}<br>Estimated Unemployment Rate=%{y}<extra></extra>\", \"legendgroup\": \"Tripura\", \"marker\": {\"color\": \"#ab63fa\"}, \"name\": \"Tripura\", \"offsetgroup\": \"Tripura\", \"orientation\": \"v\", \"showlegend\": true, \"textposition\": \"auto\", \"x\": [\"Northeast\"], \"xaxis\": \"x\", \"y\": [32.67], \"yaxis\": \"y\", \"type\": \"bar\"}, {\"alignmentgroup\": \"True\", \"hovertemplate\": \"States=Uttar Pradesh<br>Month_name=Jan<br>Region=%{x}<br>Estimated Unemployment Rate=%{y}<extra></extra>\", \"legendgroup\": \"Uttar Pradesh\", \"marker\": {\"color\": \"#FFA15A\"}, \"name\": \"Uttar Pradesh\", \"offsetgroup\": \"Uttar Pradesh\", \"orientation\": \"v\", \"showlegend\": true, \"textposition\": \"auto\", \"x\": [\"North\"], \"xaxis\": \"x\", \"y\": [7.58], \"yaxis\": \"y\", \"type\": \"bar\"}, {\"alignmentgroup\": \"True\", \"hovertemplate\": \"States=Uttarakhand<br>Month_name=Jan<br>Region=%{x}<br>Estimated Unemployment Rate=%{y}<extra></extra>\", \"legendgroup\": \"Uttarakhand\", \"marker\": {\"color\": \"#19d3f3\"}, \"name\": \"Uttarakhand\", \"offsetgroup\": \"Uttarakhand\", \"orientation\": \"v\", \"showlegend\": true, \"textposition\": \"auto\", \"x\": [\"North\"], \"xaxis\": \"x\", \"y\": [5.49], \"yaxis\": \"y\", \"type\": \"bar\"}, {\"alignmentgroup\": \"True\", \"hovertemplate\": \"States=West Bengal<br>Month_name=Jan<br>Region=%{x}<br>Estimated Unemployment Rate=%{y}<extra></extra>\", \"legendgroup\": \"West Bengal\", \"marker\": {\"color\": \"#FF6692\"}, \"name\": \"West Bengal\", \"offsetgroup\": \"West Bengal\", \"orientation\": \"v\", \"showlegend\": true, \"textposition\": \"auto\", \"x\": [\"East\"], \"xaxis\": \"x\", \"y\": [6.94], \"yaxis\": \"y\", \"type\": \"bar\"}], \"name\": \"Jan\"}, {\"data\": [{\"alignmentgroup\": \"True\", \"hovertemplate\": \"States=Andhra Pradesh<br>Month_name=Feb<br>Region=%{x}<br>Estimated Unemployment Rate=%{y}<extra></extra>\", \"legendgroup\": \"Andhra Pradesh\", \"marker\": {\"color\": \"#636efa\"}, \"name\": \"Andhra Pradesh\", \"offsetgroup\": \"Andhra Pradesh\", \"orientation\": \"v\", \"showlegend\": true, \"textposition\": \"auto\", \"x\": [\"South\"], \"xaxis\": \"x\", \"y\": [5.83], \"yaxis\": \"y\", \"type\": \"bar\"}, {\"alignmentgroup\": \"True\", \"hovertemplate\": \"States=Assam<br>Month_name=Feb<br>Region=%{x}<br>Estimated Unemployment Rate=%{y}<extra></extra>\", \"legendgroup\": \"Assam\", \"marker\": {\"color\": \"#EF553B\"}, \"name\": \"Assam\", \"offsetgroup\": \"Assam\", \"orientation\": \"v\", \"showlegend\": true, \"textposition\": \"auto\", \"x\": [\"Northeast\"], \"xaxis\": \"x\", \"y\": [4.41], \"yaxis\": \"y\", \"type\": \"bar\"}, {\"alignmentgroup\": \"True\", \"hovertemplate\": \"States=Bihar<br>Month_name=Feb<br>Region=%{x}<br>Estimated Unemployment Rate=%{y}<extra></extra>\", \"legendgroup\": \"Bihar\", \"marker\": {\"color\": \"#00cc96\"}, \"name\": \"Bihar\", \"offsetgroup\": \"Bihar\", \"orientation\": \"v\", \"showlegend\": true, \"textposition\": \"auto\", \"x\": [\"East\"], \"xaxis\": \"x\", \"y\": [10.29], \"yaxis\": \"y\", \"type\": \"bar\"}, {\"alignmentgroup\": \"True\", \"hovertemplate\": \"States=Chhattisgarh<br>Month_name=Feb<br>Region=%{x}<br>Estimated Unemployment Rate=%{y}<extra></extra>\", \"legendgroup\": \"Chhattisgarh\", \"marker\": {\"color\": \"#ab63fa\"}, \"name\": \"Chhattisgarh\", \"offsetgroup\": \"Chhattisgarh\", \"orientation\": \"v\", \"showlegend\": true, \"textposition\": \"auto\", \"x\": [\"West\"], \"xaxis\": \"x\", \"y\": [8.38], \"yaxis\": \"y\", \"type\": \"bar\"}, {\"alignmentgroup\": \"True\", \"hovertemplate\": \"States=Delhi<br>Month_name=Feb<br>Region=%{x}<br>Estimated Unemployment Rate=%{y}<extra></extra>\", \"legendgroup\": \"Delhi\", \"marker\": {\"color\": \"#FFA15A\"}, \"name\": \"Delhi\", \"offsetgroup\": \"Delhi\", \"orientation\": \"v\", \"showlegend\": true, \"textposition\": \"auto\", \"x\": [\"North\"], \"xaxis\": \"x\", \"y\": [14.84], \"yaxis\": \"y\", \"type\": \"bar\"}, {\"alignmentgroup\": \"True\", \"hovertemplate\": \"States=Goa<br>Month_name=Feb<br>Region=%{x}<br>Estimated Unemployment Rate=%{y}<extra></extra>\", \"legendgroup\": \"Goa\", \"marker\": {\"color\": \"#19d3f3\"}, \"name\": \"Goa\", \"offsetgroup\": \"Goa\", \"orientation\": \"v\", \"showlegend\": true, \"textposition\": \"auto\", \"x\": [\"West\"], \"xaxis\": \"x\", \"y\": [2.81], \"yaxis\": \"y\", \"type\": \"bar\"}, {\"alignmentgroup\": \"True\", \"hovertemplate\": \"States=Gujarat<br>Month_name=Feb<br>Region=%{x}<br>Estimated Unemployment Rate=%{y}<extra></extra>\", \"legendgroup\": \"Gujarat\", \"marker\": {\"color\": \"#FF6692\"}, \"name\": \"Gujarat\", \"offsetgroup\": \"Gujarat\", \"orientation\": \"v\", \"showlegend\": true, \"textposition\": \"auto\", \"x\": [\"West\"], \"xaxis\": \"x\", \"y\": [6.38], \"yaxis\": \"y\", \"type\": \"bar\"}, {\"alignmentgroup\": \"True\", \"hovertemplate\": \"States=Haryana<br>Month_name=Feb<br>Region=%{x}<br>Estimated Unemployment Rate=%{y}<extra></extra>\", \"legendgroup\": \"Haryana\", \"marker\": {\"color\": \"#B6E880\"}, \"name\": \"Haryana\", \"offsetgroup\": \"Haryana\", \"orientation\": \"v\", \"showlegend\": true, \"textposition\": \"auto\", \"x\": [\"North\"], \"xaxis\": \"x\", \"y\": [25.77], \"yaxis\": \"y\", \"type\": \"bar\"}, {\"alignmentgroup\": \"True\", \"hovertemplate\": \"States=Himachal Pradesh<br>Month_name=Feb<br>Region=%{x}<br>Estimated Unemployment Rate=%{y}<extra></extra>\", \"legendgroup\": \"Himachal Pradesh\", \"marker\": {\"color\": \"#FF97FF\"}, \"name\": \"Himachal Pradesh\", \"offsetgroup\": \"Himachal Pradesh\", \"orientation\": \"v\", \"showlegend\": true, \"textposition\": \"auto\", \"x\": [\"North\"], \"xaxis\": \"x\", \"y\": [16.84], \"yaxis\": \"y\", \"type\": \"bar\"}, {\"alignmentgroup\": \"True\", \"hovertemplate\": \"States=Jammu & Kashmir<br>Month_name=Feb<br>Region=%{x}<br>Estimated Unemployment Rate=%{y}<extra></extra>\", \"legendgroup\": \"Jammu & Kashmir\", \"marker\": {\"color\": \"#FECB52\"}, \"name\": \"Jammu & Kashmir\", \"offsetgroup\": \"Jammu & Kashmir\", \"orientation\": \"v\", \"showlegend\": true, \"textposition\": \"auto\", \"x\": [\"North\"], \"xaxis\": \"x\", \"y\": [20.78], \"yaxis\": \"y\", \"type\": \"bar\"}, {\"alignmentgroup\": \"True\", \"hovertemplate\": \"States=Jharkhand<br>Month_name=Feb<br>Region=%{x}<br>Estimated Unemployment Rate=%{y}<extra></extra>\", \"legendgroup\": \"Jharkhand\", \"marker\": {\"color\": \"#636efa\"}, \"name\": \"Jharkhand\", \"offsetgroup\": \"Jharkhand\", \"orientation\": \"v\", \"showlegend\": true, \"textposition\": \"auto\", \"x\": [\"East\"], \"xaxis\": \"x\", \"y\": [11.85], \"yaxis\": \"y\", \"type\": \"bar\"}, {\"alignmentgroup\": \"True\", \"hovertemplate\": \"States=Karnataka<br>Month_name=Feb<br>Region=%{x}<br>Estimated Unemployment Rate=%{y}<extra></extra>\", \"legendgroup\": \"Karnataka\", \"marker\": {\"color\": \"#EF553B\"}, \"name\": \"Karnataka\", \"offsetgroup\": \"Karnataka\", \"orientation\": \"v\", \"showlegend\": true, \"textposition\": \"auto\", \"x\": [\"South\"], \"xaxis\": \"x\", \"y\": [3.61], \"yaxis\": \"y\", \"type\": \"bar\"}, {\"alignmentgroup\": \"True\", \"hovertemplate\": \"States=Kerala<br>Month_name=Feb<br>Region=%{x}<br>Estimated Unemployment Rate=%{y}<extra></extra>\", \"legendgroup\": \"Kerala\", \"marker\": {\"color\": \"#00cc96\"}, \"name\": \"Kerala\", \"offsetgroup\": \"Kerala\", \"orientation\": \"v\", \"showlegend\": true, \"textposition\": \"auto\", \"x\": [\"South\"], \"xaxis\": \"x\", \"y\": [7.6], \"yaxis\": \"y\", \"type\": \"bar\"}, {\"alignmentgroup\": \"True\", \"hovertemplate\": \"States=Madhya Pradesh<br>Month_name=Feb<br>Region=%{x}<br>Estimated Unemployment Rate=%{y}<extra></extra>\", \"legendgroup\": \"Madhya Pradesh\", \"marker\": {\"color\": \"#ab63fa\"}, \"name\": \"Madhya Pradesh\", \"offsetgroup\": \"Madhya Pradesh\", \"orientation\": \"v\", \"showlegend\": true, \"textposition\": \"auto\", \"x\": [\"West\"], \"xaxis\": \"x\", \"y\": [4.57], \"yaxis\": \"y\", \"type\": \"bar\"}, {\"alignmentgroup\": \"True\", \"hovertemplate\": \"States=Maharashtra<br>Month_name=Feb<br>Region=%{x}<br>Estimated Unemployment Rate=%{y}<extra></extra>\", \"legendgroup\": \"Maharashtra\", \"marker\": {\"color\": \"#FFA15A\"}, \"name\": \"Maharashtra\", \"offsetgroup\": \"Maharashtra\", \"orientation\": \"v\", \"showlegend\": true, \"textposition\": \"auto\", \"x\": [\"West\"], \"xaxis\": \"x\", \"y\": [4.69], \"yaxis\": \"y\", \"type\": \"bar\"}, {\"alignmentgroup\": \"True\", \"hovertemplate\": \"States=Meghalaya<br>Month_name=Feb<br>Region=%{x}<br>Estimated Unemployment Rate=%{y}<extra></extra>\", \"legendgroup\": \"Meghalaya\", \"marker\": {\"color\": \"#19d3f3\"}, \"name\": \"Meghalaya\", \"offsetgroup\": \"Meghalaya\", \"orientation\": \"v\", \"showlegend\": true, \"textposition\": \"auto\", \"x\": [\"Northeast\"], \"xaxis\": \"x\", \"y\": [3.59], \"yaxis\": \"y\", \"type\": \"bar\"}, {\"alignmentgroup\": \"True\", \"hovertemplate\": \"States=Odisha<br>Month_name=Feb<br>Region=%{x}<br>Estimated Unemployment Rate=%{y}<extra></extra>\", \"legendgroup\": \"Odisha\", \"marker\": {\"color\": \"#FF6692\"}, \"name\": \"Odisha\", \"offsetgroup\": \"Odisha\", \"orientation\": \"v\", \"showlegend\": true, \"textposition\": \"auto\", \"x\": [\"East\"], \"xaxis\": \"x\", \"y\": [3.12], \"yaxis\": \"y\", \"type\": \"bar\"}, {\"alignmentgroup\": \"True\", \"hovertemplate\": \"States=Puducherry<br>Month_name=Feb<br>Region=%{x}<br>Estimated Unemployment Rate=%{y}<extra></extra>\", \"legendgroup\": \"Puducherry\", \"marker\": {\"color\": \"#B6E880\"}, \"name\": \"Puducherry\", \"offsetgroup\": \"Puducherry\", \"orientation\": \"v\", \"showlegend\": true, \"textposition\": \"auto\", \"x\": [\"South\"], \"xaxis\": \"x\", \"y\": [1.76], \"yaxis\": \"y\", \"type\": \"bar\"}, {\"alignmentgroup\": \"True\", \"hovertemplate\": \"States=Punjab<br>Month_name=Feb<br>Region=%{x}<br>Estimated Unemployment Rate=%{y}<extra></extra>\", \"legendgroup\": \"Punjab\", \"marker\": {\"color\": \"#FF97FF\"}, \"name\": \"Punjab\", \"offsetgroup\": \"Punjab\", \"orientation\": \"v\", \"showlegend\": true, \"textposition\": \"auto\", \"x\": [\"North\"], \"xaxis\": \"x\", \"y\": [10.97], \"yaxis\": \"y\", \"type\": \"bar\"}, {\"alignmentgroup\": \"True\", \"hovertemplate\": \"States=Rajasthan<br>Month_name=Feb<br>Region=%{x}<br>Estimated Unemployment Rate=%{y}<extra></extra>\", \"legendgroup\": \"Rajasthan\", \"marker\": {\"color\": \"#FECB52\"}, \"name\": \"Rajasthan\", \"offsetgroup\": \"Rajasthan\", \"orientation\": \"v\", \"showlegend\": true, \"textposition\": \"auto\", \"x\": [\"North\"], \"xaxis\": \"x\", \"y\": [15.16], \"yaxis\": \"y\", \"type\": \"bar\"}, {\"alignmentgroup\": \"True\", \"hovertemplate\": \"States=Tamil Nadu<br>Month_name=Feb<br>Region=%{x}<br>Estimated Unemployment Rate=%{y}<extra></extra>\", \"legendgroup\": \"Tamil Nadu\", \"marker\": {\"color\": \"#EF553B\"}, \"name\": \"Tamil Nadu\", \"offsetgroup\": \"Tamil Nadu\", \"orientation\": \"v\", \"showlegend\": true, \"textposition\": \"auto\", \"x\": [\"South\"], \"xaxis\": \"x\", \"y\": [2.09], \"yaxis\": \"y\", \"type\": \"bar\"}, {\"alignmentgroup\": \"True\", \"hovertemplate\": \"States=Telangana<br>Month_name=Feb<br>Region=%{x}<br>Estimated Unemployment Rate=%{y}<extra></extra>\", \"legendgroup\": \"Telangana\", \"marker\": {\"color\": \"#00cc96\"}, \"name\": \"Telangana\", \"offsetgroup\": \"Telangana\", \"orientation\": \"v\", \"showlegend\": true, \"textposition\": \"auto\", \"x\": [\"South\"], \"xaxis\": \"x\", \"y\": [8.29], \"yaxis\": \"y\", \"type\": \"bar\"}, {\"alignmentgroup\": \"True\", \"hovertemplate\": \"States=Tripura<br>Month_name=Feb<br>Region=%{x}<br>Estimated Unemployment Rate=%{y}<extra></extra>\", \"legendgroup\": \"Tripura\", \"marker\": {\"color\": \"#ab63fa\"}, \"name\": \"Tripura\", \"offsetgroup\": \"Tripura\", \"orientation\": \"v\", \"showlegend\": true, \"textposition\": \"auto\", \"x\": [\"Northeast\"], \"xaxis\": \"x\", \"y\": [28.4], \"yaxis\": \"y\", \"type\": \"bar\"}, {\"alignmentgroup\": \"True\", \"hovertemplate\": \"States=Uttar Pradesh<br>Month_name=Feb<br>Region=%{x}<br>Estimated Unemployment Rate=%{y}<extra></extra>\", \"legendgroup\": \"Uttar Pradesh\", \"marker\": {\"color\": \"#FFA15A\"}, \"name\": \"Uttar Pradesh\", \"offsetgroup\": \"Uttar Pradesh\", \"orientation\": \"v\", \"showlegend\": true, \"textposition\": \"auto\", \"x\": [\"North\"], \"xaxis\": \"x\", \"y\": [8.98], \"yaxis\": \"y\", \"type\": \"bar\"}, {\"alignmentgroup\": \"True\", \"hovertemplate\": \"States=Uttarakhand<br>Month_name=Feb<br>Region=%{x}<br>Estimated Unemployment Rate=%{y}<extra></extra>\", \"legendgroup\": \"Uttarakhand\", \"marker\": {\"color\": \"#19d3f3\"}, \"name\": \"Uttarakhand\", \"offsetgroup\": \"Uttarakhand\", \"orientation\": \"v\", \"showlegend\": true, \"textposition\": \"auto\", \"x\": [\"North\"], \"xaxis\": \"x\", \"y\": [4.99], \"yaxis\": \"y\", \"type\": \"bar\"}, {\"alignmentgroup\": \"True\", \"hovertemplate\": \"States=West Bengal<br>Month_name=Feb<br>Region=%{x}<br>Estimated Unemployment Rate=%{y}<extra></extra>\", \"legendgroup\": \"West Bengal\", \"marker\": {\"color\": \"#FF6692\"}, \"name\": \"West Bengal\", \"offsetgroup\": \"West Bengal\", \"orientation\": \"v\", \"showlegend\": true, \"textposition\": \"auto\", \"x\": [\"East\"], \"xaxis\": \"x\", \"y\": [4.92], \"yaxis\": \"y\", \"type\": \"bar\"}], \"name\": \"Feb\"}, {\"data\": [{\"alignmentgroup\": \"True\", \"hovertemplate\": \"States=Andhra Pradesh<br>Month_name=Mar<br>Region=%{x}<br>Estimated Unemployment Rate=%{y}<extra></extra>\", \"legendgroup\": \"Andhra Pradesh\", \"marker\": {\"color\": \"#636efa\"}, \"name\": \"Andhra Pradesh\", \"offsetgroup\": \"Andhra Pradesh\", \"orientation\": \"v\", \"showlegend\": true, \"textposition\": \"auto\", \"x\": [\"South\"], \"xaxis\": \"x\", \"y\": [5.79], \"yaxis\": \"y\", \"type\": \"bar\"}, {\"alignmentgroup\": \"True\", \"hovertemplate\": \"States=Assam<br>Month_name=Mar<br>Region=%{x}<br>Estimated Unemployment Rate=%{y}<extra></extra>\", \"legendgroup\": \"Assam\", \"marker\": {\"color\": \"#EF553B\"}, \"name\": \"Assam\", \"offsetgroup\": \"Assam\", \"orientation\": \"v\", \"showlegend\": true, \"textposition\": \"auto\", \"x\": [\"Northeast\"], \"xaxis\": \"x\", \"y\": [4.77], \"yaxis\": \"y\", \"type\": \"bar\"}, {\"alignmentgroup\": \"True\", \"hovertemplate\": \"States=Bihar<br>Month_name=Mar<br>Region=%{x}<br>Estimated Unemployment Rate=%{y}<extra></extra>\", \"legendgroup\": \"Bihar\", \"marker\": {\"color\": \"#00cc96\"}, \"name\": \"Bihar\", \"offsetgroup\": \"Bihar\", \"orientation\": \"v\", \"showlegend\": true, \"textposition\": \"auto\", \"x\": [\"East\"], \"xaxis\": \"x\", \"y\": [15.43], \"yaxis\": \"y\", \"type\": \"bar\"}, {\"alignmentgroup\": \"True\", \"hovertemplate\": \"States=Chhattisgarh<br>Month_name=Mar<br>Region=%{x}<br>Estimated Unemployment Rate=%{y}<extra></extra>\", \"legendgroup\": \"Chhattisgarh\", \"marker\": {\"color\": \"#ab63fa\"}, \"name\": \"Chhattisgarh\", \"offsetgroup\": \"Chhattisgarh\", \"orientation\": \"v\", \"showlegend\": true, \"textposition\": \"auto\", \"x\": [\"West\"], \"xaxis\": \"x\", \"y\": [7.54], \"yaxis\": \"y\", \"type\": \"bar\"}, {\"alignmentgroup\": \"True\", \"hovertemplate\": \"States=Delhi<br>Month_name=Mar<br>Region=%{x}<br>Estimated Unemployment Rate=%{y}<extra></extra>\", \"legendgroup\": \"Delhi\", \"marker\": {\"color\": \"#FFA15A\"}, \"name\": \"Delhi\", \"offsetgroup\": \"Delhi\", \"orientation\": \"v\", \"showlegend\": true, \"textposition\": \"auto\", \"x\": [\"North\"], \"xaxis\": \"x\", \"y\": [17.04], \"yaxis\": \"y\", \"type\": \"bar\"}, {\"alignmentgroup\": \"True\", \"hovertemplate\": \"States=Goa<br>Month_name=Mar<br>Region=%{x}<br>Estimated Unemployment Rate=%{y}<extra></extra>\", \"legendgroup\": \"Goa\", \"marker\": {\"color\": \"#19d3f3\"}, \"name\": \"Goa\", \"offsetgroup\": \"Goa\", \"orientation\": \"v\", \"showlegend\": true, \"textposition\": \"auto\", \"x\": [\"West\"], \"xaxis\": \"x\", \"y\": [5.25], \"yaxis\": \"y\", \"type\": \"bar\"}, {\"alignmentgroup\": \"True\", \"hovertemplate\": \"States=Gujarat<br>Month_name=Mar<br>Region=%{x}<br>Estimated Unemployment Rate=%{y}<extra></extra>\", \"legendgroup\": \"Gujarat\", \"marker\": {\"color\": \"#FF6692\"}, \"name\": \"Gujarat\", \"offsetgroup\": \"Gujarat\", \"orientation\": \"v\", \"showlegend\": true, \"textposition\": \"auto\", \"x\": [\"West\"], \"xaxis\": \"x\", \"y\": [6.66], \"yaxis\": \"y\", \"type\": \"bar\"}, {\"alignmentgroup\": \"True\", \"hovertemplate\": \"States=Haryana<br>Month_name=Mar<br>Region=%{x}<br>Estimated Unemployment Rate=%{y}<extra></extra>\", \"legendgroup\": \"Haryana\", \"marker\": {\"color\": \"#B6E880\"}, \"name\": \"Haryana\", \"offsetgroup\": \"Haryana\", \"orientation\": \"v\", \"showlegend\": true, \"textposition\": \"auto\", \"x\": [\"North\"], \"xaxis\": \"x\", \"y\": [25.05], \"yaxis\": \"y\", \"type\": \"bar\"}, {\"alignmentgroup\": \"True\", \"hovertemplate\": \"States=Himachal Pradesh<br>Month_name=Mar<br>Region=%{x}<br>Estimated Unemployment Rate=%{y}<extra></extra>\", \"legendgroup\": \"Himachal Pradesh\", \"marker\": {\"color\": \"#FF97FF\"}, \"name\": \"Himachal Pradesh\", \"offsetgroup\": \"Himachal Pradesh\", \"orientation\": \"v\", \"showlegend\": true, \"textposition\": \"auto\", \"x\": [\"North\"], \"xaxis\": \"x\", \"y\": [18.76], \"yaxis\": \"y\", \"type\": \"bar\"}, {\"alignmentgroup\": \"True\", \"hovertemplate\": \"States=Jammu & Kashmir<br>Month_name=Mar<br>Region=%{x}<br>Estimated Unemployment Rate=%{y}<extra></extra>\", \"legendgroup\": \"Jammu & Kashmir\", \"marker\": {\"color\": \"#FECB52\"}, \"name\": \"Jammu & Kashmir\", \"offsetgroup\": \"Jammu & Kashmir\", \"orientation\": \"v\", \"showlegend\": true, \"textposition\": \"auto\", \"x\": [\"North\"], \"xaxis\": \"x\", \"y\": [15.5], \"yaxis\": \"y\", \"type\": \"bar\"}, {\"alignmentgroup\": \"True\", \"hovertemplate\": \"States=Jharkhand<br>Month_name=Mar<br>Region=%{x}<br>Estimated Unemployment Rate=%{y}<extra></extra>\", \"legendgroup\": \"Jharkhand\", \"marker\": {\"color\": \"#636efa\"}, \"name\": \"Jharkhand\", \"offsetgroup\": \"Jharkhand\", \"orientation\": \"v\", \"showlegend\": true, \"textposition\": \"auto\", \"x\": [\"East\"], \"xaxis\": \"x\", \"y\": [8.23], \"yaxis\": \"y\", \"type\": \"bar\"}, {\"alignmentgroup\": \"True\", \"hovertemplate\": \"States=Karnataka<br>Month_name=Mar<br>Region=%{x}<br>Estimated Unemployment Rate=%{y}<extra></extra>\", \"legendgroup\": \"Karnataka\", \"marker\": {\"color\": \"#EF553B\"}, \"name\": \"Karnataka\", \"offsetgroup\": \"Karnataka\", \"orientation\": \"v\", \"showlegend\": true, \"textposition\": \"auto\", \"x\": [\"South\"], \"xaxis\": \"x\", \"y\": [3.46], \"yaxis\": \"y\", \"type\": \"bar\"}, {\"alignmentgroup\": \"True\", \"hovertemplate\": \"States=Kerala<br>Month_name=Mar<br>Region=%{x}<br>Estimated Unemployment Rate=%{y}<extra></extra>\", \"legendgroup\": \"Kerala\", \"marker\": {\"color\": \"#00cc96\"}, \"name\": \"Kerala\", \"offsetgroup\": \"Kerala\", \"orientation\": \"v\", \"showlegend\": true, \"textposition\": \"auto\", \"x\": [\"South\"], \"xaxis\": \"x\", \"y\": [8.99], \"yaxis\": \"y\", \"type\": \"bar\"}, {\"alignmentgroup\": \"True\", \"hovertemplate\": \"States=Madhya Pradesh<br>Month_name=Mar<br>Region=%{x}<br>Estimated Unemployment Rate=%{y}<extra></extra>\", \"legendgroup\": \"Madhya Pradesh\", \"marker\": {\"color\": \"#ab63fa\"}, \"name\": \"Madhya Pradesh\", \"offsetgroup\": \"Madhya Pradesh\", \"orientation\": \"v\", \"showlegend\": true, \"textposition\": \"auto\", \"x\": [\"West\"], \"xaxis\": \"x\", \"y\": [2.22], \"yaxis\": \"y\", \"type\": \"bar\"}, {\"alignmentgroup\": \"True\", \"hovertemplate\": \"States=Maharashtra<br>Month_name=Mar<br>Region=%{x}<br>Estimated Unemployment Rate=%{y}<extra></extra>\", \"legendgroup\": \"Maharashtra\", \"marker\": {\"color\": \"#FFA15A\"}, \"name\": \"Maharashtra\", \"offsetgroup\": \"Maharashtra\", \"orientation\": \"v\", \"showlegend\": true, \"textposition\": \"auto\", \"x\": [\"West\"], \"xaxis\": \"x\", \"y\": [5.79], \"yaxis\": \"y\", \"type\": \"bar\"}, {\"alignmentgroup\": \"True\", \"hovertemplate\": \"States=Meghalaya<br>Month_name=Mar<br>Region=%{x}<br>Estimated Unemployment Rate=%{y}<extra></extra>\", \"legendgroup\": \"Meghalaya\", \"marker\": {\"color\": \"#19d3f3\"}, \"name\": \"Meghalaya\", \"offsetgroup\": \"Meghalaya\", \"orientation\": \"v\", \"showlegend\": true, \"textposition\": \"auto\", \"x\": [\"Northeast\"], \"xaxis\": \"x\", \"y\": [1.58], \"yaxis\": \"y\", \"type\": \"bar\"}, {\"alignmentgroup\": \"True\", \"hovertemplate\": \"States=Odisha<br>Month_name=Mar<br>Region=%{x}<br>Estimated Unemployment Rate=%{y}<extra></extra>\", \"legendgroup\": \"Odisha\", \"marker\": {\"color\": \"#FF6692\"}, \"name\": \"Odisha\", \"offsetgroup\": \"Odisha\", \"orientation\": \"v\", \"showlegend\": true, \"textposition\": \"auto\", \"x\": [\"East\"], \"xaxis\": \"x\", \"y\": [13.08], \"yaxis\": \"y\", \"type\": \"bar\"}, {\"alignmentgroup\": \"True\", \"hovertemplate\": \"States=Puducherry<br>Month_name=Mar<br>Region=%{x}<br>Estimated Unemployment Rate=%{y}<extra></extra>\", \"legendgroup\": \"Puducherry\", \"marker\": {\"color\": \"#B6E880\"}, \"name\": \"Puducherry\", \"offsetgroup\": \"Puducherry\", \"orientation\": \"v\", \"showlegend\": true, \"textposition\": \"auto\", \"x\": [\"South\"], \"xaxis\": \"x\", \"y\": [1.2], \"yaxis\": \"y\", \"type\": \"bar\"}, {\"alignmentgroup\": \"True\", \"hovertemplate\": \"States=Punjab<br>Month_name=Mar<br>Region=%{x}<br>Estimated Unemployment Rate=%{y}<extra></extra>\", \"legendgroup\": \"Punjab\", \"marker\": {\"color\": \"#FF97FF\"}, \"name\": \"Punjab\", \"offsetgroup\": \"Punjab\", \"orientation\": \"v\", \"showlegend\": true, \"textposition\": \"auto\", \"x\": [\"North\"], \"xaxis\": \"x\", \"y\": [10.32], \"yaxis\": \"y\", \"type\": \"bar\"}, {\"alignmentgroup\": \"True\", \"hovertemplate\": \"States=Rajasthan<br>Month_name=Mar<br>Region=%{x}<br>Estimated Unemployment Rate=%{y}<extra></extra>\", \"legendgroup\": \"Rajasthan\", \"marker\": {\"color\": \"#FECB52\"}, \"name\": \"Rajasthan\", \"offsetgroup\": \"Rajasthan\", \"orientation\": \"v\", \"showlegend\": true, \"textposition\": \"auto\", \"x\": [\"North\"], \"xaxis\": \"x\", \"y\": [11.9], \"yaxis\": \"y\", \"type\": \"bar\"}, {\"alignmentgroup\": \"True\", \"hovertemplate\": \"States=Sikkim<br>Month_name=Mar<br>Region=%{x}<br>Estimated Unemployment Rate=%{y}<extra></extra>\", \"legendgroup\": \"Sikkim\", \"marker\": {\"color\": \"#636efa\"}, \"name\": \"Sikkim\", \"offsetgroup\": \"Sikkim\", \"orientation\": \"v\", \"showlegend\": true, \"textposition\": \"auto\", \"x\": [\"Northeast\"], \"xaxis\": \"x\", \"y\": [23.57], \"yaxis\": \"y\", \"type\": \"bar\"}, {\"alignmentgroup\": \"True\", \"hovertemplate\": \"States=Tamil Nadu<br>Month_name=Mar<br>Region=%{x}<br>Estimated Unemployment Rate=%{y}<extra></extra>\", \"legendgroup\": \"Tamil Nadu\", \"marker\": {\"color\": \"#EF553B\"}, \"name\": \"Tamil Nadu\", \"offsetgroup\": \"Tamil Nadu\", \"orientation\": \"v\", \"showlegend\": true, \"textposition\": \"auto\", \"x\": [\"South\"], \"xaxis\": \"x\", \"y\": [6.4], \"yaxis\": \"y\", \"type\": \"bar\"}, {\"alignmentgroup\": \"True\", \"hovertemplate\": \"States=Telangana<br>Month_name=Mar<br>Region=%{x}<br>Estimated Unemployment Rate=%{y}<extra></extra>\", \"legendgroup\": \"Telangana\", \"marker\": {\"color\": \"#00cc96\"}, \"name\": \"Telangana\", \"offsetgroup\": \"Telangana\", \"orientation\": \"v\", \"showlegend\": true, \"textposition\": \"auto\", \"x\": [\"South\"], \"xaxis\": \"x\", \"y\": [5.77], \"yaxis\": \"y\", \"type\": \"bar\"}, {\"alignmentgroup\": \"True\", \"hovertemplate\": \"States=Tripura<br>Month_name=Mar<br>Region=%{x}<br>Estimated Unemployment Rate=%{y}<extra></extra>\", \"legendgroup\": \"Tripura\", \"marker\": {\"color\": \"#ab63fa\"}, \"name\": \"Tripura\", \"offsetgroup\": \"Tripura\", \"orientation\": \"v\", \"showlegend\": true, \"textposition\": \"auto\", \"x\": [\"Northeast\"], \"xaxis\": \"x\", \"y\": [29.95], \"yaxis\": \"y\", \"type\": \"bar\"}, {\"alignmentgroup\": \"True\", \"hovertemplate\": \"States=Uttar Pradesh<br>Month_name=Mar<br>Region=%{x}<br>Estimated Unemployment Rate=%{y}<extra></extra>\", \"legendgroup\": \"Uttar Pradesh\", \"marker\": {\"color\": \"#FFA15A\"}, \"name\": \"Uttar Pradesh\", \"offsetgroup\": \"Uttar Pradesh\", \"orientation\": \"v\", \"showlegend\": true, \"textposition\": \"auto\", \"x\": [\"North\"], \"xaxis\": \"x\", \"y\": [10.11], \"yaxis\": \"y\", \"type\": \"bar\"}, {\"alignmentgroup\": \"True\", \"hovertemplate\": \"States=Uttarakhand<br>Month_name=Mar<br>Region=%{x}<br>Estimated Unemployment Rate=%{y}<extra></extra>\", \"legendgroup\": \"Uttarakhand\", \"marker\": {\"color\": \"#19d3f3\"}, \"name\": \"Uttarakhand\", \"offsetgroup\": \"Uttarakhand\", \"orientation\": \"v\", \"showlegend\": true, \"textposition\": \"auto\", \"x\": [\"North\"], \"xaxis\": \"x\", \"y\": [19.85], \"yaxis\": \"y\", \"type\": \"bar\"}, {\"alignmentgroup\": \"True\", \"hovertemplate\": \"States=West Bengal<br>Month_name=Mar<br>Region=%{x}<br>Estimated Unemployment Rate=%{y}<extra></extra>\", \"legendgroup\": \"West Bengal\", \"marker\": {\"color\": \"#FF6692\"}, \"name\": \"West Bengal\", \"offsetgroup\": \"West Bengal\", \"orientation\": \"v\", \"showlegend\": true, \"textposition\": \"auto\", \"x\": [\"East\"], \"xaxis\": \"x\", \"y\": [6.92], \"yaxis\": \"y\", \"type\": \"bar\"}], \"name\": \"Mar\"}, {\"data\": [{\"alignmentgroup\": \"True\", \"hovertemplate\": \"States=Andhra Pradesh<br>Month_name=Apr<br>Region=%{x}<br>Estimated Unemployment Rate=%{y}<extra></extra>\", \"legendgroup\": \"Andhra Pradesh\", \"marker\": {\"color\": \"#636efa\"}, \"name\": \"Andhra Pradesh\", \"offsetgroup\": \"Andhra Pradesh\", \"orientation\": \"v\", \"showlegend\": true, \"textposition\": \"auto\", \"x\": [\"South\"], \"xaxis\": \"x\", \"y\": [20.51], \"yaxis\": \"y\", \"type\": \"bar\"}, {\"alignmentgroup\": \"True\", \"hovertemplate\": \"States=Assam<br>Month_name=Apr<br>Region=%{x}<br>Estimated Unemployment Rate=%{y}<extra></extra>\", \"legendgroup\": \"Assam\", \"marker\": {\"color\": \"#EF553B\"}, \"name\": \"Assam\", \"offsetgroup\": \"Assam\", \"orientation\": \"v\", \"showlegend\": true, \"textposition\": \"auto\", \"x\": [\"Northeast\"], \"xaxis\": \"x\", \"y\": [11.06], \"yaxis\": \"y\", \"type\": \"bar\"}, {\"alignmentgroup\": \"True\", \"hovertemplate\": \"States=Bihar<br>Month_name=Apr<br>Region=%{x}<br>Estimated Unemployment Rate=%{y}<extra></extra>\", \"legendgroup\": \"Bihar\", \"marker\": {\"color\": \"#00cc96\"}, \"name\": \"Bihar\", \"offsetgroup\": \"Bihar\", \"orientation\": \"v\", \"showlegend\": true, \"textposition\": \"auto\", \"x\": [\"East\"], \"xaxis\": \"x\", \"y\": [46.64], \"yaxis\": \"y\", \"type\": \"bar\"}, {\"alignmentgroup\": \"True\", \"hovertemplate\": \"States=Chhattisgarh<br>Month_name=Apr<br>Region=%{x}<br>Estimated Unemployment Rate=%{y}<extra></extra>\", \"legendgroup\": \"Chhattisgarh\", \"marker\": {\"color\": \"#ab63fa\"}, \"name\": \"Chhattisgarh\", \"offsetgroup\": \"Chhattisgarh\", \"orientation\": \"v\", \"showlegend\": true, \"textposition\": \"auto\", \"x\": [\"West\"], \"xaxis\": \"x\", \"y\": [3.41], \"yaxis\": \"y\", \"type\": \"bar\"}, {\"alignmentgroup\": \"True\", \"hovertemplate\": \"States=Delhi<br>Month_name=Apr<br>Region=%{x}<br>Estimated Unemployment Rate=%{y}<extra></extra>\", \"legendgroup\": \"Delhi\", \"marker\": {\"color\": \"#FFA15A\"}, \"name\": \"Delhi\", \"offsetgroup\": \"Delhi\", \"orientation\": \"v\", \"showlegend\": true, \"textposition\": \"auto\", \"x\": [\"North\"], \"xaxis\": \"x\", \"y\": [16.68], \"yaxis\": \"y\", \"type\": \"bar\"}, {\"alignmentgroup\": \"True\", \"hovertemplate\": \"States=Goa<br>Month_name=Apr<br>Region=%{x}<br>Estimated Unemployment Rate=%{y}<extra></extra>\", \"legendgroup\": \"Goa\", \"marker\": {\"color\": \"#19d3f3\"}, \"name\": \"Goa\", \"offsetgroup\": \"Goa\", \"orientation\": \"v\", \"showlegend\": true, \"textposition\": \"auto\", \"x\": [\"West\"], \"xaxis\": \"x\", \"y\": [13.31], \"yaxis\": \"y\", \"type\": \"bar\"}, {\"alignmentgroup\": \"True\", \"hovertemplate\": \"States=Gujarat<br>Month_name=Apr<br>Region=%{x}<br>Estimated Unemployment Rate=%{y}<extra></extra>\", \"legendgroup\": \"Gujarat\", \"marker\": {\"color\": \"#FF6692\"}, \"name\": \"Gujarat\", \"offsetgroup\": \"Gujarat\", \"orientation\": \"v\", \"showlegend\": true, \"textposition\": \"auto\", \"x\": [\"West\"], \"xaxis\": \"x\", \"y\": [18.71], \"yaxis\": \"y\", \"type\": \"bar\"}, {\"alignmentgroup\": \"True\", \"hovertemplate\": \"States=Haryana<br>Month_name=Apr<br>Region=%{x}<br>Estimated Unemployment Rate=%{y}<extra></extra>\", \"legendgroup\": \"Haryana\", \"marker\": {\"color\": \"#B6E880\"}, \"name\": \"Haryana\", \"offsetgroup\": \"Haryana\", \"orientation\": \"v\", \"showlegend\": true, \"textposition\": \"auto\", \"x\": [\"North\"], \"xaxis\": \"x\", \"y\": [43.22], \"yaxis\": \"y\", \"type\": \"bar\"}, {\"alignmentgroup\": \"True\", \"hovertemplate\": \"States=Himachal Pradesh<br>Month_name=Apr<br>Region=%{x}<br>Estimated Unemployment Rate=%{y}<extra></extra>\", \"legendgroup\": \"Himachal Pradesh\", \"marker\": {\"color\": \"#FF97FF\"}, \"name\": \"Himachal Pradesh\", \"offsetgroup\": \"Himachal Pradesh\", \"orientation\": \"v\", \"showlegend\": true, \"textposition\": \"auto\", \"x\": [\"North\"], \"xaxis\": \"x\", \"y\": [2.2], \"yaxis\": \"y\", \"type\": \"bar\"}, {\"alignmentgroup\": \"True\", \"hovertemplate\": \"States=Jharkhand<br>Month_name=Apr<br>Region=%{x}<br>Estimated Unemployment Rate=%{y}<extra></extra>\", \"legendgroup\": \"Jharkhand\", \"marker\": {\"color\": \"#636efa\"}, \"name\": \"Jharkhand\", \"offsetgroup\": \"Jharkhand\", \"orientation\": \"v\", \"showlegend\": true, \"textposition\": \"auto\", \"x\": [\"East\"], \"xaxis\": \"x\", \"y\": [47.09], \"yaxis\": \"y\", \"type\": \"bar\"}, {\"alignmentgroup\": \"True\", \"hovertemplate\": \"States=Karnataka<br>Month_name=Apr<br>Region=%{x}<br>Estimated Unemployment Rate=%{y}<extra></extra>\", \"legendgroup\": \"Karnataka\", \"marker\": {\"color\": \"#EF553B\"}, \"name\": \"Karnataka\", \"offsetgroup\": \"Karnataka\", \"orientation\": \"v\", \"showlegend\": true, \"textposition\": \"auto\", \"x\": [\"South\"], \"xaxis\": \"x\", \"y\": [29.84], \"yaxis\": \"y\", \"type\": \"bar\"}, {\"alignmentgroup\": \"True\", \"hovertemplate\": \"States=Kerala<br>Month_name=Apr<br>Region=%{x}<br>Estimated Unemployment Rate=%{y}<extra></extra>\", \"legendgroup\": \"Kerala\", \"marker\": {\"color\": \"#00cc96\"}, \"name\": \"Kerala\", \"offsetgroup\": \"Kerala\", \"orientation\": \"v\", \"showlegend\": true, \"textposition\": \"auto\", \"x\": [\"South\"], \"xaxis\": \"x\", \"y\": [16.99], \"yaxis\": \"y\", \"type\": \"bar\"}, {\"alignmentgroup\": \"True\", \"hovertemplate\": \"States=Madhya Pradesh<br>Month_name=Apr<br>Region=%{x}<br>Estimated Unemployment Rate=%{y}<extra></extra>\", \"legendgroup\": \"Madhya Pradesh\", \"marker\": {\"color\": \"#ab63fa\"}, \"name\": \"Madhya Pradesh\", \"offsetgroup\": \"Madhya Pradesh\", \"orientation\": \"v\", \"showlegend\": true, \"textposition\": \"auto\", \"x\": [\"West\"], \"xaxis\": \"x\", \"y\": [12.36], \"yaxis\": \"y\", \"type\": \"bar\"}, {\"alignmentgroup\": \"True\", \"hovertemplate\": \"States=Maharashtra<br>Month_name=Apr<br>Region=%{x}<br>Estimated Unemployment Rate=%{y}<extra></extra>\", \"legendgroup\": \"Maharashtra\", \"marker\": {\"color\": \"#FFA15A\"}, \"name\": \"Maharashtra\", \"offsetgroup\": \"Maharashtra\", \"orientation\": \"v\", \"showlegend\": true, \"textposition\": \"auto\", \"x\": [\"West\"], \"xaxis\": \"x\", \"y\": [20.9], \"yaxis\": \"y\", \"type\": \"bar\"}, {\"alignmentgroup\": \"True\", \"hovertemplate\": \"States=Meghalaya<br>Month_name=Apr<br>Region=%{x}<br>Estimated Unemployment Rate=%{y}<extra></extra>\", \"legendgroup\": \"Meghalaya\", \"marker\": {\"color\": \"#19d3f3\"}, \"name\": \"Meghalaya\", \"offsetgroup\": \"Meghalaya\", \"orientation\": \"v\", \"showlegend\": true, \"textposition\": \"auto\", \"x\": [\"Northeast\"], \"xaxis\": \"x\", \"y\": [10.03], \"yaxis\": \"y\", \"type\": \"bar\"}, {\"alignmentgroup\": \"True\", \"hovertemplate\": \"States=Odisha<br>Month_name=Apr<br>Region=%{x}<br>Estimated Unemployment Rate=%{y}<extra></extra>\", \"legendgroup\": \"Odisha\", \"marker\": {\"color\": \"#FF6692\"}, \"name\": \"Odisha\", \"offsetgroup\": \"Odisha\", \"orientation\": \"v\", \"showlegend\": true, \"textposition\": \"auto\", \"x\": [\"East\"], \"xaxis\": \"x\", \"y\": [23.76], \"yaxis\": \"y\", \"type\": \"bar\"}, {\"alignmentgroup\": \"True\", \"hovertemplate\": \"States=Puducherry<br>Month_name=Apr<br>Region=%{x}<br>Estimated Unemployment Rate=%{y}<extra></extra>\", \"legendgroup\": \"Puducherry\", \"marker\": {\"color\": \"#B6E880\"}, \"name\": \"Puducherry\", \"offsetgroup\": \"Puducherry\", \"orientation\": \"v\", \"showlegend\": true, \"textposition\": \"auto\", \"x\": [\"South\"], \"xaxis\": \"x\", \"y\": [75.85], \"yaxis\": \"y\", \"type\": \"bar\"}, {\"alignmentgroup\": \"True\", \"hovertemplate\": \"States=Punjab<br>Month_name=Apr<br>Region=%{x}<br>Estimated Unemployment Rate=%{y}<extra></extra>\", \"legendgroup\": \"Punjab\", \"marker\": {\"color\": \"#FF97FF\"}, \"name\": \"Punjab\", \"offsetgroup\": \"Punjab\", \"orientation\": \"v\", \"showlegend\": true, \"textposition\": \"auto\", \"x\": [\"North\"], \"xaxis\": \"x\", \"y\": [2.86], \"yaxis\": \"y\", \"type\": \"bar\"}, {\"alignmentgroup\": \"True\", \"hovertemplate\": \"States=Rajasthan<br>Month_name=Apr<br>Region=%{x}<br>Estimated Unemployment Rate=%{y}<extra></extra>\", \"legendgroup\": \"Rajasthan\", \"marker\": {\"color\": \"#FECB52\"}, \"name\": \"Rajasthan\", \"offsetgroup\": \"Rajasthan\", \"orientation\": \"v\", \"showlegend\": true, \"textposition\": \"auto\", \"x\": [\"North\"], \"xaxis\": \"x\", \"y\": [17.7], \"yaxis\": \"y\", \"type\": \"bar\"}, {\"alignmentgroup\": \"True\", \"hovertemplate\": \"States=Sikkim<br>Month_name=Apr<br>Region=%{x}<br>Estimated Unemployment Rate=%{y}<extra></extra>\", \"legendgroup\": \"Sikkim\", \"marker\": {\"color\": \"#636efa\"}, \"name\": \"Sikkim\", \"offsetgroup\": \"Sikkim\", \"orientation\": \"v\", \"showlegend\": true, \"textposition\": \"auto\", \"x\": [\"Northeast\"], \"xaxis\": \"x\", \"y\": [2.28], \"yaxis\": \"y\", \"type\": \"bar\"}, {\"alignmentgroup\": \"True\", \"hovertemplate\": \"States=Tamil Nadu<br>Month_name=Apr<br>Region=%{x}<br>Estimated Unemployment Rate=%{y}<extra></extra>\", \"legendgroup\": \"Tamil Nadu\", \"marker\": {\"color\": \"#EF553B\"}, \"name\": \"Tamil Nadu\", \"offsetgroup\": \"Tamil Nadu\", \"orientation\": \"v\", \"showlegend\": true, \"textposition\": \"auto\", \"x\": [\"South\"], \"xaxis\": \"x\", \"y\": [49.83], \"yaxis\": \"y\", \"type\": \"bar\"}, {\"alignmentgroup\": \"True\", \"hovertemplate\": \"States=Telangana<br>Month_name=Apr<br>Region=%{x}<br>Estimated Unemployment Rate=%{y}<extra></extra>\", \"legendgroup\": \"Telangana\", \"marker\": {\"color\": \"#00cc96\"}, \"name\": \"Telangana\", \"offsetgroup\": \"Telangana\", \"orientation\": \"v\", \"showlegend\": true, \"textposition\": \"auto\", \"x\": [\"South\"], \"xaxis\": \"x\", \"y\": [6.25], \"yaxis\": \"y\", \"type\": \"bar\"}, {\"alignmentgroup\": \"True\", \"hovertemplate\": \"States=Tripura<br>Month_name=Apr<br>Region=%{x}<br>Estimated Unemployment Rate=%{y}<extra></extra>\", \"legendgroup\": \"Tripura\", \"marker\": {\"color\": \"#ab63fa\"}, \"name\": \"Tripura\", \"offsetgroup\": \"Tripura\", \"orientation\": \"v\", \"showlegend\": true, \"textposition\": \"auto\", \"x\": [\"Northeast\"], \"xaxis\": \"x\", \"y\": [41.23], \"yaxis\": \"y\", \"type\": \"bar\"}, {\"alignmentgroup\": \"True\", \"hovertemplate\": \"States=Uttar Pradesh<br>Month_name=Apr<br>Region=%{x}<br>Estimated Unemployment Rate=%{y}<extra></extra>\", \"legendgroup\": \"Uttar Pradesh\", \"marker\": {\"color\": \"#FFA15A\"}, \"name\": \"Uttar Pradesh\", \"offsetgroup\": \"Uttar Pradesh\", \"orientation\": \"v\", \"showlegend\": true, \"textposition\": \"auto\", \"x\": [\"North\"], \"xaxis\": \"x\", \"y\": [21.54], \"yaxis\": \"y\", \"type\": \"bar\"}, {\"alignmentgroup\": \"True\", \"hovertemplate\": \"States=Uttarakhand<br>Month_name=Apr<br>Region=%{x}<br>Estimated Unemployment Rate=%{y}<extra></extra>\", \"legendgroup\": \"Uttarakhand\", \"marker\": {\"color\": \"#19d3f3\"}, \"name\": \"Uttarakhand\", \"offsetgroup\": \"Uttarakhand\", \"orientation\": \"v\", \"showlegend\": true, \"textposition\": \"auto\", \"x\": [\"North\"], \"xaxis\": \"x\", \"y\": [6.48], \"yaxis\": \"y\", \"type\": \"bar\"}, {\"alignmentgroup\": \"True\", \"hovertemplate\": \"States=West Bengal<br>Month_name=Apr<br>Region=%{x}<br>Estimated Unemployment Rate=%{y}<extra></extra>\", \"legendgroup\": \"West Bengal\", \"marker\": {\"color\": \"#FF6692\"}, \"name\": \"West Bengal\", \"offsetgroup\": \"West Bengal\", \"orientation\": \"v\", \"showlegend\": true, \"textposition\": \"auto\", \"x\": [\"East\"], \"xaxis\": \"x\", \"y\": [17.41], \"yaxis\": \"y\", \"type\": \"bar\"}], \"name\": \"Apr\"}, {\"data\": [{\"alignmentgroup\": \"True\", \"hovertemplate\": \"States=Andhra Pradesh<br>Month_name=May<br>Region=%{x}<br>Estimated Unemployment Rate=%{y}<extra></extra>\", \"legendgroup\": \"Andhra Pradesh\", \"marker\": {\"color\": \"#636efa\"}, \"name\": \"Andhra Pradesh\", \"offsetgroup\": \"Andhra Pradesh\", \"orientation\": \"v\", \"showlegend\": true, \"textposition\": \"auto\", \"x\": [\"South\"], \"xaxis\": \"x\", \"y\": [17.43], \"yaxis\": \"y\", \"type\": \"bar\"}, {\"alignmentgroup\": \"True\", \"hovertemplate\": \"States=Assam<br>Month_name=May<br>Region=%{x}<br>Estimated Unemployment Rate=%{y}<extra></extra>\", \"legendgroup\": \"Assam\", \"marker\": {\"color\": \"#EF553B\"}, \"name\": \"Assam\", \"offsetgroup\": \"Assam\", \"orientation\": \"v\", \"showlegend\": true, \"textposition\": \"auto\", \"x\": [\"Northeast\"], \"xaxis\": \"x\", \"y\": [9.55], \"yaxis\": \"y\", \"type\": \"bar\"}, {\"alignmentgroup\": \"True\", \"hovertemplate\": \"States=Bihar<br>Month_name=May<br>Region=%{x}<br>Estimated Unemployment Rate=%{y}<extra></extra>\", \"legendgroup\": \"Bihar\", \"marker\": {\"color\": \"#00cc96\"}, \"name\": \"Bihar\", \"offsetgroup\": \"Bihar\", \"orientation\": \"v\", \"showlegend\": true, \"textposition\": \"auto\", \"x\": [\"East\"], \"xaxis\": \"x\", \"y\": [45.96], \"yaxis\": \"y\", \"type\": \"bar\"}, {\"alignmentgroup\": \"True\", \"hovertemplate\": \"States=Chhattisgarh<br>Month_name=May<br>Region=%{x}<br>Estimated Unemployment Rate=%{y}<extra></extra>\", \"legendgroup\": \"Chhattisgarh\", \"marker\": {\"color\": \"#ab63fa\"}, \"name\": \"Chhattisgarh\", \"offsetgroup\": \"Chhattisgarh\", \"orientation\": \"v\", \"showlegend\": true, \"textposition\": \"auto\", \"x\": [\"West\"], \"xaxis\": \"x\", \"y\": [10.5], \"yaxis\": \"y\", \"type\": \"bar\"}, {\"alignmentgroup\": \"True\", \"hovertemplate\": \"States=Delhi<br>Month_name=May<br>Region=%{x}<br>Estimated Unemployment Rate=%{y}<extra></extra>\", \"legendgroup\": \"Delhi\", \"marker\": {\"color\": \"#FFA15A\"}, \"name\": \"Delhi\", \"offsetgroup\": \"Delhi\", \"orientation\": \"v\", \"showlegend\": true, \"textposition\": \"auto\", \"x\": [\"North\"], \"xaxis\": \"x\", \"y\": [42.27], \"yaxis\": \"y\", \"type\": \"bar\"}, {\"alignmentgroup\": \"True\", \"hovertemplate\": \"States=Goa<br>Month_name=May<br>Region=%{x}<br>Estimated Unemployment Rate=%{y}<extra></extra>\", \"legendgroup\": \"Goa\", \"marker\": {\"color\": \"#19d3f3\"}, \"name\": \"Goa\", \"offsetgroup\": \"Goa\", \"orientation\": \"v\", \"showlegend\": true, \"textposition\": \"auto\", \"x\": [\"West\"], \"xaxis\": \"x\", \"y\": [21.25], \"yaxis\": \"y\", \"type\": \"bar\"}, {\"alignmentgroup\": \"True\", \"hovertemplate\": \"States=Gujarat<br>Month_name=May<br>Region=%{x}<br>Estimated Unemployment Rate=%{y}<extra></extra>\", \"legendgroup\": \"Gujarat\", \"marker\": {\"color\": \"#FF6692\"}, \"name\": \"Gujarat\", \"offsetgroup\": \"Gujarat\", \"orientation\": \"v\", \"showlegend\": true, \"textposition\": \"auto\", \"x\": [\"West\"], \"xaxis\": \"x\", \"y\": [12.11], \"yaxis\": \"y\", \"type\": \"bar\"}, {\"alignmentgroup\": \"True\", \"hovertemplate\": \"States=Haryana<br>Month_name=May<br>Region=%{x}<br>Estimated Unemployment Rate=%{y}<extra></extra>\", \"legendgroup\": \"Haryana\", \"marker\": {\"color\": \"#B6E880\"}, \"name\": \"Haryana\", \"offsetgroup\": \"Haryana\", \"orientation\": \"v\", \"showlegend\": true, \"textposition\": \"auto\", \"x\": [\"North\"], \"xaxis\": \"x\", \"y\": [29.02], \"yaxis\": \"y\", \"type\": \"bar\"}, {\"alignmentgroup\": \"True\", \"hovertemplate\": \"States=Himachal Pradesh<br>Month_name=May<br>Region=%{x}<br>Estimated Unemployment Rate=%{y}<extra></extra>\", \"legendgroup\": \"Himachal Pradesh\", \"marker\": {\"color\": \"#FF97FF\"}, \"name\": \"Himachal Pradesh\", \"offsetgroup\": \"Himachal Pradesh\", \"orientation\": \"v\", \"showlegend\": true, \"textposition\": \"auto\", \"x\": [\"North\"], \"xaxis\": \"x\", \"y\": [26.95], \"yaxis\": \"y\", \"type\": \"bar\"}, {\"alignmentgroup\": \"True\", \"hovertemplate\": \"States=Jammu & Kashmir<br>Month_name=May<br>Region=%{x}<br>Estimated Unemployment Rate=%{y}<extra></extra>\", \"legendgroup\": \"Jammu & Kashmir\", \"marker\": {\"color\": \"#FECB52\"}, \"name\": \"Jammu & Kashmir\", \"offsetgroup\": \"Jammu & Kashmir\", \"orientation\": \"v\", \"showlegend\": true, \"textposition\": \"auto\", \"x\": [\"North\"], \"xaxis\": \"x\", \"y\": [18.74], \"yaxis\": \"y\", \"type\": \"bar\"}, {\"alignmentgroup\": \"True\", \"hovertemplate\": \"States=Jharkhand<br>Month_name=May<br>Region=%{x}<br>Estimated Unemployment Rate=%{y}<extra></extra>\", \"legendgroup\": \"Jharkhand\", \"marker\": {\"color\": \"#636efa\"}, \"name\": \"Jharkhand\", \"offsetgroup\": \"Jharkhand\", \"orientation\": \"v\", \"showlegend\": true, \"textposition\": \"auto\", \"x\": [\"East\"], \"xaxis\": \"x\", \"y\": [59.23], \"yaxis\": \"y\", \"type\": \"bar\"}, {\"alignmentgroup\": \"True\", \"hovertemplate\": \"States=Karnataka<br>Month_name=May<br>Region=%{x}<br>Estimated Unemployment Rate=%{y}<extra></extra>\", \"legendgroup\": \"Karnataka\", \"marker\": {\"color\": \"#EF553B\"}, \"name\": \"Karnataka\", \"offsetgroup\": \"Karnataka\", \"orientation\": \"v\", \"showlegend\": true, \"textposition\": \"auto\", \"x\": [\"South\"], \"xaxis\": \"x\", \"y\": [19.97], \"yaxis\": \"y\", \"type\": \"bar\"}, {\"alignmentgroup\": \"True\", \"hovertemplate\": \"States=Kerala<br>Month_name=May<br>Region=%{x}<br>Estimated Unemployment Rate=%{y}<extra></extra>\", \"legendgroup\": \"Kerala\", \"marker\": {\"color\": \"#00cc96\"}, \"name\": \"Kerala\", \"offsetgroup\": \"Kerala\", \"orientation\": \"v\", \"showlegend\": true, \"textposition\": \"auto\", \"x\": [\"South\"], \"xaxis\": \"x\", \"y\": [17.88], \"yaxis\": \"y\", \"type\": \"bar\"}, {\"alignmentgroup\": \"True\", \"hovertemplate\": \"States=Madhya Pradesh<br>Month_name=May<br>Region=%{x}<br>Estimated Unemployment Rate=%{y}<extra></extra>\", \"legendgroup\": \"Madhya Pradesh\", \"marker\": {\"color\": \"#ab63fa\"}, \"name\": \"Madhya Pradesh\", \"offsetgroup\": \"Madhya Pradesh\", \"orientation\": \"v\", \"showlegend\": true, \"textposition\": \"auto\", \"x\": [\"West\"], \"xaxis\": \"x\", \"y\": [21.98], \"yaxis\": \"y\", \"type\": \"bar\"}, {\"alignmentgroup\": \"True\", \"hovertemplate\": \"States=Maharashtra<br>Month_name=May<br>Region=%{x}<br>Estimated Unemployment Rate=%{y}<extra></extra>\", \"legendgroup\": \"Maharashtra\", \"marker\": {\"color\": \"#FFA15A\"}, \"name\": \"Maharashtra\", \"offsetgroup\": \"Maharashtra\", \"orientation\": \"v\", \"showlegend\": true, \"textposition\": \"auto\", \"x\": [\"West\"], \"xaxis\": \"x\", \"y\": [15.46], \"yaxis\": \"y\", \"type\": \"bar\"}, {\"alignmentgroup\": \"True\", \"hovertemplate\": \"States=Meghalaya<br>Month_name=May<br>Region=%{x}<br>Estimated Unemployment Rate=%{y}<extra></extra>\", \"legendgroup\": \"Meghalaya\", \"marker\": {\"color\": \"#19d3f3\"}, \"name\": \"Meghalaya\", \"offsetgroup\": \"Meghalaya\", \"orientation\": \"v\", \"showlegend\": true, \"textposition\": \"auto\", \"x\": [\"Northeast\"], \"xaxis\": \"x\", \"y\": [5.92], \"yaxis\": \"y\", \"type\": \"bar\"}, {\"alignmentgroup\": \"True\", \"hovertemplate\": \"States=Odisha<br>Month_name=May<br>Region=%{x}<br>Estimated Unemployment Rate=%{y}<extra></extra>\", \"legendgroup\": \"Odisha\", \"marker\": {\"color\": \"#FF6692\"}, \"name\": \"Odisha\", \"offsetgroup\": \"Odisha\", \"orientation\": \"v\", \"showlegend\": true, \"textposition\": \"auto\", \"x\": [\"East\"], \"xaxis\": \"x\", \"y\": [11.41], \"yaxis\": \"y\", \"type\": \"bar\"}, {\"alignmentgroup\": \"True\", \"hovertemplate\": \"States=Puducherry<br>Month_name=May<br>Region=%{x}<br>Estimated Unemployment Rate=%{y}<extra></extra>\", \"legendgroup\": \"Puducherry\", \"marker\": {\"color\": \"#B6E880\"}, \"name\": \"Puducherry\", \"offsetgroup\": \"Puducherry\", \"orientation\": \"v\", \"showlegend\": true, \"textposition\": \"auto\", \"x\": [\"South\"], \"xaxis\": \"x\", \"y\": [58.19], \"yaxis\": \"y\", \"type\": \"bar\"}, {\"alignmentgroup\": \"True\", \"hovertemplate\": \"States=Punjab<br>Month_name=May<br>Region=%{x}<br>Estimated Unemployment Rate=%{y}<extra></extra>\", \"legendgroup\": \"Punjab\", \"marker\": {\"color\": \"#FF97FF\"}, \"name\": \"Punjab\", \"offsetgroup\": \"Punjab\", \"orientation\": \"v\", \"showlegend\": true, \"textposition\": \"auto\", \"x\": [\"North\"], \"xaxis\": \"x\", \"y\": [28.33], \"yaxis\": \"y\", \"type\": \"bar\"}, {\"alignmentgroup\": \"True\", \"hovertemplate\": \"States=Rajasthan<br>Month_name=May<br>Region=%{x}<br>Estimated Unemployment Rate=%{y}<extra></extra>\", \"legendgroup\": \"Rajasthan\", \"marker\": {\"color\": \"#FECB52\"}, \"name\": \"Rajasthan\", \"offsetgroup\": \"Rajasthan\", \"orientation\": \"v\", \"showlegend\": true, \"textposition\": \"auto\", \"x\": [\"North\"], \"xaxis\": \"x\", \"y\": [15.74], \"yaxis\": \"y\", \"type\": \"bar\"}, {\"alignmentgroup\": \"True\", \"hovertemplate\": \"States=Sikkim<br>Month_name=May<br>Region=%{x}<br>Estimated Unemployment Rate=%{y}<extra></extra>\", \"legendgroup\": \"Sikkim\", \"marker\": {\"color\": \"#636efa\"}, \"name\": \"Sikkim\", \"offsetgroup\": \"Sikkim\", \"orientation\": \"v\", \"showlegend\": true, \"textposition\": \"auto\", \"x\": [\"Northeast\"], \"xaxis\": \"x\", \"y\": [24.51], \"yaxis\": \"y\", \"type\": \"bar\"}, {\"alignmentgroup\": \"True\", \"hovertemplate\": \"States=Tamil Nadu<br>Month_name=May<br>Region=%{x}<br>Estimated Unemployment Rate=%{y}<extra></extra>\", \"legendgroup\": \"Tamil Nadu\", \"marker\": {\"color\": \"#EF553B\"}, \"name\": \"Tamil Nadu\", \"offsetgroup\": \"Tamil Nadu\", \"orientation\": \"v\", \"showlegend\": true, \"textposition\": \"auto\", \"x\": [\"South\"], \"xaxis\": \"x\", \"y\": [33.16], \"yaxis\": \"y\", \"type\": \"bar\"}, {\"alignmentgroup\": \"True\", \"hovertemplate\": \"States=Telangana<br>Month_name=May<br>Region=%{x}<br>Estimated Unemployment Rate=%{y}<extra></extra>\", \"legendgroup\": \"Telangana\", \"marker\": {\"color\": \"#00cc96\"}, \"name\": \"Telangana\", \"offsetgroup\": \"Telangana\", \"orientation\": \"v\", \"showlegend\": true, \"textposition\": \"auto\", \"x\": [\"South\"], \"xaxis\": \"x\", \"y\": [14.7], \"yaxis\": \"y\", \"type\": \"bar\"}, {\"alignmentgroup\": \"True\", \"hovertemplate\": \"States=Tripura<br>Month_name=May<br>Region=%{x}<br>Estimated Unemployment Rate=%{y}<extra></extra>\", \"legendgroup\": \"Tripura\", \"marker\": {\"color\": \"#ab63fa\"}, \"name\": \"Tripura\", \"offsetgroup\": \"Tripura\", \"orientation\": \"v\", \"showlegend\": true, \"textposition\": \"auto\", \"x\": [\"Northeast\"], \"xaxis\": \"x\", \"y\": [21.51], \"yaxis\": \"y\", \"type\": \"bar\"}, {\"alignmentgroup\": \"True\", \"hovertemplate\": \"States=Uttar Pradesh<br>Month_name=May<br>Region=%{x}<br>Estimated Unemployment Rate=%{y}<extra></extra>\", \"legendgroup\": \"Uttar Pradesh\", \"marker\": {\"color\": \"#FFA15A\"}, \"name\": \"Uttar Pradesh\", \"offsetgroup\": \"Uttar Pradesh\", \"orientation\": \"v\", \"showlegend\": true, \"textposition\": \"auto\", \"x\": [\"North\"], \"xaxis\": \"x\", \"y\": [20.41], \"yaxis\": \"y\", \"type\": \"bar\"}, {\"alignmentgroup\": \"True\", \"hovertemplate\": \"States=Uttarakhand<br>Month_name=May<br>Region=%{x}<br>Estimated Unemployment Rate=%{y}<extra></extra>\", \"legendgroup\": \"Uttarakhand\", \"marker\": {\"color\": \"#19d3f3\"}, \"name\": \"Uttarakhand\", \"offsetgroup\": \"Uttarakhand\", \"orientation\": \"v\", \"showlegend\": true, \"textposition\": \"auto\", \"x\": [\"North\"], \"xaxis\": \"x\", \"y\": [8.01], \"yaxis\": \"y\", \"type\": \"bar\"}, {\"alignmentgroup\": \"True\", \"hovertemplate\": \"States=West Bengal<br>Month_name=May<br>Region=%{x}<br>Estimated Unemployment Rate=%{y}<extra></extra>\", \"legendgroup\": \"West Bengal\", \"marker\": {\"color\": \"#FF6692\"}, \"name\": \"West Bengal\", \"offsetgroup\": \"West Bengal\", \"orientation\": \"v\", \"showlegend\": true, \"textposition\": \"auto\", \"x\": [\"East\"], \"xaxis\": \"x\", \"y\": [17.41], \"yaxis\": \"y\", \"type\": \"bar\"}], \"name\": \"May\"}, {\"data\": [{\"alignmentgroup\": \"True\", \"hovertemplate\": \"States=Andhra Pradesh<br>Month_name=Jun<br>Region=%{x}<br>Estimated Unemployment Rate=%{y}<extra></extra>\", \"legendgroup\": \"Andhra Pradesh\", \"marker\": {\"color\": \"#636efa\"}, \"name\": \"Andhra Pradesh\", \"offsetgroup\": \"Andhra Pradesh\", \"orientation\": \"v\", \"showlegend\": true, \"textposition\": \"auto\", \"x\": [\"South\"], \"xaxis\": \"x\", \"y\": [3.31], \"yaxis\": \"y\", \"type\": \"bar\"}, {\"alignmentgroup\": \"True\", \"hovertemplate\": \"States=Assam<br>Month_name=Jun<br>Region=%{x}<br>Estimated Unemployment Rate=%{y}<extra></extra>\", \"legendgroup\": \"Assam\", \"marker\": {\"color\": \"#EF553B\"}, \"name\": \"Assam\", \"offsetgroup\": \"Assam\", \"orientation\": \"v\", \"showlegend\": true, \"textposition\": \"auto\", \"x\": [\"Northeast\"], \"xaxis\": \"x\", \"y\": [0.6], \"yaxis\": \"y\", \"type\": \"bar\"}, {\"alignmentgroup\": \"True\", \"hovertemplate\": \"States=Bihar<br>Month_name=Jun<br>Region=%{x}<br>Estimated Unemployment Rate=%{y}<extra></extra>\", \"legendgroup\": \"Bihar\", \"marker\": {\"color\": \"#00cc96\"}, \"name\": \"Bihar\", \"offsetgroup\": \"Bihar\", \"orientation\": \"v\", \"showlegend\": true, \"textposition\": \"auto\", \"x\": [\"East\"], \"xaxis\": \"x\", \"y\": [17.82], \"yaxis\": \"y\", \"type\": \"bar\"}, {\"alignmentgroup\": \"True\", \"hovertemplate\": \"States=Chhattisgarh<br>Month_name=Jun<br>Region=%{x}<br>Estimated Unemployment Rate=%{y}<extra></extra>\", \"legendgroup\": \"Chhattisgarh\", \"marker\": {\"color\": \"#ab63fa\"}, \"name\": \"Chhattisgarh\", \"offsetgroup\": \"Chhattisgarh\", \"orientation\": \"v\", \"showlegend\": true, \"textposition\": \"auto\", \"x\": [\"West\"], \"xaxis\": \"x\", \"y\": [14.23], \"yaxis\": \"y\", \"type\": \"bar\"}, {\"alignmentgroup\": \"True\", \"hovertemplate\": \"States=Delhi<br>Month_name=Jun<br>Region=%{x}<br>Estimated Unemployment Rate=%{y}<extra></extra>\", \"legendgroup\": \"Delhi\", \"marker\": {\"color\": \"#FFA15A\"}, \"name\": \"Delhi\", \"offsetgroup\": \"Delhi\", \"orientation\": \"v\", \"showlegend\": true, \"textposition\": \"auto\", \"x\": [\"North\"], \"xaxis\": \"x\", \"y\": [18.19], \"yaxis\": \"y\", \"type\": \"bar\"}, {\"alignmentgroup\": \"True\", \"hovertemplate\": \"States=Goa<br>Month_name=Jun<br>Region=%{x}<br>Estimated Unemployment Rate=%{y}<extra></extra>\", \"legendgroup\": \"Goa\", \"marker\": {\"color\": \"#19d3f3\"}, \"name\": \"Goa\", \"offsetgroup\": \"Goa\", \"orientation\": \"v\", \"showlegend\": true, \"textposition\": \"auto\", \"x\": [\"West\"], \"xaxis\": \"x\", \"y\": [9.96], \"yaxis\": \"y\", \"type\": \"bar\"}, {\"alignmentgroup\": \"True\", \"hovertemplate\": \"States=Gujarat<br>Month_name=Jun<br>Region=%{x}<br>Estimated Unemployment Rate=%{y}<extra></extra>\", \"legendgroup\": \"Gujarat\", \"marker\": {\"color\": \"#FF6692\"}, \"name\": \"Gujarat\", \"offsetgroup\": \"Gujarat\", \"orientation\": \"v\", \"showlegend\": true, \"textposition\": \"auto\", \"x\": [\"West\"], \"xaxis\": \"x\", \"y\": [3.2], \"yaxis\": \"y\", \"type\": \"bar\"}, {\"alignmentgroup\": \"True\", \"hovertemplate\": \"States=Haryana<br>Month_name=Jun<br>Region=%{x}<br>Estimated Unemployment Rate=%{y}<extra></extra>\", \"legendgroup\": \"Haryana\", \"marker\": {\"color\": \"#B6E880\"}, \"name\": \"Haryana\", \"offsetgroup\": \"Haryana\", \"orientation\": \"v\", \"showlegend\": true, \"textposition\": \"auto\", \"x\": [\"North\"], \"xaxis\": \"x\", \"y\": [26.7], \"yaxis\": \"y\", \"type\": \"bar\"}, {\"alignmentgroup\": \"True\", \"hovertemplate\": \"States=Himachal Pradesh<br>Month_name=Jun<br>Region=%{x}<br>Estimated Unemployment Rate=%{y}<extra></extra>\", \"legendgroup\": \"Himachal Pradesh\", \"marker\": {\"color\": \"#FF97FF\"}, \"name\": \"Himachal Pradesh\", \"offsetgroup\": \"Himachal Pradesh\", \"orientation\": \"v\", \"showlegend\": true, \"textposition\": \"auto\", \"x\": [\"North\"], \"xaxis\": \"x\", \"y\": [13.47], \"yaxis\": \"y\", \"type\": \"bar\"}, {\"alignmentgroup\": \"True\", \"hovertemplate\": \"States=Jammu & Kashmir<br>Month_name=Jun<br>Region=%{x}<br>Estimated Unemployment Rate=%{y}<extra></extra>\", \"legendgroup\": \"Jammu & Kashmir\", \"marker\": {\"color\": \"#FECB52\"}, \"name\": \"Jammu & Kashmir\", \"offsetgroup\": \"Jammu & Kashmir\", \"orientation\": \"v\", \"showlegend\": true, \"textposition\": \"auto\", \"x\": [\"North\"], \"xaxis\": \"x\", \"y\": [17.92], \"yaxis\": \"y\", \"type\": \"bar\"}, {\"alignmentgroup\": \"True\", \"hovertemplate\": \"States=Jharkhand<br>Month_name=Jun<br>Region=%{x}<br>Estimated Unemployment Rate=%{y}<extra></extra>\", \"legendgroup\": \"Jharkhand\", \"marker\": {\"color\": \"#636efa\"}, \"name\": \"Jharkhand\", \"offsetgroup\": \"Jharkhand\", \"orientation\": \"v\", \"showlegend\": true, \"textposition\": \"auto\", \"x\": [\"East\"], \"xaxis\": \"x\", \"y\": [20.95], \"yaxis\": \"y\", \"type\": \"bar\"}, {\"alignmentgroup\": \"True\", \"hovertemplate\": \"States=Karnataka<br>Month_name=Jun<br>Region=%{x}<br>Estimated Unemployment Rate=%{y}<extra></extra>\", \"legendgroup\": \"Karnataka\", \"marker\": {\"color\": \"#EF553B\"}, \"name\": \"Karnataka\", \"offsetgroup\": \"Karnataka\", \"orientation\": \"v\", \"showlegend\": true, \"textposition\": \"auto\", \"x\": [\"South\"], \"xaxis\": \"x\", \"y\": [8.44], \"yaxis\": \"y\", \"type\": \"bar\"}, {\"alignmentgroup\": \"True\", \"hovertemplate\": \"States=Kerala<br>Month_name=Jun<br>Region=%{x}<br>Estimated Unemployment Rate=%{y}<extra></extra>\", \"legendgroup\": \"Kerala\", \"marker\": {\"color\": \"#00cc96\"}, \"name\": \"Kerala\", \"offsetgroup\": \"Kerala\", \"orientation\": \"v\", \"showlegend\": true, \"textposition\": \"auto\", \"x\": [\"South\"], \"xaxis\": \"x\", \"y\": [9.71], \"yaxis\": \"y\", \"type\": \"bar\"}, {\"alignmentgroup\": \"True\", \"hovertemplate\": \"States=Madhya Pradesh<br>Month_name=Jun<br>Region=%{x}<br>Estimated Unemployment Rate=%{y}<extra></extra>\", \"legendgroup\": \"Madhya Pradesh\", \"marker\": {\"color\": \"#ab63fa\"}, \"name\": \"Madhya Pradesh\", \"offsetgroup\": \"Madhya Pradesh\", \"orientation\": \"v\", \"showlegend\": true, \"textposition\": \"auto\", \"x\": [\"West\"], \"xaxis\": \"x\", \"y\": [6.48], \"yaxis\": \"y\", \"type\": \"bar\"}, {\"alignmentgroup\": \"True\", \"hovertemplate\": \"States=Maharashtra<br>Month_name=Jun<br>Region=%{x}<br>Estimated Unemployment Rate=%{y}<extra></extra>\", \"legendgroup\": \"Maharashtra\", \"marker\": {\"color\": \"#FFA15A\"}, \"name\": \"Maharashtra\", \"offsetgroup\": \"Maharashtra\", \"orientation\": \"v\", \"showlegend\": true, \"textposition\": \"auto\", \"x\": [\"West\"], \"xaxis\": \"x\", \"y\": [9.23], \"yaxis\": \"y\", \"type\": \"bar\"}, {\"alignmentgroup\": \"True\", \"hovertemplate\": \"States=Meghalaya<br>Month_name=Jun<br>Region=%{x}<br>Estimated Unemployment Rate=%{y}<extra></extra>\", \"legendgroup\": \"Meghalaya\", \"marker\": {\"color\": \"#19d3f3\"}, \"name\": \"Meghalaya\", \"offsetgroup\": \"Meghalaya\", \"orientation\": \"v\", \"showlegend\": true, \"textposition\": \"auto\", \"x\": [\"Northeast\"], \"xaxis\": \"x\", \"y\": [1.15], \"yaxis\": \"y\", \"type\": \"bar\"}, {\"alignmentgroup\": \"True\", \"hovertemplate\": \"States=Odisha<br>Month_name=Jun<br>Region=%{x}<br>Estimated Unemployment Rate=%{y}<extra></extra>\", \"legendgroup\": \"Odisha\", \"marker\": {\"color\": \"#FF6692\"}, \"name\": \"Odisha\", \"offsetgroup\": \"Odisha\", \"orientation\": \"v\", \"showlegend\": true, \"textposition\": \"auto\", \"x\": [\"East\"], \"xaxis\": \"x\", \"y\": [3.77], \"yaxis\": \"y\", \"type\": \"bar\"}, {\"alignmentgroup\": \"True\", \"hovertemplate\": \"States=Puducherry<br>Month_name=Jun<br>Region=%{x}<br>Estimated Unemployment Rate=%{y}<extra></extra>\", \"legendgroup\": \"Puducherry\", \"marker\": {\"color\": \"#B6E880\"}, \"name\": \"Puducherry\", \"offsetgroup\": \"Puducherry\", \"orientation\": \"v\", \"showlegend\": true, \"textposition\": \"auto\", \"x\": [\"South\"], \"xaxis\": \"x\", \"y\": [4.24], \"yaxis\": \"y\", \"type\": \"bar\"}, {\"alignmentgroup\": \"True\", \"hovertemplate\": \"States=Punjab<br>Month_name=Jun<br>Region=%{x}<br>Estimated Unemployment Rate=%{y}<extra></extra>\", \"legendgroup\": \"Punjab\", \"marker\": {\"color\": \"#FF97FF\"}, \"name\": \"Punjab\", \"offsetgroup\": \"Punjab\", \"orientation\": \"v\", \"showlegend\": true, \"textposition\": \"auto\", \"x\": [\"North\"], \"xaxis\": \"x\", \"y\": [16.55], \"yaxis\": \"y\", \"type\": \"bar\"}, {\"alignmentgroup\": \"True\", \"hovertemplate\": \"States=Rajasthan<br>Month_name=Jun<br>Region=%{x}<br>Estimated Unemployment Rate=%{y}<extra></extra>\", \"legendgroup\": \"Rajasthan\", \"marker\": {\"color\": \"#FECB52\"}, \"name\": \"Rajasthan\", \"offsetgroup\": \"Rajasthan\", \"orientation\": \"v\", \"showlegend\": true, \"textposition\": \"auto\", \"x\": [\"North\"], \"xaxis\": \"x\", \"y\": [14.39], \"yaxis\": \"y\", \"type\": \"bar\"}, {\"alignmentgroup\": \"True\", \"hovertemplate\": \"States=Sikkim<br>Month_name=Jun<br>Region=%{x}<br>Estimated Unemployment Rate=%{y}<extra></extra>\", \"legendgroup\": \"Sikkim\", \"marker\": {\"color\": \"#636efa\"}, \"name\": \"Sikkim\", \"offsetgroup\": \"Sikkim\", \"orientation\": \"v\", \"showlegend\": true, \"textposition\": \"auto\", \"x\": [\"Northeast\"], \"xaxis\": \"x\", \"y\": [4.46], \"yaxis\": \"y\", \"type\": \"bar\"}, {\"alignmentgroup\": \"True\", \"hovertemplate\": \"States=Tamil Nadu<br>Month_name=Jun<br>Region=%{x}<br>Estimated Unemployment Rate=%{y}<extra></extra>\", \"legendgroup\": \"Tamil Nadu\", \"marker\": {\"color\": \"#EF553B\"}, \"name\": \"Tamil Nadu\", \"offsetgroup\": \"Tamil Nadu\", \"orientation\": \"v\", \"showlegend\": true, \"textposition\": \"auto\", \"x\": [\"South\"], \"xaxis\": \"x\", \"y\": [12.2], \"yaxis\": \"y\", \"type\": \"bar\"}, {\"alignmentgroup\": \"True\", \"hovertemplate\": \"States=Telangana<br>Month_name=Jun<br>Region=%{x}<br>Estimated Unemployment Rate=%{y}<extra></extra>\", \"legendgroup\": \"Telangana\", \"marker\": {\"color\": \"#00cc96\"}, \"name\": \"Telangana\", \"offsetgroup\": \"Telangana\", \"orientation\": \"v\", \"showlegend\": true, \"textposition\": \"auto\", \"x\": [\"South\"], \"xaxis\": \"x\", \"y\": [10.55], \"yaxis\": \"y\", \"type\": \"bar\"}, {\"alignmentgroup\": \"True\", \"hovertemplate\": \"States=Tripura<br>Month_name=Jun<br>Region=%{x}<br>Estimated Unemployment Rate=%{y}<extra></extra>\", \"legendgroup\": \"Tripura\", \"marker\": {\"color\": \"#ab63fa\"}, \"name\": \"Tripura\", \"offsetgroup\": \"Tripura\", \"orientation\": \"v\", \"showlegend\": true, \"textposition\": \"auto\", \"x\": [\"Northeast\"], \"xaxis\": \"x\", \"y\": [21.71], \"yaxis\": \"y\", \"type\": \"bar\"}, {\"alignmentgroup\": \"True\", \"hovertemplate\": \"States=Uttar Pradesh<br>Month_name=Jun<br>Region=%{x}<br>Estimated Unemployment Rate=%{y}<extra></extra>\", \"legendgroup\": \"Uttar Pradesh\", \"marker\": {\"color\": \"#FFA15A\"}, \"name\": \"Uttar Pradesh\", \"offsetgroup\": \"Uttar Pradesh\", \"orientation\": \"v\", \"showlegend\": true, \"textposition\": \"auto\", \"x\": [\"North\"], \"xaxis\": \"x\", \"y\": [9.47], \"yaxis\": \"y\", \"type\": \"bar\"}, {\"alignmentgroup\": \"True\", \"hovertemplate\": \"States=Uttarakhand<br>Month_name=Jun<br>Region=%{x}<br>Estimated Unemployment Rate=%{y}<extra></extra>\", \"legendgroup\": \"Uttarakhand\", \"marker\": {\"color\": \"#19d3f3\"}, \"name\": \"Uttarakhand\", \"offsetgroup\": \"Uttarakhand\", \"orientation\": \"v\", \"showlegend\": true, \"textposition\": \"auto\", \"x\": [\"North\"], \"xaxis\": \"x\", \"y\": [8.61], \"yaxis\": \"y\", \"type\": \"bar\"}, {\"alignmentgroup\": \"True\", \"hovertemplate\": \"States=West Bengal<br>Month_name=Jun<br>Region=%{x}<br>Estimated Unemployment Rate=%{y}<extra></extra>\", \"legendgroup\": \"West Bengal\", \"marker\": {\"color\": \"#FF6692\"}, \"name\": \"West Bengal\", \"offsetgroup\": \"West Bengal\", \"orientation\": \"v\", \"showlegend\": true, \"textposition\": \"auto\", \"x\": [\"East\"], \"xaxis\": \"x\", \"y\": [7.29], \"yaxis\": \"y\", \"type\": \"bar\"}], \"name\": \"Jun\"}, {\"data\": [{\"alignmentgroup\": \"True\", \"hovertemplate\": \"States=Andhra Pradesh<br>Month_name=Jul<br>Region=%{x}<br>Estimated Unemployment Rate=%{y}<extra></extra>\", \"legendgroup\": \"Andhra Pradesh\", \"marker\": {\"color\": \"#636efa\"}, \"name\": \"Andhra Pradesh\", \"offsetgroup\": \"Andhra Pradesh\", \"orientation\": \"v\", \"showlegend\": true, \"textposition\": \"auto\", \"x\": [\"South\"], \"xaxis\": \"x\", \"y\": [8.34], \"yaxis\": \"y\", \"type\": \"bar\"}, {\"alignmentgroup\": \"True\", \"hovertemplate\": \"States=Assam<br>Month_name=Jul<br>Region=%{x}<br>Estimated Unemployment Rate=%{y}<extra></extra>\", \"legendgroup\": \"Assam\", \"marker\": {\"color\": \"#EF553B\"}, \"name\": \"Assam\", \"offsetgroup\": \"Assam\", \"orientation\": \"v\", \"showlegend\": true, \"textposition\": \"auto\", \"x\": [\"Northeast\"], \"xaxis\": \"x\", \"y\": [3.77], \"yaxis\": \"y\", \"type\": \"bar\"}, {\"alignmentgroup\": \"True\", \"hovertemplate\": \"States=Bihar<br>Month_name=Jul<br>Region=%{x}<br>Estimated Unemployment Rate=%{y}<extra></extra>\", \"legendgroup\": \"Bihar\", \"marker\": {\"color\": \"#00cc96\"}, \"name\": \"Bihar\", \"offsetgroup\": \"Bihar\", \"orientation\": \"v\", \"showlegend\": true, \"textposition\": \"auto\", \"x\": [\"East\"], \"xaxis\": \"x\", \"y\": [12.79], \"yaxis\": \"y\", \"type\": \"bar\"}, {\"alignmentgroup\": \"True\", \"hovertemplate\": \"States=Chhattisgarh<br>Month_name=Jul<br>Region=%{x}<br>Estimated Unemployment Rate=%{y}<extra></extra>\", \"legendgroup\": \"Chhattisgarh\", \"marker\": {\"color\": \"#ab63fa\"}, \"name\": \"Chhattisgarh\", \"offsetgroup\": \"Chhattisgarh\", \"orientation\": \"v\", \"showlegend\": true, \"textposition\": \"auto\", \"x\": [\"West\"], \"xaxis\": \"x\", \"y\": [10.27], \"yaxis\": \"y\", \"type\": \"bar\"}, {\"alignmentgroup\": \"True\", \"hovertemplate\": \"States=Delhi<br>Month_name=Jul<br>Region=%{x}<br>Estimated Unemployment Rate=%{y}<extra></extra>\", \"legendgroup\": \"Delhi\", \"marker\": {\"color\": \"#FFA15A\"}, \"name\": \"Delhi\", \"offsetgroup\": \"Delhi\", \"orientation\": \"v\", \"showlegend\": true, \"textposition\": \"auto\", \"x\": [\"North\"], \"xaxis\": \"x\", \"y\": [20.3], \"yaxis\": \"y\", \"type\": \"bar\"}, {\"alignmentgroup\": \"True\", \"hovertemplate\": \"States=Goa<br>Month_name=Jul<br>Region=%{x}<br>Estimated Unemployment Rate=%{y}<extra></extra>\", \"legendgroup\": \"Goa\", \"marker\": {\"color\": \"#19d3f3\"}, \"name\": \"Goa\", \"offsetgroup\": \"Goa\", \"orientation\": \"v\", \"showlegend\": true, \"textposition\": \"auto\", \"x\": [\"West\"], \"xaxis\": \"x\", \"y\": [17.07], \"yaxis\": \"y\", \"type\": \"bar\"}, {\"alignmentgroup\": \"True\", \"hovertemplate\": \"States=Gujarat<br>Month_name=Jul<br>Region=%{x}<br>Estimated Unemployment Rate=%{y}<extra></extra>\", \"legendgroup\": \"Gujarat\", \"marker\": {\"color\": \"#FF6692\"}, \"name\": \"Gujarat\", \"offsetgroup\": \"Gujarat\", \"orientation\": \"v\", \"showlegend\": true, \"textposition\": \"auto\", \"x\": [\"West\"], \"xaxis\": \"x\", \"y\": [1.84], \"yaxis\": \"y\", \"type\": \"bar\"}, {\"alignmentgroup\": \"True\", \"hovertemplate\": \"States=Haryana<br>Month_name=Jul<br>Region=%{x}<br>Estimated Unemployment Rate=%{y}<extra></extra>\", \"legendgroup\": \"Haryana\", \"marker\": {\"color\": \"#B6E880\"}, \"name\": \"Haryana\", \"offsetgroup\": \"Haryana\", \"orientation\": \"v\", \"showlegend\": true, \"textposition\": \"auto\", \"x\": [\"North\"], \"xaxis\": \"x\", \"y\": [24.18], \"yaxis\": \"y\", \"type\": \"bar\"}, {\"alignmentgroup\": \"True\", \"hovertemplate\": \"States=Himachal Pradesh<br>Month_name=Jul<br>Region=%{x}<br>Estimated Unemployment Rate=%{y}<extra></extra>\", \"legendgroup\": \"Himachal Pradesh\", \"marker\": {\"color\": \"#FF97FF\"}, \"name\": \"Himachal Pradesh\", \"offsetgroup\": \"Himachal Pradesh\", \"orientation\": \"v\", \"showlegend\": true, \"textposition\": \"auto\", \"x\": [\"North\"], \"xaxis\": \"x\", \"y\": [24.31], \"yaxis\": \"y\", \"type\": \"bar\"}, {\"alignmentgroup\": \"True\", \"hovertemplate\": \"States=Jammu & Kashmir<br>Month_name=Jul<br>Region=%{x}<br>Estimated Unemployment Rate=%{y}<extra></extra>\", \"legendgroup\": \"Jammu & Kashmir\", \"marker\": {\"color\": \"#FECB52\"}, \"name\": \"Jammu & Kashmir\", \"offsetgroup\": \"Jammu & Kashmir\", \"orientation\": \"v\", \"showlegend\": true, \"textposition\": \"auto\", \"x\": [\"North\"], \"xaxis\": \"x\", \"y\": [10.88], \"yaxis\": \"y\", \"type\": \"bar\"}, {\"alignmentgroup\": \"True\", \"hovertemplate\": \"States=Jharkhand<br>Month_name=Jul<br>Region=%{x}<br>Estimated Unemployment Rate=%{y}<extra></extra>\", \"legendgroup\": \"Jharkhand\", \"marker\": {\"color\": \"#636efa\"}, \"name\": \"Jharkhand\", \"offsetgroup\": \"Jharkhand\", \"orientation\": \"v\", \"showlegend\": true, \"textposition\": \"auto\", \"x\": [\"East\"], \"xaxis\": \"x\", \"y\": [7.63], \"yaxis\": \"y\", \"type\": \"bar\"}, {\"alignmentgroup\": \"True\", \"hovertemplate\": \"States=Karnataka<br>Month_name=Jul<br>Region=%{x}<br>Estimated Unemployment Rate=%{y}<extra></extra>\", \"legendgroup\": \"Karnataka\", \"marker\": {\"color\": \"#EF553B\"}, \"name\": \"Karnataka\", \"offsetgroup\": \"Karnataka\", \"orientation\": \"v\", \"showlegend\": true, \"textposition\": \"auto\", \"x\": [\"South\"], \"xaxis\": \"x\", \"y\": [4.01], \"yaxis\": \"y\", \"type\": \"bar\"}, {\"alignmentgroup\": \"True\", \"hovertemplate\": \"States=Kerala<br>Month_name=Jul<br>Region=%{x}<br>Estimated Unemployment Rate=%{y}<extra></extra>\", \"legendgroup\": \"Kerala\", \"marker\": {\"color\": \"#00cc96\"}, \"name\": \"Kerala\", \"offsetgroup\": \"Kerala\", \"orientation\": \"v\", \"showlegend\": true, \"textposition\": \"auto\", \"x\": [\"South\"], \"xaxis\": \"x\", \"y\": [7.09], \"yaxis\": \"y\", \"type\": \"bar\"}, {\"alignmentgroup\": \"True\", \"hovertemplate\": \"States=Madhya Pradesh<br>Month_name=Jul<br>Region=%{x}<br>Estimated Unemployment Rate=%{y}<extra></extra>\", \"legendgroup\": \"Madhya Pradesh\", \"marker\": {\"color\": \"#ab63fa\"}, \"name\": \"Madhya Pradesh\", \"offsetgroup\": \"Madhya Pradesh\", \"orientation\": \"v\", \"showlegend\": true, \"textposition\": \"auto\", \"x\": [\"West\"], \"xaxis\": \"x\", \"y\": [5.08], \"yaxis\": \"y\", \"type\": \"bar\"}, {\"alignmentgroup\": \"True\", \"hovertemplate\": \"States=Maharashtra<br>Month_name=Jul<br>Region=%{x}<br>Estimated Unemployment Rate=%{y}<extra></extra>\", \"legendgroup\": \"Maharashtra\", \"marker\": {\"color\": \"#FFA15A\"}, \"name\": \"Maharashtra\", \"offsetgroup\": \"Maharashtra\", \"orientation\": \"v\", \"showlegend\": true, \"textposition\": \"auto\", \"x\": [\"West\"], \"xaxis\": \"x\", \"y\": [3.89], \"yaxis\": \"y\", \"type\": \"bar\"}, {\"alignmentgroup\": \"True\", \"hovertemplate\": \"States=Meghalaya<br>Month_name=Jul<br>Region=%{x}<br>Estimated Unemployment Rate=%{y}<extra></extra>\", \"legendgroup\": \"Meghalaya\", \"marker\": {\"color\": \"#19d3f3\"}, \"name\": \"Meghalaya\", \"offsetgroup\": \"Meghalaya\", \"orientation\": \"v\", \"showlegend\": true, \"textposition\": \"auto\", \"x\": [\"Northeast\"], \"xaxis\": \"x\", \"y\": [2.1], \"yaxis\": \"y\", \"type\": \"bar\"}, {\"alignmentgroup\": \"True\", \"hovertemplate\": \"States=Odisha<br>Month_name=Jul<br>Region=%{x}<br>Estimated Unemployment Rate=%{y}<extra></extra>\", \"legendgroup\": \"Odisha\", \"marker\": {\"color\": \"#FF6692\"}, \"name\": \"Odisha\", \"offsetgroup\": \"Odisha\", \"orientation\": \"v\", \"showlegend\": true, \"textposition\": \"auto\", \"x\": [\"East\"], \"xaxis\": \"x\", \"y\": [1.88], \"yaxis\": \"y\", \"type\": \"bar\"}, {\"alignmentgroup\": \"True\", \"hovertemplate\": \"States=Puducherry<br>Month_name=Jul<br>Region=%{x}<br>Estimated Unemployment Rate=%{y}<extra></extra>\", \"legendgroup\": \"Puducherry\", \"marker\": {\"color\": \"#B6E880\"}, \"name\": \"Puducherry\", \"offsetgroup\": \"Puducherry\", \"orientation\": \"v\", \"showlegend\": true, \"textposition\": \"auto\", \"x\": [\"South\"], \"xaxis\": \"x\", \"y\": [15.47], \"yaxis\": \"y\", \"type\": \"bar\"}, {\"alignmentgroup\": \"True\", \"hovertemplate\": \"States=Punjab<br>Month_name=Jul<br>Region=%{x}<br>Estimated Unemployment Rate=%{y}<extra></extra>\", \"legendgroup\": \"Punjab\", \"marker\": {\"color\": \"#FF97FF\"}, \"name\": \"Punjab\", \"offsetgroup\": \"Punjab\", \"orientation\": \"v\", \"showlegend\": true, \"textposition\": \"auto\", \"x\": [\"North\"], \"xaxis\": \"x\", \"y\": [9.19], \"yaxis\": \"y\", \"type\": \"bar\"}, {\"alignmentgroup\": \"True\", \"hovertemplate\": \"States=Rajasthan<br>Month_name=Jul<br>Region=%{x}<br>Estimated Unemployment Rate=%{y}<extra></extra>\", \"legendgroup\": \"Rajasthan\", \"marker\": {\"color\": \"#FECB52\"}, \"name\": \"Rajasthan\", \"offsetgroup\": \"Rajasthan\", \"orientation\": \"v\", \"showlegend\": true, \"textposition\": \"auto\", \"x\": [\"North\"], \"xaxis\": \"x\", \"y\": [15.81], \"yaxis\": \"y\", \"type\": \"bar\"}, {\"alignmentgroup\": \"True\", \"hovertemplate\": \"States=Sikkim<br>Month_name=Jul<br>Region=%{x}<br>Estimated Unemployment Rate=%{y}<extra></extra>\", \"legendgroup\": \"Sikkim\", \"marker\": {\"color\": \"#636efa\"}, \"name\": \"Sikkim\", \"offsetgroup\": \"Sikkim\", \"orientation\": \"v\", \"showlegend\": true, \"textposition\": \"auto\", \"x\": [\"Northeast\"], \"xaxis\": \"x\", \"y\": [4.45], \"yaxis\": \"y\", \"type\": \"bar\"}, {\"alignmentgroup\": \"True\", \"hovertemplate\": \"States=Tamil Nadu<br>Month_name=Jul<br>Region=%{x}<br>Estimated Unemployment Rate=%{y}<extra></extra>\", \"legendgroup\": \"Tamil Nadu\", \"marker\": {\"color\": \"#EF553B\"}, \"name\": \"Tamil Nadu\", \"offsetgroup\": \"Tamil Nadu\", \"orientation\": \"v\", \"showlegend\": true, \"textposition\": \"auto\", \"x\": [\"South\"], \"xaxis\": \"x\", \"y\": [6.81], \"yaxis\": \"y\", \"type\": \"bar\"}, {\"alignmentgroup\": \"True\", \"hovertemplate\": \"States=Telangana<br>Month_name=Jul<br>Region=%{x}<br>Estimated Unemployment Rate=%{y}<extra></extra>\", \"legendgroup\": \"Telangana\", \"marker\": {\"color\": \"#00cc96\"}, \"name\": \"Telangana\", \"offsetgroup\": \"Telangana\", \"orientation\": \"v\", \"showlegend\": true, \"textposition\": \"auto\", \"x\": [\"South\"], \"xaxis\": \"x\", \"y\": [5.36], \"yaxis\": \"y\", \"type\": \"bar\"}, {\"alignmentgroup\": \"True\", \"hovertemplate\": \"States=Tripura<br>Month_name=Jul<br>Region=%{x}<br>Estimated Unemployment Rate=%{y}<extra></extra>\", \"legendgroup\": \"Tripura\", \"marker\": {\"color\": \"#ab63fa\"}, \"name\": \"Tripura\", \"offsetgroup\": \"Tripura\", \"orientation\": \"v\", \"showlegend\": true, \"textposition\": \"auto\", \"x\": [\"Northeast\"], \"xaxis\": \"x\", \"y\": [18.24], \"yaxis\": \"y\", \"type\": \"bar\"}, {\"alignmentgroup\": \"True\", \"hovertemplate\": \"States=Uttar Pradesh<br>Month_name=Jul<br>Region=%{x}<br>Estimated Unemployment Rate=%{y}<extra></extra>\", \"legendgroup\": \"Uttar Pradesh\", \"marker\": {\"color\": \"#FFA15A\"}, \"name\": \"Uttar Pradesh\", \"offsetgroup\": \"Uttar Pradesh\", \"orientation\": \"v\", \"showlegend\": true, \"textposition\": \"auto\", \"x\": [\"North\"], \"xaxis\": \"x\", \"y\": [5.56], \"yaxis\": \"y\", \"type\": \"bar\"}, {\"alignmentgroup\": \"True\", \"hovertemplate\": \"States=Uttarakhand<br>Month_name=Jul<br>Region=%{x}<br>Estimated Unemployment Rate=%{y}<extra></extra>\", \"legendgroup\": \"Uttarakhand\", \"marker\": {\"color\": \"#19d3f3\"}, \"name\": \"Uttarakhand\", \"offsetgroup\": \"Uttarakhand\", \"orientation\": \"v\", \"showlegend\": true, \"textposition\": \"auto\", \"x\": [\"North\"], \"xaxis\": \"x\", \"y\": [12.38], \"yaxis\": \"y\", \"type\": \"bar\"}, {\"alignmentgroup\": \"True\", \"hovertemplate\": \"States=West Bengal<br>Month_name=Jul<br>Region=%{x}<br>Estimated Unemployment Rate=%{y}<extra></extra>\", \"legendgroup\": \"West Bengal\", \"marker\": {\"color\": \"#FF6692\"}, \"name\": \"West Bengal\", \"offsetgroup\": \"West Bengal\", \"orientation\": \"v\", \"showlegend\": true, \"textposition\": \"auto\", \"x\": [\"East\"], \"xaxis\": \"x\", \"y\": [6.83], \"yaxis\": \"y\", \"type\": \"bar\"}], \"name\": \"Jul\"}, {\"data\": [{\"alignmentgroup\": \"True\", \"hovertemplate\": \"States=Andhra Pradesh<br>Month_name=Aug<br>Region=%{x}<br>Estimated Unemployment Rate=%{y}<extra></extra>\", \"legendgroup\": \"Andhra Pradesh\", \"marker\": {\"color\": \"#636efa\"}, \"name\": \"Andhra Pradesh\", \"offsetgroup\": \"Andhra Pradesh\", \"orientation\": \"v\", \"showlegend\": true, \"textposition\": \"auto\", \"x\": [\"South\"], \"xaxis\": \"x\", \"y\": [6.96], \"yaxis\": \"y\", \"type\": \"bar\"}, {\"alignmentgroup\": \"True\", \"hovertemplate\": \"States=Assam<br>Month_name=Aug<br>Region=%{x}<br>Estimated Unemployment Rate=%{y}<extra></extra>\", \"legendgroup\": \"Assam\", \"marker\": {\"color\": \"#EF553B\"}, \"name\": \"Assam\", \"offsetgroup\": \"Assam\", \"orientation\": \"v\", \"showlegend\": true, \"textposition\": \"auto\", \"x\": [\"Northeast\"], \"xaxis\": \"x\", \"y\": [5.53], \"yaxis\": \"y\", \"type\": \"bar\"}, {\"alignmentgroup\": \"True\", \"hovertemplate\": \"States=Bihar<br>Month_name=Aug<br>Region=%{x}<br>Estimated Unemployment Rate=%{y}<extra></extra>\", \"legendgroup\": \"Bihar\", \"marker\": {\"color\": \"#00cc96\"}, \"name\": \"Bihar\", \"offsetgroup\": \"Bihar\", \"orientation\": \"v\", \"showlegend\": true, \"textposition\": \"auto\", \"x\": [\"East\"], \"xaxis\": \"x\", \"y\": [13.44], \"yaxis\": \"y\", \"type\": \"bar\"}, {\"alignmentgroup\": \"True\", \"hovertemplate\": \"States=Chhattisgarh<br>Month_name=Aug<br>Region=%{x}<br>Estimated Unemployment Rate=%{y}<extra></extra>\", \"legendgroup\": \"Chhattisgarh\", \"marker\": {\"color\": \"#ab63fa\"}, \"name\": \"Chhattisgarh\", \"offsetgroup\": \"Chhattisgarh\", \"orientation\": \"v\", \"showlegend\": true, \"textposition\": \"auto\", \"x\": [\"West\"], \"xaxis\": \"x\", \"y\": [5.63], \"yaxis\": \"y\", \"type\": \"bar\"}, {\"alignmentgroup\": \"True\", \"hovertemplate\": \"States=Delhi<br>Month_name=Aug<br>Region=%{x}<br>Estimated Unemployment Rate=%{y}<extra></extra>\", \"legendgroup\": \"Delhi\", \"marker\": {\"color\": \"#FFA15A\"}, \"name\": \"Delhi\", \"offsetgroup\": \"Delhi\", \"orientation\": \"v\", \"showlegend\": true, \"textposition\": \"auto\", \"x\": [\"North\"], \"xaxis\": \"x\", \"y\": [13.79], \"yaxis\": \"y\", \"type\": \"bar\"}, {\"alignmentgroup\": \"True\", \"hovertemplate\": \"States=Goa<br>Month_name=Aug<br>Region=%{x}<br>Estimated Unemployment Rate=%{y}<extra></extra>\", \"legendgroup\": \"Goa\", \"marker\": {\"color\": \"#19d3f3\"}, \"name\": \"Goa\", \"offsetgroup\": \"Goa\", \"orientation\": \"v\", \"showlegend\": true, \"textposition\": \"auto\", \"x\": [\"West\"], \"xaxis\": \"x\", \"y\": [16.21], \"yaxis\": \"y\", \"type\": \"bar\"}, {\"alignmentgroup\": \"True\", \"hovertemplate\": \"States=Gujarat<br>Month_name=Aug<br>Region=%{x}<br>Estimated Unemployment Rate=%{y}<extra></extra>\", \"legendgroup\": \"Gujarat\", \"marker\": {\"color\": \"#FF6692\"}, \"name\": \"Gujarat\", \"offsetgroup\": \"Gujarat\", \"orientation\": \"v\", \"showlegend\": true, \"textposition\": \"auto\", \"x\": [\"West\"], \"xaxis\": \"x\", \"y\": [1.87], \"yaxis\": \"y\", \"type\": \"bar\"}, {\"alignmentgroup\": \"True\", \"hovertemplate\": \"States=Haryana<br>Month_name=Aug<br>Region=%{x}<br>Estimated Unemployment Rate=%{y}<extra></extra>\", \"legendgroup\": \"Haryana\", \"marker\": {\"color\": \"#B6E880\"}, \"name\": \"Haryana\", \"offsetgroup\": \"Haryana\", \"orientation\": \"v\", \"showlegend\": true, \"textposition\": \"auto\", \"x\": [\"North\"], \"xaxis\": \"x\", \"y\": [33.5], \"yaxis\": \"y\", \"type\": \"bar\"}, {\"alignmentgroup\": \"True\", \"hovertemplate\": \"States=Himachal Pradesh<br>Month_name=Aug<br>Region=%{x}<br>Estimated Unemployment Rate=%{y}<extra></extra>\", \"legendgroup\": \"Himachal Pradesh\", \"marker\": {\"color\": \"#FF97FF\"}, \"name\": \"Himachal Pradesh\", \"offsetgroup\": \"Himachal Pradesh\", \"orientation\": \"v\", \"showlegend\": true, \"textposition\": \"auto\", \"x\": [\"North\"], \"xaxis\": \"x\", \"y\": [15.79], \"yaxis\": \"y\", \"type\": \"bar\"}, {\"alignmentgroup\": \"True\", \"hovertemplate\": \"States=Jammu & Kashmir<br>Month_name=Aug<br>Region=%{x}<br>Estimated Unemployment Rate=%{y}<extra></extra>\", \"legendgroup\": \"Jammu & Kashmir\", \"marker\": {\"color\": \"#FECB52\"}, \"name\": \"Jammu & Kashmir\", \"offsetgroup\": \"Jammu & Kashmir\", \"orientation\": \"v\", \"showlegend\": true, \"textposition\": \"auto\", \"x\": [\"North\"], \"xaxis\": \"x\", \"y\": [11.09], \"yaxis\": \"y\", \"type\": \"bar\"}, {\"alignmentgroup\": \"True\", \"hovertemplate\": \"States=Jharkhand<br>Month_name=Aug<br>Region=%{x}<br>Estimated Unemployment Rate=%{y}<extra></extra>\", \"legendgroup\": \"Jharkhand\", \"marker\": {\"color\": \"#636efa\"}, \"name\": \"Jharkhand\", \"offsetgroup\": \"Jharkhand\", \"orientation\": \"v\", \"showlegend\": true, \"textposition\": \"auto\", \"x\": [\"East\"], \"xaxis\": \"x\", \"y\": [9.76], \"yaxis\": \"y\", \"type\": \"bar\"}, {\"alignmentgroup\": \"True\", \"hovertemplate\": \"States=Karnataka<br>Month_name=Aug<br>Region=%{x}<br>Estimated Unemployment Rate=%{y}<extra></extra>\", \"legendgroup\": \"Karnataka\", \"marker\": {\"color\": \"#EF553B\"}, \"name\": \"Karnataka\", \"offsetgroup\": \"Karnataka\", \"orientation\": \"v\", \"showlegend\": true, \"textposition\": \"auto\", \"x\": [\"South\"], \"xaxis\": \"x\", \"y\": [0.5], \"yaxis\": \"y\", \"type\": \"bar\"}, {\"alignmentgroup\": \"True\", \"hovertemplate\": \"States=Kerala<br>Month_name=Aug<br>Region=%{x}<br>Estimated Unemployment Rate=%{y}<extra></extra>\", \"legendgroup\": \"Kerala\", \"marker\": {\"color\": \"#00cc96\"}, \"name\": \"Kerala\", \"offsetgroup\": \"Kerala\", \"orientation\": \"v\", \"showlegend\": true, \"textposition\": \"auto\", \"x\": [\"South\"], \"xaxis\": \"x\", \"y\": [10.98], \"yaxis\": \"y\", \"type\": \"bar\"}, {\"alignmentgroup\": \"True\", \"hovertemplate\": \"States=Madhya Pradesh<br>Month_name=Aug<br>Region=%{x}<br>Estimated Unemployment Rate=%{y}<extra></extra>\", \"legendgroup\": \"Madhya Pradesh\", \"marker\": {\"color\": \"#ab63fa\"}, \"name\": \"Madhya Pradesh\", \"offsetgroup\": \"Madhya Pradesh\", \"orientation\": \"v\", \"showlegend\": true, \"textposition\": \"auto\", \"x\": [\"West\"], \"xaxis\": \"x\", \"y\": [4.7], \"yaxis\": \"y\", \"type\": \"bar\"}, {\"alignmentgroup\": \"True\", \"hovertemplate\": \"States=Maharashtra<br>Month_name=Aug<br>Region=%{x}<br>Estimated Unemployment Rate=%{y}<extra></extra>\", \"legendgroup\": \"Maharashtra\", \"marker\": {\"color\": \"#FFA15A\"}, \"name\": \"Maharashtra\", \"offsetgroup\": \"Maharashtra\", \"orientation\": \"v\", \"showlegend\": true, \"textposition\": \"auto\", \"x\": [\"West\"], \"xaxis\": \"x\", \"y\": [6.23], \"yaxis\": \"y\", \"type\": \"bar\"}, {\"alignmentgroup\": \"True\", \"hovertemplate\": \"States=Meghalaya<br>Month_name=Aug<br>Region=%{x}<br>Estimated Unemployment Rate=%{y}<extra></extra>\", \"legendgroup\": \"Meghalaya\", \"marker\": {\"color\": \"#19d3f3\"}, \"name\": \"Meghalaya\", \"offsetgroup\": \"Meghalaya\", \"orientation\": \"v\", \"showlegend\": true, \"textposition\": \"auto\", \"x\": [\"Northeast\"], \"xaxis\": \"x\", \"y\": [3.74], \"yaxis\": \"y\", \"type\": \"bar\"}, {\"alignmentgroup\": \"True\", \"hovertemplate\": \"States=Odisha<br>Month_name=Aug<br>Region=%{x}<br>Estimated Unemployment Rate=%{y}<extra></extra>\", \"legendgroup\": \"Odisha\", \"marker\": {\"color\": \"#FF6692\"}, \"name\": \"Odisha\", \"offsetgroup\": \"Odisha\", \"orientation\": \"v\", \"showlegend\": true, \"textposition\": \"auto\", \"x\": [\"East\"], \"xaxis\": \"x\", \"y\": [1.42], \"yaxis\": \"y\", \"type\": \"bar\"}, {\"alignmentgroup\": \"True\", \"hovertemplate\": \"States=Puducherry<br>Month_name=Aug<br>Region=%{x}<br>Estimated Unemployment Rate=%{y}<extra></extra>\", \"legendgroup\": \"Puducherry\", \"marker\": {\"color\": \"#B6E880\"}, \"name\": \"Puducherry\", \"offsetgroup\": \"Puducherry\", \"orientation\": \"v\", \"showlegend\": true, \"textposition\": \"auto\", \"x\": [\"South\"], \"xaxis\": \"x\", \"y\": [5.05], \"yaxis\": \"y\", \"type\": \"bar\"}, {\"alignmentgroup\": \"True\", \"hovertemplate\": \"States=Punjab<br>Month_name=Aug<br>Region=%{x}<br>Estimated Unemployment Rate=%{y}<extra></extra>\", \"legendgroup\": \"Punjab\", \"marker\": {\"color\": \"#FF97FF\"}, \"name\": \"Punjab\", \"offsetgroup\": \"Punjab\", \"orientation\": \"v\", \"showlegend\": true, \"textposition\": \"auto\", \"x\": [\"North\"], \"xaxis\": \"x\", \"y\": [10.99], \"yaxis\": \"y\", \"type\": \"bar\"}, {\"alignmentgroup\": \"True\", \"hovertemplate\": \"States=Rajasthan<br>Month_name=Aug<br>Region=%{x}<br>Estimated Unemployment Rate=%{y}<extra></extra>\", \"legendgroup\": \"Rajasthan\", \"marker\": {\"color\": \"#FECB52\"}, \"name\": \"Rajasthan\", \"offsetgroup\": \"Rajasthan\", \"orientation\": \"v\", \"showlegend\": true, \"textposition\": \"auto\", \"x\": [\"North\"], \"xaxis\": \"x\", \"y\": [17.51], \"yaxis\": \"y\", \"type\": \"bar\"}, {\"alignmentgroup\": \"True\", \"hovertemplate\": \"States=Sikkim<br>Month_name=Aug<br>Region=%{x}<br>Estimated Unemployment Rate=%{y}<extra></extra>\", \"legendgroup\": \"Sikkim\", \"marker\": {\"color\": \"#636efa\"}, \"name\": \"Sikkim\", \"offsetgroup\": \"Sikkim\", \"orientation\": \"v\", \"showlegend\": true, \"textposition\": \"auto\", \"x\": [\"Northeast\"], \"xaxis\": \"x\", \"y\": [12.49], \"yaxis\": \"y\", \"type\": \"bar\"}, {\"alignmentgroup\": \"True\", \"hovertemplate\": \"States=Tamil Nadu<br>Month_name=Aug<br>Region=%{x}<br>Estimated Unemployment Rate=%{y}<extra></extra>\", \"legendgroup\": \"Tamil Nadu\", \"marker\": {\"color\": \"#EF553B\"}, \"name\": \"Tamil Nadu\", \"offsetgroup\": \"Tamil Nadu\", \"orientation\": \"v\", \"showlegend\": true, \"textposition\": \"auto\", \"x\": [\"South\"], \"xaxis\": \"x\", \"y\": [2.65], \"yaxis\": \"y\", \"type\": \"bar\"}, {\"alignmentgroup\": \"True\", \"hovertemplate\": \"States=Telangana<br>Month_name=Aug<br>Region=%{x}<br>Estimated Unemployment Rate=%{y}<extra></extra>\", \"legendgroup\": \"Telangana\", \"marker\": {\"color\": \"#00cc96\"}, \"name\": \"Telangana\", \"offsetgroup\": \"Telangana\", \"orientation\": \"v\", \"showlegend\": true, \"textposition\": \"auto\", \"x\": [\"South\"], \"xaxis\": \"x\", \"y\": [5.79], \"yaxis\": \"y\", \"type\": \"bar\"}, {\"alignmentgroup\": \"True\", \"hovertemplate\": \"States=Tripura<br>Month_name=Aug<br>Region=%{x}<br>Estimated Unemployment Rate=%{y}<extra></extra>\", \"legendgroup\": \"Tripura\", \"marker\": {\"color\": \"#ab63fa\"}, \"name\": \"Tripura\", \"offsetgroup\": \"Tripura\", \"orientation\": \"v\", \"showlegend\": true, \"textposition\": \"auto\", \"x\": [\"Northeast\"], \"xaxis\": \"x\", \"y\": [27.92], \"yaxis\": \"y\", \"type\": \"bar\"}, {\"alignmentgroup\": \"True\", \"hovertemplate\": \"States=Uttar Pradesh<br>Month_name=Aug<br>Region=%{x}<br>Estimated Unemployment Rate=%{y}<extra></extra>\", \"legendgroup\": \"Uttar Pradesh\", \"marker\": {\"color\": \"#FFA15A\"}, \"name\": \"Uttar Pradesh\", \"offsetgroup\": \"Uttar Pradesh\", \"orientation\": \"v\", \"showlegend\": true, \"textposition\": \"auto\", \"x\": [\"North\"], \"xaxis\": \"x\", \"y\": [5.79], \"yaxis\": \"y\", \"type\": \"bar\"}, {\"alignmentgroup\": \"True\", \"hovertemplate\": \"States=Uttarakhand<br>Month_name=Aug<br>Region=%{x}<br>Estimated Unemployment Rate=%{y}<extra></extra>\", \"legendgroup\": \"Uttarakhand\", \"marker\": {\"color\": \"#19d3f3\"}, \"name\": \"Uttarakhand\", \"offsetgroup\": \"Uttarakhand\", \"orientation\": \"v\", \"showlegend\": true, \"textposition\": \"auto\", \"x\": [\"North\"], \"xaxis\": \"x\", \"y\": [14.26], \"yaxis\": \"y\", \"type\": \"bar\"}, {\"alignmentgroup\": \"True\", \"hovertemplate\": \"States=West Bengal<br>Month_name=Aug<br>Region=%{x}<br>Estimated Unemployment Rate=%{y}<extra></extra>\", \"legendgroup\": \"West Bengal\", \"marker\": {\"color\": \"#FF6692\"}, \"name\": \"West Bengal\", \"offsetgroup\": \"West Bengal\", \"orientation\": \"v\", \"showlegend\": true, \"textposition\": \"auto\", \"x\": [\"East\"], \"xaxis\": \"x\", \"y\": [14.87], \"yaxis\": \"y\", \"type\": \"bar\"}], \"name\": \"Aug\"}, {\"data\": [{\"alignmentgroup\": \"True\", \"hovertemplate\": \"States=Andhra Pradesh<br>Month_name=Sep<br>Region=%{x}<br>Estimated Unemployment Rate=%{y}<extra></extra>\", \"legendgroup\": \"Andhra Pradesh\", \"marker\": {\"color\": \"#636efa\"}, \"name\": \"Andhra Pradesh\", \"offsetgroup\": \"Andhra Pradesh\", \"orientation\": \"v\", \"showlegend\": true, \"textposition\": \"auto\", \"x\": [\"South\"], \"xaxis\": \"x\", \"y\": [6.4], \"yaxis\": \"y\", \"type\": \"bar\"}, {\"alignmentgroup\": \"True\", \"hovertemplate\": \"States=Assam<br>Month_name=Sep<br>Region=%{x}<br>Estimated Unemployment Rate=%{y}<extra></extra>\", \"legendgroup\": \"Assam\", \"marker\": {\"color\": \"#EF553B\"}, \"name\": \"Assam\", \"offsetgroup\": \"Assam\", \"orientation\": \"v\", \"showlegend\": true, \"textposition\": \"auto\", \"x\": [\"Northeast\"], \"xaxis\": \"x\", \"y\": [1.19], \"yaxis\": \"y\", \"type\": \"bar\"}, {\"alignmentgroup\": \"True\", \"hovertemplate\": \"States=Bihar<br>Month_name=Sep<br>Region=%{x}<br>Estimated Unemployment Rate=%{y}<extra></extra>\", \"legendgroup\": \"Bihar\", \"marker\": {\"color\": \"#00cc96\"}, \"name\": \"Bihar\", \"offsetgroup\": \"Bihar\", \"orientation\": \"v\", \"showlegend\": true, \"textposition\": \"auto\", \"x\": [\"East\"], \"xaxis\": \"x\", \"y\": [11.91], \"yaxis\": \"y\", \"type\": \"bar\"}, {\"alignmentgroup\": \"True\", \"hovertemplate\": \"States=Chhattisgarh<br>Month_name=Sep<br>Region=%{x}<br>Estimated Unemployment Rate=%{y}<extra></extra>\", \"legendgroup\": \"Chhattisgarh\", \"marker\": {\"color\": \"#ab63fa\"}, \"name\": \"Chhattisgarh\", \"offsetgroup\": \"Chhattisgarh\", \"orientation\": \"v\", \"showlegend\": true, \"textposition\": \"auto\", \"x\": [\"West\"], \"xaxis\": \"x\", \"y\": [1.96], \"yaxis\": \"y\", \"type\": \"bar\"}, {\"alignmentgroup\": \"True\", \"hovertemplate\": \"States=Delhi<br>Month_name=Sep<br>Region=%{x}<br>Estimated Unemployment Rate=%{y}<extra></extra>\", \"legendgroup\": \"Delhi\", \"marker\": {\"color\": \"#FFA15A\"}, \"name\": \"Delhi\", \"offsetgroup\": \"Delhi\", \"orientation\": \"v\", \"showlegend\": true, \"textposition\": \"auto\", \"x\": [\"North\"], \"xaxis\": \"x\", \"y\": [12.53], \"yaxis\": \"y\", \"type\": \"bar\"}, {\"alignmentgroup\": \"True\", \"hovertemplate\": \"States=Goa<br>Month_name=Sep<br>Region=%{x}<br>Estimated Unemployment Rate=%{y}<extra></extra>\", \"legendgroup\": \"Goa\", \"marker\": {\"color\": \"#19d3f3\"}, \"name\": \"Goa\", \"offsetgroup\": \"Goa\", \"orientation\": \"v\", \"showlegend\": true, \"textposition\": \"auto\", \"x\": [\"West\"], \"xaxis\": \"x\", \"y\": [15.38], \"yaxis\": \"y\", \"type\": \"bar\"}, {\"alignmentgroup\": \"True\", \"hovertemplate\": \"States=Gujarat<br>Month_name=Sep<br>Region=%{x}<br>Estimated Unemployment Rate=%{y}<extra></extra>\", \"legendgroup\": \"Gujarat\", \"marker\": {\"color\": \"#FF6692\"}, \"name\": \"Gujarat\", \"offsetgroup\": \"Gujarat\", \"orientation\": \"v\", \"showlegend\": true, \"textposition\": \"auto\", \"x\": [\"West\"], \"xaxis\": \"x\", \"y\": [3.42], \"yaxis\": \"y\", \"type\": \"bar\"}, {\"alignmentgroup\": \"True\", \"hovertemplate\": \"States=Haryana<br>Month_name=Sep<br>Region=%{x}<br>Estimated Unemployment Rate=%{y}<extra></extra>\", \"legendgroup\": \"Haryana\", \"marker\": {\"color\": \"#B6E880\"}, \"name\": \"Haryana\", \"offsetgroup\": \"Haryana\", \"orientation\": \"v\", \"showlegend\": true, \"textposition\": \"auto\", \"x\": [\"North\"], \"xaxis\": \"x\", \"y\": [19.68], \"yaxis\": \"y\", \"type\": \"bar\"}, {\"alignmentgroup\": \"True\", \"hovertemplate\": \"States=Himachal Pradesh<br>Month_name=Sep<br>Region=%{x}<br>Estimated Unemployment Rate=%{y}<extra></extra>\", \"legendgroup\": \"Himachal Pradesh\", \"marker\": {\"color\": \"#FF97FF\"}, \"name\": \"Himachal Pradesh\", \"offsetgroup\": \"Himachal Pradesh\", \"orientation\": \"v\", \"showlegend\": true, \"textposition\": \"auto\", \"x\": [\"North\"], \"xaxis\": \"x\", \"y\": [12.04], \"yaxis\": \"y\", \"type\": \"bar\"}, {\"alignmentgroup\": \"True\", \"hovertemplate\": \"States=Jammu & Kashmir<br>Month_name=Sep<br>Region=%{x}<br>Estimated Unemployment Rate=%{y}<extra></extra>\", \"legendgroup\": \"Jammu & Kashmir\", \"marker\": {\"color\": \"#FECB52\"}, \"name\": \"Jammu & Kashmir\", \"offsetgroup\": \"Jammu & Kashmir\", \"orientation\": \"v\", \"showlegend\": true, \"textposition\": \"auto\", \"x\": [\"North\"], \"xaxis\": \"x\", \"y\": [16.17], \"yaxis\": \"y\", \"type\": \"bar\"}, {\"alignmentgroup\": \"True\", \"hovertemplate\": \"States=Jharkhand<br>Month_name=Sep<br>Region=%{x}<br>Estimated Unemployment Rate=%{y}<extra></extra>\", \"legendgroup\": \"Jharkhand\", \"marker\": {\"color\": \"#636efa\"}, \"name\": \"Jharkhand\", \"offsetgroup\": \"Jharkhand\", \"orientation\": \"v\", \"showlegend\": true, \"textposition\": \"auto\", \"x\": [\"East\"], \"xaxis\": \"x\", \"y\": [8.24], \"yaxis\": \"y\", \"type\": \"bar\"}, {\"alignmentgroup\": \"True\", \"hovertemplate\": \"States=Karnataka<br>Month_name=Sep<br>Region=%{x}<br>Estimated Unemployment Rate=%{y}<extra></extra>\", \"legendgroup\": \"Karnataka\", \"marker\": {\"color\": \"#EF553B\"}, \"name\": \"Karnataka\", \"offsetgroup\": \"Karnataka\", \"orientation\": \"v\", \"showlegend\": true, \"textposition\": \"auto\", \"x\": [\"South\"], \"xaxis\": \"x\", \"y\": [2.41], \"yaxis\": \"y\", \"type\": \"bar\"}, {\"alignmentgroup\": \"True\", \"hovertemplate\": \"States=Kerala<br>Month_name=Sep<br>Region=%{x}<br>Estimated Unemployment Rate=%{y}<extra></extra>\", \"legendgroup\": \"Kerala\", \"marker\": {\"color\": \"#00cc96\"}, \"name\": \"Kerala\", \"offsetgroup\": \"Kerala\", \"orientation\": \"v\", \"showlegend\": true, \"textposition\": \"auto\", \"x\": [\"South\"], \"xaxis\": \"x\", \"y\": [5.91], \"yaxis\": \"y\", \"type\": \"bar\"}, {\"alignmentgroup\": \"True\", \"hovertemplate\": \"States=Madhya Pradesh<br>Month_name=Sep<br>Region=%{x}<br>Estimated Unemployment Rate=%{y}<extra></extra>\", \"legendgroup\": \"Madhya Pradesh\", \"marker\": {\"color\": \"#ab63fa\"}, \"name\": \"Madhya Pradesh\", \"offsetgroup\": \"Madhya Pradesh\", \"orientation\": \"v\", \"showlegend\": true, \"textposition\": \"auto\", \"x\": [\"West\"], \"xaxis\": \"x\", \"y\": [3.91], \"yaxis\": \"y\", \"type\": \"bar\"}, {\"alignmentgroup\": \"True\", \"hovertemplate\": \"States=Maharashtra<br>Month_name=Sep<br>Region=%{x}<br>Estimated Unemployment Rate=%{y}<extra></extra>\", \"legendgroup\": \"Maharashtra\", \"marker\": {\"color\": \"#FFA15A\"}, \"name\": \"Maharashtra\", \"offsetgroup\": \"Maharashtra\", \"orientation\": \"v\", \"showlegend\": true, \"textposition\": \"auto\", \"x\": [\"West\"], \"xaxis\": \"x\", \"y\": [4.55], \"yaxis\": \"y\", \"type\": \"bar\"}, {\"alignmentgroup\": \"True\", \"hovertemplate\": \"States=Meghalaya<br>Month_name=Sep<br>Region=%{x}<br>Estimated Unemployment Rate=%{y}<extra></extra>\", \"legendgroup\": \"Meghalaya\", \"marker\": {\"color\": \"#19d3f3\"}, \"name\": \"Meghalaya\", \"offsetgroup\": \"Meghalaya\", \"orientation\": \"v\", \"showlegend\": true, \"textposition\": \"auto\", \"x\": [\"Northeast\"], \"xaxis\": \"x\", \"y\": [4.29], \"yaxis\": \"y\", \"type\": \"bar\"}, {\"alignmentgroup\": \"True\", \"hovertemplate\": \"States=Odisha<br>Month_name=Sep<br>Region=%{x}<br>Estimated Unemployment Rate=%{y}<extra></extra>\", \"legendgroup\": \"Odisha\", \"marker\": {\"color\": \"#FF6692\"}, \"name\": \"Odisha\", \"offsetgroup\": \"Odisha\", \"orientation\": \"v\", \"showlegend\": true, \"textposition\": \"auto\", \"x\": [\"East\"], \"xaxis\": \"x\", \"y\": [2.1], \"yaxis\": \"y\", \"type\": \"bar\"}, {\"alignmentgroup\": \"True\", \"hovertemplate\": \"States=Puducherry<br>Month_name=Sep<br>Region=%{x}<br>Estimated Unemployment Rate=%{y}<extra></extra>\", \"legendgroup\": \"Puducherry\", \"marker\": {\"color\": \"#B6E880\"}, \"name\": \"Puducherry\", \"offsetgroup\": \"Puducherry\", \"orientation\": \"v\", \"showlegend\": true, \"textposition\": \"auto\", \"x\": [\"South\"], \"xaxis\": \"x\", \"y\": [10.9], \"yaxis\": \"y\", \"type\": \"bar\"}, {\"alignmentgroup\": \"True\", \"hovertemplate\": \"States=Punjab<br>Month_name=Sep<br>Region=%{x}<br>Estimated Unemployment Rate=%{y}<extra></extra>\", \"legendgroup\": \"Punjab\", \"marker\": {\"color\": \"#FF97FF\"}, \"name\": \"Punjab\", \"offsetgroup\": \"Punjab\", \"orientation\": \"v\", \"showlegend\": true, \"textposition\": \"auto\", \"x\": [\"North\"], \"xaxis\": \"x\", \"y\": [9.61], \"yaxis\": \"y\", \"type\": \"bar\"}, {\"alignmentgroup\": \"True\", \"hovertemplate\": \"States=Rajasthan<br>Month_name=Sep<br>Region=%{x}<br>Estimated Unemployment Rate=%{y}<extra></extra>\", \"legendgroup\": \"Rajasthan\", \"marker\": {\"color\": \"#FECB52\"}, \"name\": \"Rajasthan\", \"offsetgroup\": \"Rajasthan\", \"orientation\": \"v\", \"showlegend\": true, \"textposition\": \"auto\", \"x\": [\"North\"], \"xaxis\": \"x\", \"y\": [15.35], \"yaxis\": \"y\", \"type\": \"bar\"}, {\"alignmentgroup\": \"True\", \"hovertemplate\": \"States=Sikkim<br>Month_name=Sep<br>Region=%{x}<br>Estimated Unemployment Rate=%{y}<extra></extra>\", \"legendgroup\": \"Sikkim\", \"marker\": {\"color\": \"#636efa\"}, \"name\": \"Sikkim\", \"offsetgroup\": \"Sikkim\", \"orientation\": \"v\", \"showlegend\": true, \"textposition\": \"auto\", \"x\": [\"Northeast\"], \"xaxis\": \"x\", \"y\": [5.7], \"yaxis\": \"y\", \"type\": \"bar\"}, {\"alignmentgroup\": \"True\", \"hovertemplate\": \"States=Tamil Nadu<br>Month_name=Sep<br>Region=%{x}<br>Estimated Unemployment Rate=%{y}<extra></extra>\", \"legendgroup\": \"Tamil Nadu\", \"marker\": {\"color\": \"#EF553B\"}, \"name\": \"Tamil Nadu\", \"offsetgroup\": \"Tamil Nadu\", \"orientation\": \"v\", \"showlegend\": true, \"textposition\": \"auto\", \"x\": [\"South\"], \"xaxis\": \"x\", \"y\": [5.0], \"yaxis\": \"y\", \"type\": \"bar\"}, {\"alignmentgroup\": \"True\", \"hovertemplate\": \"States=Telangana<br>Month_name=Sep<br>Region=%{x}<br>Estimated Unemployment Rate=%{y}<extra></extra>\", \"legendgroup\": \"Telangana\", \"marker\": {\"color\": \"#00cc96\"}, \"name\": \"Telangana\", \"offsetgroup\": \"Telangana\", \"orientation\": \"v\", \"showlegend\": true, \"textposition\": \"auto\", \"x\": [\"South\"], \"xaxis\": \"x\", \"y\": [3.27], \"yaxis\": \"y\", \"type\": \"bar\"}, {\"alignmentgroup\": \"True\", \"hovertemplate\": \"States=Tripura<br>Month_name=Sep<br>Region=%{x}<br>Estimated Unemployment Rate=%{y}<extra></extra>\", \"legendgroup\": \"Tripura\", \"marker\": {\"color\": \"#ab63fa\"}, \"name\": \"Tripura\", \"offsetgroup\": \"Tripura\", \"orientation\": \"v\", \"showlegend\": true, \"textposition\": \"auto\", \"x\": [\"Northeast\"], \"xaxis\": \"x\", \"y\": [17.35], \"yaxis\": \"y\", \"type\": \"bar\"}, {\"alignmentgroup\": \"True\", \"hovertemplate\": \"States=Uttar Pradesh<br>Month_name=Sep<br>Region=%{x}<br>Estimated Unemployment Rate=%{y}<extra></extra>\", \"legendgroup\": \"Uttar Pradesh\", \"marker\": {\"color\": \"#FFA15A\"}, \"name\": \"Uttar Pradesh\", \"offsetgroup\": \"Uttar Pradesh\", \"orientation\": \"v\", \"showlegend\": true, \"textposition\": \"auto\", \"x\": [\"North\"], \"xaxis\": \"x\", \"y\": [4.18], \"yaxis\": \"y\", \"type\": \"bar\"}, {\"alignmentgroup\": \"True\", \"hovertemplate\": \"States=Uttarakhand<br>Month_name=Sep<br>Region=%{x}<br>Estimated Unemployment Rate=%{y}<extra></extra>\", \"legendgroup\": \"Uttarakhand\", \"marker\": {\"color\": \"#19d3f3\"}, \"name\": \"Uttarakhand\", \"offsetgroup\": \"Uttarakhand\", \"orientation\": \"v\", \"showlegend\": true, \"textposition\": \"auto\", \"x\": [\"North\"], \"xaxis\": \"x\", \"y\": [22.26], \"yaxis\": \"y\", \"type\": \"bar\"}, {\"alignmentgroup\": \"True\", \"hovertemplate\": \"States=West Bengal<br>Month_name=Sep<br>Region=%{x}<br>Estimated Unemployment Rate=%{y}<extra></extra>\", \"legendgroup\": \"West Bengal\", \"marker\": {\"color\": \"#FF6692\"}, \"name\": \"West Bengal\", \"offsetgroup\": \"West Bengal\", \"orientation\": \"v\", \"showlegend\": true, \"textposition\": \"auto\", \"x\": [\"East\"], \"xaxis\": \"x\", \"y\": [9.35], \"yaxis\": \"y\", \"type\": \"bar\"}], \"name\": \"Sep\"}, {\"data\": [{\"alignmentgroup\": \"True\", \"hovertemplate\": \"States=Andhra Pradesh<br>Month_name=Oct<br>Region=%{x}<br>Estimated Unemployment Rate=%{y}<extra></extra>\", \"legendgroup\": \"Andhra Pradesh\", \"marker\": {\"color\": \"#636efa\"}, \"name\": \"Andhra Pradesh\", \"offsetgroup\": \"Andhra Pradesh\", \"orientation\": \"v\", \"showlegend\": true, \"textposition\": \"auto\", \"x\": [\"South\"], \"xaxis\": \"x\", \"y\": [6.59], \"yaxis\": \"y\", \"type\": \"bar\"}, {\"alignmentgroup\": \"True\", \"hovertemplate\": \"States=Assam<br>Month_name=Oct<br>Region=%{x}<br>Estimated Unemployment Rate=%{y}<extra></extra>\", \"legendgroup\": \"Assam\", \"marker\": {\"color\": \"#EF553B\"}, \"name\": \"Assam\", \"offsetgroup\": \"Assam\", \"orientation\": \"v\", \"showlegend\": true, \"textposition\": \"auto\", \"x\": [\"Northeast\"], \"xaxis\": \"x\", \"y\": [3.02], \"yaxis\": \"y\", \"type\": \"bar\"}, {\"alignmentgroup\": \"True\", \"hovertemplate\": \"States=Bihar<br>Month_name=Oct<br>Region=%{x}<br>Estimated Unemployment Rate=%{y}<extra></extra>\", \"legendgroup\": \"Bihar\", \"marker\": {\"color\": \"#00cc96\"}, \"name\": \"Bihar\", \"offsetgroup\": \"Bihar\", \"orientation\": \"v\", \"showlegend\": true, \"textposition\": \"auto\", \"x\": [\"East\"], \"xaxis\": \"x\", \"y\": [9.82], \"yaxis\": \"y\", \"type\": \"bar\"}, {\"alignmentgroup\": \"True\", \"hovertemplate\": \"States=Chhattisgarh<br>Month_name=Oct<br>Region=%{x}<br>Estimated Unemployment Rate=%{y}<extra></extra>\", \"legendgroup\": \"Chhattisgarh\", \"marker\": {\"color\": \"#ab63fa\"}, \"name\": \"Chhattisgarh\", \"offsetgroup\": \"Chhattisgarh\", \"orientation\": \"v\", \"showlegend\": true, \"textposition\": \"auto\", \"x\": [\"West\"], \"xaxis\": \"x\", \"y\": [6.62], \"yaxis\": \"y\", \"type\": \"bar\"}, {\"alignmentgroup\": \"True\", \"hovertemplate\": \"States=Delhi<br>Month_name=Oct<br>Region=%{x}<br>Estimated Unemployment Rate=%{y}<extra></extra>\", \"legendgroup\": \"Delhi\", \"marker\": {\"color\": \"#FFA15A\"}, \"name\": \"Delhi\", \"offsetgroup\": \"Delhi\", \"orientation\": \"v\", \"showlegend\": true, \"textposition\": \"auto\", \"x\": [\"North\"], \"xaxis\": \"x\", \"y\": [6.27], \"yaxis\": \"y\", \"type\": \"bar\"}, {\"alignmentgroup\": \"True\", \"hovertemplate\": \"States=Goa<br>Month_name=Oct<br>Region=%{x}<br>Estimated Unemployment Rate=%{y}<extra></extra>\", \"legendgroup\": \"Goa\", \"marker\": {\"color\": \"#19d3f3\"}, \"name\": \"Goa\", \"offsetgroup\": \"Goa\", \"orientation\": \"v\", \"showlegend\": true, \"textposition\": \"auto\", \"x\": [\"West\"], \"xaxis\": \"x\", \"y\": [11.54], \"yaxis\": \"y\", \"type\": \"bar\"}, {\"alignmentgroup\": \"True\", \"hovertemplate\": \"States=Gujarat<br>Month_name=Oct<br>Region=%{x}<br>Estimated Unemployment Rate=%{y}<extra></extra>\", \"legendgroup\": \"Gujarat\", \"marker\": {\"color\": \"#FF6692\"}, \"name\": \"Gujarat\", \"offsetgroup\": \"Gujarat\", \"orientation\": \"v\", \"showlegend\": true, \"textposition\": \"auto\", \"x\": [\"West\"], \"xaxis\": \"x\", \"y\": [4.03], \"yaxis\": \"y\", \"type\": \"bar\"}, {\"alignmentgroup\": \"True\", \"hovertemplate\": \"States=Haryana<br>Month_name=Oct<br>Region=%{x}<br>Estimated Unemployment Rate=%{y}<extra></extra>\", \"legendgroup\": \"Haryana\", \"marker\": {\"color\": \"#B6E880\"}, \"name\": \"Haryana\", \"offsetgroup\": \"Haryana\", \"orientation\": \"v\", \"showlegend\": true, \"textposition\": \"auto\", \"x\": [\"North\"], \"xaxis\": \"x\", \"y\": [27.31], \"yaxis\": \"y\", \"type\": \"bar\"}, {\"alignmentgroup\": \"True\", \"hovertemplate\": \"States=Himachal Pradesh<br>Month_name=Oct<br>Region=%{x}<br>Estimated Unemployment Rate=%{y}<extra></extra>\", \"legendgroup\": \"Himachal Pradesh\", \"marker\": {\"color\": \"#FF97FF\"}, \"name\": \"Himachal Pradesh\", \"offsetgroup\": \"Himachal Pradesh\", \"orientation\": \"v\", \"showlegend\": true, \"textposition\": \"auto\", \"x\": [\"North\"], \"xaxis\": \"x\", \"y\": [13.46], \"yaxis\": \"y\", \"type\": \"bar\"}, {\"alignmentgroup\": \"True\", \"hovertemplate\": \"States=Jammu & Kashmir<br>Month_name=Oct<br>Region=%{x}<br>Estimated Unemployment Rate=%{y}<extra></extra>\", \"legendgroup\": \"Jammu & Kashmir\", \"marker\": {\"color\": \"#FECB52\"}, \"name\": \"Jammu & Kashmir\", \"offsetgroup\": \"Jammu & Kashmir\", \"orientation\": \"v\", \"showlegend\": true, \"textposition\": \"auto\", \"x\": [\"North\"], \"xaxis\": \"x\", \"y\": [16.14], \"yaxis\": \"y\", \"type\": \"bar\"}, {\"alignmentgroup\": \"True\", \"hovertemplate\": \"States=Jharkhand<br>Month_name=Oct<br>Region=%{x}<br>Estimated Unemployment Rate=%{y}<extra></extra>\", \"legendgroup\": \"Jharkhand\", \"marker\": {\"color\": \"#636efa\"}, \"name\": \"Jharkhand\", \"offsetgroup\": \"Jharkhand\", \"orientation\": \"v\", \"showlegend\": true, \"textposition\": \"auto\", \"x\": [\"East\"], \"xaxis\": \"x\", \"y\": [11.8], \"yaxis\": \"y\", \"type\": \"bar\"}, {\"alignmentgroup\": \"True\", \"hovertemplate\": \"States=Karnataka<br>Month_name=Oct<br>Region=%{x}<br>Estimated Unemployment Rate=%{y}<extra></extra>\", \"legendgroup\": \"Karnataka\", \"marker\": {\"color\": \"#EF553B\"}, \"name\": \"Karnataka\", \"offsetgroup\": \"Karnataka\", \"orientation\": \"v\", \"showlegend\": true, \"textposition\": \"auto\", \"x\": [\"South\"], \"xaxis\": \"x\", \"y\": [1.58], \"yaxis\": \"y\", \"type\": \"bar\"}, {\"alignmentgroup\": \"True\", \"hovertemplate\": \"States=Kerala<br>Month_name=Oct<br>Region=%{x}<br>Estimated Unemployment Rate=%{y}<extra></extra>\", \"legendgroup\": \"Kerala\", \"marker\": {\"color\": \"#00cc96\"}, \"name\": \"Kerala\", \"offsetgroup\": \"Kerala\", \"orientation\": \"v\", \"showlegend\": true, \"textposition\": \"auto\", \"x\": [\"South\"], \"xaxis\": \"x\", \"y\": [3.88], \"yaxis\": \"y\", \"type\": \"bar\"}, {\"alignmentgroup\": \"True\", \"hovertemplate\": \"States=Madhya Pradesh<br>Month_name=Oct<br>Region=%{x}<br>Estimated Unemployment Rate=%{y}<extra></extra>\", \"legendgroup\": \"Madhya Pradesh\", \"marker\": {\"color\": \"#ab63fa\"}, \"name\": \"Madhya Pradesh\", \"offsetgroup\": \"Madhya Pradesh\", \"orientation\": \"v\", \"showlegend\": true, \"textposition\": \"auto\", \"x\": [\"West\"], \"xaxis\": \"x\", \"y\": [3.13], \"yaxis\": \"y\", \"type\": \"bar\"}, {\"alignmentgroup\": \"True\", \"hovertemplate\": \"States=Maharashtra<br>Month_name=Oct<br>Region=%{x}<br>Estimated Unemployment Rate=%{y}<extra></extra>\", \"legendgroup\": \"Maharashtra\", \"marker\": {\"color\": \"#FFA15A\"}, \"name\": \"Maharashtra\", \"offsetgroup\": \"Maharashtra\", \"orientation\": \"v\", \"showlegend\": true, \"textposition\": \"auto\", \"x\": [\"West\"], \"xaxis\": \"x\", \"y\": [4.1], \"yaxis\": \"y\", \"type\": \"bar\"}, {\"alignmentgroup\": \"True\", \"hovertemplate\": \"States=Meghalaya<br>Month_name=Oct<br>Region=%{x}<br>Estimated Unemployment Rate=%{y}<extra></extra>\", \"legendgroup\": \"Meghalaya\", \"marker\": {\"color\": \"#19d3f3\"}, \"name\": \"Meghalaya\", \"offsetgroup\": \"Meghalaya\", \"orientation\": \"v\", \"showlegend\": true, \"textposition\": \"auto\", \"x\": [\"Northeast\"], \"xaxis\": \"x\", \"y\": [4.6], \"yaxis\": \"y\", \"type\": \"bar\"}, {\"alignmentgroup\": \"True\", \"hovertemplate\": \"States=Odisha<br>Month_name=Oct<br>Region=%{x}<br>Estimated Unemployment Rate=%{y}<extra></extra>\", \"legendgroup\": \"Odisha\", \"marker\": {\"color\": \"#FF6692\"}, \"name\": \"Odisha\", \"offsetgroup\": \"Odisha\", \"orientation\": \"v\", \"showlegend\": true, \"textposition\": \"auto\", \"x\": [\"East\"], \"xaxis\": \"x\", \"y\": [2.18], \"yaxis\": \"y\", \"type\": \"bar\"}, {\"alignmentgroup\": \"True\", \"hovertemplate\": \"States=Puducherry<br>Month_name=Oct<br>Region=%{x}<br>Estimated Unemployment Rate=%{y}<extra></extra>\", \"legendgroup\": \"Puducherry\", \"marker\": {\"color\": \"#B6E880\"}, \"name\": \"Puducherry\", \"offsetgroup\": \"Puducherry\", \"orientation\": \"v\", \"showlegend\": true, \"textposition\": \"auto\", \"x\": [\"South\"], \"xaxis\": \"x\", \"y\": [6.18], \"yaxis\": \"y\", \"type\": \"bar\"}, {\"alignmentgroup\": \"True\", \"hovertemplate\": \"States=Punjab<br>Month_name=Oct<br>Region=%{x}<br>Estimated Unemployment Rate=%{y}<extra></extra>\", \"legendgroup\": \"Punjab\", \"marker\": {\"color\": \"#FF97FF\"}, \"name\": \"Punjab\", \"offsetgroup\": \"Punjab\", \"orientation\": \"v\", \"showlegend\": true, \"textposition\": \"auto\", \"x\": [\"North\"], \"xaxis\": \"x\", \"y\": [9.88], \"yaxis\": \"y\", \"type\": \"bar\"}, {\"alignmentgroup\": \"True\", \"hovertemplate\": \"States=Rajasthan<br>Month_name=Oct<br>Region=%{x}<br>Estimated Unemployment Rate=%{y}<extra></extra>\", \"legendgroup\": \"Rajasthan\", \"marker\": {\"color\": \"#FECB52\"}, \"name\": \"Rajasthan\", \"offsetgroup\": \"Rajasthan\", \"orientation\": \"v\", \"showlegend\": true, \"textposition\": \"auto\", \"x\": [\"North\"], \"xaxis\": \"x\", \"y\": [24.15], \"yaxis\": \"y\", \"type\": \"bar\"}, {\"alignmentgroup\": \"True\", \"hovertemplate\": \"States=Sikkim<br>Month_name=Oct<br>Region=%{x}<br>Estimated Unemployment Rate=%{y}<extra></extra>\", \"legendgroup\": \"Sikkim\", \"marker\": {\"color\": \"#636efa\"}, \"name\": \"Sikkim\", \"offsetgroup\": \"Sikkim\", \"orientation\": \"v\", \"showlegend\": true, \"textposition\": \"auto\", \"x\": [\"Northeast\"], \"xaxis\": \"x\", \"y\": [0.88], \"yaxis\": \"y\", \"type\": \"bar\"}, {\"alignmentgroup\": \"True\", \"hovertemplate\": \"States=Tamil Nadu<br>Month_name=Oct<br>Region=%{x}<br>Estimated Unemployment Rate=%{y}<extra></extra>\", \"legendgroup\": \"Tamil Nadu\", \"marker\": {\"color\": \"#EF553B\"}, \"name\": \"Tamil Nadu\", \"offsetgroup\": \"Tamil Nadu\", \"orientation\": \"v\", \"showlegend\": true, \"textposition\": \"auto\", \"x\": [\"South\"], \"xaxis\": \"x\", \"y\": [2.16], \"yaxis\": \"y\", \"type\": \"bar\"}, {\"alignmentgroup\": \"True\", \"hovertemplate\": \"States=Telangana<br>Month_name=Oct<br>Region=%{x}<br>Estimated Unemployment Rate=%{y}<extra></extra>\", \"legendgroup\": \"Telangana\", \"marker\": {\"color\": \"#00cc96\"}, \"name\": \"Telangana\", \"offsetgroup\": \"Telangana\", \"orientation\": \"v\", \"showlegend\": true, \"textposition\": \"auto\", \"x\": [\"South\"], \"xaxis\": \"x\", \"y\": [2.86], \"yaxis\": \"y\", \"type\": \"bar\"}, {\"alignmentgroup\": \"True\", \"hovertemplate\": \"States=Tripura<br>Month_name=Oct<br>Region=%{x}<br>Estimated Unemployment Rate=%{y}<extra></extra>\", \"legendgroup\": \"Tripura\", \"marker\": {\"color\": \"#ab63fa\"}, \"name\": \"Tripura\", \"offsetgroup\": \"Tripura\", \"orientation\": \"v\", \"showlegend\": true, \"textposition\": \"auto\", \"x\": [\"Northeast\"], \"xaxis\": \"x\", \"y\": [11.57], \"yaxis\": \"y\", \"type\": \"bar\"}, {\"alignmentgroup\": \"True\", \"hovertemplate\": \"States=Uttar Pradesh<br>Month_name=Oct<br>Region=%{x}<br>Estimated Unemployment Rate=%{y}<extra></extra>\", \"legendgroup\": \"Uttar Pradesh\", \"marker\": {\"color\": \"#FFA15A\"}, \"name\": \"Uttar Pradesh\", \"offsetgroup\": \"Uttar Pradesh\", \"orientation\": \"v\", \"showlegend\": true, \"textposition\": \"auto\", \"x\": [\"North\"], \"xaxis\": \"x\", \"y\": [3.75], \"yaxis\": \"y\", \"type\": \"bar\"}, {\"alignmentgroup\": \"True\", \"hovertemplate\": \"States=Uttarakhand<br>Month_name=Oct<br>Region=%{x}<br>Estimated Unemployment Rate=%{y}<extra></extra>\", \"legendgroup\": \"Uttarakhand\", \"marker\": {\"color\": \"#19d3f3\"}, \"name\": \"Uttarakhand\", \"offsetgroup\": \"Uttarakhand\", \"orientation\": \"v\", \"showlegend\": true, \"textposition\": \"auto\", \"x\": [\"North\"], \"xaxis\": \"x\", \"y\": [9.23], \"yaxis\": \"y\", \"type\": \"bar\"}, {\"alignmentgroup\": \"True\", \"hovertemplate\": \"States=West Bengal<br>Month_name=Oct<br>Region=%{x}<br>Estimated Unemployment Rate=%{y}<extra></extra>\", \"legendgroup\": \"West Bengal\", \"marker\": {\"color\": \"#FF6692\"}, \"name\": \"West Bengal\", \"offsetgroup\": \"West Bengal\", \"orientation\": \"v\", \"showlegend\": true, \"textposition\": \"auto\", \"x\": [\"East\"], \"xaxis\": \"x\", \"y\": [9.98], \"yaxis\": \"y\", \"type\": \"bar\"}], \"name\": \"Oct\"}]);\n",
              "                        }).then(function(){\n",
              "                            \n",
              "var gd = document.getElementById('352e33c5-aef9-403c-aec9-e282f2c581ab');\n",
              "var x = new MutationObserver(function (mutations, observer) {{\n",
              "        var display = window.getComputedStyle(gd).display;\n",
              "        if (!display || display === 'none') {{\n",
              "            console.log([gd, 'removed!']);\n",
              "            Plotly.purge(gd);\n",
              "            observer.disconnect();\n",
              "        }}\n",
              "}});\n",
              "\n",
              "// Listen for the removal of the full notebook cells\n",
              "var notebookContainer = gd.closest('#notebook-container');\n",
              "if (notebookContainer) {{\n",
              "    x.observe(notebookContainer, {childList: true});\n",
              "}}\n",
              "\n",
              "// Listen for the clearing of the current output cell\n",
              "var outputEl = gd.closest('.output');\n",
              "if (outputEl) {{\n",
              "    x.observe(outputEl, {childList: true});\n",
              "}}\n",
              "\n",
              "                        })                };                            </script>        </div>\n",
              "</body>\n",
              "</html>"
            ]
          },
          "metadata": {
            "tags": []
          }
        }
      ]
    },
    {
      "cell_type": "code",
      "metadata": {
        "id": "GFWGBu-TBDjB"
      },
      "source": [
        "unemplo_df = df1[['States','Region','Estimated Unemployment Rate','Estimated Employed','Estimated Labour Participation Rate']]\n",
        "\n",
        "unemplo = unemplo_df.groupby(['Region','States'])['Estimated Unemployment Rate'].mean().reset_index()"
      ],
      "execution_count": null,
      "outputs": []
    },
    {
      "cell_type": "code",
      "metadata": {
        "colab": {
          "base_uri": "https://localhost:8080/",
          "height": 846
        },
        "id": "3UlzkXlbefig",
        "outputId": "edcd37b1-5d4a-435f-9a3a-31ef59f26c3c"
      },
      "source": [
        "unemplo"
      ],
      "execution_count": null,
      "outputs": [
        {
          "output_type": "execute_result",
          "data": {
            "text/html": [
              "<div>\n",
              "<style scoped>\n",
              "    .dataframe tbody tr th:only-of-type {\n",
              "        vertical-align: middle;\n",
              "    }\n",
              "\n",
              "    .dataframe tbody tr th {\n",
              "        vertical-align: top;\n",
              "    }\n",
              "\n",
              "    .dataframe thead th {\n",
              "        text-align: right;\n",
              "    }\n",
              "</style>\n",
              "<table border=\"1\" class=\"dataframe\">\n",
              "  <thead>\n",
              "    <tr style=\"text-align: right;\">\n",
              "      <th></th>\n",
              "      <th>Region</th>\n",
              "      <th>States</th>\n",
              "      <th>Estimated Unemployment Rate</th>\n",
              "    </tr>\n",
              "  </thead>\n",
              "  <tbody>\n",
              "    <tr>\n",
              "      <th>0</th>\n",
              "      <td>East</td>\n",
              "      <td>Bihar</td>\n",
              "      <td>19.471000</td>\n",
              "    </tr>\n",
              "    <tr>\n",
              "      <th>1</th>\n",
              "      <td>East</td>\n",
              "      <td>Jharkhand</td>\n",
              "      <td>19.539000</td>\n",
              "    </tr>\n",
              "    <tr>\n",
              "      <th>2</th>\n",
              "      <td>East</td>\n",
              "      <td>Odisha</td>\n",
              "      <td>6.462000</td>\n",
              "    </tr>\n",
              "    <tr>\n",
              "      <th>3</th>\n",
              "      <td>East</td>\n",
              "      <td>West Bengal</td>\n",
              "      <td>10.192000</td>\n",
              "    </tr>\n",
              "    <tr>\n",
              "      <th>4</th>\n",
              "      <td>North</td>\n",
              "      <td>Delhi</td>\n",
              "      <td>18.414000</td>\n",
              "    </tr>\n",
              "    <tr>\n",
              "      <th>5</th>\n",
              "      <td>North</td>\n",
              "      <td>Haryana</td>\n",
              "      <td>27.477000</td>\n",
              "    </tr>\n",
              "    <tr>\n",
              "      <th>6</th>\n",
              "      <td>North</td>\n",
              "      <td>Himachal Pradesh</td>\n",
              "      <td>16.065000</td>\n",
              "    </tr>\n",
              "    <tr>\n",
              "      <th>7</th>\n",
              "      <td>North</td>\n",
              "      <td>Jammu &amp; Kashmir</td>\n",
              "      <td>16.477778</td>\n",
              "    </tr>\n",
              "    <tr>\n",
              "      <th>8</th>\n",
              "      <td>North</td>\n",
              "      <td>Punjab</td>\n",
              "      <td>11.981000</td>\n",
              "    </tr>\n",
              "    <tr>\n",
              "      <th>9</th>\n",
              "      <td>North</td>\n",
              "      <td>Rajasthan</td>\n",
              "      <td>15.868000</td>\n",
              "    </tr>\n",
              "    <tr>\n",
              "      <th>10</th>\n",
              "      <td>North</td>\n",
              "      <td>Uttar Pradesh</td>\n",
              "      <td>9.737000</td>\n",
              "    </tr>\n",
              "    <tr>\n",
              "      <th>11</th>\n",
              "      <td>North</td>\n",
              "      <td>Uttarakhand</td>\n",
              "      <td>11.156000</td>\n",
              "    </tr>\n",
              "    <tr>\n",
              "      <th>12</th>\n",
              "      <td>Northeast</td>\n",
              "      <td>Assam</td>\n",
              "      <td>4.856000</td>\n",
              "    </tr>\n",
              "    <tr>\n",
              "      <th>13</th>\n",
              "      <td>Northeast</td>\n",
              "      <td>Meghalaya</td>\n",
              "      <td>3.866000</td>\n",
              "    </tr>\n",
              "    <tr>\n",
              "      <th>14</th>\n",
              "      <td>Northeast</td>\n",
              "      <td>Sikkim</td>\n",
              "      <td>9.792500</td>\n",
              "    </tr>\n",
              "    <tr>\n",
              "      <th>15</th>\n",
              "      <td>Northeast</td>\n",
              "      <td>Tripura</td>\n",
              "      <td>25.055000</td>\n",
              "    </tr>\n",
              "    <tr>\n",
              "      <th>16</th>\n",
              "      <td>South</td>\n",
              "      <td>Andhra Pradesh</td>\n",
              "      <td>8.664000</td>\n",
              "    </tr>\n",
              "    <tr>\n",
              "      <th>17</th>\n",
              "      <td>South</td>\n",
              "      <td>Karnataka</td>\n",
              "      <td>7.668000</td>\n",
              "    </tr>\n",
              "    <tr>\n",
              "      <th>18</th>\n",
              "      <td>South</td>\n",
              "      <td>Kerala</td>\n",
              "      <td>9.434000</td>\n",
              "    </tr>\n",
              "    <tr>\n",
              "      <th>19</th>\n",
              "      <td>South</td>\n",
              "      <td>Puducherry</td>\n",
              "      <td>17.942000</td>\n",
              "    </tr>\n",
              "    <tr>\n",
              "      <th>20</th>\n",
              "      <td>South</td>\n",
              "      <td>Tamil Nadu</td>\n",
              "      <td>12.187000</td>\n",
              "    </tr>\n",
              "    <tr>\n",
              "      <th>21</th>\n",
              "      <td>South</td>\n",
              "      <td>Telangana</td>\n",
              "      <td>6.833000</td>\n",
              "    </tr>\n",
              "    <tr>\n",
              "      <th>22</th>\n",
              "      <td>West</td>\n",
              "      <td>Chhattisgarh</td>\n",
              "      <td>7.819000</td>\n",
              "    </tr>\n",
              "    <tr>\n",
              "      <th>23</th>\n",
              "      <td>West</td>\n",
              "      <td>Goa</td>\n",
              "      <td>12.167000</td>\n",
              "    </tr>\n",
              "    <tr>\n",
              "      <th>24</th>\n",
              "      <td>West</td>\n",
              "      <td>Gujarat</td>\n",
              "      <td>6.376000</td>\n",
              "    </tr>\n",
              "    <tr>\n",
              "      <th>25</th>\n",
              "      <td>West</td>\n",
              "      <td>Madhya Pradesh</td>\n",
              "      <td>6.854000</td>\n",
              "    </tr>\n",
              "    <tr>\n",
              "      <th>26</th>\n",
              "      <td>West</td>\n",
              "      <td>Maharashtra</td>\n",
              "      <td>7.979000</td>\n",
              "    </tr>\n",
              "  </tbody>\n",
              "</table>\n",
              "</div>"
            ],
            "text/plain": [
              "       Region            States  Estimated Unemployment Rate\n",
              "0        East             Bihar                    19.471000\n",
              "1        East         Jharkhand                    19.539000\n",
              "2        East            Odisha                     6.462000\n",
              "3        East       West Bengal                    10.192000\n",
              "4       North             Delhi                    18.414000\n",
              "5       North           Haryana                    27.477000\n",
              "6       North  Himachal Pradesh                    16.065000\n",
              "7       North   Jammu & Kashmir                    16.477778\n",
              "8       North            Punjab                    11.981000\n",
              "9       North         Rajasthan                    15.868000\n",
              "10      North     Uttar Pradesh                     9.737000\n",
              "11      North       Uttarakhand                    11.156000\n",
              "12  Northeast             Assam                     4.856000\n",
              "13  Northeast         Meghalaya                     3.866000\n",
              "14  Northeast            Sikkim                     9.792500\n",
              "15  Northeast           Tripura                    25.055000\n",
              "16      South    Andhra Pradesh                     8.664000\n",
              "17      South         Karnataka                     7.668000\n",
              "18      South            Kerala                     9.434000\n",
              "19      South        Puducherry                    17.942000\n",
              "20      South        Tamil Nadu                    12.187000\n",
              "21      South         Telangana                     6.833000\n",
              "22       West      Chhattisgarh                     7.819000\n",
              "23       West               Goa                    12.167000\n",
              "24       West           Gujarat                     6.376000\n",
              "25       West    Madhya Pradesh                     6.854000\n",
              "26       West       Maharashtra                     7.979000"
            ]
          },
          "metadata": {
            "tags": []
          },
          "execution_count": 25
        }
      ]
    },
    {
      "cell_type": "code",
      "metadata": {
        "id": "HElQZkREdxsn",
        "colab": {
          "base_uri": "https://localhost:8080/",
          "height": 667
        },
        "outputId": "1c7a86c4-a86a-485e-fc9c-5522c6090cdf"
      },
      "source": [
        "fig = px.sunburst(unemplo, path=['Region','States'], values='Estimated Unemployment Rate',color_continuous_scale='Plasma',title= 'unemployment rate in each region and state',height=650,template='ggplot2')\n",
        "\n",
        "\n",
        "fig.show()"
      ],
      "execution_count": null,
      "outputs": [
        {
          "output_type": "display_data",
          "data": {
            "text/html": [
              "<html>\n",
              "<head><meta charset=\"utf-8\" /></head>\n",
              "<body>\n",
              "    <div>            <script src=\"https://cdnjs.cloudflare.com/ajax/libs/mathjax/2.7.5/MathJax.js?config=TeX-AMS-MML_SVG\"></script><script type=\"text/javascript\">if (window.MathJax) {MathJax.Hub.Config({SVG: {font: \"STIX-Web\"}});}</script>                <script type=\"text/javascript\">window.PlotlyConfig = {MathJaxConfig: 'local'};</script>\n",
              "        <script src=\"https://cdn.plot.ly/plotly-latest.min.js\"></script>                <div id=\"5ff1a02d-5704-4a58-8192-fc70d9daf937\" class=\"plotly-graph-div\" style=\"height:650px; width:100%;\"></div>            <script type=\"text/javascript\">                                    window.PLOTLYENV=window.PLOTLYENV || {};                                    if (document.getElementById(\"5ff1a02d-5704-4a58-8192-fc70d9daf937\")) {                    Plotly.newPlot(                        \"5ff1a02d-5704-4a58-8192-fc70d9daf937\",                        [{\"branchvalues\": \"total\", \"domain\": {\"x\": [0.0, 1.0], \"y\": [0.0, 1.0]}, \"hovertemplate\": \"labels=%{label}<br>Estimated Unemployment Rate=%{value}<br>parent=%{parent}<br>id=%{id}<extra></extra>\", \"ids\": [\"South/Andhra Pradesh\", \"Northeast/Assam\", \"East/Bihar\", \"West/Chhattisgarh\", \"North/Delhi\", \"West/Goa\", \"West/Gujarat\", \"North/Haryana\", \"North/Himachal Pradesh\", \"North/Jammu & Kashmir\", \"East/Jharkhand\", \"South/Karnataka\", \"South/Kerala\", \"West/Madhya Pradesh\", \"West/Maharashtra\", \"Northeast/Meghalaya\", \"East/Odisha\", \"South/Puducherry\", \"North/Punjab\", \"North/Rajasthan\", \"Northeast/Sikkim\", \"South/Tamil Nadu\", \"South/Telangana\", \"Northeast/Tripura\", \"North/Uttar Pradesh\", \"North/Uttarakhand\", \"East/West Bengal\", \"East\", \"North\", \"Northeast\", \"South\", \"West\"], \"labels\": [\"Andhra Pradesh\", \"Assam\", \"Bihar\", \"Chhattisgarh\", \"Delhi\", \"Goa\", \"Gujarat\", \"Haryana\", \"Himachal Pradesh\", \"Jammu & Kashmir\", \"Jharkhand\", \"Karnataka\", \"Kerala\", \"Madhya Pradesh\", \"Maharashtra\", \"Meghalaya\", \"Odisha\", \"Puducherry\", \"Punjab\", \"Rajasthan\", \"Sikkim\", \"Tamil Nadu\", \"Telangana\", \"Tripura\", \"Uttar Pradesh\", \"Uttarakhand\", \"West Bengal\", \"East\", \"North\", \"Northeast\", \"South\", \"West\"], \"name\": \"\", \"parents\": [\"South\", \"Northeast\", \"East\", \"West\", \"North\", \"West\", \"West\", \"North\", \"North\", \"North\", \"East\", \"South\", \"South\", \"West\", \"West\", \"Northeast\", \"East\", \"South\", \"North\", \"North\", \"Northeast\", \"South\", \"South\", \"Northeast\", \"North\", \"North\", \"East\", \"\", \"\", \"\", \"\", \"\"], \"type\": \"sunburst\", \"values\": [8.664, 4.856000000000001, 19.470999999999997, 7.819, 18.414, 12.166999999999998, 6.376, 27.476999999999997, 16.065, 16.477777777777778, 19.538999999999998, 7.667999999999999, 9.434, 6.853999999999999, 7.978999999999999, 3.8660000000000005, 6.462000000000001, 17.942, 11.980999999999998, 15.868, 9.7925, 12.187000000000001, 6.833, 25.055, 9.737, 11.156000000000002, 10.192, 55.663999999999994, 127.17577777777777, 43.569500000000005, 62.727999999999994, 41.19499999999999]}],                        {\"height\": 650, \"legend\": {\"tracegroupgap\": 0}, \"template\": {\"data\": {\"bar\": [{\"error_x\": {\"color\": \"rgb(51,51,51)\"}, \"error_y\": {\"color\": \"rgb(51,51,51)\"}, \"marker\": {\"line\": {\"color\": \"rgb(237,237,237)\", \"width\": 0.5}}, \"type\": \"bar\"}], \"barpolar\": [{\"marker\": {\"line\": {\"color\": \"rgb(237,237,237)\", \"width\": 0.5}}, \"type\": \"barpolar\"}], \"carpet\": [{\"aaxis\": {\"endlinecolor\": \"rgb(51,51,51)\", \"gridcolor\": \"white\", \"linecolor\": \"white\", \"minorgridcolor\": \"white\", \"startlinecolor\": \"rgb(51,51,51)\"}, \"baxis\": {\"endlinecolor\": \"rgb(51,51,51)\", \"gridcolor\": \"white\", \"linecolor\": \"white\", \"minorgridcolor\": \"white\", \"startlinecolor\": \"rgb(51,51,51)\"}, \"type\": \"carpet\"}], \"choropleth\": [{\"colorbar\": {\"outlinewidth\": 0, \"tickcolor\": \"rgb(237,237,237)\", \"ticklen\": 6, \"ticks\": \"inside\"}, \"type\": \"choropleth\"}], \"contour\": [{\"colorbar\": {\"outlinewidth\": 0, \"tickcolor\": \"rgb(237,237,237)\", \"ticklen\": 6, \"ticks\": \"inside\"}, \"colorscale\": [[0, \"rgb(20,44,66)\"], [1, \"rgb(90,179,244)\"]], \"type\": \"contour\"}], \"contourcarpet\": [{\"colorbar\": {\"outlinewidth\": 0, \"tickcolor\": \"rgb(237,237,237)\", \"ticklen\": 6, \"ticks\": \"inside\"}, \"type\": \"contourcarpet\"}], \"heatmap\": [{\"colorbar\": {\"outlinewidth\": 0, \"tickcolor\": \"rgb(237,237,237)\", \"ticklen\": 6, \"ticks\": \"inside\"}, \"colorscale\": [[0, \"rgb(20,44,66)\"], [1, \"rgb(90,179,244)\"]], \"type\": \"heatmap\"}], \"heatmapgl\": [{\"colorbar\": {\"outlinewidth\": 0, \"tickcolor\": \"rgb(237,237,237)\", \"ticklen\": 6, \"ticks\": \"inside\"}, \"colorscale\": [[0, \"rgb(20,44,66)\"], [1, \"rgb(90,179,244)\"]], \"type\": \"heatmapgl\"}], \"histogram\": [{\"marker\": {\"colorbar\": {\"outlinewidth\": 0, \"tickcolor\": \"rgb(237,237,237)\", \"ticklen\": 6, \"ticks\": \"inside\"}}, \"type\": \"histogram\"}], \"histogram2d\": [{\"colorbar\": {\"outlinewidth\": 0, \"tickcolor\": \"rgb(237,237,237)\", \"ticklen\": 6, \"ticks\": \"inside\"}, \"colorscale\": [[0, \"rgb(20,44,66)\"], [1, \"rgb(90,179,244)\"]], \"type\": \"histogram2d\"}], \"histogram2dcontour\": [{\"colorbar\": {\"outlinewidth\": 0, \"tickcolor\": \"rgb(237,237,237)\", \"ticklen\": 6, \"ticks\": \"inside\"}, \"colorscale\": [[0, \"rgb(20,44,66)\"], [1, \"rgb(90,179,244)\"]], \"type\": \"histogram2dcontour\"}], \"mesh3d\": [{\"colorbar\": {\"outlinewidth\": 0, \"tickcolor\": \"rgb(237,237,237)\", \"ticklen\": 6, \"ticks\": \"inside\"}, \"type\": \"mesh3d\"}], \"parcoords\": [{\"line\": {\"colorbar\": {\"outlinewidth\": 0, \"tickcolor\": \"rgb(237,237,237)\", \"ticklen\": 6, \"ticks\": \"inside\"}}, \"type\": \"parcoords\"}], \"pie\": [{\"automargin\": true, \"type\": \"pie\"}], \"scatter\": [{\"marker\": {\"colorbar\": {\"outlinewidth\": 0, \"tickcolor\": \"rgb(237,237,237)\", \"ticklen\": 6, \"ticks\": \"inside\"}}, \"type\": \"scatter\"}], \"scatter3d\": [{\"line\": {\"colorbar\": {\"outlinewidth\": 0, \"tickcolor\": \"rgb(237,237,237)\", \"ticklen\": 6, \"ticks\": \"inside\"}}, \"marker\": {\"colorbar\": {\"outlinewidth\": 0, \"tickcolor\": \"rgb(237,237,237)\", \"ticklen\": 6, \"ticks\": \"inside\"}}, \"type\": \"scatter3d\"}], \"scattercarpet\": [{\"marker\": {\"colorbar\": {\"outlinewidth\": 0, \"tickcolor\": \"rgb(237,237,237)\", \"ticklen\": 6, \"ticks\": \"inside\"}}, \"type\": \"scattercarpet\"}], \"scattergeo\": [{\"marker\": {\"colorbar\": {\"outlinewidth\": 0, \"tickcolor\": \"rgb(237,237,237)\", \"ticklen\": 6, \"ticks\": \"inside\"}}, \"type\": \"scattergeo\"}], \"scattergl\": [{\"marker\": {\"colorbar\": {\"outlinewidth\": 0, \"tickcolor\": \"rgb(237,237,237)\", \"ticklen\": 6, \"ticks\": \"inside\"}}, \"type\": \"scattergl\"}], \"scattermapbox\": [{\"marker\": {\"colorbar\": {\"outlinewidth\": 0, \"tickcolor\": \"rgb(237,237,237)\", \"ticklen\": 6, \"ticks\": \"inside\"}}, \"type\": \"scattermapbox\"}], \"scatterpolar\": [{\"marker\": {\"colorbar\": {\"outlinewidth\": 0, \"tickcolor\": \"rgb(237,237,237)\", \"ticklen\": 6, \"ticks\": \"inside\"}}, \"type\": \"scatterpolar\"}], \"scatterpolargl\": [{\"marker\": {\"colorbar\": {\"outlinewidth\": 0, \"tickcolor\": \"rgb(237,237,237)\", \"ticklen\": 6, \"ticks\": \"inside\"}}, \"type\": \"scatterpolargl\"}], \"scatterternary\": [{\"marker\": {\"colorbar\": {\"outlinewidth\": 0, \"tickcolor\": \"rgb(237,237,237)\", \"ticklen\": 6, \"ticks\": \"inside\"}}, \"type\": \"scatterternary\"}], \"surface\": [{\"colorbar\": {\"outlinewidth\": 0, \"tickcolor\": \"rgb(237,237,237)\", \"ticklen\": 6, \"ticks\": \"inside\"}, \"colorscale\": [[0, \"rgb(20,44,66)\"], [1, \"rgb(90,179,244)\"]], \"type\": \"surface\"}], \"table\": [{\"cells\": {\"fill\": {\"color\": \"rgb(237,237,237)\"}, \"line\": {\"color\": \"white\"}}, \"header\": {\"fill\": {\"color\": \"rgb(217,217,217)\"}, \"line\": {\"color\": \"white\"}}, \"type\": \"table\"}]}, \"layout\": {\"annotationdefaults\": {\"arrowhead\": 0, \"arrowwidth\": 1}, \"coloraxis\": {\"colorbar\": {\"outlinewidth\": 0, \"tickcolor\": \"rgb(237,237,237)\", \"ticklen\": 6, \"ticks\": \"inside\"}}, \"colorscale\": {\"sequential\": [[0, \"rgb(20,44,66)\"], [1, \"rgb(90,179,244)\"]], \"sequentialminus\": [[0, \"rgb(20,44,66)\"], [1, \"rgb(90,179,244)\"]]}, \"colorway\": [\"#F8766D\", \"#A3A500\", \"#00BF7D\", \"#00B0F6\", \"#E76BF3\"], \"font\": {\"color\": \"rgb(51,51,51)\"}, \"geo\": {\"bgcolor\": \"white\", \"lakecolor\": \"white\", \"landcolor\": \"rgb(237,237,237)\", \"showlakes\": true, \"showland\": true, \"subunitcolor\": \"white\"}, \"hoverlabel\": {\"align\": \"left\"}, \"hovermode\": \"closest\", \"paper_bgcolor\": \"white\", \"plot_bgcolor\": \"rgb(237,237,237)\", \"polar\": {\"angularaxis\": {\"gridcolor\": \"white\", \"linecolor\": \"white\", \"showgrid\": true, \"tickcolor\": \"rgb(51,51,51)\", \"ticks\": \"outside\"}, \"bgcolor\": \"rgb(237,237,237)\", \"radialaxis\": {\"gridcolor\": \"white\", \"linecolor\": \"white\", \"showgrid\": true, \"tickcolor\": \"rgb(51,51,51)\", \"ticks\": \"outside\"}}, \"scene\": {\"xaxis\": {\"backgroundcolor\": \"rgb(237,237,237)\", \"gridcolor\": \"white\", \"gridwidth\": 2, \"linecolor\": \"white\", \"showbackground\": true, \"showgrid\": true, \"tickcolor\": \"rgb(51,51,51)\", \"ticks\": \"outside\", \"zerolinecolor\": \"white\"}, \"yaxis\": {\"backgroundcolor\": \"rgb(237,237,237)\", \"gridcolor\": \"white\", \"gridwidth\": 2, \"linecolor\": \"white\", \"showbackground\": true, \"showgrid\": true, \"tickcolor\": \"rgb(51,51,51)\", \"ticks\": \"outside\", \"zerolinecolor\": \"white\"}, \"zaxis\": {\"backgroundcolor\": \"rgb(237,237,237)\", \"gridcolor\": \"white\", \"gridwidth\": 2, \"linecolor\": \"white\", \"showbackground\": true, \"showgrid\": true, \"tickcolor\": \"rgb(51,51,51)\", \"ticks\": \"outside\", \"zerolinecolor\": \"white\"}}, \"shapedefaults\": {\"fillcolor\": \"black\", \"line\": {\"width\": 0}, \"opacity\": 0.3}, \"ternary\": {\"aaxis\": {\"gridcolor\": \"white\", \"linecolor\": \"white\", \"showgrid\": true, \"tickcolor\": \"rgb(51,51,51)\", \"ticks\": \"outside\"}, \"baxis\": {\"gridcolor\": \"white\", \"linecolor\": \"white\", \"showgrid\": true, \"tickcolor\": \"rgb(51,51,51)\", \"ticks\": \"outside\"}, \"bgcolor\": \"rgb(237,237,237)\", \"caxis\": {\"gridcolor\": \"white\", \"linecolor\": \"white\", \"showgrid\": true, \"tickcolor\": \"rgb(51,51,51)\", \"ticks\": \"outside\"}}, \"xaxis\": {\"automargin\": true, \"gridcolor\": \"white\", \"linecolor\": \"white\", \"showgrid\": true, \"tickcolor\": \"rgb(51,51,51)\", \"ticks\": \"outside\", \"title\": {\"standoff\": 15}, \"zerolinecolor\": \"white\"}, \"yaxis\": {\"automargin\": true, \"gridcolor\": \"white\", \"linecolor\": \"white\", \"showgrid\": true, \"tickcolor\": \"rgb(51,51,51)\", \"ticks\": \"outside\", \"title\": {\"standoff\": 15}, \"zerolinecolor\": \"white\"}}}, \"title\": {\"text\": \"unemployment rate in each region and state\"}},                        {\"responsive\": true}                    ).then(function(){\n",
              "                            \n",
              "var gd = document.getElementById('5ff1a02d-5704-4a58-8192-fc70d9daf937');\n",
              "var x = new MutationObserver(function (mutations, observer) {{\n",
              "        var display = window.getComputedStyle(gd).display;\n",
              "        if (!display || display === 'none') {{\n",
              "            console.log([gd, 'removed!']);\n",
              "            Plotly.purge(gd);\n",
              "            observer.disconnect();\n",
              "        }}\n",
              "}});\n",
              "\n",
              "// Listen for the removal of the full notebook cells\n",
              "var notebookContainer = gd.closest('#notebook-container');\n",
              "if (notebookContainer) {{\n",
              "    x.observe(notebookContainer, {childList: true});\n",
              "}}\n",
              "\n",
              "// Listen for the clearing of the current output cell\n",
              "var outputEl = gd.closest('.output');\n",
              "if (outputEl) {{\n",
              "    x.observe(outputEl, {childList: true});\n",
              "}}\n",
              "\n",
              "                        })                };                            </script>        </div>\n",
              "</body>\n",
              "</html>"
            ]
          },
          "metadata": {
            "tags": []
          }
        }
      ]
    },
    {
      "cell_type": "code",
      "metadata": {
        "id": "hvwYbkYreQxe",
        "colab": {
          "base_uri": "https://localhost:8080/"
        },
        "outputId": "fff0ef8e-256f-439a-e123-63d2636d234f"
      },
      "source": [
        "df1.columns"
      ],
      "execution_count": null,
      "outputs": [
        {
          "output_type": "execute_result",
          "data": {
            "text/plain": [
              "Index(['States', 'Date', 'Frequency', 'Estimated Unemployment Rate',\n",
              "       'Estimated Employed', 'Estimated Labour Participation Rate', 'Region',\n",
              "       'longitude', 'latitude', 'Month_integer', 'Month_name'],\n",
              "      dtype='object')"
            ]
          },
          "metadata": {
            "tags": []
          },
          "execution_count": 27
        }
      ]
    },
    {
      "cell_type": "markdown",
      "metadata": {
        "id": "WyTOXeR1gn7x"
      },
      "source": [
        "# Impact of Lockdown on States Estimated Employed\n",
        "On 24 March 2020, the Government of India under Prime Minister Narendra Modi ordered a nationwide lockdown for 21 days, but after it there is a rapid increase in COVID-19 patients, so Government increase the period of lockdown.\n",
        "\n",
        "In below representation we can see the impact of lockdown on employment across regions on the India map."
      ]
    },
    {
      "cell_type": "code",
      "metadata": {
        "id": "FbY_Z0Y1gim7",
        "colab": {
          "base_uri": "https://localhost:8080/",
          "height": 542
        },
        "outputId": "b90eaaef-0356-4def-e13b-b7b19573852d"
      },
      "source": [
        "fig = px.scatter_geo(df1,'longitude', 'latitude', color=\"Region\",\n",
        "                     hover_name=\"States\", size=\"Estimated Unemployment Rate\",\n",
        "                     animation_frame=\"Month_name\",scope='asia',template='ggplot2',title='Impack of lockdown on employement across regions' )\n",
        "\n",
        "fig.layout.updatemenus[0].buttons[0].args[1][\"frame\"][\"duration\"] = 2000\n",
        "\n",
        "fig.update_geos(lataxis_range=[5,35], lonaxis_range=[65, 100])\n",
        "\n",
        "fig.show()"
      ],
      "execution_count": null,
      "outputs": [
        {
          "output_type": "display_data",
          "data": {
            "text/html": [
              "<html>\n",
              "<head><meta charset=\"utf-8\" /></head>\n",
              "<body>\n",
              "    <div>            <script src=\"https://cdnjs.cloudflare.com/ajax/libs/mathjax/2.7.5/MathJax.js?config=TeX-AMS-MML_SVG\"></script><script type=\"text/javascript\">if (window.MathJax) {MathJax.Hub.Config({SVG: {font: \"STIX-Web\"}});}</script>                <script type=\"text/javascript\">window.PlotlyConfig = {MathJaxConfig: 'local'};</script>\n",
              "        <script src=\"https://cdn.plot.ly/plotly-latest.min.js\"></script>                <div id=\"0c34b15c-3ea2-4e8d-97ea-63b1533e0bf5\" class=\"plotly-graph-div\" style=\"height:525px; width:100%;\"></div>            <script type=\"text/javascript\">                                    window.PLOTLYENV=window.PLOTLYENV || {};                                    if (document.getElementById(\"0c34b15c-3ea2-4e8d-97ea-63b1533e0bf5\")) {                    Plotly.newPlot(                        \"0c34b15c-3ea2-4e8d-97ea-63b1533e0bf5\",                        [{\"geo\": \"geo\", \"hovertemplate\": \"<b>%{hovertext}</b><br><br>Region=South<br>Month_name=Jan<br>Estimated Unemployment Rate=%{marker.size}<br>longitude=%{lat}<br>latitude=%{lon}<extra></extra>\", \"hovertext\": [\"Andhra Pradesh\", \"Karnataka\", \"Kerala\", \"Puducherry\", \"Tamil Nadu\", \"Telangana\"], \"lat\": [15.9129, 15.3173, 10.8505, 11.9416, 11.1271, 18.1124], \"legendgroup\": \"South\", \"lon\": [79.74, 75.7139, 76.2711, 79.8083, 78.6569, 79.0193], \"marker\": {\"color\": \"#F8766D\", \"size\": [5.48, 2.86, 5.31, 0.58, 1.57, 5.49], \"sizemode\": \"area\", \"sizeref\": 0.189625}, \"name\": \"South\", \"showlegend\": true, \"type\": \"scattergeo\"}, {\"geo\": \"geo\", \"hovertemplate\": \"<b>%{hovertext}</b><br><br>Region=Northeast<br>Month_name=Jan<br>Estimated Unemployment Rate=%{marker.size}<br>longitude=%{lat}<br>latitude=%{lon}<extra></extra>\", \"hovertext\": [\"Assam\", \"Meghalaya\", \"Tripura\"], \"lat\": [26.2006, 25.467, 23.9408], \"legendgroup\": \"Northeast\", \"lon\": [92.9376, 91.3662, 91.9882], \"marker\": {\"color\": \"#A3A500\", \"size\": [4.66, 1.66, 32.67], \"sizemode\": \"area\", \"sizeref\": 0.189625}, \"name\": \"Northeast\", \"showlegend\": true, \"type\": \"scattergeo\"}, {\"geo\": \"geo\", \"hovertemplate\": \"<b>%{hovertext}</b><br><br>Region=East<br>Month_name=Jan<br>Estimated Unemployment Rate=%{marker.size}<br>longitude=%{lat}<br>latitude=%{lon}<extra></extra>\", \"hovertext\": [\"Bihar\", \"Jharkhand\", \"Odisha\", \"West Bengal\"], \"lat\": [25.0961, 23.6102, 20.9517, 22.9868], \"legendgroup\": \"East\", \"lon\": [85.3131, 85.2799, 85.0985, 87.855], \"marker\": {\"color\": \"#00BF7D\", \"size\": [10.61, 10.61, 1.9, 6.94], \"sizemode\": \"area\", \"sizeref\": 0.189625}, \"name\": \"East\", \"showlegend\": true, \"type\": \"scattergeo\"}, {\"geo\": \"geo\", \"hovertemplate\": \"<b>%{hovertext}</b><br><br>Region=West<br>Month_name=Jan<br>Estimated Unemployment Rate=%{marker.size}<br>longitude=%{lat}<br>latitude=%{lon}<extra></extra>\", \"hovertext\": [\"Chhattisgarh\", \"Goa\", \"Gujarat\", \"Madhya Pradesh\", \"Maharashtra\"], \"lat\": [21.2787, 15.2993, 22.2587, 22.9734, 19.7515], \"legendgroup\": \"West\", \"lon\": [81.8661, 74.124, 71.1924, 78.6569, 75.7139], \"marker\": {\"color\": \"#00B0F6\", \"size\": [9.65, 8.89, 5.54, 4.11, 4.95], \"sizemode\": \"area\", \"sizeref\": 0.189625}, \"name\": \"West\", \"showlegend\": true, \"type\": \"scattergeo\"}, {\"geo\": \"geo\", \"hovertemplate\": \"<b>%{hovertext}</b><br><br>Region=North<br>Month_name=Jan<br>Estimated Unemployment Rate=%{marker.size}<br>longitude=%{lat}<br>latitude=%{lon}<extra></extra>\", \"hovertext\": [\"Delhi\", \"Haryana\", \"Himachal Pradesh\", \"Jammu & Kashmir\", \"Punjab\", \"Rajasthan\", \"Uttar Pradesh\", \"Uttarakhand\"], \"lat\": [28.7041, 29.0588, 31.1048, 33.7782, 31.1471, 27.0238, 26.8467, 30.0668], \"legendgroup\": \"North\", \"lon\": [77.1025, 76.0856, 77.1734, 76.5762, 75.3412, 74.2179, 80.9462, 79.0193], \"marker\": {\"color\": \"#E76BF3\", \"size\": [22.23, 20.34, 16.83, 21.08, 11.11, 10.97, 7.58, 5.49], \"sizemode\": \"area\", \"sizeref\": 0.189625}, \"name\": \"North\", \"showlegend\": true, \"type\": \"scattergeo\"}],                        {\"geo\": {\"center\": {}, \"domain\": {\"x\": [0.0, 1.0], \"y\": [0.0, 1.0]}, \"lataxis\": {\"range\": [5, 35]}, \"lonaxis\": {\"range\": [65, 100]}, \"scope\": \"asia\"}, \"legend\": {\"itemsizing\": \"constant\", \"title\": {\"text\": \"Region\"}, \"tracegroupgap\": 0}, \"sliders\": [{\"active\": 0, \"currentvalue\": {\"prefix\": \"Month_name=\"}, \"len\": 0.9, \"pad\": {\"b\": 10, \"t\": 60}, \"steps\": [{\"args\": [[\"Jan\"], {\"frame\": {\"duration\": 0, \"redraw\": true}, \"fromcurrent\": true, \"mode\": \"immediate\", \"transition\": {\"duration\": 0, \"easing\": \"linear\"}}], \"label\": \"Jan\", \"method\": \"animate\"}, {\"args\": [[\"Feb\"], {\"frame\": {\"duration\": 0, \"redraw\": true}, \"fromcurrent\": true, \"mode\": \"immediate\", \"transition\": {\"duration\": 0, \"easing\": \"linear\"}}], \"label\": \"Feb\", \"method\": \"animate\"}, {\"args\": [[\"Mar\"], {\"frame\": {\"duration\": 0, \"redraw\": true}, \"fromcurrent\": true, \"mode\": \"immediate\", \"transition\": {\"duration\": 0, \"easing\": \"linear\"}}], \"label\": \"Mar\", \"method\": \"animate\"}, {\"args\": [[\"Apr\"], {\"frame\": {\"duration\": 0, \"redraw\": true}, \"fromcurrent\": true, \"mode\": \"immediate\", \"transition\": {\"duration\": 0, \"easing\": \"linear\"}}], \"label\": \"Apr\", \"method\": \"animate\"}, {\"args\": [[\"May\"], {\"frame\": {\"duration\": 0, \"redraw\": true}, \"fromcurrent\": true, \"mode\": \"immediate\", \"transition\": {\"duration\": 0, \"easing\": \"linear\"}}], \"label\": \"May\", \"method\": \"animate\"}, {\"args\": [[\"Jun\"], {\"frame\": {\"duration\": 0, \"redraw\": true}, \"fromcurrent\": true, \"mode\": \"immediate\", \"transition\": {\"duration\": 0, \"easing\": \"linear\"}}], \"label\": \"Jun\", \"method\": \"animate\"}, {\"args\": [[\"Jul\"], {\"frame\": {\"duration\": 0, \"redraw\": true}, \"fromcurrent\": true, \"mode\": \"immediate\", \"transition\": {\"duration\": 0, \"easing\": \"linear\"}}], \"label\": \"Jul\", \"method\": \"animate\"}, {\"args\": [[\"Aug\"], {\"frame\": {\"duration\": 0, \"redraw\": true}, \"fromcurrent\": true, \"mode\": \"immediate\", \"transition\": {\"duration\": 0, \"easing\": \"linear\"}}], \"label\": \"Aug\", \"method\": \"animate\"}, {\"args\": [[\"Sep\"], {\"frame\": {\"duration\": 0, \"redraw\": true}, \"fromcurrent\": true, \"mode\": \"immediate\", \"transition\": {\"duration\": 0, \"easing\": \"linear\"}}], \"label\": \"Sep\", \"method\": \"animate\"}, {\"args\": [[\"Oct\"], {\"frame\": {\"duration\": 0, \"redraw\": true}, \"fromcurrent\": true, \"mode\": \"immediate\", \"transition\": {\"duration\": 0, \"easing\": \"linear\"}}], \"label\": \"Oct\", \"method\": \"animate\"}], \"x\": 0.1, \"xanchor\": \"left\", \"y\": 0, \"yanchor\": \"top\"}], \"template\": {\"data\": {\"bar\": [{\"error_x\": {\"color\": \"rgb(51,51,51)\"}, \"error_y\": {\"color\": \"rgb(51,51,51)\"}, \"marker\": {\"line\": {\"color\": \"rgb(237,237,237)\", \"width\": 0.5}}, \"type\": \"bar\"}], \"barpolar\": [{\"marker\": {\"line\": {\"color\": \"rgb(237,237,237)\", \"width\": 0.5}}, \"type\": \"barpolar\"}], \"carpet\": [{\"aaxis\": {\"endlinecolor\": \"rgb(51,51,51)\", \"gridcolor\": \"white\", \"linecolor\": \"white\", \"minorgridcolor\": \"white\", \"startlinecolor\": \"rgb(51,51,51)\"}, \"baxis\": {\"endlinecolor\": \"rgb(51,51,51)\", \"gridcolor\": \"white\", \"linecolor\": \"white\", \"minorgridcolor\": \"white\", \"startlinecolor\": \"rgb(51,51,51)\"}, \"type\": \"carpet\"}], \"choropleth\": [{\"colorbar\": {\"outlinewidth\": 0, \"tickcolor\": \"rgb(237,237,237)\", \"ticklen\": 6, \"ticks\": \"inside\"}, \"type\": \"choropleth\"}], \"contour\": [{\"colorbar\": {\"outlinewidth\": 0, \"tickcolor\": \"rgb(237,237,237)\", \"ticklen\": 6, \"ticks\": \"inside\"}, \"colorscale\": [[0, \"rgb(20,44,66)\"], [1, \"rgb(90,179,244)\"]], \"type\": \"contour\"}], \"contourcarpet\": [{\"colorbar\": {\"outlinewidth\": 0, \"tickcolor\": \"rgb(237,237,237)\", \"ticklen\": 6, \"ticks\": \"inside\"}, \"type\": \"contourcarpet\"}], \"heatmap\": [{\"colorbar\": {\"outlinewidth\": 0, \"tickcolor\": \"rgb(237,237,237)\", \"ticklen\": 6, \"ticks\": \"inside\"}, \"colorscale\": [[0, \"rgb(20,44,66)\"], [1, \"rgb(90,179,244)\"]], \"type\": \"heatmap\"}], \"heatmapgl\": [{\"colorbar\": {\"outlinewidth\": 0, \"tickcolor\": \"rgb(237,237,237)\", \"ticklen\": 6, \"ticks\": \"inside\"}, \"colorscale\": [[0, \"rgb(20,44,66)\"], [1, \"rgb(90,179,244)\"]], \"type\": \"heatmapgl\"}], \"histogram\": [{\"marker\": {\"colorbar\": {\"outlinewidth\": 0, \"tickcolor\": \"rgb(237,237,237)\", \"ticklen\": 6, \"ticks\": \"inside\"}}, \"type\": \"histogram\"}], \"histogram2d\": [{\"colorbar\": {\"outlinewidth\": 0, \"tickcolor\": \"rgb(237,237,237)\", \"ticklen\": 6, \"ticks\": \"inside\"}, \"colorscale\": [[0, \"rgb(20,44,66)\"], [1, \"rgb(90,179,244)\"]], \"type\": \"histogram2d\"}], \"histogram2dcontour\": [{\"colorbar\": {\"outlinewidth\": 0, \"tickcolor\": \"rgb(237,237,237)\", \"ticklen\": 6, \"ticks\": \"inside\"}, \"colorscale\": [[0, \"rgb(20,44,66)\"], [1, \"rgb(90,179,244)\"]], \"type\": \"histogram2dcontour\"}], \"mesh3d\": [{\"colorbar\": {\"outlinewidth\": 0, \"tickcolor\": \"rgb(237,237,237)\", \"ticklen\": 6, \"ticks\": \"inside\"}, \"type\": \"mesh3d\"}], \"parcoords\": [{\"line\": {\"colorbar\": {\"outlinewidth\": 0, \"tickcolor\": \"rgb(237,237,237)\", \"ticklen\": 6, \"ticks\": \"inside\"}}, \"type\": \"parcoords\"}], \"pie\": [{\"automargin\": true, \"type\": \"pie\"}], \"scatter\": [{\"marker\": {\"colorbar\": {\"outlinewidth\": 0, \"tickcolor\": \"rgb(237,237,237)\", \"ticklen\": 6, \"ticks\": \"inside\"}}, \"type\": \"scatter\"}], \"scatter3d\": [{\"line\": {\"colorbar\": {\"outlinewidth\": 0, \"tickcolor\": \"rgb(237,237,237)\", \"ticklen\": 6, \"ticks\": \"inside\"}}, \"marker\": {\"colorbar\": {\"outlinewidth\": 0, \"tickcolor\": \"rgb(237,237,237)\", \"ticklen\": 6, \"ticks\": \"inside\"}}, \"type\": \"scatter3d\"}], \"scattercarpet\": [{\"marker\": {\"colorbar\": {\"outlinewidth\": 0, \"tickcolor\": \"rgb(237,237,237)\", \"ticklen\": 6, \"ticks\": \"inside\"}}, \"type\": \"scattercarpet\"}], \"scattergeo\": [{\"marker\": {\"colorbar\": {\"outlinewidth\": 0, \"tickcolor\": \"rgb(237,237,237)\", \"ticklen\": 6, \"ticks\": \"inside\"}}, \"type\": \"scattergeo\"}], \"scattergl\": [{\"marker\": {\"colorbar\": {\"outlinewidth\": 0, \"tickcolor\": \"rgb(237,237,237)\", \"ticklen\": 6, \"ticks\": \"inside\"}}, \"type\": \"scattergl\"}], \"scattermapbox\": [{\"marker\": {\"colorbar\": {\"outlinewidth\": 0, \"tickcolor\": \"rgb(237,237,237)\", \"ticklen\": 6, \"ticks\": \"inside\"}}, \"type\": \"scattermapbox\"}], \"scatterpolar\": [{\"marker\": {\"colorbar\": {\"outlinewidth\": 0, \"tickcolor\": \"rgb(237,237,237)\", \"ticklen\": 6, \"ticks\": \"inside\"}}, \"type\": \"scatterpolar\"}], \"scatterpolargl\": [{\"marker\": {\"colorbar\": {\"outlinewidth\": 0, \"tickcolor\": \"rgb(237,237,237)\", \"ticklen\": 6, \"ticks\": \"inside\"}}, \"type\": \"scatterpolargl\"}], \"scatterternary\": [{\"marker\": {\"colorbar\": {\"outlinewidth\": 0, \"tickcolor\": \"rgb(237,237,237)\", \"ticklen\": 6, \"ticks\": \"inside\"}}, \"type\": \"scatterternary\"}], \"surface\": [{\"colorbar\": {\"outlinewidth\": 0, \"tickcolor\": \"rgb(237,237,237)\", \"ticklen\": 6, \"ticks\": \"inside\"}, \"colorscale\": [[0, \"rgb(20,44,66)\"], [1, \"rgb(90,179,244)\"]], \"type\": \"surface\"}], \"table\": [{\"cells\": {\"fill\": {\"color\": \"rgb(237,237,237)\"}, \"line\": {\"color\": \"white\"}}, \"header\": {\"fill\": {\"color\": \"rgb(217,217,217)\"}, \"line\": {\"color\": \"white\"}}, \"type\": \"table\"}]}, \"layout\": {\"annotationdefaults\": {\"arrowhead\": 0, \"arrowwidth\": 1}, \"coloraxis\": {\"colorbar\": {\"outlinewidth\": 0, \"tickcolor\": \"rgb(237,237,237)\", \"ticklen\": 6, \"ticks\": \"inside\"}}, \"colorscale\": {\"sequential\": [[0, \"rgb(20,44,66)\"], [1, \"rgb(90,179,244)\"]], \"sequentialminus\": [[0, \"rgb(20,44,66)\"], [1, \"rgb(90,179,244)\"]]}, \"colorway\": [\"#F8766D\", \"#A3A500\", \"#00BF7D\", \"#00B0F6\", \"#E76BF3\"], \"font\": {\"color\": \"rgb(51,51,51)\"}, \"geo\": {\"bgcolor\": \"white\", \"lakecolor\": \"white\", \"landcolor\": \"rgb(237,237,237)\", \"showlakes\": true, \"showland\": true, \"subunitcolor\": \"white\"}, \"hoverlabel\": {\"align\": \"left\"}, \"hovermode\": \"closest\", \"paper_bgcolor\": \"white\", \"plot_bgcolor\": \"rgb(237,237,237)\", \"polar\": {\"angularaxis\": {\"gridcolor\": \"white\", \"linecolor\": \"white\", \"showgrid\": true, \"tickcolor\": \"rgb(51,51,51)\", \"ticks\": \"outside\"}, \"bgcolor\": \"rgb(237,237,237)\", \"radialaxis\": {\"gridcolor\": \"white\", \"linecolor\": \"white\", \"showgrid\": true, \"tickcolor\": \"rgb(51,51,51)\", \"ticks\": \"outside\"}}, \"scene\": {\"xaxis\": {\"backgroundcolor\": \"rgb(237,237,237)\", \"gridcolor\": \"white\", \"gridwidth\": 2, \"linecolor\": \"white\", \"showbackground\": true, \"showgrid\": true, \"tickcolor\": \"rgb(51,51,51)\", \"ticks\": \"outside\", \"zerolinecolor\": \"white\"}, \"yaxis\": {\"backgroundcolor\": \"rgb(237,237,237)\", \"gridcolor\": \"white\", \"gridwidth\": 2, \"linecolor\": \"white\", \"showbackground\": true, \"showgrid\": true, \"tickcolor\": \"rgb(51,51,51)\", \"ticks\": \"outside\", \"zerolinecolor\": \"white\"}, \"zaxis\": {\"backgroundcolor\": \"rgb(237,237,237)\", \"gridcolor\": \"white\", \"gridwidth\": 2, \"linecolor\": \"white\", \"showbackground\": true, \"showgrid\": true, \"tickcolor\": \"rgb(51,51,51)\", \"ticks\": \"outside\", \"zerolinecolor\": \"white\"}}, \"shapedefaults\": {\"fillcolor\": \"black\", \"line\": {\"width\": 0}, \"opacity\": 0.3}, \"ternary\": {\"aaxis\": {\"gridcolor\": \"white\", \"linecolor\": \"white\", \"showgrid\": true, \"tickcolor\": \"rgb(51,51,51)\", \"ticks\": \"outside\"}, \"baxis\": {\"gridcolor\": \"white\", \"linecolor\": \"white\", \"showgrid\": true, \"tickcolor\": \"rgb(51,51,51)\", \"ticks\": \"outside\"}, \"bgcolor\": \"rgb(237,237,237)\", \"caxis\": {\"gridcolor\": \"white\", \"linecolor\": \"white\", \"showgrid\": true, \"tickcolor\": \"rgb(51,51,51)\", \"ticks\": \"outside\"}}, \"xaxis\": {\"automargin\": true, \"gridcolor\": \"white\", \"linecolor\": \"white\", \"showgrid\": true, \"tickcolor\": \"rgb(51,51,51)\", \"ticks\": \"outside\", \"title\": {\"standoff\": 15}, \"zerolinecolor\": \"white\"}, \"yaxis\": {\"automargin\": true, \"gridcolor\": \"white\", \"linecolor\": \"white\", \"showgrid\": true, \"tickcolor\": \"rgb(51,51,51)\", \"ticks\": \"outside\", \"title\": {\"standoff\": 15}, \"zerolinecolor\": \"white\"}}}, \"title\": {\"text\": \"Impack of lockdown on employement across regions\"}, \"updatemenus\": [{\"buttons\": [{\"args\": [null, {\"frame\": {\"duration\": 2000, \"redraw\": true}, \"fromcurrent\": true, \"mode\": \"immediate\", \"transition\": {\"duration\": 500, \"easing\": \"linear\"}}], \"label\": \"&#9654;\", \"method\": \"animate\"}, {\"args\": [[null], {\"frame\": {\"duration\": 0, \"redraw\": true}, \"fromcurrent\": true, \"mode\": \"immediate\", \"transition\": {\"duration\": 0, \"easing\": \"linear\"}}], \"label\": \"&#9724;\", \"method\": \"animate\"}], \"direction\": \"left\", \"pad\": {\"r\": 10, \"t\": 70}, \"showactive\": false, \"type\": \"buttons\", \"x\": 0.1, \"xanchor\": \"right\", \"y\": 0, \"yanchor\": \"top\"}]},                        {\"responsive\": true}                    ).then(function(){\n",
              "                            Plotly.addFrames('0c34b15c-3ea2-4e8d-97ea-63b1533e0bf5', [{\"data\": [{\"geo\": \"geo\", \"hovertemplate\": \"<b>%{hovertext}</b><br><br>Region=South<br>Month_name=Jan<br>Estimated Unemployment Rate=%{marker.size}<br>longitude=%{lat}<br>latitude=%{lon}<extra></extra>\", \"hovertext\": [\"Andhra Pradesh\", \"Karnataka\", \"Kerala\", \"Puducherry\", \"Tamil Nadu\", \"Telangana\"], \"lat\": [15.9129, 15.3173, 10.8505, 11.9416, 11.1271, 18.1124], \"legendgroup\": \"South\", \"lon\": [79.74, 75.7139, 76.2711, 79.8083, 78.6569, 79.0193], \"marker\": {\"color\": \"#F8766D\", \"size\": [5.48, 2.86, 5.31, 0.58, 1.57, 5.49], \"sizemode\": \"area\", \"sizeref\": 0.189625}, \"name\": \"South\", \"showlegend\": true, \"type\": \"scattergeo\"}, {\"geo\": \"geo\", \"hovertemplate\": \"<b>%{hovertext}</b><br><br>Region=Northeast<br>Month_name=Jan<br>Estimated Unemployment Rate=%{marker.size}<br>longitude=%{lat}<br>latitude=%{lon}<extra></extra>\", \"hovertext\": [\"Assam\", \"Meghalaya\", \"Tripura\"], \"lat\": [26.2006, 25.467, 23.9408], \"legendgroup\": \"Northeast\", \"lon\": [92.9376, 91.3662, 91.9882], \"marker\": {\"color\": \"#A3A500\", \"size\": [4.66, 1.66, 32.67], \"sizemode\": \"area\", \"sizeref\": 0.189625}, \"name\": \"Northeast\", \"showlegend\": true, \"type\": \"scattergeo\"}, {\"geo\": \"geo\", \"hovertemplate\": \"<b>%{hovertext}</b><br><br>Region=East<br>Month_name=Jan<br>Estimated Unemployment Rate=%{marker.size}<br>longitude=%{lat}<br>latitude=%{lon}<extra></extra>\", \"hovertext\": [\"Bihar\", \"Jharkhand\", \"Odisha\", \"West Bengal\"], \"lat\": [25.0961, 23.6102, 20.9517, 22.9868], \"legendgroup\": \"East\", \"lon\": [85.3131, 85.2799, 85.0985, 87.855], \"marker\": {\"color\": \"#00BF7D\", \"size\": [10.61, 10.61, 1.9, 6.94], \"sizemode\": \"area\", \"sizeref\": 0.189625}, \"name\": \"East\", \"showlegend\": true, \"type\": \"scattergeo\"}, {\"geo\": \"geo\", \"hovertemplate\": \"<b>%{hovertext}</b><br><br>Region=West<br>Month_name=Jan<br>Estimated Unemployment Rate=%{marker.size}<br>longitude=%{lat}<br>latitude=%{lon}<extra></extra>\", \"hovertext\": [\"Chhattisgarh\", \"Goa\", \"Gujarat\", \"Madhya Pradesh\", \"Maharashtra\"], \"lat\": [21.2787, 15.2993, 22.2587, 22.9734, 19.7515], \"legendgroup\": \"West\", \"lon\": [81.8661, 74.124, 71.1924, 78.6569, 75.7139], \"marker\": {\"color\": \"#00B0F6\", \"size\": [9.65, 8.89, 5.54, 4.11, 4.95], \"sizemode\": \"area\", \"sizeref\": 0.189625}, \"name\": \"West\", \"showlegend\": true, \"type\": \"scattergeo\"}, {\"geo\": \"geo\", \"hovertemplate\": \"<b>%{hovertext}</b><br><br>Region=North<br>Month_name=Jan<br>Estimated Unemployment Rate=%{marker.size}<br>longitude=%{lat}<br>latitude=%{lon}<extra></extra>\", \"hovertext\": [\"Delhi\", \"Haryana\", \"Himachal Pradesh\", \"Jammu & Kashmir\", \"Punjab\", \"Rajasthan\", \"Uttar Pradesh\", \"Uttarakhand\"], \"lat\": [28.7041, 29.0588, 31.1048, 33.7782, 31.1471, 27.0238, 26.8467, 30.0668], \"legendgroup\": \"North\", \"lon\": [77.1025, 76.0856, 77.1734, 76.5762, 75.3412, 74.2179, 80.9462, 79.0193], \"marker\": {\"color\": \"#E76BF3\", \"size\": [22.23, 20.34, 16.83, 21.08, 11.11, 10.97, 7.58, 5.49], \"sizemode\": \"area\", \"sizeref\": 0.189625}, \"name\": \"North\", \"showlegend\": true, \"type\": \"scattergeo\"}], \"name\": \"Jan\"}, {\"data\": [{\"geo\": \"geo\", \"hovertemplate\": \"<b>%{hovertext}</b><br><br>Region=South<br>Month_name=Feb<br>Estimated Unemployment Rate=%{marker.size}<br>longitude=%{lat}<br>latitude=%{lon}<extra></extra>\", \"hovertext\": [\"Andhra Pradesh\", \"Karnataka\", \"Kerala\", \"Puducherry\", \"Tamil Nadu\", \"Telangana\"], \"lat\": [15.9129, 15.3173, 10.8505, 11.9416, 11.1271, 18.1124], \"legendgroup\": \"South\", \"lon\": [79.74, 75.7139, 76.2711, 79.8083, 78.6569, 79.0193], \"marker\": {\"color\": \"#F8766D\", \"size\": [5.83, 3.61, 7.6, 1.76, 2.09, 8.29], \"sizemode\": \"area\", \"sizeref\": 0.189625}, \"name\": \"South\", \"showlegend\": true, \"type\": \"scattergeo\"}, {\"geo\": \"geo\", \"hovertemplate\": \"<b>%{hovertext}</b><br><br>Region=Northeast<br>Month_name=Feb<br>Estimated Unemployment Rate=%{marker.size}<br>longitude=%{lat}<br>latitude=%{lon}<extra></extra>\", \"hovertext\": [\"Assam\", \"Meghalaya\", \"Tripura\"], \"lat\": [26.2006, 25.467, 23.9408], \"legendgroup\": \"Northeast\", \"lon\": [92.9376, 91.3662, 91.9882], \"marker\": {\"color\": \"#A3A500\", \"size\": [4.41, 3.59, 28.4], \"sizemode\": \"area\", \"sizeref\": 0.189625}, \"name\": \"Northeast\", \"showlegend\": true, \"type\": \"scattergeo\"}, {\"geo\": \"geo\", \"hovertemplate\": \"<b>%{hovertext}</b><br><br>Region=East<br>Month_name=Feb<br>Estimated Unemployment Rate=%{marker.size}<br>longitude=%{lat}<br>latitude=%{lon}<extra></extra>\", \"hovertext\": [\"Bihar\", \"Jharkhand\", \"Odisha\", \"West Bengal\"], \"lat\": [25.0961, 23.6102, 20.9517, 22.9868], \"legendgroup\": \"East\", \"lon\": [85.3131, 85.2799, 85.0985, 87.855], \"marker\": {\"color\": \"#00BF7D\", \"size\": [10.29, 11.85, 3.12, 4.92], \"sizemode\": \"area\", \"sizeref\": 0.189625}, \"name\": \"East\", \"showlegend\": true, \"type\": \"scattergeo\"}, {\"geo\": \"geo\", \"hovertemplate\": \"<b>%{hovertext}</b><br><br>Region=West<br>Month_name=Feb<br>Estimated Unemployment Rate=%{marker.size}<br>longitude=%{lat}<br>latitude=%{lon}<extra></extra>\", \"hovertext\": [\"Chhattisgarh\", \"Goa\", \"Gujarat\", \"Madhya Pradesh\", \"Maharashtra\"], \"lat\": [21.2787, 15.2993, 22.2587, 22.9734, 19.7515], \"legendgroup\": \"West\", \"lon\": [81.8661, 74.124, 71.1924, 78.6569, 75.7139], \"marker\": {\"color\": \"#00B0F6\", \"size\": [8.38, 2.81, 6.38, 4.57, 4.69], \"sizemode\": \"area\", \"sizeref\": 0.189625}, \"name\": \"West\", \"showlegend\": true, \"type\": \"scattergeo\"}, {\"geo\": \"geo\", \"hovertemplate\": \"<b>%{hovertext}</b><br><br>Region=North<br>Month_name=Feb<br>Estimated Unemployment Rate=%{marker.size}<br>longitude=%{lat}<br>latitude=%{lon}<extra></extra>\", \"hovertext\": [\"Delhi\", \"Haryana\", \"Himachal Pradesh\", \"Jammu & Kashmir\", \"Punjab\", \"Rajasthan\", \"Uttar Pradesh\", \"Uttarakhand\"], \"lat\": [28.7041, 29.0588, 31.1048, 33.7782, 31.1471, 27.0238, 26.8467, 30.0668], \"legendgroup\": \"North\", \"lon\": [77.1025, 76.0856, 77.1734, 76.5762, 75.3412, 74.2179, 80.9462, 79.0193], \"marker\": {\"color\": \"#E76BF3\", \"size\": [14.84, 25.77, 16.84, 20.78, 10.97, 15.16, 8.98, 4.99], \"sizemode\": \"area\", \"sizeref\": 0.189625}, \"name\": \"North\", \"showlegend\": true, \"type\": \"scattergeo\"}], \"name\": \"Feb\"}, {\"data\": [{\"geo\": \"geo\", \"hovertemplate\": \"<b>%{hovertext}</b><br><br>Region=South<br>Month_name=Mar<br>Estimated Unemployment Rate=%{marker.size}<br>longitude=%{lat}<br>latitude=%{lon}<extra></extra>\", \"hovertext\": [\"Andhra Pradesh\", \"Karnataka\", \"Kerala\", \"Puducherry\", \"Tamil Nadu\", \"Telangana\"], \"lat\": [15.9129, 15.3173, 10.8505, 11.9416, 11.1271, 18.1124], \"legendgroup\": \"South\", \"lon\": [79.74, 75.7139, 76.2711, 79.8083, 78.6569, 79.0193], \"marker\": {\"color\": \"#F8766D\", \"size\": [5.79, 3.46, 8.99, 1.2, 6.4, 5.77], \"sizemode\": \"area\", \"sizeref\": 0.189625}, \"name\": \"South\", \"showlegend\": true, \"type\": \"scattergeo\"}, {\"geo\": \"geo\", \"hovertemplate\": \"<b>%{hovertext}</b><br><br>Region=Northeast<br>Month_name=Mar<br>Estimated Unemployment Rate=%{marker.size}<br>longitude=%{lat}<br>latitude=%{lon}<extra></extra>\", \"hovertext\": [\"Assam\", \"Meghalaya\", \"Sikkim\", \"Tripura\"], \"lat\": [26.2006, 25.467, 27.533, 23.9408], \"legendgroup\": \"Northeast\", \"lon\": [92.9376, 91.3662, 88.5122, 91.9882], \"marker\": {\"color\": \"#A3A500\", \"size\": [4.77, 1.58, 23.57, 29.95], \"sizemode\": \"area\", \"sizeref\": 0.189625}, \"name\": \"Northeast\", \"showlegend\": true, \"type\": \"scattergeo\"}, {\"geo\": \"geo\", \"hovertemplate\": \"<b>%{hovertext}</b><br><br>Region=East<br>Month_name=Mar<br>Estimated Unemployment Rate=%{marker.size}<br>longitude=%{lat}<br>latitude=%{lon}<extra></extra>\", \"hovertext\": [\"Bihar\", \"Jharkhand\", \"Odisha\", \"West Bengal\"], \"lat\": [25.0961, 23.6102, 20.9517, 22.9868], \"legendgroup\": \"East\", \"lon\": [85.3131, 85.2799, 85.0985, 87.855], \"marker\": {\"color\": \"#00BF7D\", \"size\": [15.43, 8.23, 13.08, 6.92], \"sizemode\": \"area\", \"sizeref\": 0.189625}, \"name\": \"East\", \"showlegend\": true, \"type\": \"scattergeo\"}, {\"geo\": \"geo\", \"hovertemplate\": \"<b>%{hovertext}</b><br><br>Region=West<br>Month_name=Mar<br>Estimated Unemployment Rate=%{marker.size}<br>longitude=%{lat}<br>latitude=%{lon}<extra></extra>\", \"hovertext\": [\"Chhattisgarh\", \"Goa\", \"Gujarat\", \"Madhya Pradesh\", \"Maharashtra\"], \"lat\": [21.2787, 15.2993, 22.2587, 22.9734, 19.7515], \"legendgroup\": \"West\", \"lon\": [81.8661, 74.124, 71.1924, 78.6569, 75.7139], \"marker\": {\"color\": \"#00B0F6\", \"size\": [7.54, 5.25, 6.66, 2.22, 5.79], \"sizemode\": \"area\", \"sizeref\": 0.189625}, \"name\": \"West\", \"showlegend\": true, \"type\": \"scattergeo\"}, {\"geo\": \"geo\", \"hovertemplate\": \"<b>%{hovertext}</b><br><br>Region=North<br>Month_name=Mar<br>Estimated Unemployment Rate=%{marker.size}<br>longitude=%{lat}<br>latitude=%{lon}<extra></extra>\", \"hovertext\": [\"Delhi\", \"Haryana\", \"Himachal Pradesh\", \"Jammu & Kashmir\", \"Punjab\", \"Rajasthan\", \"Uttar Pradesh\", \"Uttarakhand\"], \"lat\": [28.7041, 29.0588, 31.1048, 33.7782, 31.1471, 27.0238, 26.8467, 30.0668], \"legendgroup\": \"North\", \"lon\": [77.1025, 76.0856, 77.1734, 76.5762, 75.3412, 74.2179, 80.9462, 79.0193], \"marker\": {\"color\": \"#E76BF3\", \"size\": [17.04, 25.05, 18.76, 15.5, 10.32, 11.9, 10.11, 19.85], \"sizemode\": \"area\", \"sizeref\": 0.189625}, \"name\": \"North\", \"showlegend\": true, \"type\": \"scattergeo\"}], \"name\": \"Mar\"}, {\"data\": [{\"geo\": \"geo\", \"hovertemplate\": \"<b>%{hovertext}</b><br><br>Region=South<br>Month_name=Apr<br>Estimated Unemployment Rate=%{marker.size}<br>longitude=%{lat}<br>latitude=%{lon}<extra></extra>\", \"hovertext\": [\"Andhra Pradesh\", \"Karnataka\", \"Kerala\", \"Puducherry\", \"Tamil Nadu\", \"Telangana\"], \"lat\": [15.9129, 15.3173, 10.8505, 11.9416, 11.1271, 18.1124], \"legendgroup\": \"South\", \"lon\": [79.74, 75.7139, 76.2711, 79.8083, 78.6569, 79.0193], \"marker\": {\"color\": \"#F8766D\", \"size\": [20.51, 29.84, 16.99, 75.85, 49.83, 6.25], \"sizemode\": \"area\", \"sizeref\": 0.189625}, \"name\": \"South\", \"showlegend\": true, \"type\": \"scattergeo\"}, {\"geo\": \"geo\", \"hovertemplate\": \"<b>%{hovertext}</b><br><br>Region=Northeast<br>Month_name=Apr<br>Estimated Unemployment Rate=%{marker.size}<br>longitude=%{lat}<br>latitude=%{lon}<extra></extra>\", \"hovertext\": [\"Assam\", \"Meghalaya\", \"Sikkim\", \"Tripura\"], \"lat\": [26.2006, 25.467, 27.533, 23.9408], \"legendgroup\": \"Northeast\", \"lon\": [92.9376, 91.3662, 88.5122, 91.9882], \"marker\": {\"color\": \"#A3A500\", \"size\": [11.06, 10.03, 2.28, 41.23], \"sizemode\": \"area\", \"sizeref\": 0.189625}, \"name\": \"Northeast\", \"showlegend\": true, \"type\": \"scattergeo\"}, {\"geo\": \"geo\", \"hovertemplate\": \"<b>%{hovertext}</b><br><br>Region=East<br>Month_name=Apr<br>Estimated Unemployment Rate=%{marker.size}<br>longitude=%{lat}<br>latitude=%{lon}<extra></extra>\", \"hovertext\": [\"Bihar\", \"Jharkhand\", \"Odisha\", \"West Bengal\"], \"lat\": [25.0961, 23.6102, 20.9517, 22.9868], \"legendgroup\": \"East\", \"lon\": [85.3131, 85.2799, 85.0985, 87.855], \"marker\": {\"color\": \"#00BF7D\", \"size\": [46.64, 47.09, 23.76, 17.41], \"sizemode\": \"area\", \"sizeref\": 0.189625}, \"name\": \"East\", \"showlegend\": true, \"type\": \"scattergeo\"}, {\"geo\": \"geo\", \"hovertemplate\": \"<b>%{hovertext}</b><br><br>Region=West<br>Month_name=Apr<br>Estimated Unemployment Rate=%{marker.size}<br>longitude=%{lat}<br>latitude=%{lon}<extra></extra>\", \"hovertext\": [\"Chhattisgarh\", \"Goa\", \"Gujarat\", \"Madhya Pradesh\", \"Maharashtra\"], \"lat\": [21.2787, 15.2993, 22.2587, 22.9734, 19.7515], \"legendgroup\": \"West\", \"lon\": [81.8661, 74.124, 71.1924, 78.6569, 75.7139], \"marker\": {\"color\": \"#00B0F6\", \"size\": [3.41, 13.31, 18.71, 12.36, 20.9], \"sizemode\": \"area\", \"sizeref\": 0.189625}, \"name\": \"West\", \"showlegend\": true, \"type\": \"scattergeo\"}, {\"geo\": \"geo\", \"hovertemplate\": \"<b>%{hovertext}</b><br><br>Region=North<br>Month_name=Apr<br>Estimated Unemployment Rate=%{marker.size}<br>longitude=%{lat}<br>latitude=%{lon}<extra></extra>\", \"hovertext\": [\"Delhi\", \"Haryana\", \"Himachal Pradesh\", \"Punjab\", \"Rajasthan\", \"Uttar Pradesh\", \"Uttarakhand\"], \"lat\": [28.7041, 29.0588, 31.1048, 31.1471, 27.0238, 26.8467, 30.0668], \"legendgroup\": \"North\", \"lon\": [77.1025, 76.0856, 77.1734, 75.3412, 74.2179, 80.9462, 79.0193], \"marker\": {\"color\": \"#E76BF3\", \"size\": [16.68, 43.22, 2.2, 2.86, 17.7, 21.54, 6.48], \"sizemode\": \"area\", \"sizeref\": 0.189625}, \"name\": \"North\", \"showlegend\": true, \"type\": \"scattergeo\"}], \"name\": \"Apr\"}, {\"data\": [{\"geo\": \"geo\", \"hovertemplate\": \"<b>%{hovertext}</b><br><br>Region=South<br>Month_name=May<br>Estimated Unemployment Rate=%{marker.size}<br>longitude=%{lat}<br>latitude=%{lon}<extra></extra>\", \"hovertext\": [\"Andhra Pradesh\", \"Karnataka\", \"Kerala\", \"Puducherry\", \"Tamil Nadu\", \"Telangana\"], \"lat\": [15.9129, 15.3173, 10.8505, 11.9416, 11.1271, 18.1124], \"legendgroup\": \"South\", \"lon\": [79.74, 75.7139, 76.2711, 79.8083, 78.6569, 79.0193], \"marker\": {\"color\": \"#F8766D\", \"size\": [17.43, 19.97, 17.88, 58.19, 33.16, 14.7], \"sizemode\": \"area\", \"sizeref\": 0.189625}, \"name\": \"South\", \"showlegend\": true, \"type\": \"scattergeo\"}, {\"geo\": \"geo\", \"hovertemplate\": \"<b>%{hovertext}</b><br><br>Region=Northeast<br>Month_name=May<br>Estimated Unemployment Rate=%{marker.size}<br>longitude=%{lat}<br>latitude=%{lon}<extra></extra>\", \"hovertext\": [\"Assam\", \"Meghalaya\", \"Sikkim\", \"Tripura\"], \"lat\": [26.2006, 25.467, 27.533, 23.9408], \"legendgroup\": \"Northeast\", \"lon\": [92.9376, 91.3662, 88.5122, 91.9882], \"marker\": {\"color\": \"#A3A500\", \"size\": [9.55, 5.92, 24.51, 21.51], \"sizemode\": \"area\", \"sizeref\": 0.189625}, \"name\": \"Northeast\", \"showlegend\": true, \"type\": \"scattergeo\"}, {\"geo\": \"geo\", \"hovertemplate\": \"<b>%{hovertext}</b><br><br>Region=East<br>Month_name=May<br>Estimated Unemployment Rate=%{marker.size}<br>longitude=%{lat}<br>latitude=%{lon}<extra></extra>\", \"hovertext\": [\"Bihar\", \"Jharkhand\", \"Odisha\", \"West Bengal\"], \"lat\": [25.0961, 23.6102, 20.9517, 22.9868], \"legendgroup\": \"East\", \"lon\": [85.3131, 85.2799, 85.0985, 87.855], \"marker\": {\"color\": \"#00BF7D\", \"size\": [45.96, 59.23, 11.41, 17.41], \"sizemode\": \"area\", \"sizeref\": 0.189625}, \"name\": \"East\", \"showlegend\": true, \"type\": \"scattergeo\"}, {\"geo\": \"geo\", \"hovertemplate\": \"<b>%{hovertext}</b><br><br>Region=West<br>Month_name=May<br>Estimated Unemployment Rate=%{marker.size}<br>longitude=%{lat}<br>latitude=%{lon}<extra></extra>\", \"hovertext\": [\"Chhattisgarh\", \"Goa\", \"Gujarat\", \"Madhya Pradesh\", \"Maharashtra\"], \"lat\": [21.2787, 15.2993, 22.2587, 22.9734, 19.7515], \"legendgroup\": \"West\", \"lon\": [81.8661, 74.124, 71.1924, 78.6569, 75.7139], \"marker\": {\"color\": \"#00B0F6\", \"size\": [10.5, 21.25, 12.11, 21.98, 15.46], \"sizemode\": \"area\", \"sizeref\": 0.189625}, \"name\": \"West\", \"showlegend\": true, \"type\": \"scattergeo\"}, {\"geo\": \"geo\", \"hovertemplate\": \"<b>%{hovertext}</b><br><br>Region=North<br>Month_name=May<br>Estimated Unemployment Rate=%{marker.size}<br>longitude=%{lat}<br>latitude=%{lon}<extra></extra>\", \"hovertext\": [\"Delhi\", \"Haryana\", \"Himachal Pradesh\", \"Jammu & Kashmir\", \"Punjab\", \"Rajasthan\", \"Uttar Pradesh\", \"Uttarakhand\"], \"lat\": [28.7041, 29.0588, 31.1048, 33.7782, 31.1471, 27.0238, 26.8467, 30.0668], \"legendgroup\": \"North\", \"lon\": [77.1025, 76.0856, 77.1734, 76.5762, 75.3412, 74.2179, 80.9462, 79.0193], \"marker\": {\"color\": \"#E76BF3\", \"size\": [42.27, 29.02, 26.95, 18.74, 28.33, 15.74, 20.41, 8.01], \"sizemode\": \"area\", \"sizeref\": 0.189625}, \"name\": \"North\", \"showlegend\": true, \"type\": \"scattergeo\"}], \"name\": \"May\"}, {\"data\": [{\"geo\": \"geo\", \"hovertemplate\": \"<b>%{hovertext}</b><br><br>Region=South<br>Month_name=Jun<br>Estimated Unemployment Rate=%{marker.size}<br>longitude=%{lat}<br>latitude=%{lon}<extra></extra>\", \"hovertext\": [\"Andhra Pradesh\", \"Karnataka\", \"Kerala\", \"Puducherry\", \"Tamil Nadu\", \"Telangana\"], \"lat\": [15.9129, 15.3173, 10.8505, 11.9416, 11.1271, 18.1124], \"legendgroup\": \"South\", \"lon\": [79.74, 75.7139, 76.2711, 79.8083, 78.6569, 79.0193], \"marker\": {\"color\": \"#F8766D\", \"size\": [3.31, 8.44, 9.71, 4.24, 12.2, 10.55], \"sizemode\": \"area\", \"sizeref\": 0.189625}, \"name\": \"South\", \"showlegend\": true, \"type\": \"scattergeo\"}, {\"geo\": \"geo\", \"hovertemplate\": \"<b>%{hovertext}</b><br><br>Region=Northeast<br>Month_name=Jun<br>Estimated Unemployment Rate=%{marker.size}<br>longitude=%{lat}<br>latitude=%{lon}<extra></extra>\", \"hovertext\": [\"Assam\", \"Meghalaya\", \"Sikkim\", \"Tripura\"], \"lat\": [26.2006, 25.467, 27.533, 23.9408], \"legendgroup\": \"Northeast\", \"lon\": [92.9376, 91.3662, 88.5122, 91.9882], \"marker\": {\"color\": \"#A3A500\", \"size\": [0.6, 1.15, 4.46, 21.71], \"sizemode\": \"area\", \"sizeref\": 0.189625}, \"name\": \"Northeast\", \"showlegend\": true, \"type\": \"scattergeo\"}, {\"geo\": \"geo\", \"hovertemplate\": \"<b>%{hovertext}</b><br><br>Region=East<br>Month_name=Jun<br>Estimated Unemployment Rate=%{marker.size}<br>longitude=%{lat}<br>latitude=%{lon}<extra></extra>\", \"hovertext\": [\"Bihar\", \"Jharkhand\", \"Odisha\", \"West Bengal\"], \"lat\": [25.0961, 23.6102, 20.9517, 22.9868], \"legendgroup\": \"East\", \"lon\": [85.3131, 85.2799, 85.0985, 87.855], \"marker\": {\"color\": \"#00BF7D\", \"size\": [17.82, 20.95, 3.77, 7.29], \"sizemode\": \"area\", \"sizeref\": 0.189625}, \"name\": \"East\", \"showlegend\": true, \"type\": \"scattergeo\"}, {\"geo\": \"geo\", \"hovertemplate\": \"<b>%{hovertext}</b><br><br>Region=West<br>Month_name=Jun<br>Estimated Unemployment Rate=%{marker.size}<br>longitude=%{lat}<br>latitude=%{lon}<extra></extra>\", \"hovertext\": [\"Chhattisgarh\", \"Goa\", \"Gujarat\", \"Madhya Pradesh\", \"Maharashtra\"], \"lat\": [21.2787, 15.2993, 22.2587, 22.9734, 19.7515], \"legendgroup\": \"West\", \"lon\": [81.8661, 74.124, 71.1924, 78.6569, 75.7139], \"marker\": {\"color\": \"#00B0F6\", \"size\": [14.23, 9.96, 3.2, 6.48, 9.23], \"sizemode\": \"area\", \"sizeref\": 0.189625}, \"name\": \"West\", \"showlegend\": true, \"type\": \"scattergeo\"}, {\"geo\": \"geo\", \"hovertemplate\": \"<b>%{hovertext}</b><br><br>Region=North<br>Month_name=Jun<br>Estimated Unemployment Rate=%{marker.size}<br>longitude=%{lat}<br>latitude=%{lon}<extra></extra>\", \"hovertext\": [\"Delhi\", \"Haryana\", \"Himachal Pradesh\", \"Jammu & Kashmir\", \"Punjab\", \"Rajasthan\", \"Uttar Pradesh\", \"Uttarakhand\"], \"lat\": [28.7041, 29.0588, 31.1048, 33.7782, 31.1471, 27.0238, 26.8467, 30.0668], \"legendgroup\": \"North\", \"lon\": [77.1025, 76.0856, 77.1734, 76.5762, 75.3412, 74.2179, 80.9462, 79.0193], \"marker\": {\"color\": \"#E76BF3\", \"size\": [18.19, 26.7, 13.47, 17.92, 16.55, 14.39, 9.47, 8.61], \"sizemode\": \"area\", \"sizeref\": 0.189625}, \"name\": \"North\", \"showlegend\": true, \"type\": \"scattergeo\"}], \"name\": \"Jun\"}, {\"data\": [{\"geo\": \"geo\", \"hovertemplate\": \"<b>%{hovertext}</b><br><br>Region=South<br>Month_name=Jul<br>Estimated Unemployment Rate=%{marker.size}<br>longitude=%{lat}<br>latitude=%{lon}<extra></extra>\", \"hovertext\": [\"Andhra Pradesh\", \"Karnataka\", \"Kerala\", \"Puducherry\", \"Tamil Nadu\", \"Telangana\"], \"lat\": [15.9129, 15.3173, 10.8505, 11.9416, 11.1271, 18.1124], \"legendgroup\": \"South\", \"lon\": [79.74, 75.7139, 76.2711, 79.8083, 78.6569, 79.0193], \"marker\": {\"color\": \"#F8766D\", \"size\": [8.34, 4.01, 7.09, 15.47, 6.81, 5.36], \"sizemode\": \"area\", \"sizeref\": 0.189625}, \"name\": \"South\", \"showlegend\": true, \"type\": \"scattergeo\"}, {\"geo\": \"geo\", \"hovertemplate\": \"<b>%{hovertext}</b><br><br>Region=Northeast<br>Month_name=Jul<br>Estimated Unemployment Rate=%{marker.size}<br>longitude=%{lat}<br>latitude=%{lon}<extra></extra>\", \"hovertext\": [\"Assam\", \"Meghalaya\", \"Sikkim\", \"Tripura\"], \"lat\": [26.2006, 25.467, 27.533, 23.9408], \"legendgroup\": \"Northeast\", \"lon\": [92.9376, 91.3662, 88.5122, 91.9882], \"marker\": {\"color\": \"#A3A500\", \"size\": [3.77, 2.1, 4.45, 18.24], \"sizemode\": \"area\", \"sizeref\": 0.189625}, \"name\": \"Northeast\", \"showlegend\": true, \"type\": \"scattergeo\"}, {\"geo\": \"geo\", \"hovertemplate\": \"<b>%{hovertext}</b><br><br>Region=East<br>Month_name=Jul<br>Estimated Unemployment Rate=%{marker.size}<br>longitude=%{lat}<br>latitude=%{lon}<extra></extra>\", \"hovertext\": [\"Bihar\", \"Jharkhand\", \"Odisha\", \"West Bengal\"], \"lat\": [25.0961, 23.6102, 20.9517, 22.9868], \"legendgroup\": \"East\", \"lon\": [85.3131, 85.2799, 85.0985, 87.855], \"marker\": {\"color\": \"#00BF7D\", \"size\": [12.79, 7.63, 1.88, 6.83], \"sizemode\": \"area\", \"sizeref\": 0.189625}, \"name\": \"East\", \"showlegend\": true, \"type\": \"scattergeo\"}, {\"geo\": \"geo\", \"hovertemplate\": \"<b>%{hovertext}</b><br><br>Region=West<br>Month_name=Jul<br>Estimated Unemployment Rate=%{marker.size}<br>longitude=%{lat}<br>latitude=%{lon}<extra></extra>\", \"hovertext\": [\"Chhattisgarh\", \"Goa\", \"Gujarat\", \"Madhya Pradesh\", \"Maharashtra\"], \"lat\": [21.2787, 15.2993, 22.2587, 22.9734, 19.7515], \"legendgroup\": \"West\", \"lon\": [81.8661, 74.124, 71.1924, 78.6569, 75.7139], \"marker\": {\"color\": \"#00B0F6\", \"size\": [10.27, 17.07, 1.84, 5.08, 3.89], \"sizemode\": \"area\", \"sizeref\": 0.189625}, \"name\": \"West\", \"showlegend\": true, \"type\": \"scattergeo\"}, {\"geo\": \"geo\", \"hovertemplate\": \"<b>%{hovertext}</b><br><br>Region=North<br>Month_name=Jul<br>Estimated Unemployment Rate=%{marker.size}<br>longitude=%{lat}<br>latitude=%{lon}<extra></extra>\", \"hovertext\": [\"Delhi\", \"Haryana\", \"Himachal Pradesh\", \"Jammu & Kashmir\", \"Punjab\", \"Rajasthan\", \"Uttar Pradesh\", \"Uttarakhand\"], \"lat\": [28.7041, 29.0588, 31.1048, 33.7782, 31.1471, 27.0238, 26.8467, 30.0668], \"legendgroup\": \"North\", \"lon\": [77.1025, 76.0856, 77.1734, 76.5762, 75.3412, 74.2179, 80.9462, 79.0193], \"marker\": {\"color\": \"#E76BF3\", \"size\": [20.3, 24.18, 24.31, 10.88, 9.19, 15.81, 5.56, 12.38], \"sizemode\": \"area\", \"sizeref\": 0.189625}, \"name\": \"North\", \"showlegend\": true, \"type\": \"scattergeo\"}], \"name\": \"Jul\"}, {\"data\": [{\"geo\": \"geo\", \"hovertemplate\": \"<b>%{hovertext}</b><br><br>Region=South<br>Month_name=Aug<br>Estimated Unemployment Rate=%{marker.size}<br>longitude=%{lat}<br>latitude=%{lon}<extra></extra>\", \"hovertext\": [\"Andhra Pradesh\", \"Karnataka\", \"Kerala\", \"Puducherry\", \"Tamil Nadu\", \"Telangana\"], \"lat\": [15.9129, 15.3173, 10.8505, 11.9416, 11.1271, 18.1124], \"legendgroup\": \"South\", \"lon\": [79.74, 75.7139, 76.2711, 79.8083, 78.6569, 79.0193], \"marker\": {\"color\": \"#F8766D\", \"size\": [6.96, 0.5, 10.98, 5.05, 2.65, 5.79], \"sizemode\": \"area\", \"sizeref\": 0.189625}, \"name\": \"South\", \"showlegend\": true, \"type\": \"scattergeo\"}, {\"geo\": \"geo\", \"hovertemplate\": \"<b>%{hovertext}</b><br><br>Region=Northeast<br>Month_name=Aug<br>Estimated Unemployment Rate=%{marker.size}<br>longitude=%{lat}<br>latitude=%{lon}<extra></extra>\", \"hovertext\": [\"Assam\", \"Meghalaya\", \"Sikkim\", \"Tripura\"], \"lat\": [26.2006, 25.467, 27.533, 23.9408], \"legendgroup\": \"Northeast\", \"lon\": [92.9376, 91.3662, 88.5122, 91.9882], \"marker\": {\"color\": \"#A3A500\", \"size\": [5.53, 3.74, 12.49, 27.92], \"sizemode\": \"area\", \"sizeref\": 0.189625}, \"name\": \"Northeast\", \"showlegend\": true, \"type\": \"scattergeo\"}, {\"geo\": \"geo\", \"hovertemplate\": \"<b>%{hovertext}</b><br><br>Region=East<br>Month_name=Aug<br>Estimated Unemployment Rate=%{marker.size}<br>longitude=%{lat}<br>latitude=%{lon}<extra></extra>\", \"hovertext\": [\"Bihar\", \"Jharkhand\", \"Odisha\", \"West Bengal\"], \"lat\": [25.0961, 23.6102, 20.9517, 22.9868], \"legendgroup\": \"East\", \"lon\": [85.3131, 85.2799, 85.0985, 87.855], \"marker\": {\"color\": \"#00BF7D\", \"size\": [13.44, 9.76, 1.42, 14.87], \"sizemode\": \"area\", \"sizeref\": 0.189625}, \"name\": \"East\", \"showlegend\": true, \"type\": \"scattergeo\"}, {\"geo\": \"geo\", \"hovertemplate\": \"<b>%{hovertext}</b><br><br>Region=West<br>Month_name=Aug<br>Estimated Unemployment Rate=%{marker.size}<br>longitude=%{lat}<br>latitude=%{lon}<extra></extra>\", \"hovertext\": [\"Chhattisgarh\", \"Goa\", \"Gujarat\", \"Madhya Pradesh\", \"Maharashtra\"], \"lat\": [21.2787, 15.2993, 22.2587, 22.9734, 19.7515], \"legendgroup\": \"West\", \"lon\": [81.8661, 74.124, 71.1924, 78.6569, 75.7139], \"marker\": {\"color\": \"#00B0F6\", \"size\": [5.63, 16.21, 1.87, 4.7, 6.23], \"sizemode\": \"area\", \"sizeref\": 0.189625}, \"name\": \"West\", \"showlegend\": true, \"type\": \"scattergeo\"}, {\"geo\": \"geo\", \"hovertemplate\": \"<b>%{hovertext}</b><br><br>Region=North<br>Month_name=Aug<br>Estimated Unemployment Rate=%{marker.size}<br>longitude=%{lat}<br>latitude=%{lon}<extra></extra>\", \"hovertext\": [\"Delhi\", \"Haryana\", \"Himachal Pradesh\", \"Jammu & Kashmir\", \"Punjab\", \"Rajasthan\", \"Uttar Pradesh\", \"Uttarakhand\"], \"lat\": [28.7041, 29.0588, 31.1048, 33.7782, 31.1471, 27.0238, 26.8467, 30.0668], \"legendgroup\": \"North\", \"lon\": [77.1025, 76.0856, 77.1734, 76.5762, 75.3412, 74.2179, 80.9462, 79.0193], \"marker\": {\"color\": \"#E76BF3\", \"size\": [13.79, 33.5, 15.79, 11.09, 10.99, 17.51, 5.79, 14.26], \"sizemode\": \"area\", \"sizeref\": 0.189625}, \"name\": \"North\", \"showlegend\": true, \"type\": \"scattergeo\"}], \"name\": \"Aug\"}, {\"data\": [{\"geo\": \"geo\", \"hovertemplate\": \"<b>%{hovertext}</b><br><br>Region=South<br>Month_name=Sep<br>Estimated Unemployment Rate=%{marker.size}<br>longitude=%{lat}<br>latitude=%{lon}<extra></extra>\", \"hovertext\": [\"Andhra Pradesh\", \"Karnataka\", \"Kerala\", \"Puducherry\", \"Tamil Nadu\", \"Telangana\"], \"lat\": [15.9129, 15.3173, 10.8505, 11.9416, 11.1271, 18.1124], \"legendgroup\": \"South\", \"lon\": [79.74, 75.7139, 76.2711, 79.8083, 78.6569, 79.0193], \"marker\": {\"color\": \"#F8766D\", \"size\": [6.4, 2.41, 5.91, 10.9, 5.0, 3.27], \"sizemode\": \"area\", \"sizeref\": 0.189625}, \"name\": \"South\", \"showlegend\": true, \"type\": \"scattergeo\"}, {\"geo\": \"geo\", \"hovertemplate\": \"<b>%{hovertext}</b><br><br>Region=Northeast<br>Month_name=Sep<br>Estimated Unemployment Rate=%{marker.size}<br>longitude=%{lat}<br>latitude=%{lon}<extra></extra>\", \"hovertext\": [\"Assam\", \"Meghalaya\", \"Sikkim\", \"Tripura\"], \"lat\": [26.2006, 25.467, 27.533, 23.9408], \"legendgroup\": \"Northeast\", \"lon\": [92.9376, 91.3662, 88.5122, 91.9882], \"marker\": {\"color\": \"#A3A500\", \"size\": [1.19, 4.29, 5.7, 17.35], \"sizemode\": \"area\", \"sizeref\": 0.189625}, \"name\": \"Northeast\", \"showlegend\": true, \"type\": \"scattergeo\"}, {\"geo\": \"geo\", \"hovertemplate\": \"<b>%{hovertext}</b><br><br>Region=East<br>Month_name=Sep<br>Estimated Unemployment Rate=%{marker.size}<br>longitude=%{lat}<br>latitude=%{lon}<extra></extra>\", \"hovertext\": [\"Bihar\", \"Jharkhand\", \"Odisha\", \"West Bengal\"], \"lat\": [25.0961, 23.6102, 20.9517, 22.9868], \"legendgroup\": \"East\", \"lon\": [85.3131, 85.2799, 85.0985, 87.855], \"marker\": {\"color\": \"#00BF7D\", \"size\": [11.91, 8.24, 2.1, 9.35], \"sizemode\": \"area\", \"sizeref\": 0.189625}, \"name\": \"East\", \"showlegend\": true, \"type\": \"scattergeo\"}, {\"geo\": \"geo\", \"hovertemplate\": \"<b>%{hovertext}</b><br><br>Region=West<br>Month_name=Sep<br>Estimated Unemployment Rate=%{marker.size}<br>longitude=%{lat}<br>latitude=%{lon}<extra></extra>\", \"hovertext\": [\"Chhattisgarh\", \"Goa\", \"Gujarat\", \"Madhya Pradesh\", \"Maharashtra\"], \"lat\": [21.2787, 15.2993, 22.2587, 22.9734, 19.7515], \"legendgroup\": \"West\", \"lon\": [81.8661, 74.124, 71.1924, 78.6569, 75.7139], \"marker\": {\"color\": \"#00B0F6\", \"size\": [1.96, 15.38, 3.42, 3.91, 4.55], \"sizemode\": \"area\", \"sizeref\": 0.189625}, \"name\": \"West\", \"showlegend\": true, \"type\": \"scattergeo\"}, {\"geo\": \"geo\", \"hovertemplate\": \"<b>%{hovertext}</b><br><br>Region=North<br>Month_name=Sep<br>Estimated Unemployment Rate=%{marker.size}<br>longitude=%{lat}<br>latitude=%{lon}<extra></extra>\", \"hovertext\": [\"Delhi\", \"Haryana\", \"Himachal Pradesh\", \"Jammu & Kashmir\", \"Punjab\", \"Rajasthan\", \"Uttar Pradesh\", \"Uttarakhand\"], \"lat\": [28.7041, 29.0588, 31.1048, 33.7782, 31.1471, 27.0238, 26.8467, 30.0668], \"legendgroup\": \"North\", \"lon\": [77.1025, 76.0856, 77.1734, 76.5762, 75.3412, 74.2179, 80.9462, 79.0193], \"marker\": {\"color\": \"#E76BF3\", \"size\": [12.53, 19.68, 12.04, 16.17, 9.61, 15.35, 4.18, 22.26], \"sizemode\": \"area\", \"sizeref\": 0.189625}, \"name\": \"North\", \"showlegend\": true, \"type\": \"scattergeo\"}], \"name\": \"Sep\"}, {\"data\": [{\"geo\": \"geo\", \"hovertemplate\": \"<b>%{hovertext}</b><br><br>Region=South<br>Month_name=Oct<br>Estimated Unemployment Rate=%{marker.size}<br>longitude=%{lat}<br>latitude=%{lon}<extra></extra>\", \"hovertext\": [\"Andhra Pradesh\", \"Karnataka\", \"Kerala\", \"Puducherry\", \"Tamil Nadu\", \"Telangana\"], \"lat\": [15.9129, 15.3173, 10.8505, 11.9416, 11.1271, 18.1124], \"legendgroup\": \"South\", \"lon\": [79.74, 75.7139, 76.2711, 79.8083, 78.6569, 79.0193], \"marker\": {\"color\": \"#F8766D\", \"size\": [6.59, 1.58, 3.88, 6.18, 2.16, 2.86], \"sizemode\": \"area\", \"sizeref\": 0.189625}, \"name\": \"South\", \"showlegend\": true, \"type\": \"scattergeo\"}, {\"geo\": \"geo\", \"hovertemplate\": \"<b>%{hovertext}</b><br><br>Region=Northeast<br>Month_name=Oct<br>Estimated Unemployment Rate=%{marker.size}<br>longitude=%{lat}<br>latitude=%{lon}<extra></extra>\", \"hovertext\": [\"Assam\", \"Meghalaya\", \"Sikkim\", \"Tripura\"], \"lat\": [26.2006, 25.467, 27.533, 23.9408], \"legendgroup\": \"Northeast\", \"lon\": [92.9376, 91.3662, 88.5122, 91.9882], \"marker\": {\"color\": \"#A3A500\", \"size\": [3.02, 4.6, 0.88, 11.57], \"sizemode\": \"area\", \"sizeref\": 0.189625}, \"name\": \"Northeast\", \"showlegend\": true, \"type\": \"scattergeo\"}, {\"geo\": \"geo\", \"hovertemplate\": \"<b>%{hovertext}</b><br><br>Region=East<br>Month_name=Oct<br>Estimated Unemployment Rate=%{marker.size}<br>longitude=%{lat}<br>latitude=%{lon}<extra></extra>\", \"hovertext\": [\"Bihar\", \"Jharkhand\", \"Odisha\", \"West Bengal\"], \"lat\": [25.0961, 23.6102, 20.9517, 22.9868], \"legendgroup\": \"East\", \"lon\": [85.3131, 85.2799, 85.0985, 87.855], \"marker\": {\"color\": \"#00BF7D\", \"size\": [9.82, 11.8, 2.18, 9.98], \"sizemode\": \"area\", \"sizeref\": 0.189625}, \"name\": \"East\", \"showlegend\": true, \"type\": \"scattergeo\"}, {\"geo\": \"geo\", \"hovertemplate\": \"<b>%{hovertext}</b><br><br>Region=West<br>Month_name=Oct<br>Estimated Unemployment Rate=%{marker.size}<br>longitude=%{lat}<br>latitude=%{lon}<extra></extra>\", \"hovertext\": [\"Chhattisgarh\", \"Goa\", \"Gujarat\", \"Madhya Pradesh\", \"Maharashtra\"], \"lat\": [21.2787, 15.2993, 22.2587, 22.9734, 19.7515], \"legendgroup\": \"West\", \"lon\": [81.8661, 74.124, 71.1924, 78.6569, 75.7139], \"marker\": {\"color\": \"#00B0F6\", \"size\": [6.62, 11.54, 4.03, 3.13, 4.1], \"sizemode\": \"area\", \"sizeref\": 0.189625}, \"name\": \"West\", \"showlegend\": true, \"type\": \"scattergeo\"}, {\"geo\": \"geo\", \"hovertemplate\": \"<b>%{hovertext}</b><br><br>Region=North<br>Month_name=Oct<br>Estimated Unemployment Rate=%{marker.size}<br>longitude=%{lat}<br>latitude=%{lon}<extra></extra>\", \"hovertext\": [\"Delhi\", \"Haryana\", \"Himachal Pradesh\", \"Jammu & Kashmir\", \"Punjab\", \"Rajasthan\", \"Uttar Pradesh\", \"Uttarakhand\"], \"lat\": [28.7041, 29.0588, 31.1048, 33.7782, 31.1471, 27.0238, 26.8467, 30.0668], \"legendgroup\": \"North\", \"lon\": [77.1025, 76.0856, 77.1734, 76.5762, 75.3412, 74.2179, 80.9462, 79.0193], \"marker\": {\"color\": \"#E76BF3\", \"size\": [6.27, 27.31, 13.46, 16.14, 9.88, 24.15, 3.75, 9.23], \"sizemode\": \"area\", \"sizeref\": 0.189625}, \"name\": \"North\", \"showlegend\": true, \"type\": \"scattergeo\"}], \"name\": \"Oct\"}]);\n",
              "                        }).then(function(){\n",
              "                            \n",
              "var gd = document.getElementById('0c34b15c-3ea2-4e8d-97ea-63b1533e0bf5');\n",
              "var x = new MutationObserver(function (mutations, observer) {{\n",
              "        var display = window.getComputedStyle(gd).display;\n",
              "        if (!display || display === 'none') {{\n",
              "            console.log([gd, 'removed!']);\n",
              "            Plotly.purge(gd);\n",
              "            observer.disconnect();\n",
              "        }}\n",
              "}});\n",
              "\n",
              "// Listen for the removal of the full notebook cells\n",
              "var notebookContainer = gd.closest('#notebook-container');\n",
              "if (notebookContainer) {{\n",
              "    x.observe(notebookContainer, {childList: true});\n",
              "}}\n",
              "\n",
              "// Listen for the clearing of the current output cell\n",
              "var outputEl = gd.closest('.output');\n",
              "if (outputEl) {{\n",
              "    x.observe(outputEl, {childList: true});\n",
              "}}\n",
              "\n",
              "                        })                };                            </script>        </div>\n",
              "</body>\n",
              "</html>"
            ]
          },
          "metadata": {
            "tags": []
          }
        }
      ]
    },
    {
      "cell_type": "markdown",
      "metadata": {
        "id": "NOmCFpRBf5gO"
      },
      "source": [
        "Now we slplit the dataset into two parts that are before lockdown and after lockdown to see the impact of COVID-19 on unemployment "
      ]
    },
    {
      "cell_type": "code",
      "metadata": {
        "id": "IvUE7yFuguh9"
      },
      "source": [
        "lock = df1[(df1['Month_integer'] >= 4) & (df1['Month_integer'] <=7)]\n",
        "\n",
        "bf_lock = df1[(df1['Month_integer'] >= 1) & (df1['Month_integer'] <=4)]"
      ],
      "execution_count": null,
      "outputs": []
    },
    {
      "cell_type": "code",
      "metadata": {
        "id": "_e9jZghzg5pb",
        "colab": {
          "base_uri": "https://localhost:8080/",
          "height": 846
        },
        "outputId": "b5391195-cf73-452f-9d86-03c99825724a"
      },
      "source": [
        "g_lock = lock.groupby('States')['Estimated Unemployment Rate'].mean().reset_index()\n",
        "\n",
        "g_bf_lock = bf_lock.groupby('States')['Estimated Unemployment Rate'].mean().reset_index()\n",
        "\n",
        "\n",
        "g_lock['Unemployment Rate before lockdown'] = g_bf_lock['Estimated Unemployment Rate']\n",
        "\n",
        "g_lock.columns = ['States','Unemployment Rate after lockdown','Unemployment Rate before lockdown']\n",
        "\n",
        "g_lock"
      ],
      "execution_count": null,
      "outputs": [
        {
          "output_type": "execute_result",
          "data": {
            "text/html": [
              "<div>\n",
              "<style scoped>\n",
              "    .dataframe tbody tr th:only-of-type {\n",
              "        vertical-align: middle;\n",
              "    }\n",
              "\n",
              "    .dataframe tbody tr th {\n",
              "        vertical-align: top;\n",
              "    }\n",
              "\n",
              "    .dataframe thead th {\n",
              "        text-align: right;\n",
              "    }\n",
              "</style>\n",
              "<table border=\"1\" class=\"dataframe\">\n",
              "  <thead>\n",
              "    <tr style=\"text-align: right;\">\n",
              "      <th></th>\n",
              "      <th>States</th>\n",
              "      <th>Unemployment Rate after lockdown</th>\n",
              "      <th>Unemployment Rate before lockdown</th>\n",
              "    </tr>\n",
              "  </thead>\n",
              "  <tbody>\n",
              "    <tr>\n",
              "      <th>0</th>\n",
              "      <td>Andhra Pradesh</td>\n",
              "      <td>12.397500</td>\n",
              "      <td>9.4025</td>\n",
              "    </tr>\n",
              "    <tr>\n",
              "      <th>1</th>\n",
              "      <td>Assam</td>\n",
              "      <td>6.245000</td>\n",
              "      <td>6.2250</td>\n",
              "    </tr>\n",
              "    <tr>\n",
              "      <th>2</th>\n",
              "      <td>Bihar</td>\n",
              "      <td>30.802500</td>\n",
              "      <td>20.7425</td>\n",
              "    </tr>\n",
              "    <tr>\n",
              "      <th>3</th>\n",
              "      <td>Chhattisgarh</td>\n",
              "      <td>9.602500</td>\n",
              "      <td>7.2450</td>\n",
              "    </tr>\n",
              "    <tr>\n",
              "      <th>4</th>\n",
              "      <td>Delhi</td>\n",
              "      <td>24.360000</td>\n",
              "      <td>17.6975</td>\n",
              "    </tr>\n",
              "    <tr>\n",
              "      <th>5</th>\n",
              "      <td>Goa</td>\n",
              "      <td>15.397500</td>\n",
              "      <td>7.5650</td>\n",
              "    </tr>\n",
              "    <tr>\n",
              "      <th>6</th>\n",
              "      <td>Gujarat</td>\n",
              "      <td>8.965000</td>\n",
              "      <td>9.3225</td>\n",
              "    </tr>\n",
              "    <tr>\n",
              "      <th>7</th>\n",
              "      <td>Haryana</td>\n",
              "      <td>30.780000</td>\n",
              "      <td>28.5950</td>\n",
              "    </tr>\n",
              "    <tr>\n",
              "      <th>8</th>\n",
              "      <td>Himachal Pradesh</td>\n",
              "      <td>16.732500</td>\n",
              "      <td>13.6575</td>\n",
              "    </tr>\n",
              "    <tr>\n",
              "      <th>9</th>\n",
              "      <td>Jammu &amp; Kashmir</td>\n",
              "      <td>15.846667</td>\n",
              "      <td>19.1200</td>\n",
              "    </tr>\n",
              "    <tr>\n",
              "      <th>10</th>\n",
              "      <td>Jharkhand</td>\n",
              "      <td>33.725000</td>\n",
              "      <td>19.4450</td>\n",
              "    </tr>\n",
              "    <tr>\n",
              "      <th>11</th>\n",
              "      <td>Karnataka</td>\n",
              "      <td>15.565000</td>\n",
              "      <td>9.9425</td>\n",
              "    </tr>\n",
              "    <tr>\n",
              "      <th>12</th>\n",
              "      <td>Kerala</td>\n",
              "      <td>12.917500</td>\n",
              "      <td>9.7225</td>\n",
              "    </tr>\n",
              "    <tr>\n",
              "      <th>13</th>\n",
              "      <td>Madhya Pradesh</td>\n",
              "      <td>11.475000</td>\n",
              "      <td>5.8150</td>\n",
              "    </tr>\n",
              "    <tr>\n",
              "      <th>14</th>\n",
              "      <td>Maharashtra</td>\n",
              "      <td>12.370000</td>\n",
              "      <td>9.0825</td>\n",
              "    </tr>\n",
              "    <tr>\n",
              "      <th>15</th>\n",
              "      <td>Meghalaya</td>\n",
              "      <td>4.800000</td>\n",
              "      <td>4.2150</td>\n",
              "    </tr>\n",
              "    <tr>\n",
              "      <th>16</th>\n",
              "      <td>Odisha</td>\n",
              "      <td>10.205000</td>\n",
              "      <td>10.4650</td>\n",
              "    </tr>\n",
              "    <tr>\n",
              "      <th>17</th>\n",
              "      <td>Puducherry</td>\n",
              "      <td>38.437500</td>\n",
              "      <td>19.8475</td>\n",
              "    </tr>\n",
              "    <tr>\n",
              "      <th>18</th>\n",
              "      <td>Punjab</td>\n",
              "      <td>14.232500</td>\n",
              "      <td>8.8150</td>\n",
              "    </tr>\n",
              "    <tr>\n",
              "      <th>19</th>\n",
              "      <td>Rajasthan</td>\n",
              "      <td>15.910000</td>\n",
              "      <td>13.9325</td>\n",
              "    </tr>\n",
              "    <tr>\n",
              "      <th>20</th>\n",
              "      <td>Sikkim</td>\n",
              "      <td>8.925000</td>\n",
              "      <td>12.9250</td>\n",
              "    </tr>\n",
              "    <tr>\n",
              "      <th>21</th>\n",
              "      <td>Tamil Nadu</td>\n",
              "      <td>25.500000</td>\n",
              "      <td>14.9725</td>\n",
              "    </tr>\n",
              "    <tr>\n",
              "      <th>22</th>\n",
              "      <td>Telangana</td>\n",
              "      <td>9.215000</td>\n",
              "      <td>6.4500</td>\n",
              "    </tr>\n",
              "    <tr>\n",
              "      <th>23</th>\n",
              "      <td>Tripura</td>\n",
              "      <td>25.672500</td>\n",
              "      <td>33.0625</td>\n",
              "    </tr>\n",
              "    <tr>\n",
              "      <th>24</th>\n",
              "      <td>Uttar Pradesh</td>\n",
              "      <td>14.245000</td>\n",
              "      <td>12.0525</td>\n",
              "    </tr>\n",
              "    <tr>\n",
              "      <th>25</th>\n",
              "      <td>Uttarakhand</td>\n",
              "      <td>8.870000</td>\n",
              "      <td>9.2025</td>\n",
              "    </tr>\n",
              "    <tr>\n",
              "      <th>26</th>\n",
              "      <td>West Bengal</td>\n",
              "      <td>12.235000</td>\n",
              "      <td>9.0475</td>\n",
              "    </tr>\n",
              "  </tbody>\n",
              "</table>\n",
              "</div>"
            ],
            "text/plain": [
              "              States  ...  Unemployment Rate before lockdown\n",
              "0     Andhra Pradesh  ...                             9.4025\n",
              "1              Assam  ...                             6.2250\n",
              "2              Bihar  ...                            20.7425\n",
              "3       Chhattisgarh  ...                             7.2450\n",
              "4              Delhi  ...                            17.6975\n",
              "5                Goa  ...                             7.5650\n",
              "6            Gujarat  ...                             9.3225\n",
              "7            Haryana  ...                            28.5950\n",
              "8   Himachal Pradesh  ...                            13.6575\n",
              "9    Jammu & Kashmir  ...                            19.1200\n",
              "10         Jharkhand  ...                            19.4450\n",
              "11         Karnataka  ...                             9.9425\n",
              "12            Kerala  ...                             9.7225\n",
              "13    Madhya Pradesh  ...                             5.8150\n",
              "14       Maharashtra  ...                             9.0825\n",
              "15         Meghalaya  ...                             4.2150\n",
              "16            Odisha  ...                            10.4650\n",
              "17        Puducherry  ...                            19.8475\n",
              "18            Punjab  ...                             8.8150\n",
              "19         Rajasthan  ...                            13.9325\n",
              "20            Sikkim  ...                            12.9250\n",
              "21        Tamil Nadu  ...                            14.9725\n",
              "22         Telangana  ...                             6.4500\n",
              "23           Tripura  ...                            33.0625\n",
              "24     Uttar Pradesh  ...                            12.0525\n",
              "25       Uttarakhand  ...                             9.2025\n",
              "26       West Bengal  ...                             9.0475\n",
              "\n",
              "[27 rows x 3 columns]"
            ]
          },
          "metadata": {
            "tags": []
          },
          "execution_count": 30
        }
      ]
    },
    {
      "cell_type": "markdown",
      "metadata": {
        "id": "PgUFJK0Lhep_"
      },
      "source": [
        "Now we identify Percentage change in unemployment rate in each state aftere lockdown"
      ]
    },
    {
      "cell_type": "code",
      "metadata": {
        "id": "kqDgs5D5hQlR"
      },
      "source": [
        "g_lock['percentage change in unemployment'] = round(g_lock['Unemployment Rate after lockdown'] - g_lock['Unemployment Rate before lockdown']/g_lock['Unemployment Rate before lockdown'],2)"
      ],
      "execution_count": null,
      "outputs": []
    },
    {
      "cell_type": "code",
      "metadata": {
        "id": "HClgRIZShc6M"
      },
      "source": [
        "plot_per = g_lock.sort_values('percentage change in unemployment')"
      ],
      "execution_count": null,
      "outputs": []
    },
    {
      "cell_type": "code",
      "metadata": {
        "id": "3YvtxmAGhpnO",
        "colab": {
          "base_uri": "https://localhost:8080/",
          "height": 542
        },
        "outputId": "28a5e74c-1513-43d6-f855-460100701e5b"
      },
      "source": [
        "fig = px.bar(plot_per, x='States',y='percentage change in unemployment',color='percentage change in unemployment',\n",
        "            title='percentage change in Unemployment in each state after lockdown',template='ggplot2')\n",
        "\n",
        "fig.show()"
      ],
      "execution_count": null,
      "outputs": [
        {
          "output_type": "display_data",
          "data": {
            "text/html": [
              "<html>\n",
              "<head><meta charset=\"utf-8\" /></head>\n",
              "<body>\n",
              "    <div>            <script src=\"https://cdnjs.cloudflare.com/ajax/libs/mathjax/2.7.5/MathJax.js?config=TeX-AMS-MML_SVG\"></script><script type=\"text/javascript\">if (window.MathJax) {MathJax.Hub.Config({SVG: {font: \"STIX-Web\"}});}</script>                <script type=\"text/javascript\">window.PlotlyConfig = {MathJaxConfig: 'local'};</script>\n",
              "        <script src=\"https://cdn.plot.ly/plotly-latest.min.js\"></script>                <div id=\"b8143525-c89c-4006-95e0-bc72679dd065\" class=\"plotly-graph-div\" style=\"height:525px; width:100%;\"></div>            <script type=\"text/javascript\">                                    window.PLOTLYENV=window.PLOTLYENV || {};                                    if (document.getElementById(\"b8143525-c89c-4006-95e0-bc72679dd065\")) {                    Plotly.newPlot(                        \"b8143525-c89c-4006-95e0-bc72679dd065\",                        [{\"alignmentgroup\": \"True\", \"hovertemplate\": \"States=%{x}<br>percentage change in unemployment=%{marker.color}<extra></extra>\", \"legendgroup\": \"\", \"marker\": {\"color\": [3.8, 5.24, 7.87, 7.93, 7.97, 8.22, 8.6, 9.21, 10.48, 11.24, 11.37, 11.4, 11.92, 13.23, 13.24, 14.4, 14.56, 14.85, 14.91, 15.73, 23.36, 24.5, 24.67, 29.78, 29.8, 32.72, 37.44], \"coloraxis\": \"coloraxis\"}, \"name\": \"\", \"offsetgroup\": \"\", \"orientation\": \"v\", \"showlegend\": false, \"textposition\": \"auto\", \"type\": \"bar\", \"x\": [\"Meghalaya\", \"Assam\", \"Uttarakhand\", \"Sikkim\", \"Gujarat\", \"Telangana\", \"Chhattisgarh\", \"Odisha\", \"Madhya Pradesh\", \"West Bengal\", \"Maharashtra\", \"Andhra Pradesh\", \"Kerala\", \"Punjab\", \"Uttar Pradesh\", \"Goa\", \"Karnataka\", \"Jammu & Kashmir\", \"Rajasthan\", \"Himachal Pradesh\", \"Delhi\", \"Tamil Nadu\", \"Tripura\", \"Haryana\", \"Bihar\", \"Jharkhand\", \"Puducherry\"], \"xaxis\": \"x\", \"y\": [3.8, 5.24, 7.87, 7.93, 7.97, 8.22, 8.6, 9.21, 10.48, 11.24, 11.37, 11.4, 11.92, 13.23, 13.24, 14.4, 14.56, 14.85, 14.91, 15.73, 23.36, 24.5, 24.67, 29.78, 29.8, 32.72, 37.44], \"yaxis\": \"y\"}],                        {\"barmode\": \"relative\", \"coloraxis\": {\"colorbar\": {\"title\": {\"text\": \"percentage change in unemployment\"}}, \"colorscale\": [[0.0, \"rgb(20,44,66)\"], [1.0, \"rgb(90,179,244)\"]]}, \"legend\": {\"tracegroupgap\": 0}, \"template\": {\"data\": {\"bar\": [{\"error_x\": {\"color\": \"rgb(51,51,51)\"}, \"error_y\": {\"color\": \"rgb(51,51,51)\"}, \"marker\": {\"line\": {\"color\": \"rgb(237,237,237)\", \"width\": 0.5}}, \"type\": \"bar\"}], \"barpolar\": [{\"marker\": {\"line\": {\"color\": \"rgb(237,237,237)\", \"width\": 0.5}}, \"type\": \"barpolar\"}], \"carpet\": [{\"aaxis\": {\"endlinecolor\": \"rgb(51,51,51)\", \"gridcolor\": \"white\", \"linecolor\": \"white\", \"minorgridcolor\": \"white\", \"startlinecolor\": \"rgb(51,51,51)\"}, \"baxis\": {\"endlinecolor\": \"rgb(51,51,51)\", \"gridcolor\": \"white\", \"linecolor\": \"white\", \"minorgridcolor\": \"white\", \"startlinecolor\": \"rgb(51,51,51)\"}, \"type\": \"carpet\"}], \"choropleth\": [{\"colorbar\": {\"outlinewidth\": 0, \"tickcolor\": \"rgb(237,237,237)\", \"ticklen\": 6, \"ticks\": \"inside\"}, \"type\": \"choropleth\"}], \"contour\": [{\"colorbar\": {\"outlinewidth\": 0, \"tickcolor\": \"rgb(237,237,237)\", \"ticklen\": 6, \"ticks\": \"inside\"}, \"colorscale\": [[0, \"rgb(20,44,66)\"], [1, \"rgb(90,179,244)\"]], \"type\": \"contour\"}], \"contourcarpet\": [{\"colorbar\": {\"outlinewidth\": 0, \"tickcolor\": \"rgb(237,237,237)\", \"ticklen\": 6, \"ticks\": \"inside\"}, \"type\": \"contourcarpet\"}], \"heatmap\": [{\"colorbar\": {\"outlinewidth\": 0, \"tickcolor\": \"rgb(237,237,237)\", \"ticklen\": 6, \"ticks\": \"inside\"}, \"colorscale\": [[0, \"rgb(20,44,66)\"], [1, \"rgb(90,179,244)\"]], \"type\": \"heatmap\"}], \"heatmapgl\": [{\"colorbar\": {\"outlinewidth\": 0, \"tickcolor\": \"rgb(237,237,237)\", \"ticklen\": 6, \"ticks\": \"inside\"}, \"colorscale\": [[0, \"rgb(20,44,66)\"], [1, \"rgb(90,179,244)\"]], \"type\": \"heatmapgl\"}], \"histogram\": [{\"marker\": {\"colorbar\": {\"outlinewidth\": 0, \"tickcolor\": \"rgb(237,237,237)\", \"ticklen\": 6, \"ticks\": \"inside\"}}, \"type\": \"histogram\"}], \"histogram2d\": [{\"colorbar\": {\"outlinewidth\": 0, \"tickcolor\": \"rgb(237,237,237)\", \"ticklen\": 6, \"ticks\": \"inside\"}, \"colorscale\": [[0, \"rgb(20,44,66)\"], [1, \"rgb(90,179,244)\"]], \"type\": \"histogram2d\"}], \"histogram2dcontour\": [{\"colorbar\": {\"outlinewidth\": 0, \"tickcolor\": \"rgb(237,237,237)\", \"ticklen\": 6, \"ticks\": \"inside\"}, \"colorscale\": [[0, \"rgb(20,44,66)\"], [1, \"rgb(90,179,244)\"]], \"type\": \"histogram2dcontour\"}], \"mesh3d\": [{\"colorbar\": {\"outlinewidth\": 0, \"tickcolor\": \"rgb(237,237,237)\", \"ticklen\": 6, \"ticks\": \"inside\"}, \"type\": \"mesh3d\"}], \"parcoords\": [{\"line\": {\"colorbar\": {\"outlinewidth\": 0, \"tickcolor\": \"rgb(237,237,237)\", \"ticklen\": 6, \"ticks\": \"inside\"}}, \"type\": \"parcoords\"}], \"pie\": [{\"automargin\": true, \"type\": \"pie\"}], \"scatter\": [{\"marker\": {\"colorbar\": {\"outlinewidth\": 0, \"tickcolor\": \"rgb(237,237,237)\", \"ticklen\": 6, \"ticks\": \"inside\"}}, \"type\": \"scatter\"}], \"scatter3d\": [{\"line\": {\"colorbar\": {\"outlinewidth\": 0, \"tickcolor\": \"rgb(237,237,237)\", \"ticklen\": 6, \"ticks\": \"inside\"}}, \"marker\": {\"colorbar\": {\"outlinewidth\": 0, \"tickcolor\": \"rgb(237,237,237)\", \"ticklen\": 6, \"ticks\": \"inside\"}}, \"type\": \"scatter3d\"}], \"scattercarpet\": [{\"marker\": {\"colorbar\": {\"outlinewidth\": 0, \"tickcolor\": \"rgb(237,237,237)\", \"ticklen\": 6, \"ticks\": \"inside\"}}, \"type\": \"scattercarpet\"}], \"scattergeo\": [{\"marker\": {\"colorbar\": {\"outlinewidth\": 0, \"tickcolor\": \"rgb(237,237,237)\", \"ticklen\": 6, \"ticks\": \"inside\"}}, \"type\": \"scattergeo\"}], \"scattergl\": [{\"marker\": {\"colorbar\": {\"outlinewidth\": 0, \"tickcolor\": \"rgb(237,237,237)\", \"ticklen\": 6, \"ticks\": \"inside\"}}, \"type\": \"scattergl\"}], \"scattermapbox\": [{\"marker\": {\"colorbar\": {\"outlinewidth\": 0, \"tickcolor\": \"rgb(237,237,237)\", \"ticklen\": 6, \"ticks\": \"inside\"}}, \"type\": \"scattermapbox\"}], \"scatterpolar\": [{\"marker\": {\"colorbar\": {\"outlinewidth\": 0, \"tickcolor\": \"rgb(237,237,237)\", \"ticklen\": 6, \"ticks\": \"inside\"}}, \"type\": \"scatterpolar\"}], \"scatterpolargl\": [{\"marker\": {\"colorbar\": {\"outlinewidth\": 0, \"tickcolor\": \"rgb(237,237,237)\", \"ticklen\": 6, \"ticks\": \"inside\"}}, \"type\": \"scatterpolargl\"}], \"scatterternary\": [{\"marker\": {\"colorbar\": {\"outlinewidth\": 0, \"tickcolor\": \"rgb(237,237,237)\", \"ticklen\": 6, \"ticks\": \"inside\"}}, \"type\": \"scatterternary\"}], \"surface\": [{\"colorbar\": {\"outlinewidth\": 0, \"tickcolor\": \"rgb(237,237,237)\", \"ticklen\": 6, \"ticks\": \"inside\"}, \"colorscale\": [[0, \"rgb(20,44,66)\"], [1, \"rgb(90,179,244)\"]], \"type\": \"surface\"}], \"table\": [{\"cells\": {\"fill\": {\"color\": \"rgb(237,237,237)\"}, \"line\": {\"color\": \"white\"}}, \"header\": {\"fill\": {\"color\": \"rgb(217,217,217)\"}, \"line\": {\"color\": \"white\"}}, \"type\": \"table\"}]}, \"layout\": {\"annotationdefaults\": {\"arrowhead\": 0, \"arrowwidth\": 1}, \"coloraxis\": {\"colorbar\": {\"outlinewidth\": 0, \"tickcolor\": \"rgb(237,237,237)\", \"ticklen\": 6, \"ticks\": \"inside\"}}, \"colorscale\": {\"sequential\": [[0, \"rgb(20,44,66)\"], [1, \"rgb(90,179,244)\"]], \"sequentialminus\": [[0, \"rgb(20,44,66)\"], [1, \"rgb(90,179,244)\"]]}, \"colorway\": [\"#F8766D\", \"#A3A500\", \"#00BF7D\", \"#00B0F6\", \"#E76BF3\"], \"font\": {\"color\": \"rgb(51,51,51)\"}, \"geo\": {\"bgcolor\": \"white\", \"lakecolor\": \"white\", \"landcolor\": \"rgb(237,237,237)\", \"showlakes\": true, \"showland\": true, \"subunitcolor\": \"white\"}, \"hoverlabel\": {\"align\": \"left\"}, \"hovermode\": \"closest\", \"paper_bgcolor\": \"white\", \"plot_bgcolor\": \"rgb(237,237,237)\", \"polar\": {\"angularaxis\": {\"gridcolor\": \"white\", \"linecolor\": \"white\", \"showgrid\": true, \"tickcolor\": \"rgb(51,51,51)\", \"ticks\": \"outside\"}, \"bgcolor\": \"rgb(237,237,237)\", \"radialaxis\": {\"gridcolor\": \"white\", \"linecolor\": \"white\", \"showgrid\": true, \"tickcolor\": \"rgb(51,51,51)\", \"ticks\": \"outside\"}}, \"scene\": {\"xaxis\": {\"backgroundcolor\": \"rgb(237,237,237)\", \"gridcolor\": \"white\", \"gridwidth\": 2, \"linecolor\": \"white\", \"showbackground\": true, \"showgrid\": true, \"tickcolor\": \"rgb(51,51,51)\", \"ticks\": \"outside\", \"zerolinecolor\": \"white\"}, \"yaxis\": {\"backgroundcolor\": \"rgb(237,237,237)\", \"gridcolor\": \"white\", \"gridwidth\": 2, \"linecolor\": \"white\", \"showbackground\": true, \"showgrid\": true, \"tickcolor\": \"rgb(51,51,51)\", \"ticks\": \"outside\", \"zerolinecolor\": \"white\"}, \"zaxis\": {\"backgroundcolor\": \"rgb(237,237,237)\", \"gridcolor\": \"white\", \"gridwidth\": 2, \"linecolor\": \"white\", \"showbackground\": true, \"showgrid\": true, \"tickcolor\": \"rgb(51,51,51)\", \"ticks\": \"outside\", \"zerolinecolor\": \"white\"}}, \"shapedefaults\": {\"fillcolor\": \"black\", \"line\": {\"width\": 0}, \"opacity\": 0.3}, \"ternary\": {\"aaxis\": {\"gridcolor\": \"white\", \"linecolor\": \"white\", \"showgrid\": true, \"tickcolor\": \"rgb(51,51,51)\", \"ticks\": \"outside\"}, \"baxis\": {\"gridcolor\": \"white\", \"linecolor\": \"white\", \"showgrid\": true, \"tickcolor\": \"rgb(51,51,51)\", \"ticks\": \"outside\"}, \"bgcolor\": \"rgb(237,237,237)\", \"caxis\": {\"gridcolor\": \"white\", \"linecolor\": \"white\", \"showgrid\": true, \"tickcolor\": \"rgb(51,51,51)\", \"ticks\": \"outside\"}}, \"xaxis\": {\"automargin\": true, \"gridcolor\": \"white\", \"linecolor\": \"white\", \"showgrid\": true, \"tickcolor\": \"rgb(51,51,51)\", \"ticks\": \"outside\", \"title\": {\"standoff\": 15}, \"zerolinecolor\": \"white\"}, \"yaxis\": {\"automargin\": true, \"gridcolor\": \"white\", \"linecolor\": \"white\", \"showgrid\": true, \"tickcolor\": \"rgb(51,51,51)\", \"ticks\": \"outside\", \"title\": {\"standoff\": 15}, \"zerolinecolor\": \"white\"}}}, \"title\": {\"text\": \"percentage change in Unemployment in each state after lockdown\"}, \"xaxis\": {\"anchor\": \"y\", \"domain\": [0.0, 1.0], \"title\": {\"text\": \"States\"}}, \"yaxis\": {\"anchor\": \"x\", \"domain\": [0.0, 1.0], \"title\": {\"text\": \"percentage change in unemployment\"}}},                        {\"responsive\": true}                    ).then(function(){\n",
              "                            \n",
              "var gd = document.getElementById('b8143525-c89c-4006-95e0-bc72679dd065');\n",
              "var x = new MutationObserver(function (mutations, observer) {{\n",
              "        var display = window.getComputedStyle(gd).display;\n",
              "        if (!display || display === 'none') {{\n",
              "            console.log([gd, 'removed!']);\n",
              "            Plotly.purge(gd);\n",
              "            observer.disconnect();\n",
              "        }}\n",
              "}});\n",
              "\n",
              "// Listen for the removal of the full notebook cells\n",
              "var notebookContainer = gd.closest('#notebook-container');\n",
              "if (notebookContainer) {{\n",
              "    x.observe(notebookContainer, {childList: true});\n",
              "}}\n",
              "\n",
              "// Listen for the clearing of the current output cell\n",
              "var outputEl = gd.closest('.output');\n",
              "if (outputEl) {{\n",
              "    x.observe(outputEl, {childList: true});\n",
              "}}\n",
              "\n",
              "                        })                };                            </script>        </div>\n",
              "</body>\n",
              "</html>"
            ]
          },
          "metadata": {
            "tags": []
          }
        }
      ]
    },
    {
      "cell_type": "markdown",
      "metadata": {
        "id": "IRX43UyZhv7m"
      },
      "source": [
        "# Most impacted states/UT\n",
        "Puducherry\n",
        "\n",
        "Jharkhand\n",
        "\n",
        "Bihar\n",
        "\n",
        "Haryana\n",
        "\n",
        "Tripura"
      ]
    },
    {
      "cell_type": "markdown",
      "metadata": {
        "id": "x7xSrzfxh-bX"
      },
      "source": [
        "Function to sort the values based on impact of COVID-19 lockdown "
      ]
    },
    {
      "cell_type": "code",
      "metadata": {
        "id": "BWKsgxRCh-Aq"
      },
      "source": [
        "def sort_impact(x):\n",
        "    if x <= 10:\n",
        "        return 'impacted States'\n",
        "    elif x <= 20:\n",
        "        return 'hard impacted States'\n",
        "    elif x <= 30:\n",
        "        return 'harder impacted States'\n",
        "    elif x <= 40:\n",
        "        return 'hardest impacted States'\n",
        "    return x "
      ],
      "execution_count": null,
      "outputs": []
    },
    {
      "cell_type": "code",
      "metadata": {
        "id": "_lmUatirhr8G"
      },
      "source": [
        "plot_per['impact status'] = plot_per['percentage change in unemployment'].apply(lambda x:sort_impact(x))"
      ],
      "execution_count": null,
      "outputs": []
    },
    {
      "cell_type": "code",
      "metadata": {
        "id": "Tt5wQ2O3h22C",
        "colab": {
          "base_uri": "https://localhost:8080/",
          "height": 667
        },
        "outputId": "cf0b0e85-5968-4ddd-aded-b026f0a7f94c"
      },
      "source": [
        "fig = px.bar(plot_per, y='States',x='percentage change in unemployment',color='impact status',\n",
        "            title='Impact of lockdown on employment across states',template='ggplot2',height=650)\n",
        "\n",
        "\n",
        "fig.show()"
      ],
      "execution_count": null,
      "outputs": [
        {
          "output_type": "display_data",
          "data": {
            "text/html": [
              "<html>\n",
              "<head><meta charset=\"utf-8\" /></head>\n",
              "<body>\n",
              "    <div>            <script src=\"https://cdnjs.cloudflare.com/ajax/libs/mathjax/2.7.5/MathJax.js?config=TeX-AMS-MML_SVG\"></script><script type=\"text/javascript\">if (window.MathJax) {MathJax.Hub.Config({SVG: {font: \"STIX-Web\"}});}</script>                <script type=\"text/javascript\">window.PlotlyConfig = {MathJaxConfig: 'local'};</script>\n",
              "        <script src=\"https://cdn.plot.ly/plotly-latest.min.js\"></script>                <div id=\"0356848e-9168-4bab-b095-aa1a2f248870\" class=\"plotly-graph-div\" style=\"height:650px; width:100%;\"></div>            <script type=\"text/javascript\">                                    window.PLOTLYENV=window.PLOTLYENV || {};                                    if (document.getElementById(\"0356848e-9168-4bab-b095-aa1a2f248870\")) {                    Plotly.newPlot(                        \"0356848e-9168-4bab-b095-aa1a2f248870\",                        [{\"alignmentgroup\": \"True\", \"hovertemplate\": \"impact status=impacted States<br>percentage change in unemployment=%{x}<br>States=%{y}<extra></extra>\", \"legendgroup\": \"impacted States\", \"marker\": {\"color\": \"#F8766D\"}, \"name\": \"impacted States\", \"offsetgroup\": \"impacted States\", \"orientation\": \"h\", \"showlegend\": true, \"textposition\": \"auto\", \"type\": \"bar\", \"x\": [3.8, 5.24, 7.87, 7.93, 7.97, 8.22, 8.6, 9.21], \"xaxis\": \"x\", \"y\": [\"Meghalaya\", \"Assam\", \"Uttarakhand\", \"Sikkim\", \"Gujarat\", \"Telangana\", \"Chhattisgarh\", \"Odisha\"], \"yaxis\": \"y\"}, {\"alignmentgroup\": \"True\", \"hovertemplate\": \"impact status=hard impacted States<br>percentage change in unemployment=%{x}<br>States=%{y}<extra></extra>\", \"legendgroup\": \"hard impacted States\", \"marker\": {\"color\": \"#A3A500\"}, \"name\": \"hard impacted States\", \"offsetgroup\": \"hard impacted States\", \"orientation\": \"h\", \"showlegend\": true, \"textposition\": \"auto\", \"type\": \"bar\", \"x\": [10.48, 11.24, 11.37, 11.4, 11.92, 13.23, 13.24, 14.4, 14.56, 14.85, 14.91, 15.73], \"xaxis\": \"x\", \"y\": [\"Madhya Pradesh\", \"West Bengal\", \"Maharashtra\", \"Andhra Pradesh\", \"Kerala\", \"Punjab\", \"Uttar Pradesh\", \"Goa\", \"Karnataka\", \"Jammu & Kashmir\", \"Rajasthan\", \"Himachal Pradesh\"], \"yaxis\": \"y\"}, {\"alignmentgroup\": \"True\", \"hovertemplate\": \"impact status=harder impacted States<br>percentage change in unemployment=%{x}<br>States=%{y}<extra></extra>\", \"legendgroup\": \"harder impacted States\", \"marker\": {\"color\": \"#00BF7D\"}, \"name\": \"harder impacted States\", \"offsetgroup\": \"harder impacted States\", \"orientation\": \"h\", \"showlegend\": true, \"textposition\": \"auto\", \"type\": \"bar\", \"x\": [23.36, 24.5, 24.67, 29.78, 29.8], \"xaxis\": \"x\", \"y\": [\"Delhi\", \"Tamil Nadu\", \"Tripura\", \"Haryana\", \"Bihar\"], \"yaxis\": \"y\"}, {\"alignmentgroup\": \"True\", \"hovertemplate\": \"impact status=hardest impacted States<br>percentage change in unemployment=%{x}<br>States=%{y}<extra></extra>\", \"legendgroup\": \"hardest impacted States\", \"marker\": {\"color\": \"#00B0F6\"}, \"name\": \"hardest impacted States\", \"offsetgroup\": \"hardest impacted States\", \"orientation\": \"h\", \"showlegend\": true, \"textposition\": \"auto\", \"type\": \"bar\", \"x\": [32.72, 37.44], \"xaxis\": \"x\", \"y\": [\"Jharkhand\", \"Puducherry\"], \"yaxis\": \"y\"}],                        {\"barmode\": \"relative\", \"height\": 650, \"legend\": {\"title\": {\"text\": \"impact status\"}, \"tracegroupgap\": 0}, \"template\": {\"data\": {\"bar\": [{\"error_x\": {\"color\": \"rgb(51,51,51)\"}, \"error_y\": {\"color\": \"rgb(51,51,51)\"}, \"marker\": {\"line\": {\"color\": \"rgb(237,237,237)\", \"width\": 0.5}}, \"type\": \"bar\"}], \"barpolar\": [{\"marker\": {\"line\": {\"color\": \"rgb(237,237,237)\", \"width\": 0.5}}, \"type\": \"barpolar\"}], \"carpet\": [{\"aaxis\": {\"endlinecolor\": \"rgb(51,51,51)\", \"gridcolor\": \"white\", \"linecolor\": \"white\", \"minorgridcolor\": \"white\", \"startlinecolor\": \"rgb(51,51,51)\"}, \"baxis\": {\"endlinecolor\": \"rgb(51,51,51)\", \"gridcolor\": \"white\", \"linecolor\": \"white\", \"minorgridcolor\": \"white\", \"startlinecolor\": \"rgb(51,51,51)\"}, \"type\": \"carpet\"}], \"choropleth\": [{\"colorbar\": {\"outlinewidth\": 0, \"tickcolor\": \"rgb(237,237,237)\", \"ticklen\": 6, \"ticks\": \"inside\"}, \"type\": \"choropleth\"}], \"contour\": [{\"colorbar\": {\"outlinewidth\": 0, \"tickcolor\": \"rgb(237,237,237)\", \"ticklen\": 6, \"ticks\": \"inside\"}, \"colorscale\": [[0, \"rgb(20,44,66)\"], [1, \"rgb(90,179,244)\"]], \"type\": \"contour\"}], \"contourcarpet\": [{\"colorbar\": {\"outlinewidth\": 0, \"tickcolor\": \"rgb(237,237,237)\", \"ticklen\": 6, \"ticks\": \"inside\"}, \"type\": \"contourcarpet\"}], \"heatmap\": [{\"colorbar\": {\"outlinewidth\": 0, \"tickcolor\": \"rgb(237,237,237)\", \"ticklen\": 6, \"ticks\": \"inside\"}, \"colorscale\": [[0, \"rgb(20,44,66)\"], [1, \"rgb(90,179,244)\"]], \"type\": \"heatmap\"}], \"heatmapgl\": [{\"colorbar\": {\"outlinewidth\": 0, \"tickcolor\": \"rgb(237,237,237)\", \"ticklen\": 6, \"ticks\": \"inside\"}, \"colorscale\": [[0, \"rgb(20,44,66)\"], [1, \"rgb(90,179,244)\"]], \"type\": \"heatmapgl\"}], \"histogram\": [{\"marker\": {\"colorbar\": {\"outlinewidth\": 0, \"tickcolor\": \"rgb(237,237,237)\", \"ticklen\": 6, \"ticks\": \"inside\"}}, \"type\": \"histogram\"}], \"histogram2d\": [{\"colorbar\": {\"outlinewidth\": 0, \"tickcolor\": \"rgb(237,237,237)\", \"ticklen\": 6, \"ticks\": \"inside\"}, \"colorscale\": [[0, \"rgb(20,44,66)\"], [1, \"rgb(90,179,244)\"]], \"type\": \"histogram2d\"}], \"histogram2dcontour\": [{\"colorbar\": {\"outlinewidth\": 0, \"tickcolor\": \"rgb(237,237,237)\", \"ticklen\": 6, \"ticks\": \"inside\"}, \"colorscale\": [[0, \"rgb(20,44,66)\"], [1, \"rgb(90,179,244)\"]], \"type\": \"histogram2dcontour\"}], \"mesh3d\": [{\"colorbar\": {\"outlinewidth\": 0, \"tickcolor\": \"rgb(237,237,237)\", \"ticklen\": 6, \"ticks\": \"inside\"}, \"type\": \"mesh3d\"}], \"parcoords\": [{\"line\": {\"colorbar\": {\"outlinewidth\": 0, \"tickcolor\": \"rgb(237,237,237)\", \"ticklen\": 6, \"ticks\": \"inside\"}}, \"type\": \"parcoords\"}], \"pie\": [{\"automargin\": true, \"type\": \"pie\"}], \"scatter\": [{\"marker\": {\"colorbar\": {\"outlinewidth\": 0, \"tickcolor\": \"rgb(237,237,237)\", \"ticklen\": 6, \"ticks\": \"inside\"}}, \"type\": \"scatter\"}], \"scatter3d\": [{\"line\": {\"colorbar\": {\"outlinewidth\": 0, \"tickcolor\": \"rgb(237,237,237)\", \"ticklen\": 6, \"ticks\": \"inside\"}}, \"marker\": {\"colorbar\": {\"outlinewidth\": 0, \"tickcolor\": \"rgb(237,237,237)\", \"ticklen\": 6, \"ticks\": \"inside\"}}, \"type\": \"scatter3d\"}], \"scattercarpet\": [{\"marker\": {\"colorbar\": {\"outlinewidth\": 0, \"tickcolor\": \"rgb(237,237,237)\", \"ticklen\": 6, \"ticks\": \"inside\"}}, \"type\": \"scattercarpet\"}], \"scattergeo\": [{\"marker\": {\"colorbar\": {\"outlinewidth\": 0, \"tickcolor\": \"rgb(237,237,237)\", \"ticklen\": 6, \"ticks\": \"inside\"}}, \"type\": \"scattergeo\"}], \"scattergl\": [{\"marker\": {\"colorbar\": {\"outlinewidth\": 0, \"tickcolor\": \"rgb(237,237,237)\", \"ticklen\": 6, \"ticks\": \"inside\"}}, \"type\": \"scattergl\"}], \"scattermapbox\": [{\"marker\": {\"colorbar\": {\"outlinewidth\": 0, \"tickcolor\": \"rgb(237,237,237)\", \"ticklen\": 6, \"ticks\": \"inside\"}}, \"type\": \"scattermapbox\"}], \"scatterpolar\": [{\"marker\": {\"colorbar\": {\"outlinewidth\": 0, \"tickcolor\": \"rgb(237,237,237)\", \"ticklen\": 6, \"ticks\": \"inside\"}}, \"type\": \"scatterpolar\"}], \"scatterpolargl\": [{\"marker\": {\"colorbar\": {\"outlinewidth\": 0, \"tickcolor\": \"rgb(237,237,237)\", \"ticklen\": 6, \"ticks\": \"inside\"}}, \"type\": \"scatterpolargl\"}], \"scatterternary\": [{\"marker\": {\"colorbar\": {\"outlinewidth\": 0, \"tickcolor\": \"rgb(237,237,237)\", \"ticklen\": 6, \"ticks\": \"inside\"}}, \"type\": \"scatterternary\"}], \"surface\": [{\"colorbar\": {\"outlinewidth\": 0, \"tickcolor\": \"rgb(237,237,237)\", \"ticklen\": 6, \"ticks\": \"inside\"}, \"colorscale\": [[0, \"rgb(20,44,66)\"], [1, \"rgb(90,179,244)\"]], \"type\": \"surface\"}], \"table\": [{\"cells\": {\"fill\": {\"color\": \"rgb(237,237,237)\"}, \"line\": {\"color\": \"white\"}}, \"header\": {\"fill\": {\"color\": \"rgb(217,217,217)\"}, \"line\": {\"color\": \"white\"}}, \"type\": \"table\"}]}, \"layout\": {\"annotationdefaults\": {\"arrowhead\": 0, \"arrowwidth\": 1}, \"coloraxis\": {\"colorbar\": {\"outlinewidth\": 0, \"tickcolor\": \"rgb(237,237,237)\", \"ticklen\": 6, \"ticks\": \"inside\"}}, \"colorscale\": {\"sequential\": [[0, \"rgb(20,44,66)\"], [1, \"rgb(90,179,244)\"]], \"sequentialminus\": [[0, \"rgb(20,44,66)\"], [1, \"rgb(90,179,244)\"]]}, \"colorway\": [\"#F8766D\", \"#A3A500\", \"#00BF7D\", \"#00B0F6\", \"#E76BF3\"], \"font\": {\"color\": \"rgb(51,51,51)\"}, \"geo\": {\"bgcolor\": \"white\", \"lakecolor\": \"white\", \"landcolor\": \"rgb(237,237,237)\", \"showlakes\": true, \"showland\": true, \"subunitcolor\": \"white\"}, \"hoverlabel\": {\"align\": \"left\"}, \"hovermode\": \"closest\", \"paper_bgcolor\": \"white\", \"plot_bgcolor\": \"rgb(237,237,237)\", \"polar\": {\"angularaxis\": {\"gridcolor\": \"white\", \"linecolor\": \"white\", \"showgrid\": true, \"tickcolor\": \"rgb(51,51,51)\", \"ticks\": \"outside\"}, \"bgcolor\": \"rgb(237,237,237)\", \"radialaxis\": {\"gridcolor\": \"white\", \"linecolor\": \"white\", \"showgrid\": true, \"tickcolor\": \"rgb(51,51,51)\", \"ticks\": \"outside\"}}, \"scene\": {\"xaxis\": {\"backgroundcolor\": \"rgb(237,237,237)\", \"gridcolor\": \"white\", \"gridwidth\": 2, \"linecolor\": \"white\", \"showbackground\": true, \"showgrid\": true, \"tickcolor\": \"rgb(51,51,51)\", \"ticks\": \"outside\", \"zerolinecolor\": \"white\"}, \"yaxis\": {\"backgroundcolor\": \"rgb(237,237,237)\", \"gridcolor\": \"white\", \"gridwidth\": 2, \"linecolor\": \"white\", \"showbackground\": true, \"showgrid\": true, \"tickcolor\": \"rgb(51,51,51)\", \"ticks\": \"outside\", \"zerolinecolor\": \"white\"}, \"zaxis\": {\"backgroundcolor\": \"rgb(237,237,237)\", \"gridcolor\": \"white\", \"gridwidth\": 2, \"linecolor\": \"white\", \"showbackground\": true, \"showgrid\": true, \"tickcolor\": \"rgb(51,51,51)\", \"ticks\": \"outside\", \"zerolinecolor\": \"white\"}}, \"shapedefaults\": {\"fillcolor\": \"black\", \"line\": {\"width\": 0}, \"opacity\": 0.3}, \"ternary\": {\"aaxis\": {\"gridcolor\": \"white\", \"linecolor\": \"white\", \"showgrid\": true, \"tickcolor\": \"rgb(51,51,51)\", \"ticks\": \"outside\"}, \"baxis\": {\"gridcolor\": \"white\", \"linecolor\": \"white\", \"showgrid\": true, \"tickcolor\": \"rgb(51,51,51)\", \"ticks\": \"outside\"}, \"bgcolor\": \"rgb(237,237,237)\", \"caxis\": {\"gridcolor\": \"white\", \"linecolor\": \"white\", \"showgrid\": true, \"tickcolor\": \"rgb(51,51,51)\", \"ticks\": \"outside\"}}, \"xaxis\": {\"automargin\": true, \"gridcolor\": \"white\", \"linecolor\": \"white\", \"showgrid\": true, \"tickcolor\": \"rgb(51,51,51)\", \"ticks\": \"outside\", \"title\": {\"standoff\": 15}, \"zerolinecolor\": \"white\"}, \"yaxis\": {\"automargin\": true, \"gridcolor\": \"white\", \"linecolor\": \"white\", \"showgrid\": true, \"tickcolor\": \"rgb(51,51,51)\", \"ticks\": \"outside\", \"title\": {\"standoff\": 15}, \"zerolinecolor\": \"white\"}}}, \"title\": {\"text\": \"Impact of lockdown on employment across states\"}, \"xaxis\": {\"anchor\": \"y\", \"domain\": [0.0, 1.0], \"title\": {\"text\": \"percentage change in unemployment\"}}, \"yaxis\": {\"anchor\": \"x\", \"domain\": [0.0, 1.0], \"title\": {\"text\": \"States\"}}},                        {\"responsive\": true}                    ).then(function(){\n",
              "                            \n",
              "var gd = document.getElementById('0356848e-9168-4bab-b095-aa1a2f248870');\n",
              "var x = new MutationObserver(function (mutations, observer) {{\n",
              "        var display = window.getComputedStyle(gd).display;\n",
              "        if (!display || display === 'none') {{\n",
              "            console.log([gd, 'removed!']);\n",
              "            Plotly.purge(gd);\n",
              "            observer.disconnect();\n",
              "        }}\n",
              "}});\n",
              "\n",
              "// Listen for the removal of the full notebook cells\n",
              "var notebookContainer = gd.closest('#notebook-container');\n",
              "if (notebookContainer) {{\n",
              "    x.observe(notebookContainer, {childList: true});\n",
              "}}\n",
              "\n",
              "// Listen for the clearing of the current output cell\n",
              "var outputEl = gd.closest('.output');\n",
              "if (outputEl) {{\n",
              "    x.observe(outputEl, {childList: true});\n",
              "}}\n",
              "\n",
              "                        })                };                            </script>        </div>\n",
              "</body>\n",
              "</html>"
            ]
          },
          "metadata": {
            "tags": []
          }
        }
      ]
    }
  ]
}